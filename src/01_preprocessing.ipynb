{
 "cells": [
  {
   "cell_type": "code",
   "execution_count": null,
   "metadata": {},
   "outputs": [],
   "source": [
    "cnt = 0\n",
    "for user in submissions:\n",
    "    for problem in submissions[user]:\n",
    "        cnt+=len(submissions[user][problem])"
   ]
  },
  {
   "cell_type": "markdown",
   "metadata": {},
   "source": [
    "Process json"
   ]
  },
  {
   "cell_type": "markdown",
   "metadata": {},
   "source": []
  },
  {
   "cell_type": "code",
   "execution_count": 1,
   "metadata": {},
   "outputs": [
    {
     "name": "stderr",
     "output_type": "stream",
     "text": [
      "100%|██████████| 154178/154178 [00:02<00:00, 57892.34it/s] "
     ]
    },
    {
     "name": "stdout",
     "output_type": "stream",
     "text": [
      "total data =  13916868\n"
     ]
    },
    {
     "name": "stderr",
     "output_type": "stream",
     "text": [
      "\n"
     ]
    }
   ],
   "source": [
    "from glob import glob\n",
    "import pandas as pd\n",
    "import matplotlib.pyplot as plt\n",
    "import json\n",
    "from joblib import Parallel, delayed, parallel_backend\n",
    "from multiprocessing import Process, Lock\n",
    "from tqdm import tqdm\n",
    "\n",
    "import json\n",
    "def getJsonData(JsonFile):\n",
    "    with open(JsonFile, encoding=\"utf8\") as f:\n",
    "        data = json.load(f)\n",
    "    return data\n",
    "data = getJsonData(\"processed.json\")\n",
    "ans = 0\n",
    "for user in tqdm(data.keys()):\n",
    "    for problem_id in data[user].keys():\n",
    "        ans+=len(data[user][problem_id])\n",
    "print(\"total data = \", ans)"
   ]
  },
  {
   "cell_type": "code",
   "execution_count": 4,
   "metadata": {},
   "outputs": [
    {
     "name": "stderr",
     "output_type": "stream",
     "text": [
      "100%|██████████| 154178/154178 [20:42:48<00:00,  2.07it/s]   \n"
     ]
    }
   ],
   "source": [
    "java_lengths = []\n",
    "python_lengths = []\n",
    "for user in tqdm(data.keys()):\n",
    "    for problem_id in data[user].keys():\n",
    "        for item in data[user][problem_id]:\n",
    "            if item[4] == \"java\":\n",
    "                solution_path = \"../Project_CodeNet/data/\"+problem_id+\"/Java/\"+item[0]+'.java'\n",
    "                with open(solution_path, 'r', encoding='utf8') as f:\n",
    "                    code = f.read()\n",
    "                    java_lengths.append(code.count(\"\\n\"))\n",
    "            if item[4] == \"py\":\n",
    "                solution_path = \"../Project_CodeNet/data/\"+problem_id+\"/Python/\"+item[0]+'.py'\n",
    "                with open(solution_path, 'r', encoding='utf8') as f:\n",
    "                    code = f.read()\n",
    "                    python_lengths.append(code.count(\"\\n\"))\n"
   ]
  },
  {
   "cell_type": "code",
   "execution_count": 6,
   "metadata": {},
   "outputs": [
    {
     "data": {
      "text/plain": [
       "(array([9.0800e+02, 3.4700e+02, 8.9000e+01, 7.5000e+01, 1.9200e+02,\n",
       "        5.4200e+02, 1.0920e+03, 1.7620e+03, 4.3220e+03, 6.1990e+03,\n",
       "        7.7800e+03, 9.2920e+03, 1.0855e+04, 1.2445e+04, 1.3706e+04,\n",
       "        1.5152e+04, 1.5998e+04, 1.6635e+04, 1.7130e+04, 1.6960e+04,\n",
       "        1.6796e+04, 1.6498e+04, 1.6506e+04, 1.6156e+04, 1.5859e+04,\n",
       "        1.5449e+04, 1.4924e+04, 1.3814e+04, 1.3535e+04, 1.2922e+04,\n",
       "        1.2474e+04, 1.1760e+04, 1.0953e+04, 1.0534e+04, 1.0043e+04,\n",
       "        9.6440e+03, 8.9560e+03, 8.6020e+03, 8.1070e+03, 7.8430e+03,\n",
       "        7.2870e+03, 7.0970e+03, 6.4770e+03, 6.3300e+03, 6.1680e+03,\n",
       "        5.6890e+03, 5.4650e+03, 5.2940e+03, 4.9940e+03, 4.8470e+03,\n",
       "        4.6050e+03, 4.3030e+03, 4.0110e+03, 4.1000e+03, 3.8290e+03,\n",
       "        3.8290e+03, 3.6660e+03, 3.5110e+03, 3.3080e+03, 3.1630e+03,\n",
       "        3.2020e+03, 3.0270e+03, 2.9490e+03, 2.7400e+03, 2.7600e+03,\n",
       "        2.7440e+03, 2.5850e+03, 2.5300e+03, 2.5570e+03, 2.4730e+03,\n",
       "        2.3680e+03, 2.2360e+03, 2.1940e+03, 2.2030e+03, 2.0950e+03,\n",
       "        2.1040e+03, 2.1770e+03, 2.1140e+03, 2.0050e+03, 1.9210e+03,\n",
       "        1.9440e+03, 1.9200e+03, 1.8620e+03, 1.9140e+03, 1.8520e+03,\n",
       "        1.8150e+03, 1.7800e+03, 1.7170e+03, 1.6960e+03, 1.5210e+03,\n",
       "        1.7100e+03, 1.5720e+03, 1.5510e+03, 1.5120e+03, 1.4490e+03,\n",
       "        1.4210e+03, 1.4360e+03, 1.3730e+03, 1.4030e+03, 1.3620e+03,\n",
       "        1.3270e+03, 1.3790e+03, 1.3990e+03, 1.4010e+03, 1.3440e+03,\n",
       "        1.3610e+03, 1.3450e+03, 1.3020e+03, 1.2400e+03, 1.2130e+03,\n",
       "        1.1800e+03, 1.1690e+03, 1.2410e+03, 1.2320e+03, 1.2160e+03,\n",
       "        1.0580e+03, 1.1340e+03, 1.0680e+03, 1.0800e+03, 1.0540e+03,\n",
       "        1.0130e+03, 1.0170e+03, 9.8200e+02, 1.0180e+03, 1.0120e+03,\n",
       "        8.9000e+02, 9.7600e+02, 9.2500e+02, 9.6700e+02, 1.0520e+03,\n",
       "        9.4900e+02, 9.2600e+02, 9.5600e+02, 1.0000e+03, 9.3900e+02,\n",
       "        9.0400e+02, 9.4600e+02, 9.1200e+02, 8.9900e+02, 9.4600e+02,\n",
       "        8.9400e+02, 8.6800e+02, 8.5600e+02, 8.8800e+02, 8.6500e+02,\n",
       "        8.0500e+02, 8.2900e+02, 7.9100e+02, 7.4700e+02, 8.1800e+02,\n",
       "        7.4600e+02, 7.8400e+02, 7.4100e+02, 7.4300e+02, 7.1000e+02,\n",
       "        7.6000e+02, 7.4900e+02, 7.0300e+02, 7.1600e+02, 7.0700e+02,\n",
       "        7.2900e+02, 7.2600e+02, 7.0800e+02, 7.2100e+02, 6.6600e+02,\n",
       "        6.1700e+02, 6.5700e+02, 6.8800e+02, 6.6100e+02, 6.5100e+02,\n",
       "        6.1200e+02, 6.3700e+02, 6.0500e+02, 5.5500e+02, 5.0300e+02,\n",
       "        5.6600e+02, 5.2700e+02, 6.7000e+02, 6.1600e+02, 5.4400e+02,\n",
       "        5.3000e+02, 5.0300e+02, 5.1200e+02, 4.8500e+02, 4.9300e+02,\n",
       "        4.9900e+02, 4.5400e+02, 4.4700e+02, 4.6900e+02, 4.7900e+02,\n",
       "        4.3400e+02, 4.8800e+02, 4.5500e+02, 4.1400e+02, 4.1400e+02,\n",
       "        4.5200e+02, 4.1400e+02, 3.6600e+02, 3.8100e+02, 3.7000e+02,\n",
       "        3.8800e+02, 3.9400e+02, 3.8600e+02, 3.2400e+02, 3.9400e+02,\n",
       "        3.9500e+02, 3.4600e+02, 3.9700e+02, 4.1000e+02, 3.4300e+02,\n",
       "        3.5300e+02, 3.7800e+02, 3.5600e+02, 3.6300e+02, 3.4300e+02,\n",
       "        3.8800e+02, 3.8900e+02, 3.7400e+02, 3.7400e+02, 3.7400e+02,\n",
       "        3.7000e+02, 3.9600e+02, 3.3000e+02, 3.7900e+02, 3.4500e+02,\n",
       "        3.1800e+02, 3.4500e+02, 3.4000e+02, 3.2400e+02, 3.1900e+02,\n",
       "        3.0900e+02, 3.0500e+02, 2.6100e+02, 2.9200e+02, 2.9500e+02,\n",
       "        2.5000e+02, 2.7800e+02, 3.0100e+02, 2.7600e+02, 2.7200e+02,\n",
       "        2.2400e+02, 3.2500e+02, 2.5500e+02, 2.5000e+02, 2.1100e+02,\n",
       "        2.3000e+02, 2.4400e+02, 2.3400e+02, 2.3200e+02, 2.0800e+02,\n",
       "        2.1800e+02, 1.9800e+02, 2.0700e+02, 2.1200e+02, 1.8700e+02,\n",
       "        2.4100e+02, 2.0700e+02, 1.7600e+02, 2.2900e+02, 2.0600e+02,\n",
       "        1.9800e+02, 1.9900e+02, 2.3000e+02, 1.6000e+02, 1.9200e+02,\n",
       "        1.5500e+02, 1.6600e+02, 1.8400e+02, 1.9300e+02, 1.8200e+02,\n",
       "        1.3800e+02, 1.6100e+02, 1.6700e+02, 1.5100e+02, 1.2500e+02,\n",
       "        1.6600e+02, 1.6600e+02, 1.4000e+02, 1.6200e+02, 1.4900e+02,\n",
       "        1.3100e+02, 1.3900e+02, 1.3500e+02, 1.3600e+02, 1.6900e+02,\n",
       "        1.5800e+02, 1.8600e+02, 1.5700e+02, 1.5700e+02, 1.4200e+02,\n",
       "        1.5000e+02, 1.4400e+02, 1.2300e+02, 1.2100e+02, 1.2200e+02,\n",
       "        1.5400e+02, 1.3500e+02, 1.3400e+02, 1.3200e+02, 1.2600e+02,\n",
       "        1.3000e+02, 1.3000e+02, 1.1500e+02, 1.2900e+02, 1.0600e+02,\n",
       "        1.2500e+02, 1.5300e+02, 9.2000e+01, 1.1800e+02, 1.4800e+02,\n",
       "        1.1500e+02, 1.3100e+02, 1.0100e+02, 1.0600e+02, 1.2100e+02,\n",
       "        1.0400e+02, 1.1100e+02, 1.0200e+02, 1.0800e+02, 1.0900e+02,\n",
       "        1.0900e+02, 9.3000e+01, 1.1000e+02, 1.0300e+02, 1.1900e+02,\n",
       "        9.3000e+01, 9.1000e+01, 1.1200e+02, 1.2600e+02, 9.8000e+01,\n",
       "        8.1000e+01, 1.0000e+02, 9.3000e+01, 1.0100e+02, 8.5000e+01,\n",
       "        8.2000e+01, 6.4000e+01, 6.3000e+01, 7.6000e+01, 7.4000e+01,\n",
       "        9.5000e+01, 6.6000e+01, 6.0000e+01, 8.7000e+01, 7.3000e+01,\n",
       "        7.6000e+01, 9.4000e+01, 1.0100e+02, 5.6000e+01, 8.6000e+01,\n",
       "        5.9000e+01, 7.7000e+01, 6.3000e+01, 7.3000e+01, 5.6000e+01,\n",
       "        6.8000e+01, 7.5000e+01, 7.2000e+01, 7.4000e+01, 5.2000e+01,\n",
       "        6.8000e+01, 5.9000e+01, 6.7000e+01, 6.3000e+01, 8.7000e+01,\n",
       "        6.3000e+01, 7.9000e+01, 6.4000e+01, 5.8000e+01, 4.9000e+01,\n",
       "        6.4000e+01, 5.8000e+01, 5.7000e+01, 6.7000e+01, 6.2000e+01,\n",
       "        6.1000e+01, 5.6000e+01, 7.3000e+01, 5.7000e+01, 6.4000e+01,\n",
       "        6.7000e+01, 7.8000e+01, 7.0000e+01, 5.6000e+01, 6.0000e+01,\n",
       "        5.5000e+01, 6.1000e+01, 5.9000e+01, 7.1000e+01, 7.0000e+01,\n",
       "        7.9000e+01, 5.6000e+01, 5.9000e+01, 6.3000e+01, 6.8000e+01,\n",
       "        5.2000e+01, 6.9000e+01, 5.5000e+01, 5.8000e+01, 4.0000e+01,\n",
       "        4.5000e+01, 5.6000e+01, 5.4000e+01, 7.0000e+01, 5.4000e+01,\n",
       "        5.2000e+01, 5.7000e+01, 4.9000e+01, 6.2000e+01, 5.0000e+01,\n",
       "        6.4000e+01, 5.8000e+01, 5.2000e+01, 4.8000e+01, 4.2000e+01,\n",
       "        4.2000e+01, 4.0000e+01, 2.8000e+01, 3.2000e+01, 6.0000e+01,\n",
       "        4.8000e+01, 3.7000e+01, 4.4000e+01, 4.9000e+01, 4.9000e+01,\n",
       "        4.4000e+01, 2.6000e+01, 3.8000e+01, 2.9000e+01, 2.8000e+01,\n",
       "        3.4000e+01, 2.7000e+01, 3.5000e+01, 3.0000e+01, 4.0000e+01,\n",
       "        3.7000e+01, 3.5000e+01, 3.7000e+01, 3.6000e+01, 3.0000e+01,\n",
       "        4.1000e+01, 2.2000e+01, 5.4000e+01, 4.2000e+01, 4.1000e+01,\n",
       "        4.0000e+01, 3.1000e+01, 3.4000e+01, 4.4000e+01, 3.9000e+01,\n",
       "        3.6000e+01, 3.2000e+01, 4.1000e+01, 3.6000e+01, 3.3000e+01,\n",
       "        4.6000e+01, 6.2000e+01, 4.1000e+01, 4.5000e+01, 3.9000e+01,\n",
       "        3.6000e+01, 4.0000e+01, 2.9000e+01, 3.4000e+01, 3.1000e+01,\n",
       "        3.5000e+01, 3.5000e+01, 3.3000e+01, 2.4000e+01, 2.4000e+01,\n",
       "        2.9000e+01, 4.4000e+01, 2.6000e+01, 4.0000e+01, 2.9000e+01,\n",
       "        4.1000e+01, 3.3000e+01, 4.8000e+01, 3.5000e+01, 3.5000e+01,\n",
       "        3.5000e+01, 3.6000e+01, 4.9000e+01, 3.4000e+01, 2.9000e+01,\n",
       "        2.6000e+01, 4.6000e+01, 4.0000e+01, 3.2000e+01, 3.3000e+01,\n",
       "        3.7000e+01, 3.3000e+01, 3.0000e+01, 2.7000e+01, 2.8000e+01,\n",
       "        2.6000e+01, 4.7000e+01, 3.2000e+01, 3.5000e+01, 3.7000e+01,\n",
       "        5.0000e+01, 3.4000e+01, 3.9000e+01, 2.9000e+01, 3.2000e+01,\n",
       "        4.6000e+01, 4.5000e+01, 3.4000e+01, 3.6000e+01, 1.6000e+01,\n",
       "        2.8000e+01, 1.6000e+01, 2.7000e+01, 1.7000e+01, 2.8000e+01,\n",
       "        1.9000e+01, 2.0000e+01, 2.4000e+01, 3.0000e+01, 1.8000e+01,\n",
       "        1.7000e+01, 1.7000e+01, 1.7000e+01, 1.4000e+01, 2.3000e+01,\n",
       "        2.1000e+01, 9.0000e+00, 1.5000e+01, 1.6000e+01, 1.6000e+01,\n",
       "        1.9000e+01, 1.4000e+01, 1.9000e+01, 1.7000e+01, 2.2000e+01,\n",
       "        2.6000e+01, 2.4000e+01, 1.9000e+01, 2.2000e+01, 2.6000e+01,\n",
       "        1.9000e+01, 8.0000e+00, 2.7000e+01, 1.1000e+01, 2.6000e+01,\n",
       "        2.5000e+01, 2.7000e+01, 2.0000e+01, 2.3000e+01, 1.9000e+01,\n",
       "        2.2000e+01, 2.2000e+01, 2.5000e+01, 1.4000e+01, 1.4000e+01,\n",
       "        1.9000e+01, 2.5000e+01, 1.7000e+01, 2.8000e+01, 2.2000e+01,\n",
       "        1.4000e+01, 2.2000e+01, 3.0000e+01, 1.4000e+01, 2.7000e+01,\n",
       "        3.8000e+01, 1.9000e+01, 3.7000e+01, 2.2000e+01, 2.5000e+01,\n",
       "        2.9000e+01, 1.9000e+01, 2.9000e+01, 2.6000e+01, 2.2000e+01,\n",
       "        1.8000e+01, 2.5000e+01, 1.8000e+01, 2.3000e+01, 2.8000e+01,\n",
       "        2.3000e+01, 2.9000e+01, 2.9000e+01, 3.8000e+01, 2.4000e+01,\n",
       "        2.2000e+01, 2.0000e+01, 8.0000e+00, 2.2000e+01, 1.4000e+01,\n",
       "        2.0000e+01, 2.2000e+01, 3.6000e+01, 1.7000e+01, 3.4000e+01,\n",
       "        2.2000e+01, 3.9000e+01, 2.6000e+01, 3.1000e+01, 3.0000e+01,\n",
       "        3.3000e+01, 2.4000e+01, 4.4000e+01, 2.5000e+01, 2.2000e+01,\n",
       "        2.8000e+01, 2.0000e+01, 2.7000e+01, 2.6000e+01, 1.4000e+01,\n",
       "        1.8000e+01, 3.1000e+01, 1.8000e+01, 3.3000e+01, 2.1000e+01,\n",
       "        2.5000e+01, 1.7000e+01, 2.0000e+01, 1.9000e+01, 2.8000e+01,\n",
       "        1.6000e+01, 2.1000e+01, 1.2000e+01, 1.0000e+01, 2.6000e+01,\n",
       "        1.4000e+01, 1.9000e+01, 2.3000e+01, 2.7000e+01, 3.0000e+01,\n",
       "        2.1000e+01, 2.8000e+01, 3.2000e+01, 2.3000e+01, 2.1000e+01,\n",
       "        1.6000e+01, 2.0000e+01, 1.7000e+01, 2.9000e+01, 3.1000e+01,\n",
       "        2.1000e+01, 2.0000e+01, 2.8000e+01, 2.7000e+01, 2.5000e+01,\n",
       "        2.2000e+01, 2.6000e+01, 2.9000e+01, 1.6000e+01, 2.5000e+01,\n",
       "        2.6000e+01, 2.8000e+01, 1.6000e+01, 3.2000e+01, 2.2000e+01,\n",
       "        1.4000e+01, 1.7000e+01, 2.1000e+01, 2.4000e+01, 2.3000e+01,\n",
       "        2.2000e+01, 2.1000e+01, 1.8000e+01, 1.5000e+01, 2.0000e+01,\n",
       "        2.0000e+01, 1.4000e+01, 2.3000e+01, 1.6000e+01, 2.2000e+01,\n",
       "        2.3000e+01, 1.9000e+01, 2.3000e+01, 2.1000e+01, 1.5000e+01,\n",
       "        1.6000e+01, 1.7000e+01, 2.6000e+01, 2.2000e+01, 4.4000e+01,\n",
       "        1.8000e+01, 2.5000e+01, 2.2000e+01, 1.8000e+01, 2.4000e+01,\n",
       "        2.0000e+01, 2.4000e+01, 2.5000e+01, 2.0000e+01, 2.4000e+01,\n",
       "        2.4000e+01, 3.2000e+01, 1.9000e+01, 2.1000e+01, 2.8000e+01,\n",
       "        2.8000e+01, 9.0000e+00, 1.6000e+01, 1.7000e+01, 1.6000e+01,\n",
       "        9.0000e+00, 1.6000e+01, 8.0000e+00, 2.7000e+01, 1.7000e+01,\n",
       "        1.6000e+01, 1.7000e+01, 3.3000e+01, 2.6000e+01, 3.0000e+01,\n",
       "        2.8000e+01, 3.2000e+01, 3.8000e+01, 5.1000e+01, 3.7000e+01,\n",
       "        3.2000e+01, 4.7000e+01, 3.3000e+01, 4.4000e+01, 3.8000e+01,\n",
       "        4.5000e+01, 3.9000e+01, 3.6000e+01, 4.6000e+01, 4.7000e+01,\n",
       "        3.4000e+01, 4.2000e+01, 3.7000e+01, 2.6000e+01, 4.4000e+01,\n",
       "        3.2000e+01, 3.2000e+01, 1.8000e+01, 3.0000e+01, 3.3000e+01,\n",
       "        4.4000e+01, 2.5000e+01, 3.3000e+01, 2.6000e+01, 3.0000e+01,\n",
       "        3.7000e+01, 1.4000e+01, 2.3000e+01, 3.1000e+01, 2.5000e+01,\n",
       "        1.3000e+01, 1.8000e+01, 2.6000e+01, 3.0000e+01, 2.6000e+01,\n",
       "        3.5000e+01, 2.3000e+01, 1.6000e+01, 2.0000e+01, 2.4000e+01,\n",
       "        2.0000e+01, 1.4000e+01, 3.8000e+01, 2.4000e+01, 1.7000e+01,\n",
       "        2.5000e+01, 2.7000e+01, 2.2000e+01, 2.0000e+01, 2.5000e+01,\n",
       "        3.0000e+01, 2.1000e+01, 3.3000e+01, 2.3000e+01, 1.9000e+01,\n",
       "        1.8000e+01, 2.2000e+01, 1.4000e+01, 2.4000e+01, 2.4000e+01,\n",
       "        1.9000e+01, 1.9000e+01, 2.2000e+01, 1.5000e+01, 1.4000e+01,\n",
       "        2.2000e+01, 1.5000e+01, 1.7000e+01, 1.9000e+01, 1.4000e+01,\n",
       "        1.6000e+01, 1.6000e+01, 1.5000e+01, 1.2000e+01, 1.4000e+01,\n",
       "        7.0000e+00, 1.7000e+01, 9.0000e+00, 7.0000e+00, 1.3000e+01,\n",
       "        1.6000e+01, 1.5000e+01, 1.5000e+01, 1.0000e+01, 1.0000e+01,\n",
       "        7.0000e+00, 1.8000e+01, 1.7000e+01, 1.3000e+01, 1.3000e+01,\n",
       "        2.3000e+01, 1.7000e+01, 2.0000e+01, 1.5000e+01, 2.1000e+01,\n",
       "        1.2000e+01, 9.0000e+00, 1.6000e+01, 1.0000e+01, 1.1000e+01,\n",
       "        9.0000e+00, 2.6000e+01, 1.5000e+01, 1.9000e+01, 1.9000e+01,\n",
       "        1.5000e+01, 6.0000e+00, 1.9000e+01, 2.1000e+01, 1.5000e+01,\n",
       "        1.4000e+01, 9.0000e+00, 1.2000e+01, 6.0000e+00, 1.4000e+01,\n",
       "        6.0000e+00, 5.0000e+00, 1.3000e+01, 4.0000e+00, 1.9000e+01,\n",
       "        1.9000e+01, 1.3000e+01, 1.0000e+01, 6.0000e+00, 9.0000e+00,\n",
       "        7.0000e+00, 1.1000e+01, 8.0000e+00, 7.0000e+00, 8.0000e+00,\n",
       "        1.0000e+01, 3.0000e+00, 1.2000e+01, 1.2000e+01, 8.0000e+00,\n",
       "        1.2000e+01, 1.2000e+01, 1.5000e+01, 7.0000e+00, 7.0000e+00,\n",
       "        4.0000e+00, 9.0000e+00, 9.0000e+00, 6.0000e+00, 1.0000e+01,\n",
       "        1.8000e+01, 9.0000e+00, 1.6000e+01, 1.2000e+01, 2.2000e+01,\n",
       "        1.9000e+01, 1.0000e+01, 1.1000e+01, 8.0000e+00, 8.0000e+00,\n",
       "        1.2000e+01, 6.0000e+00, 6.0000e+00, 8.0000e+00, 1.2000e+01,\n",
       "        9.0000e+00, 1.1000e+01, 6.0000e+00, 6.0000e+00, 9.0000e+00,\n",
       "        9.0000e+00, 8.0000e+00, 4.0000e+00, 8.0000e+00, 7.0000e+00,\n",
       "        4.0000e+00, 1.3000e+01, 1.2000e+01, 1.0000e+01, 9.0000e+00,\n",
       "        5.0000e+00, 8.0000e+00, 1.1000e+01, 1.1000e+01, 1.3000e+01,\n",
       "        1.1000e+01, 1.9000e+01, 1.0000e+01, 6.0000e+00, 9.0000e+00,\n",
       "        1.1000e+01, 8.0000e+00, 1.7000e+01, 7.0000e+00, 1.7000e+01,\n",
       "        7.0000e+00, 8.0000e+00, 4.0000e+00, 1.2000e+01, 4.0000e+00,\n",
       "        1.0000e+01, 6.0000e+00, 1.1000e+01, 5.0000e+00, 5.0000e+00,\n",
       "        1.8000e+01, 6.0000e+00, 1.1000e+01, 5.0000e+00, 7.0000e+00,\n",
       "        7.0000e+00, 6.0000e+00, 3.0000e+00, 8.0000e+00, 6.0000e+00,\n",
       "        1.1000e+01, 9.0000e+00, 1.0000e+01, 9.0000e+00, 8.0000e+00,\n",
       "        9.0000e+00, 1.6000e+01, 8.0000e+00, 8.0000e+00, 8.0000e+00,\n",
       "        4.0000e+00, 6.0000e+00, 2.0000e+00, 2.0000e+00, 5.0000e+00,\n",
       "        5.0000e+00, 3.0000e+00, 5.0000e+00, 5.0000e+00, 8.0000e+00,\n",
       "        7.0000e+00, 2.0000e+00, 8.0000e+00, 4.0000e+00, 3.0000e+00,\n",
       "        2.0000e+00, 2.0000e+00, 1.3000e+01, 6.0000e+00, 1.0000e+00,\n",
       "        6.0000e+00, 4.0000e+00, 4.0000e+00, 1.0000e+01, 8.0000e+00,\n",
       "        4.0000e+00, 6.0000e+00, 9.0000e+00, 7.0000e+00, 5.0000e+00,\n",
       "        1.0000e+00, 3.0000e+00, 8.0000e+00, 4.0000e+00, 9.0000e+00,\n",
       "        3.0000e+00, 4.0000e+00, 3.0000e+00, 7.0000e+00, 8.0000e+00,\n",
       "        1.0000e+00, 5.0000e+00, 9.0000e+00, 2.0000e+00, 1.1000e+01,\n",
       "        0.0000e+00, 7.0000e+00, 0.0000e+00, 2.0000e+00, 8.0000e+00,\n",
       "        3.0000e+00, 3.0000e+00, 6.0000e+00, 4.0000e+00, 8.0000e+00,\n",
       "        3.0000e+00, 2.0000e+00, 3.0000e+00, 6.0000e+00, 4.0000e+00,\n",
       "        2.0000e+00, 2.0000e+00, 1.0000e+00, 6.0000e+00]),\n",
       " array([  0,   1,   2,   3,   4,   5,   6,   7,   8,   9,  10,  11,  12,\n",
       "         13,  14,  15,  16,  17,  18,  19,  20,  21,  22,  23,  24,  25,\n",
       "         26,  27,  28,  29,  30,  31,  32,  33,  34,  35,  36,  37,  38,\n",
       "         39,  40,  41,  42,  43,  44,  45,  46,  47,  48,  49,  50,  51,\n",
       "         52,  53,  54,  55,  56,  57,  58,  59,  60,  61,  62,  63,  64,\n",
       "         65,  66,  67,  68,  69,  70,  71,  72,  73,  74,  75,  76,  77,\n",
       "         78,  79,  80,  81,  82,  83,  84,  85,  86,  87,  88,  89,  90,\n",
       "         91,  92,  93,  94,  95,  96,  97,  98,  99, 100, 101, 102, 103,\n",
       "        104, 105, 106, 107, 108, 109, 110, 111, 112, 113, 114, 115, 116,\n",
       "        117, 118, 119, 120, 121, 122, 123, 124, 125, 126, 127, 128, 129,\n",
       "        130, 131, 132, 133, 134, 135, 136, 137, 138, 139, 140, 141, 142,\n",
       "        143, 144, 145, 146, 147, 148, 149, 150, 151, 152, 153, 154, 155,\n",
       "        156, 157, 158, 159, 160, 161, 162, 163, 164, 165, 166, 167, 168,\n",
       "        169, 170, 171, 172, 173, 174, 175, 176, 177, 178, 179, 180, 181,\n",
       "        182, 183, 184, 185, 186, 187, 188, 189, 190, 191, 192, 193, 194,\n",
       "        195, 196, 197, 198, 199, 200, 201, 202, 203, 204, 205, 206, 207,\n",
       "        208, 209, 210, 211, 212, 213, 214, 215, 216, 217, 218, 219, 220,\n",
       "        221, 222, 223, 224, 225, 226, 227, 228, 229, 230, 231, 232, 233,\n",
       "        234, 235, 236, 237, 238, 239, 240, 241, 242, 243, 244, 245, 246,\n",
       "        247, 248, 249, 250, 251, 252, 253, 254, 255, 256, 257, 258, 259,\n",
       "        260, 261, 262, 263, 264, 265, 266, 267, 268, 269, 270, 271, 272,\n",
       "        273, 274, 275, 276, 277, 278, 279, 280, 281, 282, 283, 284, 285,\n",
       "        286, 287, 288, 289, 290, 291, 292, 293, 294, 295, 296, 297, 298,\n",
       "        299, 300, 301, 302, 303, 304, 305, 306, 307, 308, 309, 310, 311,\n",
       "        312, 313, 314, 315, 316, 317, 318, 319, 320, 321, 322, 323, 324,\n",
       "        325, 326, 327, 328, 329, 330, 331, 332, 333, 334, 335, 336, 337,\n",
       "        338, 339, 340, 341, 342, 343, 344, 345, 346, 347, 348, 349, 350,\n",
       "        351, 352, 353, 354, 355, 356, 357, 358, 359, 360, 361, 362, 363,\n",
       "        364, 365, 366, 367, 368, 369, 370, 371, 372, 373, 374, 375, 376,\n",
       "        377, 378, 379, 380, 381, 382, 383, 384, 385, 386, 387, 388, 389,\n",
       "        390, 391, 392, 393, 394, 395, 396, 397, 398, 399, 400, 401, 402,\n",
       "        403, 404, 405, 406, 407, 408, 409, 410, 411, 412, 413, 414, 415,\n",
       "        416, 417, 418, 419, 420, 421, 422, 423, 424, 425, 426, 427, 428,\n",
       "        429, 430, 431, 432, 433, 434, 435, 436, 437, 438, 439, 440, 441,\n",
       "        442, 443, 444, 445, 446, 447, 448, 449, 450, 451, 452, 453, 454,\n",
       "        455, 456, 457, 458, 459, 460, 461, 462, 463, 464, 465, 466, 467,\n",
       "        468, 469, 470, 471, 472, 473, 474, 475, 476, 477, 478, 479, 480,\n",
       "        481, 482, 483, 484, 485, 486, 487, 488, 489, 490, 491, 492, 493,\n",
       "        494, 495, 496, 497, 498, 499, 500, 501, 502, 503, 504, 505, 506,\n",
       "        507, 508, 509, 510, 511, 512, 513, 514, 515, 516, 517, 518, 519,\n",
       "        520, 521, 522, 523, 524, 525, 526, 527, 528, 529, 530, 531, 532,\n",
       "        533, 534, 535, 536, 537, 538, 539, 540, 541, 542, 543, 544, 545,\n",
       "        546, 547, 548, 549, 550, 551, 552, 553, 554, 555, 556, 557, 558,\n",
       "        559, 560, 561, 562, 563, 564, 565, 566, 567, 568, 569, 570, 571,\n",
       "        572, 573, 574, 575, 576, 577, 578, 579, 580, 581, 582, 583, 584,\n",
       "        585, 586, 587, 588, 589, 590, 591, 592, 593, 594, 595, 596, 597,\n",
       "        598, 599, 600, 601, 602, 603, 604, 605, 606, 607, 608, 609, 610,\n",
       "        611, 612, 613, 614, 615, 616, 617, 618, 619, 620, 621, 622, 623,\n",
       "        624, 625, 626, 627, 628, 629, 630, 631, 632, 633, 634, 635, 636,\n",
       "        637, 638, 639, 640, 641, 642, 643, 644, 645, 646, 647, 648, 649,\n",
       "        650, 651, 652, 653, 654, 655, 656, 657, 658, 659, 660, 661, 662,\n",
       "        663, 664, 665, 666, 667, 668, 669, 670, 671, 672, 673, 674, 675,\n",
       "        676, 677, 678, 679, 680, 681, 682, 683, 684, 685, 686, 687, 688,\n",
       "        689, 690, 691, 692, 693, 694, 695, 696, 697, 698, 699, 700, 701,\n",
       "        702, 703, 704, 705, 706, 707, 708, 709, 710, 711, 712, 713, 714,\n",
       "        715, 716, 717, 718, 719, 720, 721, 722, 723, 724, 725, 726, 727,\n",
       "        728, 729, 730, 731, 732, 733, 734, 735, 736, 737, 738, 739, 740,\n",
       "        741, 742, 743, 744, 745, 746, 747, 748, 749, 750, 751, 752, 753,\n",
       "        754, 755, 756, 757, 758, 759, 760, 761, 762, 763, 764, 765, 766,\n",
       "        767, 768, 769, 770, 771, 772, 773, 774, 775, 776, 777, 778, 779,\n",
       "        780, 781, 782, 783, 784, 785, 786, 787, 788, 789, 790, 791, 792,\n",
       "        793, 794, 795, 796, 797, 798, 799, 800, 801, 802, 803, 804, 805,\n",
       "        806, 807, 808, 809, 810, 811, 812, 813, 814, 815, 816, 817, 818,\n",
       "        819, 820, 821, 822, 823, 824, 825, 826, 827, 828, 829, 830, 831,\n",
       "        832, 833, 834, 835, 836, 837, 838, 839, 840, 841, 842, 843, 844,\n",
       "        845, 846, 847, 848, 849, 850, 851, 852, 853, 854, 855, 856, 857,\n",
       "        858, 859, 860, 861, 862, 863, 864, 865, 866, 867, 868, 869, 870,\n",
       "        871, 872, 873, 874, 875, 876, 877, 878, 879, 880, 881, 882, 883,\n",
       "        884, 885, 886, 887, 888, 889, 890, 891, 892, 893, 894, 895, 896,\n",
       "        897, 898, 899, 900, 901, 902, 903, 904, 905, 906, 907, 908, 909,\n",
       "        910, 911, 912, 913, 914, 915, 916, 917, 918, 919, 920, 921, 922,\n",
       "        923, 924, 925, 926, 927, 928, 929, 930, 931, 932, 933, 934, 935,\n",
       "        936, 937, 938, 939, 940, 941, 942, 943, 944, 945, 946, 947, 948,\n",
       "        949, 950, 951, 952, 953, 954, 955, 956, 957, 958, 959, 960, 961,\n",
       "        962, 963, 964, 965, 966, 967, 968, 969, 970, 971, 972, 973, 974,\n",
       "        975, 976, 977, 978, 979, 980, 981, 982, 983, 984, 985, 986, 987,\n",
       "        988, 989, 990, 991, 992, 993, 994, 995, 996, 997, 998, 999]),\n",
       " <BarContainer object of 999 artists>)"
      ]
     },
     "execution_count": 6,
     "metadata": {},
     "output_type": "execute_result"
    },
    {
     "data": {
      "image/png": "[encoded data removed]",
      "text/plain": [
       "<Figure size 432x288 with 1 Axes>"
      ]
     },
     "metadata": {
      "needs_background": "light"
     },
     "output_type": "display_data"
    }
   ],
   "source": [
    "import matplotlib.pyplot as plt\n",
    "plt.hist(java_lengths, bins= [i for i in range(1000)])"
   ]
  },
  {
   "cell_type": "code",
   "execution_count": 11,
   "metadata": {},
   "outputs": [
    {
     "data": {
      "text/plain": [
       "54262616"
      ]
     },
     "execution_count": 11,
     "metadata": {},
     "output_type": "execute_result"
    }
   ],
   "source": [
    "sum(java_lengths)"
   ]
  },
  {
   "cell_type": "code",
   "execution_count": 7,
   "metadata": {},
   "outputs": [
    {
     "data": {
      "text/plain": [
       "(array([3.30160e+04, 1.26755e+05, 1.13971e+05, 8.33900e+04, 1.42468e+05,\n",
       "        1.52540e+05, 1.58514e+05, 1.52811e+05, 1.49507e+05, 1.42450e+05,\n",
       "        1.36197e+05, 1.28229e+05, 1.19439e+05, 1.10676e+05, 1.02388e+05,\n",
       "        9.50440e+04, 8.79480e+04, 8.01290e+04, 7.41790e+04, 6.83870e+04,\n",
       "        6.38350e+04, 5.95900e+04, 5.51130e+04, 5.03730e+04, 4.71500e+04,\n",
       "        4.45760e+04, 4.21350e+04, 3.94420e+04, 3.66520e+04, 3.41350e+04,\n",
       "        3.23040e+04, 2.99970e+04, 2.77800e+04, 2.61240e+04, 2.45390e+04,\n",
       "        2.28710e+04, 2.11530e+04, 2.03140e+04, 1.88250e+04, 1.75420e+04,\n",
       "        1.61420e+04, 1.53870e+04, 1.42450e+04, 1.34700e+04, 1.25790e+04,\n",
       "        1.17190e+04, 1.08020e+04, 1.03090e+04, 9.74700e+03, 9.17100e+03,\n",
       "        8.75000e+03, 8.26900e+03, 7.89800e+03, 7.31500e+03, 7.01600e+03,\n",
       "        6.39600e+03, 5.97200e+03, 5.65900e+03, 5.45300e+03, 5.08000e+03,\n",
       "        4.75800e+03, 4.60500e+03, 4.47700e+03, 4.21500e+03, 3.94100e+03,\n",
       "        3.87800e+03, 3.51400e+03, 3.47300e+03, 3.19100e+03, 3.10600e+03,\n",
       "        3.04400e+03, 2.83700e+03, 2.68000e+03, 2.54800e+03, 2.32700e+03,\n",
       "        2.27000e+03, 2.27000e+03, 2.06500e+03, 2.11400e+03, 1.94700e+03,\n",
       "        1.84400e+03, 1.74400e+03, 1.77000e+03, 1.67300e+03, 1.61700e+03,\n",
       "        1.52900e+03, 1.39100e+03, 1.32700e+03, 1.37100e+03, 1.30500e+03,\n",
       "        1.28600e+03, 1.20100e+03, 1.16900e+03, 1.13100e+03, 1.10700e+03,\n",
       "        9.27000e+02, 1.02700e+03, 1.00400e+03, 9.38000e+02, 8.82000e+02,\n",
       "        8.01000e+02, 7.97000e+02, 7.94000e+02, 7.33000e+02, 7.69000e+02,\n",
       "        7.14000e+02, 6.86000e+02, 6.67000e+02, 6.45000e+02, 6.07000e+02,\n",
       "        6.17000e+02, 5.88000e+02, 5.38000e+02, 5.39000e+02, 5.24000e+02,\n",
       "        5.18000e+02, 5.62000e+02, 4.94000e+02, 4.62000e+02, 4.50000e+02,\n",
       "        4.33000e+02, 4.24000e+02, 4.11000e+02, 3.60000e+02, 3.55000e+02,\n",
       "        3.48000e+02, 3.43000e+02, 2.82000e+02, 3.02000e+02, 3.16000e+02,\n",
       "        3.04000e+02, 2.64000e+02, 3.02000e+02, 2.46000e+02, 2.71000e+02,\n",
       "        2.92000e+02, 2.57000e+02, 2.26000e+02, 2.09000e+02, 2.43000e+02,\n",
       "        2.32000e+02, 2.50000e+02, 2.70000e+02, 2.65000e+02, 2.10000e+02,\n",
       "        2.19000e+02, 1.78000e+02, 1.74000e+02, 1.74000e+02, 1.43000e+02,\n",
       "        1.62000e+02, 1.82000e+02, 1.59000e+02, 1.91000e+02, 1.67000e+02,\n",
       "        1.38000e+02, 1.24000e+02, 1.79000e+02, 1.35000e+02, 1.71000e+02,\n",
       "        1.26000e+02, 1.35000e+02, 1.32000e+02, 1.93000e+02, 1.65000e+02,\n",
       "        1.42000e+02, 1.41000e+02, 1.64000e+02, 1.57000e+02, 1.68000e+02,\n",
       "        1.71000e+02, 1.20000e+02, 1.92000e+02, 1.56000e+02, 1.58000e+02,\n",
       "        1.45000e+02, 1.65000e+02, 1.46000e+02, 1.30000e+02, 1.36000e+02,\n",
       "        1.21000e+02, 1.20000e+02, 1.37000e+02, 1.44000e+02, 1.31000e+02,\n",
       "        1.02000e+02, 1.15000e+02, 1.33000e+02, 1.13000e+02, 9.20000e+01,\n",
       "        1.18000e+02, 9.40000e+01, 1.11000e+02, 1.16000e+02, 1.08000e+02,\n",
       "        7.30000e+01, 8.10000e+01, 1.04000e+02, 8.70000e+01, 6.40000e+01,\n",
       "        8.80000e+01, 9.60000e+01, 1.10000e+02, 9.50000e+01, 8.10000e+01,\n",
       "        9.00000e+01, 8.50000e+01, 8.60000e+01, 6.10000e+01, 7.50000e+01,\n",
       "        7.30000e+01, 6.00000e+01, 6.30000e+01, 7.90000e+01, 6.40000e+01,\n",
       "        6.20000e+01, 4.40000e+01, 7.20000e+01, 4.50000e+01, 5.90000e+01,\n",
       "        4.60000e+01, 6.10000e+01, 5.00000e+01, 6.30000e+01, 4.30000e+01,\n",
       "        3.80000e+01, 5.30000e+01, 3.90000e+01, 4.40000e+01, 2.60000e+01,\n",
       "        3.70000e+01, 2.50000e+01, 3.90000e+01, 3.60000e+01, 2.60000e+01,\n",
       "        5.30000e+01, 4.10000e+01, 5.30000e+01, 3.90000e+01, 5.70000e+01,\n",
       "        2.20000e+01, 3.50000e+01, 2.80000e+01, 2.50000e+01, 3.10000e+01,\n",
       "        2.60000e+01, 2.60000e+01, 2.50000e+01, 2.40000e+01, 2.80000e+01,\n",
       "        4.70000e+01, 3.20000e+01, 2.60000e+01, 2.20000e+01, 2.70000e+01,\n",
       "        2.30000e+01, 2.40000e+01, 2.10000e+01, 2.10000e+01, 1.70000e+01,\n",
       "        2.20000e+01, 1.70000e+01, 1.60000e+01, 3.00000e+01, 1.50000e+01,\n",
       "        2.50000e+01, 2.00000e+01, 3.30000e+01, 2.20000e+01, 2.70000e+01,\n",
       "        3.00000e+01, 2.30000e+01, 2.40000e+01, 2.60000e+01, 1.80000e+01,\n",
       "        1.20000e+01, 2.50000e+01, 1.10000e+01, 1.70000e+01, 2.60000e+01,\n",
       "        2.30000e+01, 1.60000e+01, 1.20000e+01, 2.10000e+01, 2.00000e+01,\n",
       "        1.30000e+01, 1.60000e+01, 1.40000e+01, 6.00000e+00, 1.60000e+01,\n",
       "        1.10000e+01, 8.00000e+00, 8.00000e+00, 1.30000e+01, 5.00000e+00,\n",
       "        1.70000e+01, 3.10000e+01, 1.20000e+01, 5.00000e+00, 1.10000e+01,\n",
       "        6.00000e+00, 5.00000e+00, 1.70000e+01, 1.40000e+01, 2.70000e+01,\n",
       "        1.60000e+01, 1.00000e+00, 1.00000e+01, 7.00000e+00, 8.00000e+00,\n",
       "        1.80000e+01, 2.40000e+01, 2.30000e+01, 1.70000e+01, 1.80000e+01,\n",
       "        1.60000e+01, 1.00000e+01, 2.90000e+01, 7.00000e+00, 1.20000e+01,\n",
       "        2.20000e+01, 1.00000e+01, 1.60000e+01, 8.00000e+00, 6.00000e+00,\n",
       "        9.00000e+00, 1.00000e+01, 4.00000e+00, 5.00000e+00, 1.10000e+01,\n",
       "        1.20000e+01, 6.00000e+00, 6.00000e+00, 6.00000e+00, 8.00000e+00,\n",
       "        7.00000e+00, 6.00000e+00, 8.00000e+00, 8.00000e+00, 4.00000e+00,\n",
       "        7.00000e+00, 1.00000e+01, 1.00000e+01, 8.00000e+00, 7.00000e+00,\n",
       "        1.00000e+01, 1.50000e+01, 7.00000e+00, 1.10000e+01, 7.00000e+00,\n",
       "        6.00000e+00, 1.20000e+01, 6.00000e+00, 9.00000e+00, 6.00000e+00,\n",
       "        8.00000e+00, 5.00000e+00, 4.00000e+00, 9.00000e+00, 3.00000e+00,\n",
       "        4.00000e+00, 7.00000e+00, 3.00000e+00, 3.00000e+00, 2.00000e+00,\n",
       "        4.00000e+00, 1.00000e+00, 1.00000e+00, 3.00000e+00, 1.00000e+00,\n",
       "        2.00000e+00, 1.00000e+00, 5.00000e+00, 3.00000e+00, 3.00000e+00,\n",
       "        1.00000e+00, 6.00000e+00, 1.00000e+00, 1.00000e+00, 2.00000e+00,\n",
       "        2.00000e+00, 5.00000e+00, 8.00000e+00, 8.00000e+00, 1.00000e+00,\n",
       "        2.00000e+00, 4.00000e+00, 5.00000e+00, 0.00000e+00, 1.00000e+01,\n",
       "        3.00000e+00, 2.00000e+00, 5.00000e+00, 3.00000e+00, 2.00000e+00,\n",
       "        3.00000e+00, 4.00000e+00, 1.00000e+00, 3.00000e+00, 9.00000e+00,\n",
       "        2.00000e+00, 9.00000e+00, 1.00000e+00, 5.00000e+00, 2.00000e+00,\n",
       "        4.00000e+00, 2.00000e+00, 1.00000e+00, 7.00000e+00, 8.00000e+00,\n",
       "        5.00000e+00, 1.00000e+00, 6.00000e+00, 4.00000e+00, 3.00000e+00,\n",
       "        3.00000e+00, 6.00000e+00, 6.00000e+00, 2.00000e+00, 7.00000e+00,\n",
       "        4.00000e+00, 1.00000e+00, 0.00000e+00, 5.00000e+00, 6.00000e+00,\n",
       "        2.00000e+00, 5.00000e+00, 1.00000e+00, 5.00000e+00, 3.00000e+00,\n",
       "        6.00000e+00, 4.00000e+00, 2.00000e+00, 2.00000e+00, 3.00000e+00,\n",
       "        1.00000e+00, 1.00000e+00, 5.00000e+00, 4.00000e+00, 7.00000e+00,\n",
       "        1.20000e+01, 7.00000e+00, 1.10000e+01, 9.00000e+00, 8.00000e+00,\n",
       "        1.10000e+01, 7.00000e+00, 1.00000e+01, 8.00000e+00, 4.00000e+00,\n",
       "        1.00000e+01, 6.00000e+00, 5.00000e+00, 7.00000e+00, 3.00000e+00,\n",
       "        1.20000e+01, 1.30000e+01, 4.00000e+00, 5.00000e+00, 6.00000e+00,\n",
       "        0.00000e+00, 3.00000e+00, 1.00000e+00, 4.00000e+00, 2.00000e+00,\n",
       "        5.00000e+00, 2.00000e+00, 3.00000e+00, 7.00000e+00, 5.00000e+00,\n",
       "        1.00000e+01, 0.00000e+00, 8.00000e+00, 9.00000e+00, 3.00000e+00,\n",
       "        2.00000e+00, 6.00000e+00, 2.00000e+00, 1.00000e+00, 3.00000e+00,\n",
       "        1.00000e+00, 2.00000e+00, 4.00000e+00, 2.00000e+00, 3.00000e+00,\n",
       "        0.00000e+00, 1.00000e+00, 3.00000e+00, 0.00000e+00, 1.00000e+00,\n",
       "        0.00000e+00, 4.00000e+00, 2.00000e+00, 0.00000e+00, 1.00000e+00,\n",
       "        2.00000e+00, 2.00000e+00, 6.00000e+00, 0.00000e+00, 3.00000e+00,\n",
       "        1.00000e+00, 0.00000e+00, 2.00000e+00, 0.00000e+00, 1.00000e+00,\n",
       "        0.00000e+00, 1.00000e+00, 5.00000e+00, 0.00000e+00, 2.00000e+00,\n",
       "        6.00000e+00, 0.00000e+00, 2.00000e+00, 3.00000e+00, 0.00000e+00,\n",
       "        2.00000e+00, 0.00000e+00, 1.00000e+00, 2.00000e+00, 0.00000e+00,\n",
       "        0.00000e+00, 0.00000e+00, 1.00000e+00, 2.00000e+00, 1.00000e+00,\n",
       "        2.00000e+00, 5.00000e+00, 0.00000e+00, 0.00000e+00, 2.00000e+00,\n",
       "        1.00000e+00, 0.00000e+00, 1.00000e+00, 0.00000e+00, 1.00000e+00,\n",
       "        3.00000e+00, 0.00000e+00, 3.00000e+00, 8.00000e+00, 6.00000e+00,\n",
       "        2.00000e+00, 0.00000e+00, 2.00000e+00, 2.00000e+00, 0.00000e+00,\n",
       "        0.00000e+00, 0.00000e+00, 2.00000e+00, 3.00000e+00, 0.00000e+00,\n",
       "        1.00000e+00, 1.00000e+00, 1.00000e+00, 5.00000e+00, 1.00000e+00,\n",
       "        2.00000e+00, 0.00000e+00, 5.00000e+00, 3.00000e+00, 1.00000e+00,\n",
       "        0.00000e+00, 6.00000e+00, 5.00000e+00, 1.00000e+00, 4.00000e+00,\n",
       "        1.00000e+00, 1.00000e+00, 3.00000e+00, 1.00000e+00, 4.00000e+00,\n",
       "        3.00000e+00, 2.00000e+00, 0.00000e+00, 4.00000e+00, 5.00000e+00,\n",
       "        1.00000e+00, 0.00000e+00, 4.00000e+00, 1.00000e+00, 0.00000e+00,\n",
       "        0.00000e+00, 2.00000e+00, 0.00000e+00, 2.00000e+00, 1.00000e+00,\n",
       "        0.00000e+00, 2.00000e+00, 0.00000e+00, 2.00000e+00, 2.00000e+00,\n",
       "        0.00000e+00, 0.00000e+00, 0.00000e+00, 0.00000e+00, 0.00000e+00,\n",
       "        0.00000e+00, 0.00000e+00, 0.00000e+00, 3.00000e+00, 0.00000e+00,\n",
       "        1.00000e+00, 0.00000e+00, 0.00000e+00, 2.00000e+00, 0.00000e+00,\n",
       "        0.00000e+00, 0.00000e+00, 0.00000e+00, 0.00000e+00, 0.00000e+00,\n",
       "        0.00000e+00, 2.00000e+00, 1.00000e+00, 0.00000e+00, 0.00000e+00,\n",
       "        1.00000e+00, 0.00000e+00, 0.00000e+00, 2.00000e+00, 0.00000e+00,\n",
       "        1.00000e+00, 2.00000e+00, 0.00000e+00, 0.00000e+00, 1.00000e+00,\n",
       "        2.00000e+00, 4.00000e+00, 1.00000e+00, 0.00000e+00, 1.00000e+00,\n",
       "        3.00000e+00, 4.00000e+00, 2.00000e+00, 8.00000e+00, 2.00000e+00,\n",
       "        1.00000e+00, 0.00000e+00, 9.00000e+00, 5.00000e+00, 1.00000e+00,\n",
       "        5.00000e+00, 4.00000e+00, 1.00000e+00, 0.00000e+00, 0.00000e+00,\n",
       "        0.00000e+00, 1.00000e+00, 2.00000e+00, 1.00000e+00, 1.00000e+00,\n",
       "        0.00000e+00, 1.00000e+00, 3.00000e+00, 2.00000e+00, 0.00000e+00,\n",
       "        0.00000e+00, 0.00000e+00, 6.00000e+00, 2.00000e+00, 0.00000e+00,\n",
       "        3.00000e+00, 4.00000e+00, 2.00000e+00, 1.00000e+00, 3.00000e+00,\n",
       "        1.00000e+00, 1.00000e+00, 1.00000e+00, 0.00000e+00, 3.00000e+00,\n",
       "        5.00000e+00, 3.00000e+00, 0.00000e+00, 2.00000e+00, 0.00000e+00,\n",
       "        0.00000e+00, 0.00000e+00, 1.00000e+00, 0.00000e+00, 1.00000e+00,\n",
       "        2.00000e+00, 0.00000e+00, 0.00000e+00, 2.00000e+00, 2.00000e+00,\n",
       "        1.00000e+00, 2.00000e+00, 0.00000e+00, 1.00000e+00, 0.00000e+00,\n",
       "        2.00000e+00, 0.00000e+00, 1.00000e+00, 0.00000e+00, 1.00000e+00,\n",
       "        1.00000e+00, 0.00000e+00, 1.00000e+00, 3.00000e+00, 1.00000e+00,\n",
       "        1.00000e+00, 2.00000e+00, 0.00000e+00, 1.00000e+00, 0.00000e+00,\n",
       "        1.00000e+00, 1.00000e+00, 0.00000e+00, 0.00000e+00, 3.00000e+00,\n",
       "        3.00000e+00, 0.00000e+00, 1.00000e+00, 0.00000e+00, 1.00000e+00,\n",
       "        1.00000e+00, 0.00000e+00, 3.00000e+00, 1.00000e+00, 2.00000e+00,\n",
       "        1.00000e+00, 1.00000e+00, 2.00000e+00, 5.00000e+00, 0.00000e+00,\n",
       "        1.00000e+00, 1.00000e+00, 0.00000e+00, 3.00000e+00, 1.00000e+00,\n",
       "        3.00000e+00, 0.00000e+00, 1.00000e+00, 1.00000e+00, 2.00000e+00,\n",
       "        0.00000e+00, 0.00000e+00, 0.00000e+00, 2.00000e+00, 1.00000e+00,\n",
       "        1.00000e+00, 0.00000e+00, 0.00000e+00, 5.00000e+00, 3.00000e+00,\n",
       "        3.00000e+00, 2.00000e+00, 1.00000e+00, 4.00000e+00, 0.00000e+00,\n",
       "        0.00000e+00, 1.00000e+00, 2.00000e+00, 1.00000e+00, 0.00000e+00,\n",
       "        1.00000e+00, 0.00000e+00, 0.00000e+00, 0.00000e+00, 1.00000e+00,\n",
       "        1.00000e+00, 1.00000e+00, 2.00000e+00, 2.00000e+00, 1.00000e+00,\n",
       "        1.00000e+00, 0.00000e+00, 0.00000e+00, 0.00000e+00, 1.00000e+00,\n",
       "        0.00000e+00, 1.00000e+00, 0.00000e+00, 0.00000e+00, 0.00000e+00,\n",
       "        0.00000e+00, 0.00000e+00, 0.00000e+00, 0.00000e+00, 0.00000e+00,\n",
       "        2.00000e+00, 0.00000e+00, 1.00000e+00, 0.00000e+00, 0.00000e+00,\n",
       "        0.00000e+00, 0.00000e+00, 0.00000e+00, 0.00000e+00, 0.00000e+00,\n",
       "        0.00000e+00, 0.00000e+00, 1.00000e+00, 0.00000e+00, 0.00000e+00,\n",
       "        0.00000e+00, 0.00000e+00, 0.00000e+00, 0.00000e+00, 0.00000e+00,\n",
       "        0.00000e+00, 1.00000e+00, 0.00000e+00, 1.00000e+00, 0.00000e+00,\n",
       "        0.00000e+00, 0.00000e+00, 0.00000e+00, 0.00000e+00, 0.00000e+00,\n",
       "        0.00000e+00, 0.00000e+00, 0.00000e+00, 0.00000e+00, 0.00000e+00,\n",
       "        0.00000e+00, 0.00000e+00, 0.00000e+00, 0.00000e+00, 0.00000e+00,\n",
       "        0.00000e+00, 0.00000e+00, 0.00000e+00, 0.00000e+00, 0.00000e+00,\n",
       "        0.00000e+00, 0.00000e+00, 0.00000e+00, 0.00000e+00, 1.00000e+00,\n",
       "        0.00000e+00, 1.00000e+00, 0.00000e+00, 0.00000e+00, 0.00000e+00,\n",
       "        0.00000e+00, 0.00000e+00, 0.00000e+00, 0.00000e+00, 0.00000e+00,\n",
       "        0.00000e+00, 1.00000e+00, 0.00000e+00, 1.00000e+00, 0.00000e+00,\n",
       "        0.00000e+00, 0.00000e+00, 0.00000e+00, 0.00000e+00, 1.00000e+00,\n",
       "        0.00000e+00, 0.00000e+00, 0.00000e+00, 0.00000e+00, 0.00000e+00,\n",
       "        0.00000e+00, 0.00000e+00, 0.00000e+00, 0.00000e+00, 0.00000e+00,\n",
       "        2.00000e+00, 0.00000e+00, 0.00000e+00, 1.00000e+00, 0.00000e+00,\n",
       "        0.00000e+00, 0.00000e+00, 0.00000e+00, 0.00000e+00, 0.00000e+00,\n",
       "        0.00000e+00, 1.00000e+00, 0.00000e+00, 1.00000e+00, 0.00000e+00,\n",
       "        0.00000e+00, 1.00000e+00, 1.00000e+00, 1.00000e+00, 0.00000e+00,\n",
       "        0.00000e+00, 0.00000e+00, 0.00000e+00, 1.00000e+00, 0.00000e+00,\n",
       "        0.00000e+00, 0.00000e+00, 0.00000e+00, 0.00000e+00, 0.00000e+00,\n",
       "        0.00000e+00, 0.00000e+00, 0.00000e+00, 0.00000e+00, 0.00000e+00,\n",
       "        0.00000e+00, 2.00000e+00, 0.00000e+00, 0.00000e+00, 0.00000e+00,\n",
       "        1.00000e+00, 0.00000e+00, 0.00000e+00, 0.00000e+00, 0.00000e+00,\n",
       "        0.00000e+00, 1.00000e+00, 0.00000e+00, 0.00000e+00, 0.00000e+00,\n",
       "        0.00000e+00, 0.00000e+00, 0.00000e+00, 0.00000e+00, 0.00000e+00,\n",
       "        0.00000e+00, 0.00000e+00, 0.00000e+00, 0.00000e+00, 0.00000e+00,\n",
       "        0.00000e+00, 0.00000e+00, 0.00000e+00, 0.00000e+00, 0.00000e+00,\n",
       "        1.00000e+00, 1.00000e+00, 1.00000e+00, 0.00000e+00, 0.00000e+00,\n",
       "        0.00000e+00, 1.00000e+00, 1.00000e+00, 0.00000e+00, 0.00000e+00,\n",
       "        0.00000e+00, 0.00000e+00, 0.00000e+00, 1.00000e+00, 0.00000e+00,\n",
       "        0.00000e+00, 0.00000e+00, 1.00000e+00, 0.00000e+00, 0.00000e+00,\n",
       "        0.00000e+00, 0.00000e+00, 0.00000e+00, 1.00000e+00, 2.00000e+00,\n",
       "        0.00000e+00, 0.00000e+00, 0.00000e+00, 0.00000e+00, 0.00000e+00,\n",
       "        2.00000e+00, 0.00000e+00, 0.00000e+00, 0.00000e+00, 0.00000e+00,\n",
       "        1.00000e+00, 0.00000e+00, 0.00000e+00, 0.00000e+00, 0.00000e+00,\n",
       "        0.00000e+00, 0.00000e+00, 1.00000e+00, 0.00000e+00, 1.00000e+00,\n",
       "        0.00000e+00, 0.00000e+00, 1.00000e+00, 0.00000e+00, 0.00000e+00,\n",
       "        1.00000e+00, 0.00000e+00, 0.00000e+00, 0.00000e+00, 0.00000e+00,\n",
       "        0.00000e+00, 0.00000e+00, 0.00000e+00, 0.00000e+00, 0.00000e+00,\n",
       "        0.00000e+00, 0.00000e+00, 0.00000e+00, 0.00000e+00, 0.00000e+00,\n",
       "        0.00000e+00, 0.00000e+00, 0.00000e+00, 1.00000e+00, 0.00000e+00,\n",
       "        1.00000e+00, 2.00000e+00, 1.00000e+00, 0.00000e+00]),\n",
       " array([  0,   1,   2,   3,   4,   5,   6,   7,   8,   9,  10,  11,  12,\n",
       "         13,  14,  15,  16,  17,  18,  19,  20,  21,  22,  23,  24,  25,\n",
       "         26,  27,  28,  29,  30,  31,  32,  33,  34,  35,  36,  37,  38,\n",
       "         39,  40,  41,  42,  43,  44,  45,  46,  47,  48,  49,  50,  51,\n",
       "         52,  53,  54,  55,  56,  57,  58,  59,  60,  61,  62,  63,  64,\n",
       "         65,  66,  67,  68,  69,  70,  71,  72,  73,  74,  75,  76,  77,\n",
       "         78,  79,  80,  81,  82,  83,  84,  85,  86,  87,  88,  89,  90,\n",
       "         91,  92,  93,  94,  95,  96,  97,  98,  99, 100, 101, 102, 103,\n",
       "        104, 105, 106, 107, 108, 109, 110, 111, 112, 113, 114, 115, 116,\n",
       "        117, 118, 119, 120, 121, 122, 123, 124, 125, 126, 127, 128, 129,\n",
       "        130, 131, 132, 133, 134, 135, 136, 137, 138, 139, 140, 141, 142,\n",
       "        143, 144, 145, 146, 147, 148, 149, 150, 151, 152, 153, 154, 155,\n",
       "        156, 157, 158, 159, 160, 161, 162, 163, 164, 165, 166, 167, 168,\n",
       "        169, 170, 171, 172, 173, 174, 175, 176, 177, 178, 179, 180, 181,\n",
       "        182, 183, 184, 185, 186, 187, 188, 189, 190, 191, 192, 193, 194,\n",
       "        195, 196, 197, 198, 199, 200, 201, 202, 203, 204, 205, 206, 207,\n",
       "        208, 209, 210, 211, 212, 213, 214, 215, 216, 217, 218, 219, 220,\n",
       "        221, 222, 223, 224, 225, 226, 227, 228, 229, 230, 231, 232, 233,\n",
       "        234, 235, 236, 237, 238, 239, 240, 241, 242, 243, 244, 245, 246,\n",
       "        247, 248, 249, 250, 251, 252, 253, 254, 255, 256, 257, 258, 259,\n",
       "        260, 261, 262, 263, 264, 265, 266, 267, 268, 269, 270, 271, 272,\n",
       "        273, 274, 275, 276, 277, 278, 279, 280, 281, 282, 283, 284, 285,\n",
       "        286, 287, 288, 289, 290, 291, 292, 293, 294, 295, 296, 297, 298,\n",
       "        299, 300, 301, 302, 303, 304, 305, 306, 307, 308, 309, 310, 311,\n",
       "        312, 313, 314, 315, 316, 317, 318, 319, 320, 321, 322, 323, 324,\n",
       "        325, 326, 327, 328, 329, 330, 331, 332, 333, 334, 335, 336, 337,\n",
       "        338, 339, 340, 341, 342, 343, 344, 345, 346, 347, 348, 349, 350,\n",
       "        351, 352, 353, 354, 355, 356, 357, 358, 359, 360, 361, 362, 363,\n",
       "        364, 365, 366, 367, 368, 369, 370, 371, 372, 373, 374, 375, 376,\n",
       "        377, 378, 379, 380, 381, 382, 383, 384, 385, 386, 387, 388, 389,\n",
       "        390, 391, 392, 393, 394, 395, 396, 397, 398, 399, 400, 401, 402,\n",
       "        403, 404, 405, 406, 407, 408, 409, 410, 411, 412, 413, 414, 415,\n",
       "        416, 417, 418, 419, 420, 421, 422, 423, 424, 425, 426, 427, 428,\n",
       "        429, 430, 431, 432, 433, 434, 435, 436, 437, 438, 439, 440, 441,\n",
       "        442, 443, 444, 445, 446, 447, 448, 449, 450, 451, 452, 453, 454,\n",
       "        455, 456, 457, 458, 459, 460, 461, 462, 463, 464, 465, 466, 467,\n",
       "        468, 469, 470, 471, 472, 473, 474, 475, 476, 477, 478, 479, 480,\n",
       "        481, 482, 483, 484, 485, 486, 487, 488, 489, 490, 491, 492, 493,\n",
       "        494, 495, 496, 497, 498, 499, 500, 501, 502, 503, 504, 505, 506,\n",
       "        507, 508, 509, 510, 511, 512, 513, 514, 515, 516, 517, 518, 519,\n",
       "        520, 521, 522, 523, 524, 525, 526, 527, 528, 529, 530, 531, 532,\n",
       "        533, 534, 535, 536, 537, 538, 539, 540, 541, 542, 543, 544, 545,\n",
       "        546, 547, 548, 549, 550, 551, 552, 553, 554, 555, 556, 557, 558,\n",
       "        559, 560, 561, 562, 563, 564, 565, 566, 567, 568, 569, 570, 571,\n",
       "        572, 573, 574, 575, 576, 577, 578, 579, 580, 581, 582, 583, 584,\n",
       "        585, 586, 587, 588, 589, 590, 591, 592, 593, 594, 595, 596, 597,\n",
       "        598, 599, 600, 601, 602, 603, 604, 605, 606, 607, 608, 609, 610,\n",
       "        611, 612, 613, 614, 615, 616, 617, 618, 619, 620, 621, 622, 623,\n",
       "        624, 625, 626, 627, 628, 629, 630, 631, 632, 633, 634, 635, 636,\n",
       "        637, 638, 639, 640, 641, 642, 643, 644, 645, 646, 647, 648, 649,\n",
       "        650, 651, 652, 653, 654, 655, 656, 657, 658, 659, 660, 661, 662,\n",
       "        663, 664, 665, 666, 667, 668, 669, 670, 671, 672, 673, 674, 675,\n",
       "        676, 677, 678, 679, 680, 681, 682, 683, 684, 685, 686, 687, 688,\n",
       "        689, 690, 691, 692, 693, 694, 695, 696, 697, 698, 699, 700, 701,\n",
       "        702, 703, 704, 705, 706, 707, 708, 709, 710, 711, 712, 713, 714,\n",
       "        715, 716, 717, 718, 719, 720, 721, 722, 723, 724, 725, 726, 727,\n",
       "        728, 729, 730, 731, 732, 733, 734, 735, 736, 737, 738, 739, 740,\n",
       "        741, 742, 743, 744, 745, 746, 747, 748, 749, 750, 751, 752, 753,\n",
       "        754, 755, 756, 757, 758, 759, 760, 761, 762, 763, 764, 765, 766,\n",
       "        767, 768, 769, 770, 771, 772, 773, 774, 775, 776, 777, 778, 779,\n",
       "        780, 781, 782, 783, 784, 785, 786, 787, 788, 789, 790, 791, 792,\n",
       "        793, 794, 795, 796, 797, 798, 799, 800, 801, 802, 803, 804, 805,\n",
       "        806, 807, 808, 809, 810, 811, 812, 813, 814, 815, 816, 817, 818,\n",
       "        819, 820, 821, 822, 823, 824, 825, 826, 827, 828, 829, 830, 831,\n",
       "        832, 833, 834, 835, 836, 837, 838, 839, 840, 841, 842, 843, 844,\n",
       "        845, 846, 847, 848, 849, 850, 851, 852, 853, 854, 855, 856, 857,\n",
       "        858, 859, 860, 861, 862, 863, 864, 865, 866, 867, 868, 869, 870,\n",
       "        871, 872, 873, 874, 875, 876, 877, 878, 879, 880, 881, 882, 883,\n",
       "        884, 885, 886, 887, 888, 889, 890, 891, 892, 893, 894, 895, 896,\n",
       "        897, 898, 899, 900, 901, 902, 903, 904, 905, 906, 907, 908, 909,\n",
       "        910, 911, 912, 913, 914, 915, 916, 917, 918, 919, 920, 921, 922,\n",
       "        923, 924, 925, 926, 927, 928, 929, 930, 931, 932, 933, 934, 935,\n",
       "        936, 937, 938, 939, 940, 941, 942, 943, 944, 945, 946, 947, 948,\n",
       "        949, 950, 951, 952, 953, 954, 955, 956, 957, 958, 959, 960, 961,\n",
       "        962, 963, 964, 965, 966, 967, 968, 969, 970, 971, 972, 973, 974,\n",
       "        975, 976, 977, 978, 979, 980, 981, 982, 983, 984, 985, 986, 987,\n",
       "        988, 989, 990, 991, 992, 993, 994, 995, 996, 997, 998, 999]),\n",
       " <BarContainer object of 999 artists>)"
      ]
     },
     "execution_count": 7,
     "metadata": {},
     "output_type": "execute_result"
    },
    {
     "data": {
      "image/png": "[encoded data removed]",
      "text/plain": [
       "<Figure size 432x288 with 1 Axes>"
      ]
     },
     "metadata": {
      "needs_background": "light"
     },
     "output_type": "display_data"
    }
   ],
   "source": [
    "import matplotlib.pyplot as plt\n",
    "plt.hist(python_lengths, bins= [i for i in range(1000)])"
   ]
  },
  {
   "cell_type": "code",
   "execution_count": 13,
   "metadata": {},
   "outputs": [
    {
     "name": "stderr",
     "output_type": "stream",
     "text": [
      "4053it [00:00, 6026.78it/s]\n"
     ]
    }
   ],
   "source": [
    "from collections import defaultdict\n",
    "problemlist=pd.read_csv(\"../Project_CodeNet/metadata/problem_list.csv\")\n",
    "problems = defaultdict(list)\n",
    "for index, row in tqdm(problemlist.iterrows()):\n",
    "    if(row['dataset']=='AtCoder'):\n",
    "        if(\"AtCoder Regular Contest\" in row['name']):\n",
    "            number = row['name'].split(\" \")[3]\n",
    "            problems[\"ARC\"+number].append(row['id'])\n",
    "        if(\"AtCoder Beginner Contest\" in row['name']):\n",
    "            number = row['name'].split(\" \")[3]\n",
    "            problems[\"ABC\"+number].append(row['id'])\n",
    "        if(\"AtCoder Grand Contest\" in row['name']):\n",
    "            number = row['name'].split(\" \")[3]\n",
    "            problems[\"AGC\"+number].append(row['id'])\n",
    "folders = glob(\"atcoder_test_cases/*\")\n",
    "\n",
    "final_keys = []\n",
    "for idx in range(len(folders)):\n",
    "    folders[idx] = folders[idx].replace(\"atcoder_test_cases/\", \"\")\n",
    "#print(folders)\n",
    "for key in problems.keys():\n",
    "    if key in folders:\n",
    "        if len(problems[key]) == len(glob(\"atcoder_test_cases/\"+key+\"/*\")):\n",
    "            final_keys.append(key)\n",
    "            \n",
    "    elif key.lower() in folders :\n",
    "        if len(problems[key]) == len(glob(\"atcoder_test_cases/\"+ key.lower() +\"/*\")):\n",
    "            final_keys.append(key)\n",
    "\n",
    "problemid_to_tc = {}\n",
    "for key in problems:\n",
    "    if(key in final_keys):\n",
    "        for idx, prob_id in enumerate(problems[key]):\n",
    "            folder_list = glob(\"atcoder_test_cases/\"+key+\"/*\")\n",
    "            if(len(folder_list)==0):\n",
    "                folder_list = glob(\"atcoder_test_cases/\"+key.lower()+\"/*\")\n",
    "            problemid_to_tc[prob_id] = folder_list[idx]"
   ]
  },
  {
   "cell_type": "code",
   "execution_count": 24,
   "metadata": {},
   "outputs": [
    {
     "name": "stderr",
     "output_type": "stream",
     "text": [
      "100%|██████████| 710/710 [03:19<00:00,  3.56it/s]\n"
     ]
    }
   ],
   "source": [
    "from glob import glob\n",
    "tc_lengths = []\n",
    "for key in tqdm(problemid_to_tc.keys()):\n",
    "    in_tcs = glob(problemid_to_tc[key]+\"/in/*\")\n",
    "    for tc in in_tcs:\n",
    "        with open(tc, 'r', encoding='utf8') as f:\n",
    "            code = f.read()\n",
    "            tc_lengths.append(code.count(\"\\n\"))\n"
   ]
  },
  {
   "cell_type": "code",
   "execution_count": 25,
   "metadata": {},
   "outputs": [
    {
     "data": {
      "text/plain": [
       "422967147"
      ]
     },
     "execution_count": 25,
     "metadata": {},
     "output_type": "execute_result"
    }
   ],
   "source": [
    "sum(tc_lengths)"
   ]
  },
  {
   "cell_type": "code",
   "execution_count": 22,
   "metadata": {},
   "outputs": [],
   "source": [
    "rm -rf atcoder_test_cases/AGC031/D/in/etc"
   ]
  },
  {
   "cell_type": "code",
   "execution_count": 23,
   "metadata": {},
   "outputs": [
    {
     "name": "stdout",
     "output_type": "stream",
     "text": [
      "\u001b[0m\u001b[01;32min01.txt\u001b[0m*  \u001b[01;32min07.txt\u001b[0m*  \u001b[01;32min13.txt\u001b[0m*  \u001b[01;32min19.txt\u001b[0m*  \u001b[01;32min25.txt\u001b[0m*  \u001b[01;32min31.txt\u001b[0m*  \u001b[01;32min37.txt\u001b[0m*\n",
      "\u001b[01;32min02.txt\u001b[0m*  \u001b[01;32min08.txt\u001b[0m*  \u001b[01;32min14.txt\u001b[0m*  \u001b[01;32min20.txt\u001b[0m*  \u001b[01;32min26.txt\u001b[0m*  \u001b[01;32min32.txt\u001b[0m*  \u001b[01;32msample01.txt\u001b[0m*\n",
      "\u001b[01;32min03.txt\u001b[0m*  \u001b[01;32min09.txt\u001b[0m*  \u001b[01;32min15.txt\u001b[0m*  \u001b[01;32min21.txt\u001b[0m*  \u001b[01;32min27.txt\u001b[0m*  \u001b[01;32min33.txt\u001b[0m*  \u001b[01;32msample02.txt\u001b[0m*\n",
      "\u001b[01;32min04.txt\u001b[0m*  \u001b[01;32min10.txt\u001b[0m*  \u001b[01;32min16.txt\u001b[0m*  \u001b[01;32min22.txt\u001b[0m*  \u001b[01;32min28.txt\u001b[0m*  \u001b[01;32min34.txt\u001b[0m*  \u001b[01;32msample03.txt\u001b[0m*\n",
      "\u001b[01;32min05.txt\u001b[0m*  \u001b[01;32min11.txt\u001b[0m*  \u001b[01;32min17.txt\u001b[0m*  \u001b[01;32min23.txt\u001b[0m*  \u001b[01;32min29.txt\u001b[0m*  \u001b[01;32min35.txt\u001b[0m*\n",
      "\u001b[01;32min06.txt\u001b[0m*  \u001b[01;32min12.txt\u001b[0m*  \u001b[01;32min18.txt\u001b[0m*  \u001b[01;32min24.txt\u001b[0m*  \u001b[01;32min30.txt\u001b[0m*  \u001b[01;32min36.txt\u001b[0m*\n"
     ]
    }
   ],
   "source": [
    "ls atcoder_test_cases/AGC031/D/in/"
   ]
  },
  {
   "cell_type": "code",
   "execution_count": 18,
   "metadata": {},
   "outputs": [],
   "source": [
    "data = getJsonData(\"../data/java/processed/train.jsonl\")"
   ]
  },
  {
   "cell_type": "code",
   "execution_count": 21,
   "metadata": {},
   "outputs": [
    {
     "name": "stderr",
     "output_type": "stream",
     "text": [
      "  0%|          | 0/159901 [00:00<?, ?it/s]"
     ]
    },
    {
     "name": "stdout",
     "output_type": "stream",
     "text": [
      "dict_keys(['src_id', 'src', 'src_verdict', 'tgt', 'tgt_id'])\n"
     ]
    },
    {
     "name": "stderr",
     "output_type": "stream",
     "text": [
      "\n"
     ]
    }
   ],
   "source": [
    "for dt in tqdm(data):\n",
    "    print(dt.keys())\n",
    "    break"
   ]
  },
  {
   "cell_type": "code",
   "execution_count": 11,
   "metadata": {},
   "outputs": [
    {
     "name": "stdout",
     "output_type": "stream",
     "text": [
      "s000032653.java  s244983161.java  s489538278.java  s748262839.java\n",
      "s000099112.java  s245756655.java  s489689348.java  s748614562.java\n",
      "s000624495.java  s245804579.java  s489742760.java  s748741544.java\n",
      "s000780971.java  s246007313.java  s489887694.java  s748944152.java\n",
      "s001006300.java  s246094359.java  s490153337.java  s749183470.java\n",
      "s001628854.java  s246823480.java  s490760025.java  s749226411.java\n",
      "s002454332.java  s246829621.java  s490904798.java  s749660884.java\n",
      "s002488906.java  s246965159.java  s491147118.java  s749781128.java\n",
      "s003293408.java  s247288255.java  s491162437.java  s749975412.java\n",
      "s004014264.java  s247537941.java  s492378753.java  s750100462.java\n",
      "s004892254.java  s248043181.java  s492879894.java  s750418773.java\n",
      "s005477287.java  s248088574.java  s493454963.java  s750753871.java\n",
      "s005815885.java  s248720574.java  s493609857.java  s750898975.java\n",
      "s006538158.java  s248834247.java  s494392270.java  s752737564.java\n",
      "s006959232.java  s248894394.java  s494742464.java  s752777309.java\n",
      "s007296722.java  s249476384.java  s494767858.java  s752839727.java\n",
      "s007750544.java  s249527841.java  s494819267.java  s753571174.java\n",
      "s007887595.java  s249605712.java  s494965051.java  s753598571.java\n",
      "s008488780.java  s249873416.java  s495504768.java  s754095732.java\n",
      "s008604705.java  s250113657.java  s495852417.java  s754274114.java\n",
      "s008758167.java  s250242189.java  s495972147.java  s755112411.java\n",
      "s009871129.java  s250365348.java  s496384242.java  s755949009.java\n",
      "s010234356.java  s251555405.java  s496725425.java  s756074321.java\n",
      "s010927575.java  s251847175.java  s497001370.java  s756255511.java\n",
      "s011736986.java  s252604477.java  s497129423.java  s756454404.java\n",
      "s012571275.java  s253520484.java  s497317085.java  s756478722.java\n",
      "s012642913.java  s254763817.java  s498191397.java  s756495575.java\n",
      "s013038282.java  s255004368.java  s499275244.java  s756859259.java\n",
      "s013626743.java  s255568742.java  s499289645.java  s757151757.java\n",
      "s013956758.java  s255818390.java  s500822858.java  s757541007.java\n",
      "s014189708.java  s255823123.java  s500884644.java  s757596067.java\n",
      "s014824426.java  s255980211.java  s500908235.java  s757682296.java\n",
      "s016125309.java  s256805304.java  s501532842.java  s758401616.java\n",
      "s017885069.java  s257031203.java  s501670563.java  s758421334.java\n",
      "s018398126.java  s257932355.java  s502202893.java  s758955685.java\n",
      "s018823283.java  s257955841.java  s502567758.java  s759401355.java\n",
      "s018909851.java  s258597825.java  s502959044.java  s759478793.java\n",
      "s019593456.java  s259385888.java  s503108054.java  s759981229.java\n",
      "s019912536.java  s259914009.java  s503617839.java  s760268723.java\n",
      "s020111177.java  s260104440.java  s504034312.java  s760276110.java\n",
      "s020406133.java  s260364032.java  s504452600.java  s761084644.java\n",
      "s021341900.java  s260708795.java  s504523145.java  s761437310.java\n",
      "s022090530.java  s260820246.java  s504956258.java  s761448178.java\n",
      "s023134098.java  s262788781.java  s505010950.java  s762103408.java\n",
      "s023341091.java  s264366817.java  s505088041.java  s762853984.java\n",
      "s023459751.java  s264840377.java  s505362817.java  s762929830.java\n",
      "s023633870.java  s265697569.java  s505371635.java  s764539165.java\n",
      "s024059122.java  s266328754.java  s505957374.java  s764869067.java\n",
      "s024442289.java  s266367162.java  s506858903.java  s764983334.java\n",
      "s025637532.java  s267220158.java  s506952397.java  s765589671.java\n",
      "s025721623.java  s267644785.java  s507597054.java  s765623562.java\n",
      "s026011016.java  s267749442.java  s508226955.java  s765754966.java\n",
      "s026201779.java  s268113773.java  s508784994.java  s766352660.java\n",
      "s026275119.java  s268232945.java  s508819933.java  s766410458.java\n",
      "s027801074.java  s268709545.java  s509927530.java  s766440882.java\n",
      "s027808561.java  s268815004.java  s510565207.java  s767179363.java\n",
      "s028973460.java  s268851167.java  s510958405.java  s767505278.java\n",
      "s030387087.java  s269564869.java  s511173398.java  s767736499.java\n",
      "s030461943.java  s269773056.java  s511606155.java  s768307168.java\n",
      "s030614729.java  s269885201.java  s513025227.java  s769196491.java\n",
      "s030622880.java  s271706111.java  s514208423.java  s769328074.java\n",
      "s031168959.java  s272287903.java  s514401909.java  s769765583.java\n",
      "s032075309.java  s272748374.java  s514876253.java  s769801929.java\n",
      "s032317377.java  s273015217.java  s515120146.java  s770030327.java\n",
      "s032348204.java  s273077950.java  s516241665.java  s770759011.java\n",
      "s032461967.java  s273281413.java  s516606147.java  s771190430.java\n",
      "s032787944.java  s273512035.java  s517709781.java  s771650677.java\n",
      "s033105149.java  s274010535.java  s518028583.java  s772370996.java\n",
      "s033930182.java  s274069417.java  s519320635.java  s772943445.java\n",
      "s034425567.java  s274199334.java  s519322357.java  s773160303.java\n",
      "s034748158.java  s274455291.java  s519879521.java  s773572067.java\n",
      "s035800541.java  s274970043.java  s520196378.java  s773625405.java\n",
      "s036534044.java  s275108426.java  s520546108.java  s774016062.java\n",
      "s037159633.java  s275110937.java  s520566178.java  s774176038.java\n",
      "s038143087.java  s276287149.java  s521018131.java  s774885800.java\n",
      "s038706311.java  s276553845.java  s521469160.java  s776426366.java\n",
      "s039065754.java  s276855302.java  s521785641.java  s776508222.java\n",
      "s039090425.java  s276920418.java  s522068689.java  s776902963.java\n",
      "s039630785.java  s277553951.java  s522626306.java  s777058867.java\n",
      "s039669103.java  s277653139.java  s522749541.java  s777529822.java\n",
      "s039780304.java  s277904806.java  s523179425.java  s777646475.java\n",
      "s040061825.java  s278407648.java  s524076021.java  s777854611.java\n",
      "s040401325.java  s278658288.java  s524189698.java  s777990384.java\n",
      "s040823445.java  s279992132.java  s524232943.java  s778213074.java\n",
      "s041313768.java  s280255958.java  s524286866.java  s778313804.java\n",
      "s041400907.java  s280523542.java  s524835605.java  s778845507.java\n",
      "s041406009.java  s281264564.java  s525642452.java  s778912554.java\n",
      "s041551787.java  s282192755.java  s525879889.java  s778959347.java\n",
      "s041766506.java  s282231593.java  s526125356.java  s779491740.java\n",
      "s043366360.java  s282599932.java  s526279066.java  s779598910.java\n",
      "s044025914.java  s282924576.java  s527847163.java  s780484070.java\n",
      "s044631307.java  s283548552.java  s528227267.java  s781791830.java\n",
      "s044928360.java  s283760936.java  s528378497.java  s782039389.java\n",
      "s045180220.java  s283788938.java  s529255974.java  s782359583.java\n",
      "s045275802.java  s284785710.java  s529270730.java  s784396377.java\n",
      "s045990999.java  s284955472.java  s529499278.java  s785059182.java\n",
      "s046891472.java  s285178852.java  s529986501.java  s787168368.java\n",
      "s046937745.java  s285478433.java  s530866366.java  s787934790.java\n",
      "s047544287.java  s285861458.java  s531403612.java  s788033896.java\n",
      "s047662360.java  s286624020.java  s531832257.java  s788275258.java\n",
      "s047909036.java  s286870870.java  s532361824.java  s789001252.java\n",
      "s048506598.java  s287798638.java  s533456050.java  s789188601.java\n",
      "s049477099.java  s288160970.java  s533509032.java  s789782214.java\n",
      "s049533385.java  s288509860.java  s533529798.java  s790780117.java\n",
      "s049915352.java  s288958237.java  s533580153.java  s790949880.java\n",
      "s050295706.java  s289179987.java  s534066998.java  s790955084.java\n",
      "s050566712.java  s289249718.java  s534516917.java  s791064304.java\n",
      "s051163399.java  s289493073.java  s534667910.java  s791249663.java\n",
      "s051656965.java  s289629225.java  s534826526.java  s791342188.java\n",
      "s051855791.java  s290233613.java  s534832479.java  s791677528.java\n",
      "s052211924.java  s290756014.java  s534954860.java  s793262114.java\n",
      "s052790874.java  s290881807.java  s535053804.java  s794147123.java\n",
      "s053550749.java  s290973115.java  s535516207.java  s794545146.java\n",
      "s053787425.java  s291016075.java  s535760479.java  s794945263.java\n",
      "s055464130.java  s291142015.java  s535954751.java  s795331315.java\n",
      "s055812001.java  s291460035.java  s536837367.java  s795488163.java\n",
      "s055886267.java  s291627548.java  s536861458.java  s796327300.java\n",
      "s055890698.java  s292698090.java  s536947232.java  s796414055.java\n",
      "s056357377.java  s292737138.java  s537462784.java  s796583751.java\n",
      "s057454059.java  s292766295.java  s538455232.java  s796696829.java\n",
      "s057530548.java  s294444781.java  s539350896.java  s797146466.java\n",
      "s057607323.java  s294934404.java  s539573047.java  s797733173.java\n",
      "s057777685.java  s294942323.java  s540183760.java  s798088529.java\n",
      "s058076279.java  s295063869.java  s541175467.java  s798832675.java\n",
      "s058246516.java  s295091196.java  s541211798.java  s799311227.java\n",
      "s059476458.java  s295251343.java  s541710290.java  s799314662.java\n",
      "s059766954.java  s295536380.java  s541868574.java  s801216153.java\n",
      "s059851824.java  s295626876.java  s542695809.java  s801450335.java\n",
      "s060195782.java  s296201143.java  s542776250.java  s802318661.java\n",
      "s060328728.java  s296222398.java  s542959511.java  s803509613.java\n",
      "s060695923.java  s297328510.java  s543381288.java  s803563664.java\n",
      "s061289979.java  s297533011.java  s543609301.java  s803575451.java\n",
      "s061320165.java  s297997515.java  s544186746.java  s803693776.java\n",
      "s061684507.java  s298953115.java  s544204173.java  s803723820.java\n",
      "s061875670.java  s299539204.java  s544271312.java  s803852177.java\n",
      "s062644917.java  s299624598.java  s544456360.java  s803950595.java\n",
      "s063305519.java  s301002196.java  s545651503.java  s804436303.java\n",
      "s063582493.java  s301206383.java  s545878896.java  s804784540.java\n",
      "s064109873.java  s301374371.java  s546129597.java  s804908260.java\n",
      "s064414224.java  s301854079.java  s547079199.java  s805017212.java\n",
      "s064689442.java  s302125804.java  s547100788.java  s805128904.java\n",
      "s065029393.java  s302445482.java  s547926350.java  s805393320.java\n",
      "s065679610.java  s302655999.java  s548013881.java  s805407893.java\n",
      "s065968414.java  s302822179.java  s549208369.java  s805505889.java\n",
      "s066204090.java  s302993698.java  s549252471.java  s805626391.java\n",
      "s066255656.java  s303054317.java  s549323694.java  s805743974.java\n",
      "s066353740.java  s304295767.java  s550416046.java  s805827627.java\n",
      "s066410897.java  s304448909.java  s550417211.java  s806953323.java\n",
      "s066649197.java  s305598117.java  s550463374.java  s807361209.java\n",
      "s066774995.java  s305865664.java  s550918666.java  s808270621.java\n",
      "s066865904.java  s306255982.java  s551012129.java  s808611996.java\n",
      "s066910083.java  s306893287.java  s551168439.java  s809407910.java\n",
      "s066930855.java  s307073789.java  s551436813.java  s809731757.java\n",
      "s067585592.java  s307101283.java  s551507931.java  s810050164.java\n",
      "s067909700.java  s307184485.java  s551509394.java  s810074068.java\n",
      "s067967761.java  s307721372.java  s554381362.java  s810354048.java\n",
      "s068215774.java  s308151747.java  s554706446.java  s811148789.java\n",
      "s068489853.java  s308444908.java  s554715404.java  s811813319.java\n",
      "s068995478.java  s308544303.java  s554776899.java  s811971694.java\n",
      "s069079850.java  s308593352.java  s555118066.java  s812068840.java\n",
      "s069095615.java  s308759741.java  s555791847.java  s813541963.java\n",
      "s069252802.java  s308789057.java  s556377500.java  s813708917.java\n",
      "s069290963.java  s308925480.java  s557006089.java  s813920605.java\n",
      "s069572890.java  s309108335.java  s557230228.java  s814292259.java\n",
      "s069803162.java  s309433971.java  s557411219.java  s814792247.java\n",
      "s069969885.java  s309643498.java  s558625059.java  s815178930.java\n",
      "s069992825.java  s310097234.java  s558925568.java  s815641245.java\n",
      "s070057278.java  s310815754.java  s559090645.java  s817091622.java\n",
      "s070178077.java  s310875308.java  s560458564.java  s817289406.java\n",
      "s070320854.java  s311444498.java  s560500555.java  s817446043.java\n",
      "s071768500.java  s311892540.java  s560593922.java  s817473401.java\n",
      "s072035741.java  s312139201.java  s560741140.java  s818023698.java\n",
      "s072036078.java  s313044922.java  s561954648.java  s819167546.java\n",
      "s072143411.java  s314528732.java  s562409734.java  s819344915.java\n",
      "s072429046.java  s314885150.java  s562518266.java  s819355743.java\n",
      "s072957708.java  s315006138.java  s563252329.java  s819774236.java\n",
      "s073168792.java  s315712252.java  s563708830.java  s819968528.java\n",
      "s073339128.java  s315724999.java  s563882168.java  s820252305.java\n",
      "s074532702.java  s315830158.java  s564980385.java  s820410080.java\n",
      "s075397390.java  s315963663.java  s565193269.java  s820435270.java\n",
      "s076114261.java  s316345481.java  s567130223.java  s820779791.java\n",
      "s076893295.java  s316426731.java  s568520802.java  s821416077.java\n",
      "s077459315.java  s316438255.java  s569103729.java  s822239655.java\n",
      "s078391605.java  s316696404.java  s569392831.java  s822576072.java\n",
      "s078793743.java  s316760085.java  s569397444.java  s824110698.java\n",
      "s079436295.java  s316952267.java  s569471374.java  s824657088.java\n",
      "s079850839.java  s317192011.java  s570508728.java  s825142898.java\n",
      "s080795834.java  s317223033.java  s570649977.java  s825352765.java\n",
      "s081969223.java  s317990604.java  s571017795.java  s826573523.java\n",
      "s084248027.java  s318054339.java  s571802593.java  s827020218.java\n",
      "s084294833.java  s318806847.java  s571909134.java  s827153565.java\n",
      "s084338953.java  s319032392.java  s571919843.java  s827242559.java\n",
      "s084464371.java  s319252106.java  s572037398.java  s828205997.java\n",
      "s084551415.java  s320611562.java  s572055608.java  s829341319.java\n",
      "s084923773.java  s320869452.java  s572269040.java  s829368500.java\n",
      "s086500073.java  s320876521.java  s572549557.java  s829536057.java\n",
      "s086647781.java  s320945438.java  s573280233.java  s829922573.java\n",
      "s087357568.java  s321024269.java  s573360094.java  s831346060.java\n",
      "s087700003.java  s321410271.java  s573735581.java  s831789304.java\n",
      "s089748350.java  s321492780.java  s573965413.java  s831991590.java\n",
      "s090212141.java  s321716974.java  s574114254.java  s832154862.java\n",
      "s090396887.java  s321933818.java  s575015365.java  s832489601.java\n",
      "s091486105.java  s322714608.java  s575334325.java  s832514209.java\n",
      "s091655221.java  s322753599.java  s576152765.java  s833981441.java\n",
      "s091691554.java  s323998790.java  s576182235.java  s834404805.java\n",
      "s092886691.java  s324963409.java  s576284076.java  s835131710.java\n",
      "s093208201.java  s326023326.java  s576719731.java  s835582383.java\n",
      "s093363169.java  s327016584.java  s577736807.java  s835697072.java\n",
      "s093562660.java  s327026844.java  s578199620.java  s835787431.java\n",
      "s093580290.java  s327082813.java  s578529552.java  s836025894.java\n",
      "s094016805.java  s328023541.java  s579535488.java  s836057609.java\n",
      "s094231868.java  s328634569.java  s579761189.java  s836199591.java\n",
      "s094843542.java  s329764269.java  s581181743.java  s837119257.java\n",
      "s095581857.java  s330825440.java  s581328887.java  s837552733.java\n",
      "s095720280.java  s332671713.java  s581862390.java  s838426806.java\n",
      "s095873335.java  s332923702.java  s582635151.java  s838540100.java\n",
      "s095956369.java  s333057216.java  s582826680.java  s838987905.java\n",
      "s096281262.java  s333567446.java  s583559686.java  s839199663.java\n",
      "s097357541.java  s333668940.java  s584270033.java  s839596032.java\n",
      "s097433160.java  s333971664.java  s585022199.java  s839912943.java\n",
      "s097880843.java  s335372595.java  s586303807.java  s840517498.java\n",
      "s098559940.java  s335497410.java  s586649749.java  s840854510.java\n",
      "s098603038.java  s336545739.java  s587007960.java  s841057899.java\n",
      "s098781108.java  s336592773.java  s587684657.java  s842376950.java\n",
      "s100838710.java  s337496757.java  s588682660.java  s843073691.java\n",
      "s101070989.java  s338182720.java  s590042562.java  s843825941.java\n",
      "s101419102.java  s338581500.java  s590372904.java  s844275465.java\n",
      "s101873748.java  s338737393.java  s590472179.java  s844852890.java\n",
      "s101901995.java  s338877114.java  s591342855.java  s845000402.java\n",
      "s102082037.java  s339081636.java  s592390597.java  s845144368.java\n",
      "s102393777.java  s339108607.java  s592404671.java  s845995922.java\n",
      "s102477004.java  s339258151.java  s592476970.java  s846020957.java\n",
      "s103959529.java  s339620551.java  s593333627.java  s846095191.java\n",
      "s104218020.java  s339853454.java  s593353649.java  s847551064.java\n",
      "s104506598.java  s340353971.java  s593457852.java  s848253937.java\n",
      "s104740192.java  s340524264.java  s594122358.java  s848421104.java\n",
      "s104954414.java  s340867446.java  s594329515.java  s848586602.java\n",
      "s105170168.java  s340905004.java  s595196790.java  s850036508.java\n",
      "s106996125.java  s341076465.java  s597069648.java  s851737033.java\n",
      "s107165087.java  s341351830.java  s597279686.java  s852110215.java\n",
      "s107175200.java  s341563342.java  s597612676.java  s852660806.java\n",
      "s108030434.java  s343135076.java  s598117079.java  s853049877.java\n",
      "s110458485.java  s343347808.java  s598498811.java  s854223313.java\n",
      "s111187567.java  s345967827.java  s598503239.java  s854232885.java\n",
      "s111384242.java  s346225008.java  s598656618.java  s854279978.java\n",
      "s111565203.java  s346330764.java  s599026478.java  s854553639.java\n",
      "s111729863.java  s347076383.java  s599197368.java  s854602969.java\n",
      "s112038728.java  s347394792.java  s600918233.java  s854661231.java\n",
      "s112169493.java  s348070904.java  s601197562.java  s855511521.java\n",
      "s112508684.java  s348471939.java  s602288525.java  s855579995.java\n",
      "s112532004.java  s349212383.java  s602665297.java  s855594355.java\n",
      "s113261548.java  s350137639.java  s602693174.java  s855701262.java\n",
      "s113422222.java  s350623459.java  s602715715.java  s856052051.java\n",
      "s115604131.java  s351221838.java  s604094264.java  s856260802.java\n",
      "s115720575.java  s351420076.java  s604707454.java  s857139125.java\n",
      "s116748173.java  s351445433.java  s605485080.java  s857815419.java\n",
      "s117543200.java  s351631422.java  s605671877.java  s858340840.java\n",
      "s118296947.java  s351985384.java  s606218120.java  s858398360.java\n",
      "s118323784.java  s352364112.java  s606573545.java  s858415454.java\n",
      "s118946640.java  s352893374.java  s606722725.java  s858431866.java\n",
      "s118997385.java  s353138418.java  s607173981.java  s859246519.java\n",
      "s119258784.java  s353275115.java  s607585343.java  s859260166.java\n",
      "s119333311.java  s353800412.java  s607771627.java  s859401202.java\n",
      "s119487958.java  s354058629.java  s608208866.java  s860071483.java\n",
      "s119512985.java  s354088632.java  s609327640.java  s860181861.java\n",
      "s119970035.java  s355036457.java  s609331311.java  s860184059.java\n",
      "s120483548.java  s355458666.java  s609720560.java  s860377158.java\n",
      "s120705028.java  s355711917.java  s610010719.java  s860588733.java\n",
      "s120999725.java  s355791233.java  s610339672.java  s860697168.java\n",
      "s121089433.java  s355922267.java  s610397606.java  s861240460.java\n",
      "s121361985.java  s356471160.java  s611841687.java  s861304913.java\n",
      "s121616551.java  s356485856.java  s612011510.java  s861387705.java\n",
      "s121969959.java  s357982069.java  s612114412.java  s862826297.java\n",
      "s121982751.java  s358023975.java  s612148630.java  s863124581.java\n",
      "s122057478.java  s358123941.java  s612546361.java  s863989920.java\n",
      "s122140067.java  s358726581.java  s612961914.java  s865010776.java\n",
      "s122529235.java  s359401719.java  s613228337.java  s865077365.java\n",
      "s123619416.java  s359820380.java  s613343337.java  s865319938.java\n",
      "s124114953.java  s360691563.java  s614051919.java  s865600985.java\n",
      "s125428163.java  s361204929.java  s614111787.java  s865730254.java\n",
      "s126639169.java  s362010886.java  s614539583.java  s865833362.java\n",
      "s127194031.java  s362346230.java  s615055978.java  s865998059.java\n",
      "s127277314.java  s362627348.java  s615194568.java  s866641217.java\n",
      "s127958150.java  s364412935.java  s615446567.java  s866772669.java\n",
      "s128421148.java  s364788078.java  s615718778.java  s868619258.java\n",
      "s128656175.java  s365133119.java  s616151234.java  s868679863.java\n",
      "s128832216.java  s365194604.java  s616190674.java  s868758397.java\n",
      "s128978287.java  s365218627.java  s616381382.java  s868775906.java\n",
      "s128997494.java  s365609196.java  s617807450.java  s869221762.java\n",
      "s130830539.java  s366247890.java  s617988617.java  s869557204.java\n",
      "s130886261.java  s366634049.java  s618814516.java  s870678985.java\n",
      "s131222668.java  s367360571.java  s620709017.java  s870736956.java\n",
      "s131378910.java  s369031703.java  s620769302.java  s871140675.java\n",
      "s131648485.java  s369314747.java  s620937927.java  s871789940.java\n",
      "s131677769.java  s370065891.java  s621145419.java  s872046215.java\n",
      "s131711760.java  s370103362.java  s621376271.java  s873387645.java\n",
      "s131852522.java  s370806726.java  s621935197.java  s873717471.java\n",
      "s131858993.java  s371012795.java  s622157473.java  s874016263.java\n",
      "s132279687.java  s372060332.java  s622302486.java  s874135721.java\n",
      "s132599328.java  s372343434.java  s622780199.java  s874208207.java\n",
      "s133009419.java  s372508215.java  s623023554.java  s875772459.java\n",
      "s133255632.java  s372852429.java  s623123862.java  s876429547.java\n",
      "s133685119.java  s373221012.java  s623662226.java  s878264784.java\n",
      "s133800095.java  s374681224.java  s623715365.java  s878578293.java\n",
      "s134790558.java  s374863808.java  s623741653.java  s878864277.java\n",
      "s135183921.java  s377173381.java  s623745437.java  s879236807.java\n",
      "s136519219.java  s377522963.java  s623797710.java  s879402947.java\n",
      "s137664131.java  s377720900.java  s624407470.java  s879484745.java\n",
      "s137757956.java  s378147544.java  s625075565.java  s879770880.java\n",
      "s137875120.java  s380546484.java  s625156341.java  s881316917.java\n",
      "s138242695.java  s380919357.java  s626094398.java  s881991466.java\n",
      "s138444619.java  s381501895.java  s626836373.java  s882654877.java\n",
      "s139257959.java  s381708034.java  s627682700.java  s882883207.java\n",
      "s139650265.java  s382037583.java  s627745733.java  s882897079.java\n",
      "s140137373.java  s382293375.java  s627978835.java  s883626624.java\n",
      "s140153422.java  s382556282.java  s628390019.java  s883655757.java\n",
      "s140249693.java  s383267491.java  s629283368.java  s884002790.java\n",
      "s141298924.java  s383512326.java  s629811714.java  s884098591.java\n",
      "s141401185.java  s383636786.java  s629962911.java  s884121717.java\n",
      "s142257610.java  s383808914.java  s630687956.java  s884711971.java\n",
      "s142453891.java  s383813439.java  s631817160.java  s884831223.java\n",
      "s142908595.java  s384374641.java  s632258007.java  s886215536.java\n",
      "s142920678.java  s385729220.java  s632442046.java  s886250594.java\n",
      "s143009839.java  s386131535.java  s632778683.java  s887055344.java\n",
      "s143191749.java  s386241528.java  s632860728.java  s887283861.java\n",
      "s144388191.java  s386252848.java  s633153050.java  s887431167.java\n",
      "s144424189.java  s386314108.java  s633605093.java  s887884947.java\n",
      "s144762405.java  s386661108.java  s633849865.java  s888149526.java\n",
      "s146374132.java  s386816565.java  s634096829.java  s888445497.java\n",
      "s147911278.java  s387184584.java  s634573518.java  s888676176.java\n",
      "s148020574.java  s387440366.java  s634737557.java  s888794070.java\n",
      "s148737167.java  s387888349.java  s634772653.java  s888840980.java\n",
      "s148825393.java  s388210626.java  s635163092.java  s888894829.java\n",
      "s149279128.java  s388227089.java  s636561050.java  s888957618.java\n",
      "s149288887.java  s388379449.java  s636968980.java  s889800742.java\n",
      "s149965434.java  s388626668.java  s636974968.java  s890124211.java\n",
      "s150256181.java  s388804019.java  s636976389.java  s890162936.java\n",
      "s150260670.java  s389035866.java  s637259661.java  s891055742.java\n",
      "s150642780.java  s389409090.java  s637645434.java  s891110185.java\n",
      "s150725975.java  s389871180.java  s637699575.java  s891415458.java\n",
      "s150863522.java  s389975352.java  s637979811.java  s892818191.java\n",
      "s151024787.java  s390083780.java  s638171817.java  s893099108.java\n",
      "s151235863.java  s390566460.java  s638846077.java  s893753462.java\n",
      "s151494822.java  s390724372.java  s638978512.java  s894059854.java\n",
      "s151687968.java  s391442685.java  s639316900.java  s894513969.java\n",
      "s151716265.java  s391548306.java  s639395017.java  s894556520.java\n",
      "s152798749.java  s391775417.java  s639762442.java  s895536294.java\n",
      "s153134173.java  s392081681.java  s640003819.java  s895781395.java\n",
      "s153284006.java  s392802271.java  s640527215.java  s896003285.java\n",
      "s153542793.java  s393096552.java  s640939556.java  s897111531.java\n",
      "s153553400.java  s393253018.java  s641688704.java  s897164795.java\n",
      "s153685003.java  s393721255.java  s642609310.java  s897603116.java\n",
      "s153712175.java  s394148632.java  s643751287.java  s897679997.java\n",
      "s153802323.java  s394462049.java  s644019170.java  s898010584.java\n",
      "s154236072.java  s395154140.java  s644953396.java  s898015760.java\n",
      "s155021552.java  s395637096.java  s645132823.java  s898202348.java\n",
      "s155052148.java  s395745695.java  s645171637.java  s898406365.java\n",
      "s155247299.java  s396077783.java  s645234812.java  s898580767.java\n",
      "s155327797.java  s397233337.java  s645459634.java  s898748097.java\n",
      "s155617816.java  s397811863.java  s645573378.java  s899006127.java\n",
      "s155633283.java  s398164194.java  s645665337.java  s899294803.java\n",
      "s155725036.java  s399452809.java  s645868379.java  s899576087.java\n",
      "s155969091.java  s399612415.java  s646304257.java  s900546551.java\n",
      "s156205285.java  s400635707.java  s646666063.java  s900708161.java\n",
      "s156523057.java  s400684579.java  s646700910.java  s900806268.java\n",
      "s156609835.java  s400739803.java  s647015144.java  s900980866.java\n",
      "s156953673.java  s400979996.java  s647058773.java  s900995986.java\n",
      "s157164648.java  s402050335.java  s647125537.java  s901210516.java\n",
      "s157238405.java  s403289166.java  s649413439.java  s901250274.java\n",
      "s157603770.java  s403703389.java  s649529335.java  s901523278.java\n",
      "s157896715.java  s404280734.java  s650706712.java  s902331753.java\n",
      "s158312055.java  s404437770.java  s650749985.java  s902374766.java\n",
      "s159256408.java  s404535827.java  s651043225.java  s902543401.java\n",
      "s159456688.java  s405258455.java  s651644004.java  s903005401.java\n",
      "s160252431.java  s405752780.java  s652619955.java  s903097666.java\n",
      "s161100466.java  s406668105.java  s656012151.java  s903871938.java\n",
      "s161105547.java  s406853164.java  s656271727.java  s904424608.java\n",
      "s161180383.java  s406991048.java  s656494533.java  s904782763.java\n",
      "s161896873.java  s407121555.java  s656688873.java  s905868466.java\n",
      "s162722953.java  s407342785.java  s657871695.java  s906113882.java\n",
      "s162964632.java  s407523894.java  s658279479.java  s906287465.java\n",
      "s163224865.java  s408521249.java  s658828210.java  s906948727.java\n",
      "s163266334.java  s408771794.java  s659817360.java  s908118502.java\n",
      "s163797594.java  s409161636.java  s660219075.java  s908534446.java\n",
      "s164421662.java  s409499086.java  s661324621.java  s908940934.java\n",
      "s165160979.java  s409962609.java  s661354089.java  s909360349.java\n",
      "s165181570.java  s410119930.java  s661438904.java  s910212079.java\n",
      "s166325617.java  s410655409.java  s661599329.java  s910766497.java\n",
      "s167095834.java  s411119403.java  s662275913.java  s910774047.java\n",
      "s167417244.java  s411589247.java  s662962015.java  s911798365.java\n",
      "s168028157.java  s411592191.java  s663453467.java  s912493307.java\n",
      "s168122412.java  s412110902.java  s664373693.java  s913450635.java\n",
      "s168341502.java  s412433989.java  s665419270.java  s913514836.java\n",
      "s168413546.java  s412547423.java  s666017310.java  s913951601.java\n",
      "s168517694.java  s412844447.java  s666172489.java  s914286704.java\n",
      "s169071120.java  s413745393.java  s666926648.java  s914773261.java\n",
      "s169094868.java  s413820953.java  s666949199.java  s915122046.java\n",
      "s169177343.java  s413977877.java  s667764133.java  s917095438.java\n",
      "s169273689.java  s414085775.java  s667884096.java  s917701804.java\n",
      "s171116103.java  s414665795.java  s668166155.java  s917941293.java\n",
      "s171174577.java  s414749948.java  s668878495.java  s918156948.java\n",
      "s171870699.java  s415075656.java  s670243835.java  s918551948.java\n",
      "s172099361.java  s415121965.java  s670836518.java  s919254403.java\n",
      "s172187660.java  s415167693.java  s670952426.java  s919813616.java\n",
      "s172894594.java  s416810927.java  s671415679.java  s919945668.java\n",
      "s173058134.java  s417279356.java  s671845046.java  s920510373.java\n",
      "s173908223.java  s417497819.java  s672063791.java  s920635687.java\n",
      "s174875589.java  s418249975.java  s673785620.java  s920717980.java\n",
      "s175200373.java  s418682949.java  s674563281.java  s920969890.java\n",
      "s175532093.java  s419225951.java  s674566148.java  s921432572.java\n",
      "s175886212.java  s419351196.java  s674657739.java  s921754636.java\n",
      "s176103154.java  s419730274.java  s675839833.java  s922125691.java\n",
      "s176473475.java  s420390065.java  s676681400.java  s922175833.java\n",
      "s176569425.java  s420454303.java  s676847477.java  s923195837.java\n",
      "s177094556.java  s420743569.java  s677155067.java  s923359752.java\n",
      "s177238440.java  s421718004.java  s678216681.java  s923512588.java\n",
      "s177389386.java  s423051630.java  s678867289.java  s924154256.java\n",
      "s177689167.java  s423167090.java  s679609700.java  s927945155.java\n",
      "s177778655.java  s423681147.java  s679743997.java  s928276831.java\n",
      "s178084117.java  s423863909.java  s679889807.java  s928629956.java\n",
      "s178373020.java  s424093660.java  s680208652.java  s928766316.java\n",
      "s179370961.java  s424727721.java  s680612420.java  s928804439.java\n",
      "s179547420.java  s425621655.java  s680943402.java  s931324755.java\n",
      "s179675359.java  s425684997.java  s681861459.java  s931597290.java\n",
      "s180049766.java  s425942592.java  s682277308.java  s931817989.java\n",
      "s180450787.java  s426148852.java  s682478470.java  s932727037.java\n",
      "s180882241.java  s426466927.java  s684086310.java  s932813752.java\n",
      "s181987768.java  s426563013.java  s684545929.java  s933973268.java\n",
      "s183152296.java  s427566405.java  s685724371.java  s934052711.java\n",
      "s183379064.java  s427704378.java  s687028277.java  s934498465.java\n",
      "s183872704.java  s428163085.java  s687623758.java  s934556327.java\n",
      "s184092247.java  s429015822.java  s687714528.java  s934926370.java\n",
      "s184138019.java  s429026537.java  s687911842.java  s936021681.java\n",
      "s184220118.java  s429259174.java  s688279169.java  s936120961.java\n",
      "s184556734.java  s429546979.java  s688608769.java  s936744661.java\n",
      "s184682432.java  s430700244.java  s689423358.java  s936846039.java\n",
      "s185044090.java  s431358135.java  s689814624.java  s937291019.java\n",
      "s185057099.java  s431409762.java  s690306888.java  s938830435.java\n",
      "s185194187.java  s431796993.java  s690601040.java  s938921159.java\n",
      "s185231960.java  s432394609.java  s690773308.java  s939067192.java\n",
      "s185348266.java  s432835797.java  s690908806.java  s939513522.java\n",
      "s185455492.java  s434269319.java  s692258986.java  s939653424.java\n",
      "s185765050.java  s434415863.java  s692364017.java  s939895088.java\n",
      "s185938130.java  s434825457.java  s692516804.java  s940118997.java\n",
      "s186110459.java  s434851194.java  s692666266.java  s940346050.java\n",
      "s186279120.java  s435360338.java  s692763284.java  s940353026.java\n",
      "s186432553.java  s435553866.java  s692906190.java  s940607992.java\n",
      "s186539076.java  s435562957.java  s693267945.java  s941122212.java\n",
      "s186975249.java  s435804355.java  s693389014.java  s941858794.java\n",
      "s187231532.java  s435899229.java  s693563232.java  s942969262.java\n",
      "s187410845.java  s436370377.java  s694005624.java  s943749075.java\n",
      "s187421365.java  s436470756.java  s694828156.java  s943923874.java\n",
      "s187706757.java  s436565380.java  s695185011.java  s944226983.java\n",
      "s187753917.java  s436685957.java  s696075405.java  s944300939.java\n",
      "s189933970.java  s436782701.java  s696125224.java  s944363627.java\n",
      "s190383519.java  s436927179.java  s696449786.java  s945460353.java\n",
      "s191938759.java  s437217088.java  s696634150.java  s946087597.java\n",
      "s192703968.java  s437539646.java  s697671064.java  s946106523.java\n",
      "s193362960.java  s438521490.java  s697742449.java  s946237956.java\n",
      "s193507844.java  s439120302.java  s697801844.java  s946609024.java\n",
      "s194119583.java  s439180786.java  s698243269.java  s947164894.java\n",
      "s194366054.java  s440441854.java  s698415850.java  s947911344.java\n",
      "s194718789.java  s441486828.java  s698501462.java  s948384359.java\n",
      "s194824994.java  s441499103.java  s698870860.java  s948599065.java\n",
      "s194867742.java  s441683642.java  s699086198.java  s948675705.java\n",
      "s195150587.java  s441897168.java  s699582969.java  s949586287.java\n",
      "s195276501.java  s442318759.java  s699842467.java  s950846917.java\n",
      "s195720108.java  s442723529.java  s699850287.java  s951722142.java\n",
      "s195862272.java  s442981968.java  s701780496.java  s951734288.java\n",
      "s195931581.java  s443233590.java  s702288740.java  s951834559.java\n",
      "s196022562.java  s443277665.java  s702799802.java  s952682231.java\n",
      "s196421317.java  s444409305.java  s702868489.java  s953231998.java\n",
      "s198900447.java  s444575797.java  s703167247.java  s953314877.java\n",
      "s199011125.java  s444720633.java  s703937358.java  s954413057.java\n",
      "s199100990.java  s444798223.java  s704511494.java  s954647366.java\n",
      "s199130467.java  s444828482.java  s705075033.java  s954721322.java\n",
      "s199423968.java  s445809175.java  s705077162.java  s955372506.java\n",
      "s201113553.java  s446308301.java  s706047436.java  s956666161.java\n",
      "s201355285.java  s446449234.java  s706088153.java  s957465666.java\n",
      "s202685846.java  s446721383.java  s707300724.java  s958976409.java\n",
      "s202910375.java  s447414722.java  s708393607.java  s959134908.java\n",
      "s203240121.java  s447900288.java  s708652106.java  s959157811.java\n",
      "s203962154.java  s449241136.java  s710065229.java  s960052791.java\n",
      "s204088202.java  s449960219.java  s710265537.java  s960788544.java\n",
      "s204299821.java  s450004432.java  s711593843.java  s960955476.java\n",
      "s205297628.java  s450490945.java  s711631985.java  s961014462.java\n",
      "s206173952.java  s450721498.java  s713284906.java  s962156746.java\n",
      "s207038663.java  s451277808.java  s713738401.java  s962389546.java\n",
      "s207076315.java  s451310079.java  s713987473.java  s962710384.java\n",
      "s207098842.java  s451970166.java  s714117914.java  s962714111.java\n",
      "s207232010.java  s451972765.java  s714540309.java  s962901191.java\n",
      "s207597785.java  s453373261.java  s714677956.java  s963263244.java\n",
      "s207850074.java  s453492250.java  s715473734.java  s964093693.java\n",
      "s209523506.java  s453540047.java  s716097592.java  s964282289.java\n",
      "s209827622.java  s453893448.java  s716437216.java  s964300727.java\n",
      "s210412512.java  s454072400.java  s716467667.java  s964487567.java\n",
      "s211057225.java  s454929809.java  s717061244.java  s965032382.java\n",
      "s211084142.java  s456811103.java  s717456764.java  s965960543.java\n",
      "s211135628.java  s457009421.java  s717693620.java  s967545787.java\n",
      "s211792258.java  s457536407.java  s717711908.java  s967934602.java\n",
      "s214007082.java  s457997357.java  s718241515.java  s967971119.java\n",
      "s214205317.java  s459119204.java  s718635946.java  s968207225.java\n",
      "s214237925.java  s459372053.java  s718830771.java  s968674287.java\n",
      "s214628271.java  s459717754.java  s718974402.java  s968961558.java\n",
      "s214972270.java  s460627341.java  s718984061.java  s969125296.java\n",
      "s215336168.java  s460691303.java  s719818395.java  s969704207.java\n",
      "s215385394.java  s460879620.java  s720243318.java  s969845179.java\n",
      "s215539422.java  s461322197.java  s720337658.java  s970123950.java\n",
      "s216019823.java  s461800790.java  s720347849.java  s971435692.java\n",
      "s217727169.java  s462008943.java  s721495015.java  s971833596.java\n",
      "s217972924.java  s462451767.java  s722272672.java  s972025037.java\n",
      "s218244109.java  s462597224.java  s722533091.java  s972485836.java\n",
      "s218377354.java  s462768512.java  s722861468.java  s973039896.java\n",
      "s218553889.java  s462912236.java  s722968742.java  s974236912.java\n",
      "s218988288.java  s463089739.java  s723437407.java  s974238420.java\n",
      "s219345309.java  s463142105.java  s724336071.java  s974799488.java\n",
      "s219539234.java  s464781257.java  s724674611.java  s976335656.java\n",
      "s219633528.java  s465321541.java  s724794511.java  s976915776.java\n",
      "s221794548.java  s465784931.java  s726006574.java  s977036051.java\n",
      "s222598588.java  s466371514.java  s726428763.java  s978028353.java\n",
      "s223041278.java  s466464110.java  s726546349.java  s978236528.java\n",
      "s223271385.java  s466961242.java  s726710637.java  s978539001.java\n",
      "s223370138.java  s467065376.java  s726843756.java  s978993888.java\n",
      "s224278752.java  s467306596.java  s726946006.java  s979230181.java\n",
      "s224354254.java  s467734725.java  s727134939.java  s980176164.java\n",
      "s224802810.java  s468117638.java  s728690174.java  s980808277.java\n",
      "s225276026.java  s468178824.java  s728826484.java  s980839574.java\n",
      "s225561705.java  s468727267.java  s730159767.java  s981267244.java\n",
      "s226411189.java  s469375889.java  s731307020.java  s981712362.java\n",
      "s226767223.java  s469648970.java  s732167631.java  s981811955.java\n",
      "s226804758.java  s469743351.java  s732334750.java  s982569687.java\n",
      "s227004947.java  s470089637.java  s732630344.java  s983306076.java\n",
      "s227384513.java  s470990867.java  s733756595.java  s983324586.java\n",
      "s227440750.java  s471668101.java  s733784960.java  s983389428.java\n",
      "s228523501.java  s471742374.java  s733924019.java  s983639239.java\n",
      "s228648348.java  s471860927.java  s734127550.java  s983801621.java\n",
      "s229120626.java  s472959435.java  s734601671.java  s984036453.java\n",
      "s229412495.java  s474251980.java  s734993365.java  s984232798.java\n",
      "s229680843.java  s474253287.java  s735066674.java  s984547409.java\n",
      "s229896690.java  s474553919.java  s735553252.java  s984575045.java\n",
      "s229999651.java  s474591594.java  s735625470.java  s985036932.java\n",
      "s230028572.java  s474706770.java  s735833540.java  s986118014.java\n",
      "s230683783.java  s475357435.java  s736231894.java  s986253036.java\n",
      "s230900349.java  s476137918.java  s737056262.java  s986488312.java\n",
      "s230999094.java  s476688849.java  s737071609.java  s988316142.java\n",
      "s231516813.java  s476741775.java  s737163099.java  s988326090.java\n",
      "s231634459.java  s476908363.java  s737823629.java  s990915889.java\n",
      "s231685354.java  s477103724.java  s738163611.java  s991193163.java\n",
      "s232336045.java  s477339605.java  s739866997.java  s991259194.java\n",
      "s233372423.java  s477764837.java  s739890263.java  s991292549.java\n",
      "s234010310.java  s478838940.java  s740290524.java  s991449941.java\n",
      "s235290075.java  s479406695.java  s740559078.java  s992266589.java\n",
      "s235494024.java  s479602842.java  s740998261.java  s992339085.java\n",
      "s236158203.java  s479762616.java  s741233225.java  s992560272.java\n",
      "s236433424.java  s479843122.java  s741630792.java  s993319780.java\n",
      "s236483928.java  s480286665.java  s741861900.java  s993521227.java\n",
      "s236819234.java  s480350544.java  s741988804.java  s994484582.java\n",
      "s236919748.java  s481497143.java  s742179912.java  s995072593.java\n",
      "s236932626.java  s481513952.java  s742282574.java  s995155638.java\n",
      "s237590409.java  s481732476.java  s742892507.java  s995420644.java\n",
      "s237720198.java  s482733380.java  s743019983.java  s995441813.java\n",
      "s238790803.java  s483322168.java  s743114099.java  s996000475.java\n",
      "s238893201.java  s483374912.java  s743323492.java  s996381105.java\n",
      "s239896824.java  s484034763.java  s743374133.java  s996890924.java\n",
      "s240106084.java  s484702805.java  s743730970.java  s997245769.java\n",
      "s240201974.java  s486845729.java  s744197903.java  s998241067.java\n",
      "s240564640.java  s487735886.java  s745251366.java  s998535259.java\n",
      "s240651807.java  s487907914.java  s745610896.java  s998687002.java\n",
      "s242380543.java  s488809496.java  s746111375.java  s999050456.java\n",
      "s242556258.java  s488904123.java  s746557524.java  s999144016.java\n",
      "s243386806.java  s489081762.java  s746929709.java  s999607530.java\n",
      "s243522572.java  s489284664.java  s747037434.java  s999803346.java\n",
      "s243930522.java  s489324667.java  s747763485.java\n"
     ]
    }
   ],
   "source": [
    "!ls ../Project_CodeNet/data/p00000/Java"
   ]
  },
  {
   "cell_type": "code",
   "execution_count": null,
   "metadata": {},
   "outputs": [],
   "source": [
    "cnt = 0\n",
    "for user in submissions:\n",
    "    for problem in submissions[user]:\n",
    "        cnt+=len(submissions[user][problem])"
   ]
  },
  {
   "cell_type": "code",
   "execution_count": 1,
   "metadata": {},
   "outputs": [],
   "source": [
    "from glob import glob\n",
    "import pandas as pd\n",
    "import matplotlib.pyplot as plt\n",
    "import json\n",
    "from joblib import Parallel, delayed, parallel_backend\n",
    "from multiprocessing import Process, Lock\n",
    "from tqdm import tqdm\n",
    "\n",
    "import json\n",
    "def getJsonData(JsonFile):\n",
    "    with open(JsonFile, encoding=\"utf8\") as f:\n",
    "        data = json.load(f)\n",
    "    return data\n",
    "    "
   ]
  },
  {
   "cell_type": "code",
   "execution_count": 2,
   "metadata": {},
   "outputs": [
    {
     "name": "stdout",
     "output_type": "stream",
     "text": [
      "\u001b[0m\u001b[01;34mcached_data\u001b[0m/          evaluation.log             result.txt   test.output\n",
      "\u001b[01;34mcheckpoint-best-ppl\u001b[0m/  generation_evaluation.log  summary.log  test.src\n",
      "\u001b[01;34mcheckpoint-last\u001b[0m/      generation.json            test.gold    training.log\n"
     ]
    }
   ],
   "source": []
  },
  {
   "cell_type": "code",
   "execution_count": 3,
   "metadata": {},
   "outputs": [],
   "source": [
    "data = getJsonData('../codet5/codenet/java2java/generation.json')"
   ]
  },
  {
   "cell_type": "code",
   "execution_count": 4,
   "metadata": {},
   "outputs": [
    {
     "data": {
      "text/plain": [
       "500"
      ]
     },
     "execution_count": 4,
     "metadata": {},
     "output_type": "execute_result"
    }
   ],
   "source": [
    "len(data)"
   ]
  },
  {
   "cell_type": "code",
   "execution_count": 6,
   "metadata": {},
   "outputs": [
    {
     "data": {
      "text/plain": [
       "{'idx': 499,\n",
       " 'tgt': 'import java . util . Arrays ; import java . util . Scanner ; public class Main { public static void main ( String [ ] args ) { try ( Scanner sc = new Scanner ( System . in ) ; ) { new Main ( ) . solve ( sc ) ; } } void solve ( Scanner sc ) { int n = sc . nextInt ( ) ; Point [ ] ps = new Point [ n ] ; for ( int i = 0 ; i < n ; i ++ ) { long x = sc . nextLong ( ) ; long y = sc . nextLong ( ) ; long h = sc . nextLong ( ) ; if ( h == 100 ) { System . out . printf ( \" % d ▁ % d ▁ % d % n \" , x , y , h ) ; return ; } ps [ i ] = new Point ( x , y , h ) ; } Arrays . sort ( ps , ( x , y ) -> { if ( y . h == x . h ) { return 0 ; } else if ( y . h > x . h ) { return 1 ; } return - 1 ; } ) ; for ( int x = 0 ; x <= 100 ; x ++ ) { for ( int y = 0 ; y <= 100 ; y ++ ) { long h = ps [ 0 ] . h + Math . abs ( ps [ 0 ] . x - x ) + Math . abs ( ps [ 0 ] . y - y ) ; for ( int k = 0 ; k < n ; k ++ ) { long h1 = Math . max ( h - Math . abs ( ps [ k ] . x - x ) - Math . abs ( ps [ k ] . y - y ) , 0 ) ; if ( ps [ k ] . h != h1 ) { break ; } else if ( k == n - 1 ) { System . out . printf ( \" % d ▁ % d ▁ % d % n \" , x , y , h ) ; } } } } } } class Point { long x ; long y ; long h ; Point ( long x , long y , long h ) { this . x = x ; this . y = y ; this . h = h ; } }',\n",
       " 'tgt_id': 'p03240_s094913361_p03240_s878335176',\n",
       " 'src': 'import java . io . BufferedReader ; import java . io . Closeable ; import java . io . IOException ; import java . io . InputStream ; import java . io . InputStreamReader ; import java . io . PrintWriter ; import java . util . Set ; import java . util . HashSet ; public class Main { public static void main ( String [ ] args ) throws IOException { try ( InputReader reader = new InputReader ( System . in ) ) { solve ( reader ) ; } } private static void solve ( InputReader reader ) throws IOException { int n = reader . readInt ( ) ; Point [ ] points = new Point [ n ] ; for ( int i = 0 ; i < n ; i ++ ) { int [ ] p = reader . readIntsSplitByDelimiter ( \" ▁ \" ) ; points [ i ] = new Point ( p [ 0 ] , p [ 1 ] , p [ 2 ] ) ; if ( p [ 2 ] == 100 ) { System . out . printf ( \" % d ▁ % d ▁ % d % n \" , p [ 0 ] , p [ 1 ] , p [ 2 ] ) ; return ; ; } } for ( int i = 0 ; i <= 100 ; i ++ ) { for ( int j = 0 ; j <= 100 ; j ++ ) { boolean ok = true ; long h = - 1 ; for ( int k = 0 ; k < n ; k ++ ) { if ( points [ k ] . h <= 0 ) { continue ; } long tmp = points [ k ] . h + Math . abs ( points [ k ] . x - i ) + Math . abs ( points [ k ] . y - j ) ; if ( h == - 1 ) { h = tmp ; } if ( h != tmp ) { ok = false ; break ; } } if ( ok ) { System . out . printf ( \" % d ▁ % d ▁ % d % n \" , i , j , h ) ; return ; } } } } } class Point { public int x ; public int y ; public long h ; Point ( int x , int y , long h ) { this . x = x ; this . y = y ; this . h = h ; } } class Util { static int gcd ( int m , int n ) { int min = Math . min ( m , n ) ; int max = Math . max ( m , n ) ; while ( min != 0 ) { int tmp = min ; min = max % tmp ; max = tmp ; } return max ; } static int lcm ( int m , int n ) { return m / gcd ( m , n ) * n ; } } class InputReader implements Closeable , AutoCloseable { private final BufferedReader br ; InputReader ( InputStream inputStream ) { this . br = new BufferedReader ( new InputStreamReader ( inputStream ) ) ; } String readLine ( ) throws IOException { return this . br . readLine ( ) ; } int readInt ( ) throws IOException { return Integer . parseInt ( this . readLine ( ) ) ; } long readLong ( ) throws IOException { return Long . parseLong ( this . readLine ( ) ) ; } double readDouble ( ) throws IOException { return Double . parseDouble ( this . readLine ( ) ) ; } String [ ] readStringsSplitByDelimiter ( String delimiter ) throws IOException { return this . readLine ( ) . split ( delimiter ) ; } int [ ] readIntsSplitByDelimiter ( String delimiter ) throws IOException { String [ ] strings = this . readStringsSplitByDelimiter ( delimiter ) ; int stringsLength = strings . length ; int [ ] ints = new int [ stringsLength ] ; for ( int i = 0 ; i < stringsLength ; i ++ ) { ints [ i ] = Integer . parseInt ( strings [ i ] ) ; } return ints ; } long [ ] readLongsSplitByDelimiter ( String delimiter ) throws IOException { String [ ] strings = this . readStringsSplitByDelimiter ( delimiter ) ; int stringsLength = strings . length ; long [ ] longs = new long [ stringsLength ] ; for ( int i = 0 ; i < stringsLength ; i ++ ) { longs [ i ] = Long . parseLong ( strings [ i ] ) ; } return longs ; } double [ ] readDoublesSplitByDelimiter ( String delimiter ) throws IOException { String [ ] strings = this . readStringsSplitByDelimiter ( delimiter ) ; int stringsLength = strings . length ; double [ ] doubles = new double [ stringsLength ] ; for ( int i = 0 ; i < stringsLength ; i ++ ) { doubles [ i ] = Double . parseDouble ( strings [ i ] ) ; } return doubles ; } @ Override public void close ( ) throws IOException { this . br . close ( ) ; } }',\n",
       " 'generations': ['import java . io . BufferedReader ; import java . io . Closeable ; import java . io . IOException ; import java . io . InputStream ; import java . io . InputStreamReader ; import java . io . PrintWriter ; import java . util . Set ; import java . util . HashSet ; public class Main { public static void main ( String [ ] args ) throws IOException { try ( InputReader reader = new InputReader ( System . in ) ) { solve ( reader ) ; } } private static void solve ( InputReader reader ) throws IOException { int n = reader . readInt ( ) ; Point [ ] points = new Point [ n ] ; for ( int i = 0 ; i < n ; i ++ ) { int [ ] p = reader . readIntsSplitByDelimiter ( \" ▁ \" ) ; points [ i ] = new Point ( p [ 0 ] , p [ 1 ] , p [ 2 ] ) ; if ( p [ 2 ] == 100 ) { System . out . printf ( \" % d ▁ % d ▁ % d % n \" , p [ 0 ] , p [ 1 ] , p [ 2 ] ) ; return ; } } for ( int i = 0 ; i <= 100 ; i ++ ) { for ( int j = 0 ; j <= 100 ; j ++ ) { boolean ok = true ; long h = - 1 ; for ( int k = 0 ; k < n ; k ++ ) { if ( points [ k ] . h <= 0 ) { continue ; } long tmp = points [ k ] . h + Math . abs ( points [ k ] . x - i ) + Math . abs ( points [ k ] . y - j ) ; if ( h == - 1 ) { h = tmp ; } if ( h != tmp ) { ok = false ; break ; } } if ( ok ) { System . out . printf ( \" % d ▁ % d ▁ % d % n \" , i , j , h ) ; return ; } } } } } class Point { public int x ; public int y ; public long h ; Point ( int x , int y , long h ) { this . x = x ; this . y = y ; this . h = h ; } } class Util { static int gcd ( int m , int n ) { int min = Math . min ( m , n ) ; int max = Math . max ( m , n )',\n",
       "  'import java . io . BufferedReader ; import java . io . Closeable ; import java . io . IOException ; import java . io . InputStream ; import java . io . InputStreamReader ; import java . io . PrintWriter ; import java . util . Set ; import java . util . HashSet ; public class Main { public static void main ( String [ ] args ) throws IOException { try ( InputReader reader = new InputReader ( System . in ) ) { solve ( reader ) ; } } private static void solve ( InputReader reader ) throws IOException { int n = reader . readInt ( ) ; Point [ ] points = new Point [ n ] ; for ( int i = 0 ; i < n ; i ++ ) { int [ ] p = reader . readIntsSplitByDelimiter ( \" ▁ \" ) ; points [ i ] = new Point ( p [ 0 ] , p [ 1 ] , p [ 2 ] ) ; if ( p [ 2 ] == 100 ) { System . out . printf ( \" % d ▁ % d ▁ % d % n \" , p [ 0 ] , p [ 1 ] , p [ 2 ] ) ; return ; } } for ( int i = 0 ; i <= 1000 ; i ++ ) { for ( int j = 0 ; j <= 1000 ; j ++ ) { boolean ok = true ; long h = - 1 ; for ( int k = 0 ; k < n ; k ++ ) { if ( points [ k ] . h <= 0 ) { continue ; } long tmp = points [ k ] . h + Math . abs ( points [ k ] . x - i ) + Math . abs ( points [ k ] . y - j ) ; if ( h == - 1 ) { h = tmp ; } if ( h != tmp ) { ok = false ; break ; } } if ( ok ) { System . out . printf ( \" % d ▁ % d ▁ % d % n \" , i , j , h ) ; return ; } } } } } class Point { public int x ; public int y ; public long h ; Point ( int x , int y , long h ) { this . x = x ; this . y = y ; this . h = h ; } } class Util { static int gcd ( int m , int n ) { int min = Math . min ( m , n ) ; int max = Math . max ( m , n )',\n",
       "  'import java . io . BufferedReader ; import java . io . Closeable ; import java . io . IOException ; import java . io . InputStream ; import java . io . InputStreamReader ; import java . io . PrintWriter ; import java . util . Set ; import java . util . HashSet ; public class Main { public static void main ( String [ ] args ) throws IOException { try ( InputReader reader = new InputReader ( System . in ) ) { solve ( reader ) ; } } private static void solve ( InputReader reader ) throws IOException { int n = reader . readInt ( ) ; Point [ ] points = new Point [ n ] ; for ( int i = 0 ; i < n ; i ++ ) { int [ ] p = reader . readIntsSplitByDelimiter ( \" ▁ \" ) ; points [ i ] = new Point ( p [ 0 ] , p [ 1 ] , p [ 2 ] ) ; if ( p [ 2 ] == 100 ) { System . out . printf ( \" % d ▁ % d ▁ % d % n \" , p [ 0 ] , p [ 1 ] , p [ 2 ] ) ; return ; } } for ( int i = 0 ; i <= 100 ; i ++ ) { for ( int j = 0 ; j <= 100 ; j ++ ) { boolean ok = true ; long h = - 1 ; for ( int k = 0 ; k < n ; k ++ ) { if ( points [ k ] . h <= 0 ) { continue ; } long tmp = points [ k ] . h + Math . abs ( points [ k ] . x - i ) + Math . abs ( points [ k ] . y - j ) ; if ( h == - 1 ) { h = tmp ; } if ( h != tmp ) { ok = false ; break ; } } if ( ok ) { System . out . printf ( \" % d ▁ % d ▁ % d % n \" , i , j , h ) ; return ; } } } } class Point { public int x ; public int y ; public long h ; Point ( int x , int y , long h ) { this . x = x ; this . y = y ; this . h = h ; } } class Util { static int gcd ( int m , int n ) { int min = Math . min ( m , n ) ; int max = Math . max ( m , n ) ;',\n",
       "  'import java . io . BufferedReader ; import java . io . Closeable ; import java . io . IOException ; import java . io . InputStream ; import java . io . InputStreamReader ; import java . io . PrintWriter ; import java . util . Set ; import java . util . HashSet ; public class Main { public static void main ( String [ ] args ) throws IOException { try ( InputReader reader = new InputReader ( System . in ) ) { solve ( reader ) ; } } private static void solve ( InputReader reader ) throws IOException { int n = reader . readInt ( ) ; Point [ ] points = new Point [ n ] ; for ( int i = 0 ; i < n ; i ++ ) { int [ ] p = reader . readIntsSplitByDelimiter ( \" ▁ \" ) ; points [ i ] = new Point ( p [ 0 ] , p [ 1 ] , p [ 2 ] ) ; if ( p [ 2 ] == 100 ) { System . out . printf ( \" % d ▁ % d ▁ % d % n \" , p [ 0 ] , p [ 1 ] , p [ 2 ] ) ; return ; } } for ( int i = 0 ; i <= 100000 ; i ++ ) { for ( int j = 0 ; j <= 100000 ; j ++ ) { boolean ok = true ; long h = - 1 ; for ( int k = 0 ; k < n ; k ++ ) { if ( points [ k ] . h <= 0 ) { continue ; } long tmp = points [ k ] . h + Math . abs ( points [ k ] . x - i ) + Math . abs ( points [ k ] . y - j ) ; if ( h == - 1 ) { h = tmp ; } if ( h != tmp ) { ok = false ; break ; } } if ( ok ) { System . out . printf ( \" % d ▁ % d ▁ % d % n \" , i , j , h ) ; return ; } } } } } class Point { public int x ; public int y ; public long h ; Point ( int x , int y , long h ) { this . x = x ; this . y = y ; this . h = h ; } } class Util { static int gcd ( int m , int n ) { int min = Math . min ( m , n ) ; int max = Math . max ( m , n )',\n",
       "  'import java . io . BufferedReader ; import java . io . Closeable ; import java . io . IOException ; import java . io . InputStream ; import java . io . InputStreamReader ; import java . io . PrintWriter ; import java . util . Set ; import java . util . HashSet ; public class Main { public static void main ( String [ ] args ) throws IOException { try ( InputReader reader = new InputReader ( System . in ) ) { solve ( reader ) ; } } private static void solve ( InputReader reader ) throws IOException { int n = reader . readInt ( ) ; Point [ ] points = new Point [ n ] ; for ( int i = 0 ; i < n ; i ++ ) { int [ ] p = reader . readIntsSplitByDelimiter ( \" ▁ \" ) ; points [ i ] = new Point ( p [ 0 ] , p [ 1 ] , p [ 2 ] ) ; if ( p [ 2 ] == 100 ) { System . out . printf ( \" % d ▁ % d ▁ % d % n \" , p [ 0 ] , p [ 1 ] , p [ 2 ] ) ; return ; } } for ( int i = 0 ; i <= 100 ; i ++ ) { for ( int j = 0 ; j <= 100 ; j ++ ) { boolean ok = true ; long h = - 1 ; for ( int k = 0 ; k < n ; k ++ ) { if ( points [ k ] . h <= 0 ) { continue ; } long tmp = points [ k ] . h + Math . abs ( points [ k ] . x - i ) + Math . abs ( points [ k ] . y - j ) ; if ( h == - 1 ) { h = tmp ; } if ( h != tmp ) { ok = false ; break ; } } if ( ok ) { System . out . printf ( \" % d ▁ % d ▁ % d % n \" , i , j , h ) ; return ; } } } } } class Point { public long x ; public long y ; long h ; Point ( long x , long y , long h ) { this . x = x ; this . y = y ; this . h = h ; } } class Util { static int gcd ( int m , int n ) { int min = Math . min ( m , n ) ; int max = Math . max ( m , n ) ;',\n",
       "  'import java . io . BufferedReader ; import java . io . Closeable ; import java . io . IOException ; import java . io . InputStream ; import java . io . InputStreamReader ; import java . io . PrintWriter ; import java . util . Set ; import java . util . HashSet ; public class Main { public static void main ( String [ ] args ) throws IOException { try ( InputReader reader = new InputReader ( System . in ) ) { solve ( reader ) ; } } private static void solve ( InputReader reader ) throws IOException { int n = reader . readInt ( ) ; Point [ ] points = new Point [ n ] ; for ( int i = 0 ; i < n ; i ++ ) { int [ ] p = reader . readIntsSplitByDelimiter ( \" ▁ \" ) ; points [ i ] = new Point ( p [ 0 ] , p [ 1 ] , p [ 2 ] ) ; if ( p [ 2 ] == 100 ) { System . out . printf ( \" % d ▁ % d ▁ % d % n \" , p [ 0 ] , p [ 1 ] , p [ 2 ] ) ; return ; } } for ( int i = 0 ; i <= 10000 ; i ++ ) { for ( int j = 0 ; j <= 10000 ; j ++ ) { boolean ok = true ; long h = - 1 ; for ( int k = 0 ; k < n ; k ++ ) { if ( points [ k ] . h <= 0 ) { continue ; } long tmp = points [ k ] . h + Math . abs ( points [ k ] . x - i ) + Math . abs ( points [ k ] . y - j ) ; if ( h == - 1 ) { h = tmp ; } if ( h != tmp ) { ok = false ; break ; } } if ( ok ) { System . out . printf ( \" % d ▁ % d ▁ % d % n \" , i , j , h ) ; return ; } } } } } class Point { public int x ; public int y ; public long h ; Point ( int x , int y , long h ) { this . x = x ; this . y = y ; this . h = h ; } } class Util { static int gcd ( int m , int n ) { int min = Math . min ( m , n ) ; int max = Math . max ( m , n )',\n",
       "  'import java . io . BufferedReader ; import java . io . Closeable ; import java . io . IOException ; import java . io . InputStream ; import java . io . InputStreamReader ; import java . io . PrintWriter ; import java . util . Set ; import java . util . HashSet ; public class Main { public static void main ( String [ ] args ) throws IOException { try ( InputReader reader = new InputReader ( System . in ) ) { solve ( reader ) ; } } private static void solve ( InputReader reader ) throws IOException { int n = reader . readInt ( ) ; Point [ ] points = new Point [ n ] ; for ( int i = 0 ; i < n ; i ++ ) { int [ ] p = reader . readIntsSplitByDelimiter ( \" ▁ \" ) ; points [ i ] = new Point ( p [ 0 ] , p [ 1 ] , p [ 2 ] ) ; if ( p [ 2 ] == 100 ) { System . out . printf ( \" % d ▁ % d ▁ % d % n \" , p [ 0 ] , p [ 1 ] , p [ 2 ] ) ; return ; } } for ( int i = 0 ; i <= 300 ; i ++ ) { for ( int j = 0 ; j <= 300 ; j ++ ) { boolean ok = true ; long h = - 1 ; for ( int k = 0 ; k < n ; k ++ ) { if ( points [ k ] . h <= 0 ) { continue ; } long tmp = points [ k ] . h + Math . abs ( points [ k ] . x - i ) + Math . abs ( points [ k ] . y - j ) ; if ( h == - 1 ) { h = tmp ; } if ( h != tmp ) { ok = false ; break ; } } if ( ok ) { System . out . printf ( \" % d ▁ % d ▁ % d % n \" , i , j , h ) ; return ; } } } } } class Point { public int x ; public int y ; public long h ; Point ( int x , int y , long h ) { this . x = x ; this . y = y ; this . h = h ; } } class Util { static int gcd ( int m , int n ) { int min = Math . min ( m , n ) ; int max = Math . max ( m , n )',\n",
       "  'import java . io . BufferedReader ; import java . io . Closeable ; import java . io . IOException ; import java . io . InputStream ; import java . io . InputStreamReader ; import java . io . PrintWriter ; import java . util . Set ; import java . util . HashSet ; public class Main { public static void main ( String [ ] args ) throws IOException { try ( InputReader reader = new InputReader ( System . in ) ) { solve ( reader ) ; } } private static void solve ( InputReader reader ) throws IOException { int n = reader . readInt ( ) ; Point [ ] points = new Point [ n ] ; for ( int i = 0 ; i < n ; i ++ ) { int [ ] p = reader . readIntsSplitByDelimiter ( \" ▁ \" ) ; points [ i ] = new Point ( p [ 0 ] , p [ 1 ] , p [ 2 ] ) ; if ( p [ 2 ] == 100 ) { System . out . printf ( \" % d ▁ % d ▁ % d % n \" , p [ 0 ] , p [ 1 ] , p [ 2 ] ) ; return ; } } for ( int i = 0 ; i <= 100 ; i ++ ) { for ( int j = 0 ; j <= 100 ; j ++ ) { boolean ok = true ; long h = - 1 ; for ( int k = 0 ; k < n ; k ++ ) { if ( points [ k ] . h <= 0 ) { continue ; } long tmp = points [ k ] . h + Math . abs ( points [ k ] . x - i ) + Math . abs ( points [ k ] . y - j ) ; if ( h == - 1 ) { h = tmp ; } if ( h != tmp ) { ok = false ; break ; } } if ( ok ) { System . out . printf ( \" % d ▁ % d ▁ % d % n \" , i , j , h ) ; return ; } } } } } class Point { public int x ; public int y ; public long h ; Point ( int x , int y , long h ) { this . x = x ; this . y = y ; this . h = h ; } } class Util { static int gcd ( int m , int n ) { int min = Math . min ( m , n ) ; int max = Math . max ( m , n +',\n",
       "  'import java . io . BufferedReader ; import java . io . Closeable ; import java . io . IOException ; import java . io . InputStream ; import java . io . InputStreamReader ; import java . io . PrintWriter ; import java . util . Set ; import java . util . HashSet ; public class Main { public static void main ( String [ ] args ) throws IOException { try ( InputReader reader = new InputReader ( System . in ) ) { solve ( reader ) ; } } private static void solve ( InputReader reader ) throws IOException { int n = reader . readInt ( ) ; Point [ ] points = new Point [ n ] ; for ( int i = 0 ; i < n ; i ++ ) { int [ ] p = reader . readIntsSplitByDelimiter ( \" ▁ \" ) ; points [ i ] = new Point ( p [ 0 ] , p [ 1 ] , p [ 2 ] ) ; if ( p [ 2 ] == 100 ) { System . out . printf ( \" % d ▁ % d ▁ % d % n \" , p [ 0 ] , p [ 1 ] , p [ 2 ] ) ; return ; } } for ( int i = 0 ; i <= 1000 ; i ++ ) { for ( int j = 0 ; j <= 1000 ; j ++ ) { boolean ok = true ; long h = - 1 ; for ( int k = 0 ; k < n ; k ++ ) { if ( points [ k ] . h <= 0 ) { continue ; } long tmp = points [ k ] . h + Math . abs ( points [ k ] . x - i ) + Math . abs ( points [ k ] . y - j ) ; if ( h == - 1 ) { h = tmp ; } if ( h != tmp ) { ok = false ; break ; } } if ( ok ) { System . out . printf ( \" % d ▁ % d ▁ % d % n \" , i , j , h ) ; return ; } } } } } class Point { public int x ; public int y ; public long h ; Point ( int x , int y , long h ) { this . x = x ; this . y = y ; this . h = h ; } } class Util { static int gcd ( int m , int n ) { int min = Math . min ( m , n ) ; int max = Math . max ( m , n +',\n",
       "  'import java . io . BufferedReader ; import java . io . Closeable ; import java . io . IOException ; import java . io . InputStream ; import java . io . InputStreamReader ; import java . io . PrintWriter ; import java . util . Set ; import java . util . HashSet ; public class Main { public static void main ( String [ ] args ) throws IOException { try ( InputReader reader = new InputReader ( System . in ) ) { solve ( reader ) ; } } private static void solve ( InputReader reader ) throws IOException { int n = reader . readInt ( ) ; Point [ ] points = new Point [ n ] ; for ( int i = 0 ; i < n ; i ++ ) { int [ ] p = reader . readIntsSplitByDelimiter ( \" ▁ \" ) ; points [ i ] = new Point ( p [ 0 ] , p [ 1 ] , p [ 2 ] ) ; if ( p [ 2 ] == 100 ) { System . out . printf ( \" % d ▁ % d ▁ % d % n \" , p [ 0 ] , p [ 1 ] , p [ 2 ] ) ; return ; } } for ( int i = 0 ; i <= 100 ; i ++ ) { for ( int j = 0 ; j <= 100 ; j ++ ) { boolean ok = true ; long h = - 1 ; for ( int k = 0 ; k < n ; k ++ ) { if ( points [ k ] . h <= 0 ) { continue ; } long tmp = points [ k ] . h + Math . abs ( points [ k ] . x - i ) + Math . abs ( points [ k ] . y - j ) ; if ( h == - 1 ) { h = tmp ; } if ( h != tmp ) { ok = false ; break ; } } if ( ok ) { System . out . printf ( \" % d ▁ % d ▁ % d % n \" , i , j , h ) ; return ; } } } } } class Point { public int x ; public int y ; public long h ; Point ( int x , int y , long h ) { this . x = x ; this . y = y ; this . h = h ; } } class Util { static int gcd ( int m , int n ) { int min = Math . min ( m , n ) ; int max = Math . max ( m , n -']}"
      ]
     },
     "execution_count": 6,
     "metadata": {},
     "output_type": "execute_result"
    }
   ],
   "source": []
  },
  {
   "cell_type": "code",
   "execution_count": null,
   "metadata": {},
   "outputs": [],
   "source": []
  },
  {
   "cell_type": "code",
   "execution_count": null,
   "metadata": {},
   "outputs": [],
   "source": []
  },
  {
   "cell_type": "code",
   "execution_count": null,
   "metadata": {},
   "outputs": [],
   "source": []
  },
  {
   "cell_type": "code",
   "execution_count": null,
   "metadata": {},
   "outputs": [],
   "source": []
  },
  {
   "cell_type": "code",
   "execution_count": null,
   "metadata": {},
   "outputs": [],
   "source": []
  },
  {
   "cell_type": "code",
   "execution_count": null,
   "metadata": {},
   "outputs": [],
   "source": [
    "#cat ../Project_CodeNet/data/p00220/Java/s289306249.java\n",
    "#cat ../Project_CodeNet/data/p00442/Java/s813585875.java\n",
    "from codegen.preprocessing.lang_processors.java_processor import JavaProcessor\n",
    "from codegen.preprocessing.lang_processors.python_processor import PythonProcessor\n",
    "\n",
    "root_folder = \"../third_party\"\n",
    "jprocessor = JavaProcessor(root_folder=root_folder)\n",
    "#sol = \"../Project_CodeNet/data/p00220/Java/s289306249.java\"\n",
    "#sol = \"exceptional_case.java\"\n",
    "sol = \"../Project_CodeNet/data/p04049/Java/s881422316.java\"\n",
    "\n",
    "with open(sol, 'r', encoding='utf8') as f:\n",
    "    code = f.read()\n",
    "    print(code.strip())\n",
    "    code_tokens_java = jprocessor.tokenize_code(code)\n",
    "    fn_standalone_java, fn_class_java = jprocessor.extract_functions(code_tokens_java)\n",
    "    print(fn_standalone_java, fn_class_java)\n",
    "    functions_standalone_java = [(jprocessor.get_function_name(fn), fn) for fn in fn_standalone_java]\n",
    "    functions_class_java = [(jprocessor.get_function_name(fn), fn) for fn in fn_class_java]"
   ]
  },
  {
   "cell_type": "code",
   "execution_count": null,
   "metadata": {},
   "outputs": [],
   "source": [
    "with open('exceptional_case.java', 'r', encoding='utf8') as f:\n",
    "    code = f.read()\n",
    "    print(code)"
   ]
  },
  {
   "cell_type": "code",
   "execution_count": null,
   "metadata": {},
   "outputs": [],
   "source": [
    "with open(\"python_solutions.jsonl\", 'r') as f:\n",
    "    for line in f:\n",
    "        ex = json.loads(line)\n",
    "        pprint(ex[1])\n",
    "        break"
   ]
  },
  {
   "cell_type": "code",
   "execution_count": null,
   "metadata": {},
   "outputs": [],
   "source": [
    "cp ../Project_CodeNet/data/p00220/Java/s289306249.java exceptional_case.java"
   ]
  },
  {
   "cell_type": "code",
   "execution_count": null,
   "metadata": {},
   "outputs": [],
   "source": [
    "ls"
   ]
  },
  {
   "cell_type": "code",
   "execution_count": null,
   "metadata": {},
   "outputs": [],
   "source": []
  },
  {
   "cell_type": "code",
   "execution_count": null,
   "metadata": {},
   "outputs": [],
   "source": []
  },
  {
   "cell_type": "code",
   "execution_count": null,
   "metadata": {},
   "outputs": [],
   "source": []
  },
  {
   "cell_type": "code",
   "execution_count": null,
   "metadata": {},
   "outputs": [],
   "source": []
  },
  {
   "cell_type": "code",
   "execution_count": null,
   "metadata": {},
   "outputs": [],
   "source": []
  },
  {
   "cell_type": "code",
   "execution_count": null,
   "metadata": {},
   "outputs": [],
   "source": [
    "from glob import glob\n",
    "import pandas as pd\n",
    "import matplotlib.pyplot as plt\n",
    "import json\n",
    "from joblib import Parallel, delayed, parallel_backend\n",
    "from multiprocessing import Process, Lock\n",
    "from tqdm import tqdm\n",
    "import os\n",
    "import json\n",
    "import threading\n",
    "\n",
    "def getJsonData(JsonFile):\n",
    "    with open(JsonFile, encoding=\"utf8\") as f:\n",
    "        data = json.load(f)\n",
    "    return data\n",
    "\n",
    "data = getJsonData(\"processed.json\")\n",
    "ans = 0\n",
    "for user in tqdm(data.keys()):\n",
    "    for problem_id in data[user].keys():\n",
    "        ans+=len(data[user][problem_id])\n",
    "print(\"total data = \", ans)\n"
   ]
  },
  {
   "cell_type": "code",
   "execution_count": null,
   "metadata": {},
   "outputs": [],
   "source": []
  },
  {
   "cell_type": "code",
   "execution_count": null,
   "metadata": {},
   "outputs": [],
   "source": []
  },
  {
   "cell_type": "code",
   "execution_count": null,
   "metadata": {},
   "outputs": [],
   "source": []
  },
  {
   "cell_type": "code",
   "execution_count": null,
   "metadata": {},
   "outputs": [],
   "source": []
  },
  {
   "cell_type": "code",
   "execution_count": null,
   "metadata": {},
   "outputs": [],
   "source": []
  },
  {
   "cell_type": "code",
   "execution_count": null,
   "metadata": {},
   "outputs": [],
   "source": []
  },
  {
   "cell_type": "code",
   "execution_count": null,
   "metadata": {},
   "outputs": [],
   "source": []
  },
  {
   "cell_type": "code",
   "execution_count": null,
   "metadata": {},
   "outputs": [],
   "source": []
  },
  {
   "cell_type": "code",
   "execution_count": null,
   "metadata": {},
   "outputs": [],
   "source": []
  },
  {
   "cell_type": "markdown",
   "metadata": {},
   "source": [
    "Some statistics"
   ]
  },
  {
   "cell_type": "code",
   "execution_count": 1,
   "metadata": {},
   "outputs": [],
   "source": [
    "from glob import glob\n",
    "import pandas as pd\n",
    "import matplotlib.pyplot as plt\n",
    "import json\n",
    "from joblib import Parallel, delayed, parallel_backend\n",
    "from multiprocessing import Process, Lock\n",
    "from tqdm import tqdm\n",
    "\n",
    "import json\n",
    "def getJsonData(JsonFile):\n",
    "    with open(JsonFile, encoding=\"utf8\") as f:\n",
    "        data = json.load(f)\n",
    "    return data\n",
    "data = getJsonData(\"processed.json\")\n",
    "ans = 0\n",
    "for user in tqdm(data.keys()):\n",
    "    for problem_id in data[user].keys():\n",
    "        ans+=len(data[user][problem_id])\n",
    "print(\"total data = \", ans)"
   ]
  },
  {
   "cell_type": "code",
   "execution_count": null,
   "metadata": {},
   "outputs": [],
   "source": [
    "import matplotlib.pyplot as plt\n",
    "Problem_count = 0\n",
    "\n",
    "lang_count = 0\n",
    "path_sum = 0\n",
    "solved_be_user = 0\n",
    "\n",
    "path_lengths = []\n",
    "submission_counts = []\n",
    "lang_counts = []\n",
    "for user in tqdm(list(data.keys())):\n",
    "    language_lst=set()\n",
    "    submission_count = 0\n",
    "    for problem_id in data[user].keys():\n",
    "        path_len = 0\n",
    "        if(len(data[user][problem_id])):\n",
    "            Problem_count+=1\n",
    "        \n",
    "        langs = {}\n",
    "        for idx, subs in enumerate(data[user][problem_id]):\n",
    "            # need to consider for each language\n",
    "            if subs[2] in langs.keys():\n",
    "                langs[subs[2]].append(subs)\n",
    "            else:\n",
    "                langs[subs[2]] = [subs]\n",
    "            language_lst.add(subs[2])\n",
    "            submission_count+=1\n",
    "        \n",
    "        # Path sum calculation\n",
    "        for lang in langs:\n",
    "            first_wa = 0\n",
    "            first_ac = -1\n",
    "            for idx, sub in enumerate(sorted(langs[lang], key=lambda x: x[1])):\n",
    "                if(sub[-1]==\"Accepted\"):\n",
    "                    first_ac = max(first_ac, idx)\n",
    "                else:\n",
    "                    first_wa = min(first_wa, idx)\n",
    "        \n",
    "            if(first_ac-first_wa+1>0):\n",
    "                #print(langs[lang])\n",
    "                #print(first_ac-first_wa)    \n",
    "                path_sum+=first_ac-first_wa+1\n",
    "                solved_be_user+=1\n",
    "                path_lengths.append(first_ac-first_wa+1)\n",
    "\n",
    "            \n",
    "    lang_count+=len(language_lst)\n",
    "    lang_counts.append(len(language_lst))\n",
    "    submission_counts.append(submission_count)\n",
    "        \n",
    "    #break\n",
    "print(\"per user average submission count\", sum(submission_counts)/len(data))\n",
    "print(\"per user average language usage count\", lang_count/len(data))\n",
    "print(\"per user average accepted path length\", path_sum/solved_be_user)\n",
    "\n",
    "print(\"number of users\", len(data))\n",
    "print(\"number of paths = \", solved_be_user)\n",
    "'''\n",
    "per user average submission count 90.26494052329126\n",
    "per user average language usage count 1.4337000090804135\n",
    "per user average accepted path length 1.9145810148516795\n",
    "'''"
   ]
  },
  {
   "cell_type": "code",
   "execution_count": null,
   "metadata": {},
   "outputs": [],
   "source": [
    "n_bins=10\n",
    "n, bins, patches = plt.hist(path_lengths, bins=[i for i in range(11)])\n",
    "ticks = [(patch._x0 + patch._x1)/2 for patch in patches]\n",
    "ticklabels = [i for i in range(n_bins)]\n",
    "plt.xticks(ticks, ticklabels)\n",
    "plt.xlabel(\"Number of submissions before accepted\")\n",
    "plt.ylabel(\"Number of users\")\n",
    "plt.show()"
   ]
  },
  {
   "cell_type": "code",
   "execution_count": null,
   "metadata": {},
   "outputs": [],
   "source": [
    "n_bins=10\n",
    "n, bins, patches = plt.hist(lang_counts, bins=[i for i in range(11)])\n",
    "ticks = [(patch._x0 + patch._x1)/2 for patch in patches]\n",
    "ticklabels = [i for i in range(n_bins)]\n",
    "plt.xticks(ticks, ticklabels)\n",
    "plt.xlabel(\"Number of Languages used by a user\")\n",
    "plt.ylabel(\"Number of users\")\n",
    "plt.show()"
   ]
  },
  {
   "cell_type": "code",
   "execution_count": null,
   "metadata": {},
   "outputs": [],
   "source": [
    "\n",
    "n, bins, patches = plt.hist(submission_counts, bins=[i for i in range(200)])\n",
    "#ticks = [(patch._x0 + patch._x1)/2 for patch in patches]\n",
    "#ticklabels = [i for i in range(n_bins)]\n",
    "#plt.xticks(ticks, ticklabels)\n",
    "plt.xlabel(\"Number of Submissons per user\")\n",
    "plt.ylabel(\"Number of users\")\n",
    "plt.show()"
   ]
  },
  {
   "cell_type": "code",
   "execution_count": null,
   "metadata": {},
   "outputs": [],
   "source": [
    "submission_counts[:100]"
   ]
  },
  {
   "cell_type": "code",
   "execution_count": null,
   "metadata": {},
   "outputs": [],
   "source": [
    "import json\n",
    "from glob import glob\n",
    "\n",
    "files = \"../data/java/jsons/\"\n",
    "src_sizes = []\n",
    "tgt_sizes = []\n",
    "for file in glob(files+'*.json'):\n",
    "    print(file)\n",
    "    with open(file, 'r') as f:\n",
    "        temp = json.load(f)\n",
    "        for ex in temp:\n",
    "            src_sizes.append(len(ex[0]['code_tokens']))\n",
    "            tgt_sizes.append(len(ex[1]['code_tokens']))"
   ]
  },
  {
   "cell_type": "code",
   "execution_count": null,
   "metadata": {},
   "outputs": [],
   "source": [
    "import matplotlib.pyplot as plt\n",
    "plt.hist(src_sizes, bins=[i for i in range(0, 10000, 1000)])\n",
    "plt.show()"
   ]
  },
  {
   "cell_type": "code",
   "execution_count": null,
   "metadata": {},
   "outputs": [],
   "source": [
    "root = \"../../BIFI/\""
   ]
  },
  {
   "cell_type": "code",
   "execution_count": null,
   "metadata": {},
   "outputs": [],
   "source": [
    "import json\n",
    "def getJsonData(JsonFile):\n",
    "    with open(JsonFile, encoding=\"utf8\") as f:\n",
    "        data = json.load(f)\n",
    "    return data\n",
    "data = getJsonData(\"../../BIFI/data/orig_bad_code/orig.bad.json\")"
   ]
  },
  {
   "cell_type": "code",
   "execution_count": null,
   "metadata": {},
   "outputs": [],
   "source": [
    "from pprint import pprint\n",
    "for key in list(data.keys())[:2]:\n",
    "    pprint(data[key])"
   ]
  },
  {
   "cell_type": "code",
   "execution_count": null,
   "metadata": {},
   "outputs": [],
   "source": [
    "import json\n",
    "from glob import glob\n",
    "from pprint import pprint\n",
    "file = \"../data/java/processed/train.jsonl\"\n",
    "\n",
    "with open(file, 'r') as f:\n",
    "    train = json.load(f)\n",
    "print(len(train))\n",
    "    "
   ]
  },
  {
   "cell_type": "code",
   "execution_count": null,
   "metadata": {},
   "outputs": [],
   "source": [
    "from pprint import pprint\n",
    "from tqdm import tqdm\n",
    "from difflib import SequenceMatcher\n",
    "def calculate_similarity(code1_tokens, code2_tokens):\n",
    "    code1 = ' '.join(code1_tokens)\n",
    "    code2 = ' '.join(code2_tokens)\n",
    "    return SequenceMatcher(None, code1, code2).ratio()\n",
    "dis = []\n",
    "for dt in tqdm(train):\n",
    "    dis.append(calculate_similarity(dt['src'], dt['tgt']))\n"
   ]
  },
  {
   "cell_type": "code",
   "execution_count": null,
   "metadata": {},
   "outputs": [],
   "source": [
    "import matplotlib.pyplot as plt\n",
    "plt.hist(dis, bins=5)\n",
    "plt.show()"
   ]
  },
  {
   "cell_type": "code",
   "execution_count": null,
   "metadata": {},
   "outputs": [],
   "source": [
    "from glob import glob\n",
    "problem_desc = []\n",
    "for file in glob(\"../Project_CodeNet/problem_descriptions/*html\"):\n",
    "    problem_desc.append(file)"
   ]
  },
  {
   "cell_type": "code",
   "execution_count": null,
   "metadata": {},
   "outputs": [],
   "source": [
    "problem_desc[0]"
   ]
  },
  {
   "cell_type": "code",
   "execution_count": null,
   "metadata": {},
   "outputs": [],
   "source": [
    "try: \n",
    "    from BeautifulSoup import BeautifulSoup\n",
    "except ImportError:\n",
    "    from bs4 import BeautifulSoup\n",
    "Base_link = \"https://www.dropbox.com/sh/nx3tnilzqz7df8a/AAAYlTq2tiEHl5hsESw6-yfLa?dl=0\"\n",
    "import requests\n",
    "req = requests.get(Base_link)\n",
    "#print(html)\n",
    "soup = BeautifulSoup(req.text, \"html.parser\")\n",
    "for a in soup.find_all('a', href=True):\n",
    "    print(\"Found the URL:\", a['href'])"
   ]
  },
  {
   "cell_type": "code",
   "execution_count": null,
   "metadata": {},
   "outputs": [],
   "source": [
    "Access_token = \"sl.BBQsZOVExLY-32FcgPQGwk5yMVeJCjShnddXfJGjzAnj0CQ-5GlVrRO39hPX7lP6BnpyFw1_3pE7wPwWsorCjTSwTRRiBqMkGB2q1KMmjPgrD78wu2lHpbrPA_xRQlWZ42oxz2o\""
   ]
  },
  {
   "cell_type": "code",
   "execution_count": null,
   "metadata": {},
   "outputs": [],
   "source": [
    "import re\n",
    "pattern = \"https://www.dropbox.com/sh/nx3tnilzqz7df8a/.*/.*dl=0\"\n",
    "\n",
    "re.findall(r'{}'.format(pattern),req.text)"
   ]
  },
  {
   "cell_type": "code",
   "execution_count": null,
   "metadata": {},
   "outputs": [],
   "source": [
    "import subprocess\n",
    "\n",
    "def download_and_extract(lnk):\n",
    "    lnk = lnk.replace(\"?dl=0\", \"?dl=1\")\n",
    "    name = lnk.split(\"/\")[-1]\n",
    "    name = name.split(\"?dl=1\")[0]+\".zip\"\n",
    "    #print(name)\n",
    "    subprocess.run([\"wget\", \"-O\", name, lnk])\n",
    "    subprocess.run([\"unzip\",name ,\"-d\",\"atcoder_test_cases/\"+name.replace(\".zip\", \"\")])\n",
    "    subprocess.run([\"rm\" ,\"-rf\",name])\n",
    "    \n",
    "    "
   ]
  },
  {
   "cell_type": "code",
   "execution_count": null,
   "metadata": {},
   "outputs": [],
   "source": [
    "from tqdm import tqdm\n",
    "with open(\"atcoder_links.txt\") as f:\n",
    "    links = f.readlines()\n",
    "for link in tqdm(links):\n",
    "    download_and_extract(link)"
   ]
  },
  {
   "cell_type": "code",
   "execution_count": null,
   "metadata": {},
   "outputs": [],
   "source": [
    "import pandas as pd\n",
    "problemlist=pd.read_csv(\"../Project_CodeNet/metadata/problem_list.csv\")\n"
   ]
  },
  {
   "cell_type": "code",
   "execution_count": null,
   "metadata": {},
   "outputs": [],
   "source": [
    "from collections import defaultdict\n",
    "from pprint import pprint\n",
    "from tqdm import tqdm\n",
    "problems = defaultdict(list)\n",
    "for index, row in tqdm(problemlist.iterrows()):\n",
    "    if(row['dataset']=='AtCoder'):\n",
    "        if(\"AtCoder Regular Contest\" in row['name']):\n",
    "            number = row['name'].split(\" \")[3]\n",
    "            problems[\"ARC\"+number].append(row['id'])\n",
    "        if(\"AtCoder Beginner Contest\" in row['name']):\n",
    "            number = row['name'].split(\" \")[3]\n",
    "            problems[\"ABC\"+number].append(row['id'])\n",
    "        if(\"AtCoder Grand Contest\" in row['name']):\n",
    "            number = row['name'].split(\" \")[3]\n",
    "            problems[\"AGC\"+number].append(row['id'])"
   ]
  },
  {
   "cell_type": "code",
   "execution_count": null,
   "metadata": {},
   "outputs": [],
   "source": [
    "from glob import glob\n",
    "folders = glob(\"atcoder_test_cases/*\")\n",
    "\n",
    "final_keys = []\n",
    "for idx in range(len(folders)):\n",
    "    folders[idx] = folders[idx].replace(\"atcoder_test_cases/\", \"\")\n",
    "#print(folders)\n",
    "for key in problems.keys():\n",
    "    if key in folders:\n",
    "        if len(problems[key]) == len(glob(\"atcoder_test_cases/\"+key+\"/*\")):\n",
    "            final_keys.append(key)\n",
    "            \n",
    "    elif key.lower() in folders :\n",
    "        if len(problems[key]) == len(glob(\"atcoder_test_cases/\"+ key.lower() +\"/*\")):\n",
    "            final_keys.append(key)\n"
   ]
  },
  {
   "cell_type": "code",
   "execution_count": null,
   "metadata": {},
   "outputs": [],
   "source": [
    "problemid_to_tc = {}\n",
    "for key in problems:\n",
    "    if(key in final_keys):\n",
    "        for idx, prob_id in enumerate(problems[key]):\n",
    "            folder_list = glob(\"atcoder_test_cases/\"+key+\"/*\")\n",
    "            if(len(folder_list)==0):\n",
    "                folder_list = glob(\"atcoder_test_cases/\"+key.lower()+\"/*\")\n",
    "            problemid_to_tc[prob_id] = folder_list[idx]"
   ]
  },
  {
   "cell_type": "code",
   "execution_count": null,
   "metadata": {},
   "outputs": [],
   "source": [
    "len(problemid_to_tc)"
   ]
  },
  {
   "cell_type": "code",
   "execution_count": null,
   "metadata": {},
   "outputs": [],
   "source": [
    "from glob import glob\n",
    "import pandas as pd\n",
    "import matplotlib.pyplot as plt\n",
    "import json\n",
    "from joblib import Parallel, delayed, parallel_backend\n",
    "from multiprocessing import Process, Lock\n",
    "from tqdm import tqdm\n",
    "\n",
    "import json\n",
    "def getJsonData(JsonFile):\n",
    "    with open(JsonFile, encoding=\"utf8\") as f:\n",
    "        data = json.load(f)\n",
    "    return data\n",
    "data = getJsonData(\"../data/java/processed/test.jsonl\")\n"
   ]
  },
  {
   "cell_type": "code",
   "execution_count": null,
   "metadata": {},
   "outputs": [],
   "source": [
    "#data[0]\n",
    "#def run_and_report()\n",
    "\n",
    "#st = \"atcoder_test_cases/ABC118/B/in/3_mmin_1\"\n",
    "#out = st.split(\"/\")\n",
    "#out[3] = \"out\"\n",
    "#\"/\".join(out)"
   ]
  },
  {
   "cell_type": "code",
   "execution_count": null,
   "metadata": {},
   "outputs": [],
   "source": [
    "from codegen.preprocessing.lang_processors.java_processor import JavaProcessor\n",
    "from codegen.preprocessing.lang_processors.python_processor import PythonProcessor\n",
    "import subprocess\n",
    "import filecmp\n",
    "from subprocess import Popen, PIPE, STDOUT\n",
    "import sys\n",
    "\n",
    "def check_floating(n1, n2):\n",
    "    n1 = n1.replace(\"-\", \"\").replace(\"+\", \"\")\n",
    "    n2 = n2.replace(\"-\", \"\").replace(\"+\", \"\")\n",
    "    \n",
    "    if (not n1.replace('.','',1).replace(\"E\",\"\").isdigit()) or (not n1.replace('.','',1).replace(\"E\",\"\").isdigit()):\n",
    "        return False\n",
    "    if abs(float(n1)-float(n2))<1e8:\n",
    "        return True\n",
    "    return False\n",
    "    \n",
    "def print_error(l1, l2):\n",
    "    print(\"###\")\n",
    "    print(l1)\n",
    "    print(\"###\")\n",
    "    print(l2)\n",
    "    print(\"###\")\n",
    "\n",
    "def compare_files(file1, file2):\n",
    "    with open(file1) as f1, open(file2) as f2: \n",
    "        content1 = f1.read().split()\n",
    "        content2 = f2.read().split()\n",
    "\n",
    "        for l1, l2 in zip(content1, content2):\n",
    "            if l1.strip() != l2.strip(): \n",
    "                num1s = l1.strip().split(\" \")\n",
    "                num2s = l2.strip().split(\" \")\n",
    "                if(len(num1s) == len(num2s)):\n",
    "                    for idx in range(len(num1s)):\n",
    "                        if not check_floating(num1s[idx],num2s[idx]):\n",
    "                            print_error(l1, l2)\n",
    "                            return False\n",
    "                else:\n",
    "                    print_error(l1, l2)\n",
    "                    return False\n",
    "    return True\n",
    "\n",
    "root_folder = \"../third_party\"\n",
    "jprocessor = JavaProcessor(root_folder=root_folder)\n",
    "\n",
    "uniq = set()\n",
    "\n",
    "#code_tokens_java = jprocessor.tokenize_code(code)\n",
    "cnt = 0\n",
    "done = False\n",
    "for dt in tqdm(data[12475:]): #12480+721 14975\n",
    "    if dt['id'].split(\"_\")[0] in problemid_to_tc.keys():\n",
    "        #if(dt['tgt_id'].split(\"_\")[1] != \"s473235135\"):\n",
    "        #    continue\n",
    "        cnt+=1\n",
    "        #print(\"comes\")\n",
    "        #print(dt['id'])\n",
    "        #pprint(dt)\n",
    "        #print(dt['src'])\n",
    "        code = jprocessor.detokenize_code(dt['tgt'])\n",
    "        if dt['tgt_id'] in uniq:\n",
    "            continue\n",
    "        uniq.add(dt['tgt_id'])\n",
    "        with open('Main.java', 'w', encoding='utf8') as fw:\n",
    "            fw.write(code)\n",
    "        test_case_folder = problemid_to_tc[dt['id'].split(\"_\")[0]]\n",
    "        in_files = glob(test_case_folder+\"/in/*\")\n",
    "        p1 = subprocess.run([\"javac\",\"Main.java\"])\n",
    "        return_code = p1.returncode\n",
    "\n",
    "        if(return_code):\n",
    "            print(\"######## doesnt compile  ############\")\n",
    "            print(p1.stderr.decode(\"utf-8\")) 14975\n",
    "            print(dt['tgt_id'])\n",
    "            #pprint(dt)\n",
    "            #doesn't compile correctly\n",
    "\n",
    "        for in_file in in_files:\n",
    "            #subprocess.run([\"java\",\"Main\" ,\"<\",in_files[0], \">\", \"cmd_out.txt\"], shell=True)\n",
    "            cmd = \"java Main < {} > cmd_out.txt\".format(in_file)\n",
    "            p = Popen(cmd, shell=True, stdin=PIPE, stdout=PIPE, stderr=STDOUT, close_fds=True)\n",
    "            p.wait()\n",
    "            #output = p.stdout\n",
    "            #print(output)\n",
    "            out = in_file.split(\"/\")\n",
    "            out[3] = \"out\"\n",
    "            out_file =\"/\".join(out)\n",
    "            out_file = out_file.replace(\".in\", \".out\")\n",
    "\n",
    "            p2 = subprocess.Popen([\"cp\",out_file, \"cmd_out_match.txt\"])\n",
    "            p2.wait()\n",
    "            #match \n",
    "            #print(filecmp.cmp('cmd_out.txt', 'cmd_out_match.txt'))\n",
    "            if not compare_files('cmd_out.txt', 'cmd_out_match.txt'):\n",
    "                #done=True\n",
    "                print(dt['tgt_id'])\n",
    "                #break\n",
    "                print(in_file)\n",
    "        p3 = subprocess.run([\"rm\",\"Main.java\"])\n",
    "        p4 = subprocess.run([\"rm\",\"*.class\"])\n",
    "#print(cnt)\n",
    "\n",
    "#accept one valid way we need to skip those p02697,\n",
    "#used weird library runs on jdk 1.8 but not in jdk 11 p02682_s116318276"
   ]
  },
  {
   "cell_type": "code",
   "execution_count": null,
   "metadata": {},
   "outputs": [],
   "source": [
    "s = \"p03334,p02678,p02690,p02692,p02697,p02850,p02825,p02902,p02903,p02976,p02977,p03097,p03938,p03245,p03044,p02972,p03263,p03836,p03267,p03257,p03394,p03952,p04007,p04035,p03746,p02963,p03095,p02669,p02825,p03046,p02997,p02936, p02694, p02975,p02731, p02861,p03110\"\n",
    "print(list(set(s.replace(\" \", \"\").split(\",\"))))"
   ]
  },
  {
   "cell_type": "code",
   "execution_count": null,
   "metadata": {},
   "outputs": [],
   "source": [
    "p1 = subprocess.Popen([\"javac\",\"Main.java\"])\n",
    "return_code = p1.wait()\n",
    "print(return_code)"
   ]
  },
  {
   "cell_type": "code",
   "execution_count": null,
   "metadata": {},
   "outputs": [],
   "source": [
    "cmd = \"java Main < atcoder_test_cases/ABC138/D/in/b04 > cmd_out.txt\"\n",
    "p = Popen(cmd, shell=True, stdin=PIPE, stdout=PIPE, stderr=subprocess.DEVNULL, close_fds=True)\n",
    "p.wait()\n",
    "print(\"command exucuted\")\n",
    "\n",
    "in_file = \"atcoder_test_cases/ABC138/D/in/b04\"\n",
    "out = in_file.split(\"/\")\n",
    "out[3] = \"out\"\n",
    "out_file =\"/\".join(out)\n",
    "out_file = out_file.replace(\".in\", \".out\")\n",
    "\n",
    "p2 = subprocess.Popen([\"cp\",out_file, \"cmd_out_match.txt\"])\n",
    "p2.wait()\n",
    "print(\"Matching Files\")\n",
    "\n",
    "if not compare_files('cmd_out.txt', 'cmd_out_match.txt'):\n",
    "    #done=True\n",
    "    #print(dt['tgt_id'])\n",
    "    print(in_file)"
   ]
  },
  {
   "cell_type": "code",
   "execution_count": null,
   "metadata": {},
   "outputs": [],
   "source": [
    "#One such Way p02678,p02690,p02692,p02697,p02850,p02825,p02902,p02903,p02976,p02977,p03097,p03938,p03245,p03044,p02972\n",
    "#One such way p03263,p03836,p03267,p03257,p03394,p03952,p04007,p04035,p03746,p02963,p03095,p02669,p02825,p03046,p02997\n",
    "\n",
    "# p02936, p02694 p02975 one after contest doesn't match\n",
    "#p02731 has higher thresholds for checking double value, p02861,p03110 as well\n",
    "\n",
    "'''\n",
    "Need to check \n",
    "\n",
    "p02912_s201342530\n",
    "atcoder_test_cases/ABC141/D/in/testcase_03.nkftmpjKHWPL\n",
    "this has one weird input which i deleted from the atcoder_testcases folder\n",
    "\n",
    "'''\n",
    "\n",
    "###\n",
    "#num1 = \"0.0000000000000001E-5\"\n",
    "#num2 = \"-0.0000000000000001E-5\"\n",
    "\n",
    "#num1 = \"1.1551382117326875E-5\"\n",
    "#num2 = \"0.00001155138223854135\\n\"\n",
    "\n",
    "###\n",
    "#756.26049783473536042289\n",
    "num1 = \"3.57508992E8\"\n",
    "###\n",
    "num2 = \"357508993.7616\"\n",
    "def only_digits(num):\n",
    "    return num.replace(\"-\", \"\").replace(\"+\", \"\").replace('.','',1).replace(\"E\",\"\").isdigit()\n",
    "\n",
    "def check_floating(n1, n2):\n",
    "    if (not only_digits(n1)) or (not only_digits(n2)):\n",
    "        return False\n",
    "    print(float(n1), float(n2))\n",
    "    if abs(float(n1)-float(n2))<1e-6:\n",
    "        return True\n",
    "    return False\n",
    "    \n",
    "num1s = num1.strip().split(\" \")\n",
    "num2s = num2.strip().split(\" \")\n",
    "if(len(num1s) != len(num2s)):\n",
    "    print(\"Not equal\")\n",
    "for idx in range(len(num1s)):\n",
    "    print(check_floating(num1s[idx],num2s[idx]))\n"
   ]
  },
  {
   "cell_type": "code",
   "execution_count": null,
   "metadata": {},
   "outputs": [],
   "source": [
    "float(\"0.00001155138223854135\")"
   ]
  },
  {
   "cell_type": "code",
   "execution_count": null,
   "metadata": {},
   "outputs": [],
   "source": [
    "def check_floating(n1, n2):\n",
    "    n1 = n1.replace(\"-\", \"\").replace(\"+\", \"\")\n",
    "    n2 = n2.replace(\"-\", \"\").replace(\"+\", \"\")\n",
    "    \n",
    "    if (not n1.replace('.','',1).replace(\"E\",\"\").isdigit()) or (not n1.replace('.','',1).replace(\"E\",\"\").isdigit()):\n",
    "        return False\n",
    "    if abs(float(n1)-float(n2))<1e8:\n",
    "        return True\n",
    "    return False\n",
    "    \n",
    "def print_error(l1, l2):\n",
    "    print(\"###\")\n",
    "    print(l1)\n",
    "    print(\"###\")\n",
    "    print(l2)\n",
    "    print(\"###\")\n",
    "\n",
    "def compare_files(file1, file2):\n",
    "    try:\n",
    "        with open(file1) as f1, open(file2) as f2: \n",
    "            content1 = f1.read().split()\n",
    "            content2 = f2.read().split()\n",
    "            for l1, l2 in zip(content1, content2):\n",
    "                if l1.strip() != l2.strip(): \n",
    "                    num1s = l1.strip().split(\" \")\n",
    "                    num2s = l2.strip().split(\" \")\n",
    "                    if(len(num1s) == len(num2s)):\n",
    "                        for idx in range(len(num1s)):\n",
    "                            if not check_floating(num1s[idx],num2s[idx]):\n",
    "                                print_error(l1, l2)\n",
    "                                return False\n",
    "                    else:\n",
    "                        print_error(l1, l2)\n",
    "                        return False\n",
    "            return True\n",
    "    except Exception as e:\n",
    "        print(\"exception = \", e)\n",
    "        return False\n"
   ]
  },
  {
   "cell_type": "code",
   "execution_count": null,
   "metadata": {},
   "outputs": [],
   "source": [
    "!head atcoder_test_cases/ABC157/A/out/01-handmade-01\n",
    "p02658_s473235135"
   ]
  },
  {
   "cell_type": "code",
   "execution_count": null,
   "metadata": {},
   "outputs": [],
   "source": [
    "#!rm temp.java\n",
    "p03037_s170937198\n",
    "!cp ../Project_CodeNet/data/p02658/Java/s473235135.java temp2.java"
   ]
  },
  {
   "cell_type": "code",
   "execution_count": null,
   "metadata": {},
   "outputs": [],
   "source": [
    "def check_floating(n1, n2):\n",
    "    n1 = n1.replace(\"-\", \"\").replace(\"+\", \"\")\n",
    "    n2 = n2.replace(\"-\", \"\").replace(\"+\", \"\")\n",
    "    \n",
    "    if (not n1.replace('.','',1).replace(\"E\",\"\").isdigit()) or (not n1.replace('.','',1).replace(\"E\",\"\").isdigit()):\n",
    "        return False\n",
    "    if abs(float(n1)-float(n2))<1e-8:\n",
    "        return True\n",
    "    return False\n",
    "    \n",
    "def print_error(l1, l2):\n",
    "    print(\"###\")\n",
    "    print(l1)\n",
    "    print(\"###\")\n",
    "    print(l2)\n",
    "    print(\"###\")\n",
    "\n",
    "def compare_files(file1, file2):\n",
    "    with open(file1) as f1, open(file2) as f2: \n",
    "        content1 = f1.read().split()\n",
    "        content2 = f2.read().split()\n",
    "        #print(content1, content2)\n",
    "        for l1, l2 in zip(content1, content2):\n",
    "            print(l1.strip(), l2.strip(), l1.strip() != l2.strip())\n",
    "            if l1.strip() != l2.strip(): \n",
    "                num1s = l1.strip().split(\" \")\n",
    "                num2s = l2.strip().split(\" \")\n",
    "                if(len(num1s) == len(num2s)):\n",
    "                    for idx in range(len(num1s)):\n",
    "                        if not check_floating(num1s[idx],num2s[idx]):\n",
    "                            print_error(l1, l2)\n",
    "                            return False\n",
    "                else:\n",
    "                    print_error(l1, l2)\n",
    "                    return False\n",
    "        return True\n",
    "compare_files('cmd_out.txt', 'cmd_out_match.txt')"
   ]
  },
  {
   "cell_type": "code",
   "execution_count": null,
   "metadata": {},
   "outputs": [],
   "source": []
  },
  {
   "cell_type": "code",
   "execution_count": null,
   "metadata": {},
   "outputs": [],
   "source": [
    "p1 = subprocess.Popen(\"javac Main.java\", shell=True, stdout=subprocess.PIPE, stderr=subprocess.PIPE)\n",
    "print(\"wait result\", p1.wait())\n",
    "output,error=p1.communicate()\n",
    "print(\"###\")\n",
    "print(output)\n",
    "print(\"###\")\n",
    "print(error)\n",
    "print(\"####\")\n",
    "print(p1.returncode)\n",
    "\n",
    "\n",
    "cmd = \"java Main < {} > manual_check.txt\".format(\"atcoder_test_cases/ABC169/B/in/max_02.txt\")\n",
    "p = Popen(cmd, shell=True, stdin=PIPE, stdout=PIPE, stderr=STDOUT, close_fds=True)\n",
    "p.wait()\n",
    "print(\"ok\")\n",
    "            "
   ]
  },
  {
   "cell_type": "code",
   "execution_count": null,
   "metadata": {},
   "outputs": [],
   "source": [
    "#problemid_to_tc['p02677']\n",
    "ab = \"a string '' c\"\n",
    "nn = ab[::]\n",
    "print(nn)\n"
   ]
  },
  {
   "cell_type": "code",
   "execution_count": null,
   "metadata": {},
   "outputs": [],
   "source": [
    "with open(\"temp2.java\") as f:\n",
    "    fl = f.read()\n",
    "print(jprocessor.detokenize_code(jprocessor.tokenize_code(fl)))"
   ]
  },
  {
   "cell_type": "code",
   "execution_count": null,
   "metadata": {},
   "outputs": [],
   "source": [
    "from glob import glob\n",
    "import pandas as pd\n",
    "import matplotlib.pyplot as plt\n",
    "import json\n",
    "from joblib import Parallel, delayed, parallel_backend\n",
    "from multiprocessing import Process, Lock\n",
    "from tqdm import tqdm\n",
    "\n",
    "import json\n",
    "def getJsonData(JsonFile):\n",
    "    with open(JsonFile, encoding=\"utf8\") as f:\n",
    "        data = json.load(f)\n",
    "    return data\n",
    "data = getJsonData(\"processed.json\")\n",
    "ans = 0\n",
    "for user in tqdm(data.keys()):\n",
    "    for problem_id in data[user].keys():\n",
    "        #ans+=len(data[user][problem_id])\n",
    "        for sub in data[user][problem_id]:\n",
    "            if sub[0] == \"s116318276\":\n",
    "                print(user)\n",
    "                print(sub)\n",
    "print(\"total data = \", ans)"
   ]
  },
  {
   "cell_type": "code",
   "execution_count": null,
   "metadata": {},
   "outputs": [],
   "source": [
    "test = getJsonData(\"../data/java/processed/test.jsonl\")\n",
    "#for dt in test:\n",
    "for user in tqdm(data.keys()):\n",
    "    for problem_id in data[user].keys():\n",
    "        for sub in data[user][problem_id]:\n",
    "            #print(sub)\n",
    "            if sub[0] == \"s116318276\":\n",
    "                print(user,problem_id,sub )\n",
    "                print(sub)\n",
    "                break"
   ]
  },
  {
   "cell_type": "code",
   "execution_count": null,
   "metadata": {},
   "outputs": [],
   "source": [
    "ze = getJsonData(\"../data/java/jsons/27.json\")\n",
    "for dt in ze:\n",
    "    if(len(dt)<2):\n",
    "        pprint(dt)"
   ]
  },
  {
   "cell_type": "code",
   "execution_count": null,
   "metadata": {},
   "outputs": [],
   "source": [
    "for running java\n",
    "javac test_java.java \n",
    "java test_java < cmd_in.txt > cmd_out.txt\n",
    "\n",
    "for running python\n",
    "python3 test_py.py < cmd_in.txt > cmd_out.txt"
   ]
  },
  {
   "cell_type": "code",
   "execution_count": 1,
   "metadata": {},
   "outputs": [
    {
     "name": "stderr",
     "output_type": "stream",
     "text": [
      "4053it [00:00, 8125.68it/s]\n"
     ]
    },
    {
     "name": "stdout",
     "output_type": "stream",
     "text": [
      "len(problemid_to_tc) =  710\n"
     ]
    }
   ],
   "source": [
    "import pandas as pd\n",
    "import json\n",
    "from collections import defaultdict\n",
    "from tqdm import tqdm\n",
    "from glob import glob\n",
    "problemlist=pd.read_csv(\"../Project_CodeNet/metadata/problem_list.csv\")\n",
    "problems = defaultdict(list)\n",
    "for index, row in tqdm(problemlist.iterrows()):\n",
    "    if(row['dataset']=='AtCoder'):\n",
    "        if(\"AtCoder Regular Contest\" in row['name']):\n",
    "            number = row['name'].split(\" \")[3]\n",
    "            problems[\"ARC\"+number].append(row['id'])\n",
    "        if(\"AtCoder Beginner Contest\" in row['name']):\n",
    "            number = row['name'].split(\" \")[3]\n",
    "            problems[\"ABC\"+number].append(row['id'])\n",
    "        if(\"AtCoder Grand Contest\" in row['name']):\n",
    "            number = row['name'].split(\" \")[3]\n",
    "            problems[\"AGC\"+number].append(row['id'])\n",
    "folders = glob(\"atcoder_test_cases/*\")\n",
    "\n",
    "final_keys = []\n",
    "for idx in range(len(folders)):\n",
    "    folders[idx] = folders[idx].replace(\"atcoder_test_cases/\", \"\")\n",
    "#print(folders)\n",
    "for key in problems.keys():\n",
    "    if key in folders:\n",
    "        if len(problems[key]) == len(glob(\"atcoder_test_cases/\"+key+\"/*\")):\n",
    "            final_keys.append(key)\n",
    "            \n",
    "    elif key.lower() in folders :\n",
    "        if len(problems[key]) == len(glob(\"atcoder_test_cases/\"+ key.lower() +\"/*\")):\n",
    "            final_keys.append(key)\n",
    "\n",
    "problemid_to_tc = {}\n",
    "for key in problems:\n",
    "    if(key in final_keys):\n",
    "        for idx, prob_id in enumerate(problems[key]):\n",
    "            folder_list = glob(\"atcoder_test_cases/\"+key+\"/*\")\n",
    "            if(len(folder_list)==0):\n",
    "                folder_list = glob(\"atcoder_test_cases/\"+key.lower()+\"/*\")\n",
    "            problemid_to_tc[prob_id] = folder_list[idx]\n",
    "\n",
    "print(\"len(problemid_to_tc) = \", len(problemid_to_tc))\n",
    "#problemid_to_tc"
   ]
  },
  {
   "cell_type": "code",
   "execution_count": 4,
   "metadata": {},
   "outputs": [],
   "source": [
    "import json\n",
    "def getJsonData(JsonFile):\n",
    "    with open(JsonFile, encoding=\"utf8\") as f:\n",
    "        data = json.load(f)\n",
    "    return data\n",
    "test = getJsonData(\"../data/python/processed/test.jsonl\")"
   ]
  },
  {
   "cell_type": "code",
   "execution_count": 20,
   "metadata": {},
   "outputs": [],
   "source": [
    "valid = getJsonData(\"../data/python/processed/valid.jsonl\")"
   ]
  },
  {
   "cell_type": "code",
   "execution_count": 8,
   "metadata": {},
   "outputs": [
    {
     "data": {
      "text/plain": [
       "'p02547'"
      ]
     },
     "execution_count": 8,
     "metadata": {},
     "output_type": "execute_result"
    }
   ],
   "source": [
    "test[0]['src_id'].split('_')[0]"
   ]
  },
  {
   "cell_type": "code",
   "execution_count": 26,
   "metadata": {},
   "outputs": [],
   "source": [
    "test_problems = set()\n",
    "for data in valid:\n",
    "    test_problems.add(data['src_id'].split('_')[0])"
   ]
  },
  {
   "cell_type": "code",
   "execution_count": 27,
   "metadata": {},
   "outputs": [
    {
     "name": "stdout",
     "output_type": "stream",
     "text": [
      "5794 242 23.94214876033058\n"
     ]
    }
   ],
   "source": [
    "sizes = 0\n",
    "for problem in test_problems:\n",
    "    sizes += len(glob(problemid_to_tc[problem]+'/in/*'))\n",
    "print(sizes,len(test_problems), sizes/len(test_problems))"
   ]
  },
  {
   "cell_type": "code",
   "execution_count": null,
   "metadata": {},
   "outputs": [],
   "source": [
    "problemid_to_tc['p02836']"
   ]
  },
  {
   "cell_type": "code",
   "execution_count": null,
   "metadata": {},
   "outputs": [],
   "source": [
    "import json\n",
    "def getJsonData(JsonFile):\n",
    "    print(JsonFile)\n",
    "    with open(JsonFile, encoding=\"utf8\") as f:\n",
    "        data = json.load(f)\n",
    "    return data\n",
    "#train = getJsonData(\"../data/Python/processed/train.jsonl\")\n",
    "test = getJsonData(\"../data/Python/processed/test.jsonl\")\n",
    "valid = getJsonData(\"../data/Python/processed/valid.jsonl\")"
   ]
  },
  {
   "cell_type": "code",
   "execution_count": null,
   "metadata": {},
   "outputs": [],
   "source": [
    "from pprint import pprint\n",
    "problems = set()\n",
    "for dt in valid:\n",
    "    problems.add(dt['src_id'].split(\"_\")[0])\n",
    "#pprint(train[0]['src_id'].split(\"_\")[0])"
   ]
  },
  {
   "cell_type": "code",
   "execution_count": null,
   "metadata": {},
   "outputs": [],
   "source": [
    "for id in tqdm(problems):\n",
    "    if id not in problemid_to_tc.keys():\n",
    "        print(id)"
   ]
  },
  {
   "cell_type": "code",
   "execution_count": null,
   "metadata": {},
   "outputs": [],
   "source": [
    "len(problems)"
   ]
  },
  {
   "cell_type": "code",
   "execution_count": null,
   "metadata": {},
   "outputs": [],
   "source": [
    "from pprint import pprint\n",
    "from tqdm import tqdm\n",
    "problems = set()\n",
    "for json in [train, test, valid]:\n",
    "    for dt in tqdm(json):\n",
    "        problems.add(dt['src_id'].split(\"_\")[0])\n",
    "#pprint(data[0]['src_id'])"
   ]
  },
  {
   "cell_type": "code",
   "execution_count": null,
   "metadata": {},
   "outputs": [],
   "source": [
    "print(len(problems))"
   ]
  },
  {
   "cell_type": "code",
   "execution_count": null,
   "metadata": {},
   "outputs": [],
   "source": [
    "import json\n",
    "def getJsonData(JsonFile):\n",
    "    with open(JsonFile, encoding=\"utf8\") as f:\n",
    "        data = json.load(f)\n",
    "    return data\n",
    "processed = getJsonData(\"processed.json\")"
   ]
  },
  {
   "cell_type": "code",
   "execution_count": null,
   "metadata": {},
   "outputs": [],
   "source": [
    "from pprint import pprint\n",
    "from tqdm import tqdm\n",
    "java = set()\n",
    "for key in tqdm(processed):\n",
    "    #pprint(processed[key])\n",
    "    for problem in processed[key]:\n",
    "        for sub in processed[key][problem]:\n",
    "            if 'Java' in sub[2]:\n",
    "                java.add(problem)\n",
    "                \n",
    "    "
   ]
  },
  {
   "cell_type": "code",
   "execution_count": null,
   "metadata": {},
   "outputs": [],
   "source": [
    "print(len(java))"
   ]
  },
  {
   "cell_type": "code",
   "execution_count": null,
   "metadata": {},
   "outputs": [],
   "source": [
    "len(problems & java)"
   ]
  },
  {
   "cell_type": "code",
   "execution_count": null,
   "metadata": {},
   "outputs": [],
   "source": [
    "from SetSimilaritySearch import all_pairs\n",
    "\n",
    "# The input sets must be a Python list of iterables (i.e., lists or sets).\n",
    "sets = [[1,2,3], [1,2,4], [1,2,4], [5,6,7]]\n",
    "# all_pairs returns an iterable of tuples.\n",
    "pairs = all_pairs(sets, similarity_func_name=\"jaccard\", \n",
    "        similarity_threshold=0.8)\n",
    "list(pairs)"
   ]
  },
  {
   "cell_type": "code",
   "execution_count": null,
   "metadata": {},
   "outputs": [],
   "source": [
    "import json\n",
    "data = []\n",
    "for file in ['../data/java/jsons/0.json', '../data/java/jsons/1.json', '../data/java/jsons/2.json']:\n",
    "    print(file)\n",
    "    with open(file, 'r') as f:\n",
    "        temp = json.load(f)\n",
    "        data.extend(temp)\n",
    "#data[0]"
   ]
  },
  {
   "cell_type": "code",
   "execution_count": null,
   "metadata": {},
   "outputs": [],
   "source": [
    "from codegen.preprocessing.lang_processors.java_processor import JavaProcessor\n",
    "from codegen.preprocessing.lang_processors.python_processor import PythonProcessor\n",
    "import subprocess\n",
    "import filecmp\n",
    "from subprocess import Popen, PIPE, STDOUT\n",
    "import sys\n",
    "root_folder = \"../third_party\"\n",
    "jprocessor = JavaProcessor(root_folder=root_folder)\n",
    "pyprocessor = PythonProcessor(root_folder=root_folder)\n",
    "def getJsonData(JsonFile):\n",
    "    with open(JsonFile, encoding=\"utf8\") as f:\n",
    "        data = json.load(f)\n",
    "    return data\n"
   ]
  },
  {
   "cell_type": "code",
   "execution_count": null,
   "metadata": {},
   "outputs": [],
   "source": [
    "from collections import defaultdict, Counter\n",
    "from SetSimilaritySearch import all_pairs\n",
    "from deduplication import DuplicateDetector\n",
    "\n",
    "problem_to_dataidx = defaultdict(list)\n",
    "jaccard_db = []\n",
    "\n",
    "def get_vector(tokens,vocabulary):\n",
    "    counter = Counter(tokens)\n",
    "    out = []\n",
    "    for item in vocabulary:\n",
    "        if item in counter:\n",
    "            out.append(counter[item])\n",
    "        else:\n",
    "            out.append(0)\n",
    "    #print(out)\n",
    "    return out\n",
    "    \n",
    "def deduplicate_jaccard(database):\n",
    "    accepted_sub = set()\n",
    "    for idx,dt in enumerate(database):    \n",
    "        if dt[1]['submission_id'] not in accepted_sub:\n",
    "            accepted_sub.add(dt[1]['submission_id'])\n",
    "            problem_to_dataidx[dt[1]['problem_id']].append(idx)\n",
    "    duplicate_submission_id = []\n",
    "    \n",
    "    exclude_submissions = set()\n",
    "    for problem in problem_to_dataidx.keys():\n",
    "        try:\n",
    "            detector = DuplicateDetector()\n",
    "            data_idx_list = problem_to_dataidx[problem]\n",
    "            if(len(data_idx_list)<=3):\n",
    "                continue\n",
    "            for idx in data_idx_list:\n",
    "                detector.add_file(id = idx,tokens = jprocessor.tokenize_code(database[idx][1]['code_tokens']))   \n",
    "            exclude_document_ids = detector.compute_ids_to_exclude()\n",
    "            for id in exclude_document_ids:\n",
    "                exclude_submissions.add(database[idx][1]['submission_id'])\n",
    "        except Exception as e:\n",
    "            pass\n",
    "    dedeplicated_database = []\n",
    "    for data in database:\n",
    "        if data[1]['submission_id'] not in exclude_submissions:\n",
    "            dedeplicated_database.append(data.copy())\n",
    "    return dedeplicated_database\n",
    "\n",
    "dedeplicated_database = deduplicate_jaccard(data[:10000])\n",
    "print(len(dedeplicated_database))\n",
    "\n"
   ]
  },
  {
   "cell_type": "code",
   "execution_count": null,
   "metadata": {},
   "outputs": [],
   "source": [
    "print(len(data))\n",
    "print(data[40000])"
   ]
  },
  {
   "cell_type": "code",
   "execution_count": null,
   "metadata": {},
   "outputs": [],
   "source": [
    "print(data[9655][1]['code_tokens'])\n",
    "print(\"####################\")\n",
    "print(data[5694][1]['code_tokens'])"
   ]
  },
  {
   "cell_type": "code",
   "execution_count": null,
   "metadata": {},
   "outputs": [],
   "source": [
    "data[0][1]['verdict']"
   ]
  },
  {
   "cell_type": "code",
   "execution_count": null,
   "metadata": {},
   "outputs": [],
   "source": [
    "from pprint import pprint\n",
    "#print(data[979][1]['code_tokens'])\n",
    "print(data[1431][1]['code_tokens'])"
   ]
  },
  {
   "cell_type": "code",
   "execution_count": null,
   "metadata": {},
   "outputs": [],
   "source": [
    "from collections import Counter\n",
    "C = Counter([1, 1, 2, 3])\n",
    "print(C[1])"
   ]
  },
  {
   "cell_type": "code",
   "execution_count": null,
   "metadata": {},
   "outputs": [],
   "source": [
    "%load_ext autoreload\n",
    "%autoreload 2"
   ]
  },
  {
   "cell_type": "code",
   "execution_count": null,
   "metadata": {},
   "outputs": [],
   "source": [
    "from SetSimilaritySearch import all_pairs\n",
    "a = [0, 4, 2, 0, 1, 9, 3, 0, 1, 4, 7, 0, 3, 3, 3, 1, 2, 6, 1, 1, 2, 2, 24, 3, 24, 12, 1, 1, 2, 0, 38, 0, 5, 10, 17, 1, 1, 1, 12, 6, 5, 1, 1, 1, 6, 1, 0, 1, 1, 4, 0, 2, 12, 1, 17, 1, 2, 1, 1, 0, 1, 3, 2, 1, 6, 5, 0, 34, 2, 11, 6, 1, 0, 2, 4, 2, 2, 2, 2, 8, 51, 2, 3, 1, 5, 2, 5, 0, 1, 60, 0, 3]\n",
    "b = [1, 0, 2, 0, 0, 5, 0, 2, 0, 0, 0, 5, 0, 0, 0, 0, 0, 0, 0, 0, 0, 2, 4, 0, 4, 2, 0, 0, 0, 0, 0, 0, 0, 0, 1, 0, 1, 1, 4, 0, 0, 0, 0, 0, 0, 0, 2, 1, 0, 0, 0, 1, 4, 1, 1, 0, 2, 0, 2, 1, 0, 0, 0, 1, 0, 0, 4, 2, 0, 0, 0, 0, 0, 1, 0, 0, 0, 1, 1, 0, 5, 0, 0, 0, 1, 0, 0, 0, 0, 2, 1, 0]\n",
    "# The input sets must be a Python list of iterables (i.e., lists or sets).\n",
    "#sets = [[1,2,3,1,1,1,1,1,1,1,1], [1,2,4], [1,2,4], [5,6,7]]\n",
    "sets = [a, b]\n",
    "# all_pairs returns an iterable of tuples.\n",
    "pairs = all_pairs(sets, similarity_func_name=\"jaccard\", \n",
    "        similarity_threshold=0.8)\n",
    "list(pairs)"
   ]
  },
  {
   "cell_type": "code",
   "execution_count": null,
   "metadata": {},
   "outputs": [],
   "source": [
    "from deduplication import DuplicateDetector\n",
    "decetor = DuplicateDetector()\n",
    "decetor.add_file()"
   ]
  },
  {
   "cell_type": "code",
   "execution_count": null,
   "metadata": {},
   "outputs": [],
   "source": [
    "../data/Python/processed/test.jsonl"
   ]
  },
  {
   "cell_type": "code",
   "execution_count": null,
   "metadata": {},
   "outputs": [],
   "source": [
    "p02836_s902833363"
   ]
  },
  {
   "cell_type": "code",
   "execution_count": null,
   "metadata": {},
   "outputs": [],
   "source": [
    "from glob import glob\n",
    "import pandas as pd\n",
    "import matplotlib.pyplot as plt\n",
    "import json\n",
    "from joblib import Parallel, delayed, parallel_backend\n",
    "from multiprocessing import Process, Lock\n",
    "from tqdm import tqdm\n",
    "import json\n",
    "from collections import defaultdict\n",
    "from codegen.preprocessing.lang_processors.java_processor import JavaProcessor\n",
    "from codegen.preprocessing.lang_processors.python_processor import PythonProcessor\n",
    "import subprocess\n",
    "import filecmp\n",
    "from subprocess import Popen, PIPE, STDOUT\n",
    "import sys\n",
    "import argparse\n",
    "\n",
    "def getJsonData(JsonFile):\n",
    "    with open(JsonFile, encoding=\"utf8\") as f:\n",
    "        data = json.load(f)\n",
    "    return data\n",
    "\n",
    "def only_digits(num):\n",
    "    return num.replace(\"-\", \"\").replace(\"+\", \"\").replace('.','',1).replace(\"E\",\"\").isdigit()\n",
    "\n",
    "def check_floating(n1, n2):\n",
    "    if (not only_digits(n1)) or (not only_digits(n2)):\n",
    "        return False\n",
    "    #print(float(n1), float(n2))\n",
    "    if abs(float(n1)-float(n2))<1e-6:\n",
    "        return True\n",
    "    return False\n",
    "\n",
    "def print_error(l1, l2):\n",
    "    print(\"###\")\n",
    "    print(l1)\n",
    "    print(\"###\")\n",
    "    print(l2)\n",
    "    print(\"###\")\n",
    "\n",
    "def compare_files(file1, file2):\n",
    "    try:\n",
    "        with open(file1) as f1, open(file2) as f2: \n",
    "            content1 = f1.read().split()\n",
    "            content2 = f2.read().split()\n",
    "            for l1, l2 in zip(content1, content2):\n",
    "                if l1.strip() != l2.strip(): \n",
    "                    num1s = l1.strip().split(\" \")\n",
    "                    num2s = l2.strip().split(\" \")\n",
    "                    if(len(num1s) == len(num2s)):\n",
    "                        for idx in range(len(num1s)):\n",
    "                            if not check_floating(num1s[idx],num2s[idx]):\n",
    "                                print_error(l1, l2)\n",
    "                                return False\n",
    "                    else:\n",
    "                        print_error(l1, l2)\n",
    "                        return False\n",
    "            return True\n",
    "    except Exception as e:\n",
    "        print(\"exception = \", e)\n",
    "        return False"
   ]
  },
  {
   "cell_type": "code",
   "execution_count": null,
   "metadata": {},
   "outputs": [],
   "source": [
    "def run_python(test_case_folder):\n",
    "    \n",
    "    in_files = glob(test_case_folder+\"/in/*\")\n",
    "    p1 = subprocess.run([\"python\",\"-m\", \"py_compile\", \"test_py.py\"], stderr=PIPE)\n",
    "    return_code = p1.returncode\n",
    "    python2 = False\n",
    "    if (return_code):\n",
    "        p1 = subprocess.run([\"python2\",\"-m\", \"py_compile\", \"test_py.py\"], stderr=PIPE)\n",
    "        return_code = p1.returncode\n",
    "        python2=True\n",
    "\n",
    "    if(return_code):\n",
    "        print(\"doesnt compile\", return_code)\n",
    "        print(code)\n",
    "        \n",
    "        sys.exit(0)\n",
    "        return False, 0, len(in_files)\n",
    "\n",
    "    did_not_match = 0\n",
    "    for in_file in in_files:\n",
    "\n",
    "        cmd = \"python test_py.py < {} > cmd_out.txt\".format(in_file)\n",
    "        if (python2):\n",
    "            cmd = cmd.replace(\"python\", \"python2\")\n",
    "        p = Popen(cmd, shell=True, stdin=PIPE, stdout=PIPE, stderr=subprocess.DEVNULL, close_fds=True)\n",
    "        p.wait()\n",
    "        out = in_file.split(\"/\")\n",
    "        out[3] = \"out\"\n",
    "        out_file =\"/\".join(out)\n",
    "        out_file = out_file.replace(\".in\", \".out\")\n",
    "\n",
    "        p2 = subprocess.Popen([\"cp\",out_file, \"cmd_out_match.txt\"])\n",
    "        p2.wait()\n",
    "        if not compare_files('cmd_out.txt', 'cmd_out_match.txt'):\n",
    "            did_not_match+=1\n",
    "            print(test_case_folder)\n",
    "        else:\n",
    "            print(open('cmd_out.txt').read())\n",
    "            print(open('cmd_out_match.txt').read())\n",
    "            print(\"####\")\n",
    "    return True, len(in_files)-did_not_match,len(in_files)\n",
    "\n",
    "\n"
   ]
  },
  {
   "cell_type": "code",
   "execution_count": null,
   "metadata": {},
   "outputs": [],
   "source": [
    "run_python(\"atcoder_test_cases/ABC147/B\")"
   ]
  },
  {
   "cell_type": "code",
   "execution_count": 6,
   "metadata": {},
   "outputs": [],
   "source": [
    "from codegen.preprocessing.lang_processors.java_processor import JavaProcessor\n",
    "from codegen.preprocessing.lang_processors.python_processor import PythonProcessor\n",
    "import subprocess\n",
    "import filecmp\n",
    "from subprocess import Popen, PIPE, STDOUT\n",
    "import sys\n",
    "import json\n",
    "root_folder = \"../third_party\"\n",
    "jprocessor = JavaProcessor(root_folder=root_folder)\n",
    "pyprocessor = PythonProcessor(root_folder=root_folder)\n",
    "def getJsonData(JsonFile):\n",
    "    with open(JsonFile, encoding=\"utf8\") as f:\n",
    "        data = json.load(f)\n",
    "    return data\n"
   ]
  },
  {
   "cell_type": "code",
   "execution_count": null,
   "metadata": {},
   "outputs": [],
   "source": [
    "from pprint import pprint\n",
    "data = getJsonData('../data/Python/processed/test.jsonl')\n",
    "fl = open('../evaluation/garbage/Main.py').read()\n",
    "for idx, dt in enumerate(data):\n",
    "    if pyprocessor.detokenize_code(dt['tgt']).strip() == fl.strip():\n",
    "            print(idx)\n",
    "            pprint(dt)\n",
    "    #if dt['tgt_id']!='p02836_s902833363':\n",
    "    #    continue\n",
    "\n",
    "\n"
   ]
  },
  {
   "cell_type": "code",
   "execution_count": 10,
   "metadata": {},
   "outputs": [
    {
     "name": "stdout",
     "output_type": "stream",
     "text": [
      "{'src_id': 'p02684_s143538222', 'src': ['n', ',', 'k', ',', '*', 'a', '=', 'map', '(', 'int', ',', 'open', '(', '0', ')', '.', 'read', '(', ')', '.', 'split', '(', ')', ')', 'NEW_LINE', 'd', '=', '[', '2', '*', 'k', ']', '*', 'n', 'NEW_LINE', 's', '=', '0', 'NEW_LINE', 'while', 'k', ':', 's', '=', 'a', '[', 's', ']', '-', '1', ';', 'd', '[', 's', ']', '=', 'k', '=', '-', 'k', '%', '(', '~', 'd', '[', 's', ']', '+', 'k', ')', 'NEW_LINE', 'print', '(', 's', '+', '1', ')', 'NEW_LINE'], 'src_verdict': 'Wrong Answer', 'tgt': ['n', ',', 'k', ',', '*', 'a', '=', 'map', '(', 'int', ',', 'open', '(', '0', ')', '.', 'read', '(', ')', '.', 'split', '(', ')', ')', 'NEW_LINE', 'd', '=', '[', '0', ']', '+', '[', '-', '1', ']', '*', 'n', 'NEW_LINE', 's', '=', '0', 'NEW_LINE', 'for', 'i', 'in', 'range', '(', 'k', ')', ':', 'NEW_LINE', 'INDENT', 's', '=', 'a', '[', 's', ']', '-', '1', 'NEW_LINE', 'if', '(', 'j', ':', '=', 'd', '[', 's', ']', ')', '>', '-', '1', ':', 'NEW_LINE', 'INDENT', 'exec', '(', '(', 'k', '-', 'j', ')', '%', '(', 'i', '+', '1', '-', 'j', ')', '*', \"' s = a [ s ] -1 ; '\", ')', 'NEW_LINE', 'exit', '(', 'print', '(', 's', '+', '1', ')', ')', 'NEW_LINE', 'DEDENT', 'd', '[', 's', ']', '=', 'i', '+', '1', 'NEW_LINE', 'DEDENT', 'print', '(', 's', '+', '1', ')', 'NEW_LINE'], 'tgt_id': 'p02684_s747558892'}\n"
     ]
    }
   ],
   "source": [
    "print(data[11378])"
   ]
  },
  {
   "cell_type": "code",
   "execution_count": 15,
   "metadata": {},
   "outputs": [
    {
     "name": "stdout",
     "output_type": "stream",
     "text": [
      "n,k,*a=map(int,open(0).read().split())\n",
      "d=[0]+[-1]*n\n",
      "s=0\n",
      "for i in range(k):\n",
      "  s=a[s]-1\n",
      "  if(j:=d[s])>-1:\n",
      "    exec((k-j)%(i+1-j)*'s=a[s]-1;')\n",
      "    exit(print(s+1))\n",
      "  d[s]=i+1\n",
      "print(s+1)"
     ]
    }
   ],
   "source": [
    "!head ../Project_CodeNet/data/p02684/Python/s747558892.py"
   ]
  },
  {
   "cell_type": "code",
   "execution_count": null,
   "metadata": {},
   "outputs": [],
   "source": [
    "Was given accepted but actually not ../Project_CodeNet/data/p02684/Python/s747558892.py"
   ]
  },
  {
   "cell_type": "code",
   "execution_count": 1,
   "metadata": {},
   "outputs": [
    {
     "name": "stdout",
     "output_type": "stream",
     "text": [
      "(4053, 8)\n"
     ]
    },
    {
     "ename": "AttributeError",
     "evalue": "'collections.defaultdict' object has no attribute 'group_by'",
     "output_type": "error",
     "traceback": [
      "\u001b[0;31m---------------------------------------------------------------------------\u001b[0m",
      "\u001b[0;31mAttributeError\u001b[0m                            Traceback (most recent call last)",
      "\u001b[0;32m<ipython-input-1-77a422018c13>\u001b[0m in \u001b[0;36m<module>\u001b[0;34m()\u001b[0m\n\u001b[1;32m      7\u001b[0m \u001b[0mprint\u001b[0m\u001b[0;34m(\u001b[0m\u001b[0mproblemlist\u001b[0m\u001b[0;34m.\u001b[0m\u001b[0mshape\u001b[0m\u001b[0;34m)\u001b[0m\u001b[0;34m\u001b[0m\u001b[0;34m\u001b[0m\u001b[0m\n\u001b[1;32m      8\u001b[0m \u001b[0mproblems\u001b[0m \u001b[0;34m=\u001b[0m \u001b[0mdefaultdict\u001b[0m\u001b[0;34m(\u001b[0m\u001b[0mlist\u001b[0m\u001b[0;34m)\u001b[0m\u001b[0;34m\u001b[0m\u001b[0;34m\u001b[0m\u001b[0m\n\u001b[0;32m----> 9\u001b[0;31m \u001b[0mprint\u001b[0m\u001b[0;34m(\u001b[0m\u001b[0mproblems\u001b[0m\u001b[0;34m.\u001b[0m\u001b[0mgroup_by\u001b[0m\u001b[0;34m(\u001b[0m\u001b[0;34m'dataset'\u001b[0m\u001b[0;34m)\u001b[0m\u001b[0;34m.\u001b[0m\u001b[0mcount\u001b[0m\u001b[0;34m(\u001b[0m\u001b[0;34m)\u001b[0m\u001b[0;34m)\u001b[0m\u001b[0;34m\u001b[0m\u001b[0;34m\u001b[0m\u001b[0m\n\u001b[0m\u001b[1;32m     10\u001b[0m \u001b[0;31m#for index, row in tqdm(problemlist.iterrows()):\u001b[0m\u001b[0;34m\u001b[0m\u001b[0;34m\u001b[0m\u001b[0;34m\u001b[0m\u001b[0m\n\u001b[1;32m     11\u001b[0m \u001b[0;31m#    row['dataset']=='AtCoder'):\u001b[0m\u001b[0;34m\u001b[0m\u001b[0;34m\u001b[0m\u001b[0;34m\u001b[0m\u001b[0m\n",
      "\u001b[0;31mAttributeError\u001b[0m: 'collections.defaultdict' object has no attribute 'group_by'"
     ]
    }
   ],
   "source": [
    "import pandas as pd\n",
    "import json\n",
    "from collections import defaultdict\n",
    "from tqdm import tqdm\n",
    "from glob import glob\n",
    "problemlist=pd.read_csv(\"../Project_CodeNet/metadata/problem_list.csv\")\n",
    "print(problemlist.shape)\n",
    "problems = defaultdict(list)\n",
    "print(problemlist.group_by('dataset').count())\n",
    "#for index, row in tqdm(problemlist.iterrows()):\n",
    "#    row['dataset']=='AtCoder'):"
   ]
  },
  {
   "cell_type": "code",
   "execution_count": 5,
   "metadata": {},
   "outputs": [
    {
     "name": "stdout",
     "output_type": "stream",
     "text": [
      "           id  name  time_limit  memory_limit  rating  tags  complexity\n",
      "dataset                                                                \n",
      "AIZU     2534  2478        2478          2478       0     0           0\n",
      "AtCoder  1519  1519        1519          1519       0     0           0\n"
     ]
    }
   ],
   "source": [
    "print(problemlist.groupby(['dataset']).count())"
   ]
  },
  {
   "cell_type": "code",
   "execution_count": null,
   "metadata": {},
   "outputs": [],
   "source": []
  },
  {
   "cell_type": "code",
   "execution_count": 8,
   "metadata": {},
   "outputs": [
    {
     "name": "stdout",
     "output_type": "stream",
     "text": [
      "../data/java/jsons/0.json\n",
      "../data/java/jsons/1.json\n",
      "../data/java/jsons/2.json\n",
      "../data/java/jsons/3.json\n",
      "../data/java/jsons/4.json\n",
      "../data/java/jsons/5.json\n",
      "../data/java/jsons/6.json\n",
      "../data/java/jsons/7.json\n",
      "../data/java/jsons/8.json\n",
      "../data/java/jsons/9.json\n",
      "../data/java/jsons/10.json\n",
      "../data/java/jsons/11.json\n",
      "../data/java/jsons/12.json\n",
      "../data/java/jsons/13.json\n",
      "../data/java/jsons/14.json\n",
      "../data/java/jsons/15.json\n",
      "../data/java/jsons/16.json\n",
      "../data/java/jsons/17.json\n",
      "../data/java/jsons/18.json\n",
      "../data/java/jsons/19.json\n",
      "../data/java/jsons/20.json\n",
      "../data/java/jsons/21.json\n",
      "../data/java/jsons/22.json\n",
      "../data/java/jsons/23.json\n",
      "../data/java/jsons/24.json\n",
      "../data/java/jsons/25.json\n",
      "../data/java/jsons/26.json\n",
      "../data/java/jsons/27.json\n"
     ]
    },
    {
     "name": "stderr",
     "output_type": "stream",
     "text": [
      "100%|██████████| 277393/277393 [00:00<00:00, 607719.23it/s]\n"
     ]
    }
   ],
   "source": [
    "data = []\n",
    "for file in glob('../data/java/jsons/'+'*.json'):\n",
    "    print(file)\n",
    "    with open(file, 'r') as f:\n",
    "        temp = json.load(f)\n",
    "        data.extend(temp)\n",
    "data = data[:-1]\n",
    "problems_of_lang = set()\n",
    "for ex in tqdm(data):\n",
    "    problems_of_lang.add(ex[0]['problem_id'])\n",
    "processor = jprocessor\n",
    "\n"
   ]
  },
  {
   "cell_type": "code",
   "execution_count": 38,
   "metadata": {},
   "outputs": [],
   "source": [
    "from deduplication import DuplicateDetector\n",
    "problem_to_dataidx = defaultdict(list)\n",
    "from difflib import SequenceMatcher\n",
    "from joblib import Parallel, delayed\n",
    "sim = []\n",
    "def calculate_similarity(code1_tokens, code2_tokens):\n",
    "    code1 = ' '.join(code1_tokens)\n",
    "    code2 = ' '.join(code2_tokens)\n",
    "    return SequenceMatcher(None, code1, code2).ratio()\n",
    "    \n",
    "def deduplicate_jaccard(database, processor):\n",
    "    accepted_sub = set()\n",
    "    for idx,dt in enumerate(database):    \n",
    "        if dt[1]['submission_id'] not in accepted_sub:\n",
    "            accepted_sub.add(dt[1]['submission_id'])\n",
    "            problem_to_dataidx[dt[1]['problem_id']].append(idx)\n",
    "    duplicate_submission_id = []\n",
    "    \n",
    "    exclude_submissions = set()\n",
    "    def solve(problem):\n",
    "        print(len(sim))\n",
    "        for idx in problem_to_dataidx[problem]:\n",
    "            for idx2 in problem_to_dataidx[problem]:\n",
    "                if idx!=idx2:\n",
    "                    sim.append(calculate_similarity(database[idx][1]['code_tokens'], database[idx2][1]['code_tokens']))\n",
    "    \n",
    "    Parallel(n_jobs=8, prefer=\"threads\")(delayed(solve)(problem) for problem in tqdm(problem_to_dataidx.keys()))\n",
    "            \n",
    "    return deduplication_database\n",
    " "
   ]
  },
  {
   "cell_type": "code",
   "execution_count": 39,
   "metadata": {},
   "outputs": [
    {
     "name": "stdout",
     "output_type": "stream",
     "text": [
      "previous data size  277393\n"
     ]
    },
    {
     "name": "stderr",
     "output_type": "stream",
     "text": [
      "\n",
      "\n",
      "\u001b[A\u001b[A\n",
      "\n",
      "\n",
      "  0%|          | 8/2794 [00:02<09:47,  4.74it/s]"
     ]
    },
    {
     "name": "stdout",
     "output_type": "stream",
     "text": [
      "1878\n",
      "1882\n",
      "18821882\n",
      "1889\n",
      "1890\n",
      "1891\n",
      "1902\n",
      "\n"
     ]
    },
    {
     "name": "stderr",
     "output_type": "stream",
     "text": [
      "\u001b[A\u001b[A\u001b[A\n",
      "\n",
      "\u001b[A\u001b[A\n",
      "\n",
      "\u001b[A\u001b[A\n",
      "\n",
      "\u001b[A\u001b[A\n",
      "\n",
      "\u001b[A\u001b[A\n",
      "\n",
      "\u001b[A\u001b[A\n",
      "\n",
      "\u001b[A\u001b[A\n",
      "\n",
      "\u001b[A\u001b[A"
     ]
    },
    {
     "ename": "KeyboardInterrupt",
     "evalue": "",
     "output_type": "error",
     "traceback": [
      "\u001b[0;31m---------------------------------------------------------------------------\u001b[0m",
      "\u001b[0;31mKeyboardInterrupt\u001b[0m                         Traceback (most recent call last)",
      "\u001b[0;32m<ipython-input-39-e0c1ff63f736>\u001b[0m in \u001b[0;36m<module>\u001b[0;34m()\u001b[0m\n\u001b[1;32m      1\u001b[0m \u001b[0mprint\u001b[0m\u001b[0;34m(\u001b[0m\u001b[0;34m\"previous data size \"\u001b[0m\u001b[0;34m,\u001b[0m \u001b[0mlen\u001b[0m\u001b[0;34m(\u001b[0m\u001b[0mdata\u001b[0m\u001b[0;34m)\u001b[0m\u001b[0;34m)\u001b[0m\u001b[0;34m\u001b[0m\u001b[0;34m\u001b[0m\u001b[0m\n\u001b[0;32m----> 2\u001b[0;31m \u001b[0mdedep_data\u001b[0m \u001b[0;34m=\u001b[0m \u001b[0mdeduplicate_jaccard\u001b[0m\u001b[0;34m(\u001b[0m\u001b[0mdata\u001b[0m\u001b[0;34m,\u001b[0m\u001b[0mprocessor\u001b[0m\u001b[0;34m)\u001b[0m\u001b[0;34m\u001b[0m\u001b[0;34m\u001b[0m\u001b[0m\n\u001b[0m\u001b[1;32m      3\u001b[0m \u001b[0mprint\u001b[0m\u001b[0;34m(\u001b[0m\u001b[0;34m\"data size after deduplication\"\u001b[0m\u001b[0;34m,\u001b[0m \u001b[0mlen\u001b[0m\u001b[0;34m(\u001b[0m\u001b[0mdedep_data\u001b[0m\u001b[0;34m)\u001b[0m\u001b[0;34m)\u001b[0m\u001b[0;34m\u001b[0m\u001b[0;34m\u001b[0m\u001b[0m\n",
      "\u001b[0;32m<ipython-input-38-36117d2dd8fe>\u001b[0m in \u001b[0;36mdeduplicate_jaccard\u001b[0;34m(database, processor)\u001b[0m\n\u001b[1;32m     25\u001b[0m                     \u001b[0msim\u001b[0m\u001b[0;34m.\u001b[0m\u001b[0mappend\u001b[0m\u001b[0;34m(\u001b[0m\u001b[0mcalculate_similarity\u001b[0m\u001b[0;34m(\u001b[0m\u001b[0mdatabase\u001b[0m\u001b[0;34m[\u001b[0m\u001b[0midx\u001b[0m\u001b[0;34m]\u001b[0m\u001b[0;34m[\u001b[0m\u001b[0;36m1\u001b[0m\u001b[0;34m]\u001b[0m\u001b[0;34m[\u001b[0m\u001b[0;34m'code_tokens'\u001b[0m\u001b[0;34m]\u001b[0m\u001b[0;34m,\u001b[0m \u001b[0mdatabase\u001b[0m\u001b[0;34m[\u001b[0m\u001b[0midx2\u001b[0m\u001b[0;34m]\u001b[0m\u001b[0;34m[\u001b[0m\u001b[0;36m1\u001b[0m\u001b[0;34m]\u001b[0m\u001b[0;34m[\u001b[0m\u001b[0;34m'code_tokens'\u001b[0m\u001b[0;34m]\u001b[0m\u001b[0;34m)\u001b[0m\u001b[0;34m)\u001b[0m\u001b[0;34m\u001b[0m\u001b[0;34m\u001b[0m\u001b[0m\n\u001b[1;32m     26\u001b[0m \u001b[0;34m\u001b[0m\u001b[0m\n\u001b[0;32m---> 27\u001b[0;31m     \u001b[0mParallel\u001b[0m\u001b[0;34m(\u001b[0m\u001b[0mn_jobs\u001b[0m\u001b[0;34m=\u001b[0m\u001b[0;36m8\u001b[0m\u001b[0;34m,\u001b[0m \u001b[0mprefer\u001b[0m\u001b[0;34m=\u001b[0m\u001b[0;34m\"threads\"\u001b[0m\u001b[0;34m)\u001b[0m\u001b[0;34m(\u001b[0m\u001b[0mdelayed\u001b[0m\u001b[0;34m(\u001b[0m\u001b[0msolve\u001b[0m\u001b[0;34m)\u001b[0m\u001b[0;34m(\u001b[0m\u001b[0mproblem\u001b[0m\u001b[0;34m)\u001b[0m \u001b[0;32mfor\u001b[0m \u001b[0mproblem\u001b[0m \u001b[0;32min\u001b[0m \u001b[0mtqdm\u001b[0m\u001b[0;34m(\u001b[0m\u001b[0mproblem_to_dataidx\u001b[0m\u001b[0;34m.\u001b[0m\u001b[0mkeys\u001b[0m\u001b[0;34m(\u001b[0m\u001b[0;34m)\u001b[0m\u001b[0;34m)\u001b[0m\u001b[0;34m)\u001b[0m\u001b[0;34m\u001b[0m\u001b[0;34m\u001b[0m\u001b[0m\n\u001b[0m\u001b[1;32m     28\u001b[0m \u001b[0;34m\u001b[0m\u001b[0m\n\u001b[1;32m     29\u001b[0m     \u001b[0;32mreturn\u001b[0m \u001b[0mdeduplication_database\u001b[0m\u001b[0;34m\u001b[0m\u001b[0;34m\u001b[0m\u001b[0m\n",
      "\u001b[0;32m/home/mahim/miniconda3/envs/python36/lib/python3.6/site-packages/joblib/parallel.py\u001b[0m in \u001b[0;36m__call__\u001b[0;34m(self, iterable)\u001b[0m\n\u001b[1;32m   1054\u001b[0m \u001b[0;34m\u001b[0m\u001b[0m\n\u001b[1;32m   1055\u001b[0m             \u001b[0;32mwith\u001b[0m \u001b[0mself\u001b[0m\u001b[0;34m.\u001b[0m\u001b[0m_backend\u001b[0m\u001b[0;34m.\u001b[0m\u001b[0mretrieval_context\u001b[0m\u001b[0;34m(\u001b[0m\u001b[0;34m)\u001b[0m\u001b[0;34m:\u001b[0m\u001b[0;34m\u001b[0m\u001b[0;34m\u001b[0m\u001b[0m\n\u001b[0;32m-> 1056\u001b[0;31m                 \u001b[0mself\u001b[0m\u001b[0;34m.\u001b[0m\u001b[0mretrieve\u001b[0m\u001b[0;34m(\u001b[0m\u001b[0;34m)\u001b[0m\u001b[0;34m\u001b[0m\u001b[0;34m\u001b[0m\u001b[0m\n\u001b[0m\u001b[1;32m   1057\u001b[0m             \u001b[0;31m# Make sure that we get a last message telling us we are done\u001b[0m\u001b[0;34m\u001b[0m\u001b[0;34m\u001b[0m\u001b[0;34m\u001b[0m\u001b[0m\n\u001b[1;32m   1058\u001b[0m             \u001b[0melapsed_time\u001b[0m \u001b[0;34m=\u001b[0m \u001b[0mtime\u001b[0m\u001b[0;34m.\u001b[0m\u001b[0mtime\u001b[0m\u001b[0;34m(\u001b[0m\u001b[0;34m)\u001b[0m \u001b[0;34m-\u001b[0m \u001b[0mself\u001b[0m\u001b[0;34m.\u001b[0m\u001b[0m_start_time\u001b[0m\u001b[0;34m\u001b[0m\u001b[0;34m\u001b[0m\u001b[0m\n",
      "\u001b[0;32m/home/mahim/miniconda3/envs/python36/lib/python3.6/site-packages/joblib/parallel.py\u001b[0m in \u001b[0;36mretrieve\u001b[0;34m(self)\u001b[0m\n\u001b[1;32m    933\u001b[0m             \u001b[0;32mtry\u001b[0m\u001b[0;34m:\u001b[0m\u001b[0;34m\u001b[0m\u001b[0;34m\u001b[0m\u001b[0m\n\u001b[1;32m    934\u001b[0m                 \u001b[0;32mif\u001b[0m \u001b[0mgetattr\u001b[0m\u001b[0;34m(\u001b[0m\u001b[0mself\u001b[0m\u001b[0;34m.\u001b[0m\u001b[0m_backend\u001b[0m\u001b[0;34m,\u001b[0m \u001b[0;34m'supports_timeout'\u001b[0m\u001b[0;34m,\u001b[0m \u001b[0;32mFalse\u001b[0m\u001b[0;34m)\u001b[0m\u001b[0;34m:\u001b[0m\u001b[0;34m\u001b[0m\u001b[0;34m\u001b[0m\u001b[0m\n\u001b[0;32m--> 935\u001b[0;31m                     \u001b[0mself\u001b[0m\u001b[0;34m.\u001b[0m\u001b[0m_output\u001b[0m\u001b[0;34m.\u001b[0m\u001b[0mextend\u001b[0m\u001b[0;34m(\u001b[0m\u001b[0mjob\u001b[0m\u001b[0;34m.\u001b[0m\u001b[0mget\u001b[0m\u001b[0;34m(\u001b[0m\u001b[0mtimeout\u001b[0m\u001b[0;34m=\u001b[0m\u001b[0mself\u001b[0m\u001b[0;34m.\u001b[0m\u001b[0mtimeout\u001b[0m\u001b[0;34m)\u001b[0m\u001b[0;34m)\u001b[0m\u001b[0;34m\u001b[0m\u001b[0;34m\u001b[0m\u001b[0m\n\u001b[0m\u001b[1;32m    936\u001b[0m                 \u001b[0;32melse\u001b[0m\u001b[0;34m:\u001b[0m\u001b[0;34m\u001b[0m\u001b[0;34m\u001b[0m\u001b[0m\n\u001b[1;32m    937\u001b[0m                     \u001b[0mself\u001b[0m\u001b[0;34m.\u001b[0m\u001b[0m_output\u001b[0m\u001b[0;34m.\u001b[0m\u001b[0mextend\u001b[0m\u001b[0;34m(\u001b[0m\u001b[0mjob\u001b[0m\u001b[0;34m.\u001b[0m\u001b[0mget\u001b[0m\u001b[0;34m(\u001b[0m\u001b[0;34m)\u001b[0m\u001b[0;34m)\u001b[0m\u001b[0;34m\u001b[0m\u001b[0;34m\u001b[0m\u001b[0m\n",
      "\u001b[0;32m/home/mahim/miniconda3/envs/python36/lib/python3.6/multiprocessing/pool.py\u001b[0m in \u001b[0;36mget\u001b[0;34m(self, timeout)\u001b[0m\n\u001b[1;32m    636\u001b[0m \u001b[0;34m\u001b[0m\u001b[0m\n\u001b[1;32m    637\u001b[0m     \u001b[0;32mdef\u001b[0m \u001b[0mget\u001b[0m\u001b[0;34m(\u001b[0m\u001b[0mself\u001b[0m\u001b[0;34m,\u001b[0m \u001b[0mtimeout\u001b[0m\u001b[0;34m=\u001b[0m\u001b[0;32mNone\u001b[0m\u001b[0;34m)\u001b[0m\u001b[0;34m:\u001b[0m\u001b[0;34m\u001b[0m\u001b[0;34m\u001b[0m\u001b[0m\n\u001b[0;32m--> 638\u001b[0;31m         \u001b[0mself\u001b[0m\u001b[0;34m.\u001b[0m\u001b[0mwait\u001b[0m\u001b[0;34m(\u001b[0m\u001b[0mtimeout\u001b[0m\u001b[0;34m)\u001b[0m\u001b[0;34m\u001b[0m\u001b[0;34m\u001b[0m\u001b[0m\n\u001b[0m\u001b[1;32m    639\u001b[0m         \u001b[0;32mif\u001b[0m \u001b[0;32mnot\u001b[0m \u001b[0mself\u001b[0m\u001b[0;34m.\u001b[0m\u001b[0mready\u001b[0m\u001b[0;34m(\u001b[0m\u001b[0;34m)\u001b[0m\u001b[0;34m:\u001b[0m\u001b[0;34m\u001b[0m\u001b[0;34m\u001b[0m\u001b[0m\n\u001b[1;32m    640\u001b[0m             \u001b[0;32mraise\u001b[0m \u001b[0mTimeoutError\u001b[0m\u001b[0;34m\u001b[0m\u001b[0;34m\u001b[0m\u001b[0m\n",
      "\u001b[0;32m/home/mahim/miniconda3/envs/python36/lib/python3.6/multiprocessing/pool.py\u001b[0m in \u001b[0;36mwait\u001b[0;34m(self, timeout)\u001b[0m\n\u001b[1;32m    633\u001b[0m \u001b[0;34m\u001b[0m\u001b[0m\n\u001b[1;32m    634\u001b[0m     \u001b[0;32mdef\u001b[0m \u001b[0mwait\u001b[0m\u001b[0;34m(\u001b[0m\u001b[0mself\u001b[0m\u001b[0;34m,\u001b[0m \u001b[0mtimeout\u001b[0m\u001b[0;34m=\u001b[0m\u001b[0;32mNone\u001b[0m\u001b[0;34m)\u001b[0m\u001b[0;34m:\u001b[0m\u001b[0;34m\u001b[0m\u001b[0;34m\u001b[0m\u001b[0m\n\u001b[0;32m--> 635\u001b[0;31m         \u001b[0mself\u001b[0m\u001b[0;34m.\u001b[0m\u001b[0m_event\u001b[0m\u001b[0;34m.\u001b[0m\u001b[0mwait\u001b[0m\u001b[0;34m(\u001b[0m\u001b[0mtimeout\u001b[0m\u001b[0;34m)\u001b[0m\u001b[0;34m\u001b[0m\u001b[0;34m\u001b[0m\u001b[0m\n\u001b[0m\u001b[1;32m    636\u001b[0m \u001b[0;34m\u001b[0m\u001b[0m\n\u001b[1;32m    637\u001b[0m     \u001b[0;32mdef\u001b[0m \u001b[0mget\u001b[0m\u001b[0;34m(\u001b[0m\u001b[0mself\u001b[0m\u001b[0;34m,\u001b[0m \u001b[0mtimeout\u001b[0m\u001b[0;34m=\u001b[0m\u001b[0;32mNone\u001b[0m\u001b[0;34m)\u001b[0m\u001b[0;34m:\u001b[0m\u001b[0;34m\u001b[0m\u001b[0;34m\u001b[0m\u001b[0m\n",
      "\u001b[0;32m/home/mahim/miniconda3/envs/python36/lib/python3.6/threading.py\u001b[0m in \u001b[0;36mwait\u001b[0;34m(self, timeout)\u001b[0m\n\u001b[1;32m    549\u001b[0m             \u001b[0msignaled\u001b[0m \u001b[0;34m=\u001b[0m \u001b[0mself\u001b[0m\u001b[0;34m.\u001b[0m\u001b[0m_flag\u001b[0m\u001b[0;34m\u001b[0m\u001b[0;34m\u001b[0m\u001b[0m\n\u001b[1;32m    550\u001b[0m             \u001b[0;32mif\u001b[0m \u001b[0;32mnot\u001b[0m \u001b[0msignaled\u001b[0m\u001b[0;34m:\u001b[0m\u001b[0;34m\u001b[0m\u001b[0;34m\u001b[0m\u001b[0m\n\u001b[0;32m--> 551\u001b[0;31m                 \u001b[0msignaled\u001b[0m \u001b[0;34m=\u001b[0m \u001b[0mself\u001b[0m\u001b[0;34m.\u001b[0m\u001b[0m_cond\u001b[0m\u001b[0;34m.\u001b[0m\u001b[0mwait\u001b[0m\u001b[0;34m(\u001b[0m\u001b[0mtimeout\u001b[0m\u001b[0;34m)\u001b[0m\u001b[0;34m\u001b[0m\u001b[0;34m\u001b[0m\u001b[0m\n\u001b[0m\u001b[1;32m    552\u001b[0m             \u001b[0;32mreturn\u001b[0m \u001b[0msignaled\u001b[0m\u001b[0;34m\u001b[0m\u001b[0;34m\u001b[0m\u001b[0m\n\u001b[1;32m    553\u001b[0m \u001b[0;34m\u001b[0m\u001b[0m\n",
      "\u001b[0;32m/home/mahim/miniconda3/envs/python36/lib/python3.6/threading.py\u001b[0m in \u001b[0;36mwait\u001b[0;34m(self, timeout)\u001b[0m\n\u001b[1;32m    293\u001b[0m         \u001b[0;32mtry\u001b[0m\u001b[0;34m:\u001b[0m    \u001b[0;31m# restore state no matter what (e.g., KeyboardInterrupt)\u001b[0m\u001b[0;34m\u001b[0m\u001b[0;34m\u001b[0m\u001b[0m\n\u001b[1;32m    294\u001b[0m             \u001b[0;32mif\u001b[0m \u001b[0mtimeout\u001b[0m \u001b[0;32mis\u001b[0m \u001b[0;32mNone\u001b[0m\u001b[0;34m:\u001b[0m\u001b[0;34m\u001b[0m\u001b[0;34m\u001b[0m\u001b[0m\n\u001b[0;32m--> 295\u001b[0;31m                 \u001b[0mwaiter\u001b[0m\u001b[0;34m.\u001b[0m\u001b[0macquire\u001b[0m\u001b[0;34m(\u001b[0m\u001b[0;34m)\u001b[0m\u001b[0;34m\u001b[0m\u001b[0;34m\u001b[0m\u001b[0m\n\u001b[0m\u001b[1;32m    296\u001b[0m                 \u001b[0mgotit\u001b[0m \u001b[0;34m=\u001b[0m \u001b[0;32mTrue\u001b[0m\u001b[0;34m\u001b[0m\u001b[0;34m\u001b[0m\u001b[0m\n\u001b[1;32m    297\u001b[0m             \u001b[0;32melse\u001b[0m\u001b[0;34m:\u001b[0m\u001b[0;34m\u001b[0m\u001b[0;34m\u001b[0m\u001b[0m\n",
      "\u001b[0;31mKeyboardInterrupt\u001b[0m: "
     ]
    }
   ],
   "source": [
    "print(\"previous data size \", len(data))\n",
    "dedep_data = deduplicate_jaccard(data,processor)\n",
    "print(\"data size after deduplication\", len(dedep_data))"
   ]
  },
  {
   "cell_type": "code",
   "execution_count": 18,
   "metadata": {},
   "outputs": [
    {
     "name": "stdout",
     "output_type": "stream",
     "text": [
      "previous data size  274603\n"
     ]
    },
    {
     "name": "stderr",
     "output_type": "stream",
     "text": [
      "100%|██████████| 2794/2794 [10:34<00:00,  4.41it/s] \n"
     ]
    },
    {
     "name": "stdout",
     "output_type": "stream",
     "text": [
      "data size after deduplication 274603\n"
     ]
    }
   ],
   "source": [
    "print(\"previous data size \", len(dedep_data))\n",
    "dedep_data = deduplicate_jaccard(dedep_data,processor)\n",
    "print(\"data size after deduplication\", len(dedep_data))"
   ]
  },
  {
   "cell_type": "code",
   "execution_count": 3,
   "metadata": {},
   "outputs": [
    {
     "name": "stdout",
     "output_type": "stream",
     "text": [
      "src_test.java-java.java   test.jsonl                train.java-java.id\n",
      "src_train.java-java.java  tgt_test.java-java.java   train.jsonl\n",
      "src_valid.java-java.java  tgt_train.java-java.java  valid.java-java.id\n",
      "test.java-java.id         tgt_valid.java-java.java  valid.jsonl\n"
     ]
    }
   ],
   "source": [
    "ls ../data/java/processed/test.jsonl"
   ]
  },
  {
   "cell_type": "code",
   "execution_count": 1,
   "metadata": {},
   "outputs": [],
   "source": [
    "from codegen.preprocessing.lang_processors.java_processor import JavaProcessor\n",
    "from codegen.preprocessing.lang_processors.python_processor import PythonProcessor\n",
    "import subprocess\n",
    "import filecmp\n",
    "from subprocess import Popen, PIPE, STDOUT\n",
    "import sys\n",
    "import json\n",
    "root_folder = \"../third_party\"\n",
    "jprocessor = JavaProcessor(root_folder=root_folder)\n",
    "pyprocessor = PythonProcessor(root_folder=root_folder)\n",
    "def getJsonData(JsonFile):\n",
    "    with open(JsonFile, encoding=\"utf8\") as f:\n",
    "        data = json.load(f)\n",
    "    return data\n"
   ]
  },
  {
   "cell_type": "code",
   "execution_count": 2,
   "metadata": {},
   "outputs": [],
   "source": [
    "test = getJsonData('../data/java/processed/test.jsonl')"
   ]
  },
  {
   "cell_type": "code",
   "execution_count": 24,
   "metadata": {},
   "outputs": [
    {
     "name": "stdout",
     "output_type": "stream",
     "text": [
      "import java . util . * ; class Main { public static void main ( String [ ] args ) { Scanner scan = new Scanner ( System . in ) ; int N = scan . nextInt ( ) ; int M = scan . nextInt ( ) ; int k = ( int ) M / N ; int ans = 1 ; for ( int i = 2 ; i <= k ; i ++ ) { if ( M % i == 0 ) { ans = i ; } } System . out . println ( ans ) ; } }\n",
      "###########\n",
      "import java . util . * ; class Main { public static void main ( String [ ] args ) { Scanner scan = new Scanner ( System . in ) ; int N = scan . nextInt ( ) ; int M = scan . nextInt ( ) ; int k = ( int ) M / N ; int ans = 1 ; for ( int i = k ; i > 1 ; i -- ) { if ( M % i == 0 ) { ans = i ; break ; } } System . out . println ( ans ) ; } }\n",
      "p03241_s047012383\n"
     ]
    }
   ],
   "source": [
    "for id in [57, 287, 301, 316, 329, 323, 327, 335, 357, 384, 467]:\n",
    "    print(\" \".join(test[id]['src']))\n",
    "    print(\"###########\")\n",
    "    print(\" \".join(test[id]['tgt']))\n",
    "    print(test[id]['src_id'])\n",
    "    break"
   ]
  },
  {
   "cell_type": "code",
   "execution_count": 21,
   "metadata": {},
   "outputs": [
    {
     "data": {
      "text/plain": [
       "'import java . util . * ; public class Main { public static void main ( String [ ] args ) { Scanner sc = new Scanner ( System . in ) ; int n = sc . nextInt ( ) ; int H ; int u = 0 ; int [ ] x = new int [ n ] ; int [ ] y = new int [ n ] ; int [ ] h = new int [ n ] ; for ( int i = 0 ; i < n ; i ++ ) { x [ i ] = sc . nextInt ( ) ; y [ i ] = sc . nextInt ( ) ; h [ i ] = sc . nextInt ( ) ; if ( h [ i ] > 0 ) u = i ; } int t ; for ( int i = 0 ; i <= 100 ; i ++ ) { for ( int j = 0 ; j <= 100 ; j ++ ) { H = h [ u ] + Math . abs ( i - x [ u ] ) + Math . abs ( j - y [ u ] ) ; t = 0 ; for ( int k = 0 ; k < n ; k ++ ) { int Hh = Math . max ( H - Math . abs ( i - x [ k ] ) - Math . abs ( j - y [ k ] ) , 0 ) ; if ( Hh != h [ k ] ) { t = 1 ; break ; } } if ( t == 0 ) System . out . println ( i + \" ▁ \" + j + \" \\u3000 \" + H ) ; } } } }'"
      ]
     },
     "execution_count": 21,
     "metadata": {},
     "output_type": "execute_result"
    }
   ],
   "source": [
    "\" \".join(test[384]['src'])"
   ]
  },
  {
   "cell_type": "code",
   "execution_count": 7,
   "metadata": {},
   "outputs": [],
   "source": [
    "gen = getJsonData('../codet5/codenet/java2java_with_verdict/generation.json')"
   ]
  },
  {
   "cell_type": "code",
   "execution_count": 6,
   "metadata": {},
   "outputs": [
    {
     "name": "stdout",
     "output_type": "stream",
     "text": [
      "dict_keys(['src_id', 'src', 'src_verdict', 'tgt', 'tgt_id'])\n"
     ]
    },
    {
     "data": {
      "text/plain": [
       "47417"
      ]
     },
     "execution_count": 6,
     "metadata": {},
     "output_type": "execute_result"
    }
   ],
   "source": [
    "\n",
    "print(test[0].keys())\n",
    "len(test)"
   ]
  },
  {
   "cell_type": "code",
   "execution_count": 17,
   "metadata": {},
   "outputs": [
    {
     "name": "stdout",
     "output_type": "stream",
     "text": [
      "23\n"
     ]
    }
   ],
   "source": [
    "#from tqdm import tqdm\n",
    "test[0].keys()\n",
    "cnt = 0\n",
    "jprocessor = JavaProcessor(root_folder=root_folder)\n",
    "pyprocessor = PythonProcessor(root_folder=root_folder)\n",
    "\n",
    "for dt in test:\n",
    "    if jprocessor.detokenize_code(dt['src']) == jprocessor.detokenize_code(dt['tgt']):\n",
    "        cnt+=1\n",
    "print(cnt)"
   ]
  },
  {
   "cell_type": "code",
   "execution_count": 12,
   "metadata": {},
   "outputs": [
    {
     "ename": "AttributeError",
     "evalue": "'list' object has no attribute 'replace'",
     "output_type": "error",
     "traceback": [
      "\u001b[0;31m---------------------------------------------------------------------------\u001b[0m",
      "\u001b[0;31mAttributeError\u001b[0m                            Traceback (most recent call last)",
      "\u001b[0;32m<ipython-input-12-b580e6c3b1b4>\u001b[0m in \u001b[0;36m<module>\u001b[0;34m()\u001b[0m\n\u001b[0;32m----> 1\u001b[0;31m \u001b[0mjprocessor\u001b[0m\u001b[0;34m.\u001b[0m\u001b[0mtokenize_code\u001b[0m\u001b[0;34m(\u001b[0m\u001b[0mtest\u001b[0m\u001b[0;34m[\u001b[0m\u001b[0;36m0\u001b[0m\u001b[0;34m]\u001b[0m\u001b[0;34m[\u001b[0m\u001b[0;34m'src'\u001b[0m\u001b[0;34m]\u001b[0m\u001b[0;34m)\u001b[0m\u001b[0;34m\u001b[0m\u001b[0;34m\u001b[0m\u001b[0m\n\u001b[0m",
      "\u001b[0;32m/home/mahim/program_repair/CodeNet/src/codegen/preprocessing/lang_processors/tree_sitter_processor.py\u001b[0m in \u001b[0;36mtokenize_code\u001b[0;34m(self, code, keep_comments, process_strings)\u001b[0m\n\u001b[1;32m     58\u001b[0m     \u001b[0;32mdef\u001b[0m \u001b[0mtokenize_code\u001b[0m\u001b[0;34m(\u001b[0m\u001b[0mself\u001b[0m\u001b[0;34m,\u001b[0m \u001b[0mcode\u001b[0m\u001b[0;34m,\u001b[0m \u001b[0mkeep_comments\u001b[0m\u001b[0;34m=\u001b[0m\u001b[0;32mFalse\u001b[0m\u001b[0;34m,\u001b[0m \u001b[0mprocess_strings\u001b[0m\u001b[0;34m=\u001b[0m\u001b[0;32mTrue\u001b[0m\u001b[0;34m)\u001b[0m\u001b[0;34m:\u001b[0m\u001b[0;34m\u001b[0m\u001b[0;34m\u001b[0m\u001b[0m\n\u001b[1;32m     59\u001b[0m         \u001b[0mtokenized_code\u001b[0m \u001b[0;34m=\u001b[0m \u001b[0;34m[\u001b[0m\u001b[0;34m]\u001b[0m\u001b[0;34m\u001b[0m\u001b[0;34m\u001b[0m\u001b[0m\n\u001b[0;32m---> 60\u001b[0;31m         \u001b[0mtokens\u001b[0m\u001b[0;34m,\u001b[0m \u001b[0mtoken_types\u001b[0m \u001b[0;34m=\u001b[0m \u001b[0mself\u001b[0m\u001b[0;34m.\u001b[0m\u001b[0mget_tokens_and_types\u001b[0m\u001b[0;34m(\u001b[0m\u001b[0mcode\u001b[0m\u001b[0;34m)\u001b[0m\u001b[0;34m\u001b[0m\u001b[0;34m\u001b[0m\u001b[0m\n\u001b[0m\u001b[1;32m     61\u001b[0m         \u001b[0;32mfor\u001b[0m \u001b[0mtoken\u001b[0m\u001b[0;34m,\u001b[0m \u001b[0mtoken_type\u001b[0m \u001b[0;32min\u001b[0m \u001b[0mzip\u001b[0m\u001b[0;34m(\u001b[0m\u001b[0mtokens\u001b[0m\u001b[0;34m,\u001b[0m \u001b[0mtoken_types\u001b[0m\u001b[0;34m)\u001b[0m\u001b[0;34m:\u001b[0m\u001b[0;34m\u001b[0m\u001b[0;34m\u001b[0m\u001b[0m\n\u001b[1;32m     62\u001b[0m             \u001b[0;32mif\u001b[0m \u001b[0mtoken_type\u001b[0m \u001b[0;32min\u001b[0m \u001b[0mCOMMENT_TYPES\u001b[0m \u001b[0;32mand\u001b[0m \u001b[0mkeep_comments\u001b[0m \u001b[0;32mis\u001b[0m \u001b[0;32mFalse\u001b[0m\u001b[0;34m:\u001b[0m\u001b[0;34m\u001b[0m\u001b[0;34m\u001b[0m\u001b[0m\n",
      "\u001b[0;32m/home/mahim/program_repair/CodeNet/src/codegen/preprocessing/lang_processors/tree_sitter_processor.py\u001b[0m in \u001b[0;36mget_tokens_and_types\u001b[0;34m(self, code)\u001b[0m\n\u001b[1;32m     78\u001b[0m \u001b[0;34m\u001b[0m\u001b[0m\n\u001b[1;32m     79\u001b[0m     \u001b[0;32mdef\u001b[0m \u001b[0mget_tokens_and_types\u001b[0m\u001b[0;34m(\u001b[0m\u001b[0mself\u001b[0m\u001b[0;34m,\u001b[0m \u001b[0mcode\u001b[0m\u001b[0;34m)\u001b[0m\u001b[0;34m:\u001b[0m\u001b[0;34m\u001b[0m\u001b[0;34m\u001b[0m\u001b[0m\n\u001b[0;32m---> 80\u001b[0;31m         \u001b[0mcode\u001b[0m \u001b[0;34m=\u001b[0m \u001b[0mcode\u001b[0m\u001b[0;34m.\u001b[0m\u001b[0mreplace\u001b[0m\u001b[0;34m(\u001b[0m\u001b[0;34m\"\\r\"\u001b[0m\u001b[0;34m,\u001b[0m \u001b[0;34m\"\"\u001b[0m\u001b[0;34m)\u001b[0m\u001b[0;34m\u001b[0m\u001b[0;34m\u001b[0m\u001b[0m\n\u001b[0m\u001b[1;32m     81\u001b[0m         \u001b[0mcode\u001b[0m \u001b[0;34m=\u001b[0m \u001b[0mbytes\u001b[0m\u001b[0;34m(\u001b[0m\u001b[0mcode\u001b[0m\u001b[0;34m,\u001b[0m \u001b[0;34m\"utf8\"\u001b[0m\u001b[0;34m)\u001b[0m\u001b[0;34m\u001b[0m\u001b[0;34m\u001b[0m\u001b[0m\n\u001b[1;32m     82\u001b[0m         \u001b[0mtree\u001b[0m \u001b[0;34m=\u001b[0m \u001b[0mself\u001b[0m\u001b[0;34m.\u001b[0m\u001b[0mget_ast\u001b[0m\u001b[0;34m(\u001b[0m\u001b[0mcode\u001b[0m\u001b[0;34m)\u001b[0m\u001b[0;34m\u001b[0m\u001b[0;34m\u001b[0m\u001b[0m\n",
      "\u001b[0;31mAttributeError\u001b[0m: 'list' object has no attribute 'replace'"
     ]
    }
   ],
   "source": [
    "jprocessor.tokenize_code(test[0]['src'])"
   ]
  },
  {
   "cell_type": "code",
   "execution_count": 35,
   "metadata": {},
   "outputs": [
    {
     "name": "stderr",
     "output_type": "stream",
     "text": [
      "100%|██████████| 47417/47417 [00:00<00:00, 275189.03it/s]\n",
      "47417it [00:04, 11368.60it/s]\n"
     ]
    },
    {
     "name": "stdout",
     "output_type": "stream",
     "text": [
      "47417 47417\n",
      "Exact Match:\t\t0.03\n"
     ]
    }
   ],
   "source": [
    "references = []\n",
    "with open('../data/java/processed/test.jsonl', 'r', encoding='utf-8') as f:\n",
    "    data = json.load(f)\n",
    "    #refs = [x['tgt'].strip() for x in data]\n",
    "    for line in tqdm(data):\n",
    "        #print(line['tgt'])\n",
    "        refs = [line['tgt']] # change here for tokenization detokenization\n",
    "        \n",
    "        references.append([r for r in refs]) ## need to visualize referances I am suspecting it's all charecters\n",
    "\n",
    "\n",
    "translations = []\n",
    "with open('../codet5/codenet/java2java/test.src', 'r', encoding='utf-8') as fh:\n",
    "    for line in tqdm(fh):\n",
    "        line = line.strip()\n",
    "        \n",
    "        translations.append(line.split())\n",
    "print(len(references),len(translations))\n",
    "assert len(references) == len(translations)\n",
    "\n",
    "\n",
    "count = 0\n",
    "for i in range(len(references)):\n",
    "    refs = references[i]  # r is a list of 'list of tokens'\n",
    "    t = translations[i]  # 'list of tokens'\n",
    "    for r in refs:\n",
    "        if r == t:\n",
    "            count += 1\n",
    "            break\n",
    "acc = round(count / len(translations) * 100, 2)\n",
    "\n",
    "print('Exact Match:\\t\\t%.2f' % (acc))\n"
   ]
  },
  {
   "cell_type": "code",
   "execution_count": 25,
   "metadata": {},
   "outputs": [
    {
     "name": "stdout",
     "output_type": "stream",
     "text": [
      "eval.java-java.id         test.java-java.id         train.java-java.id\n",
      "eval.jsonl                test.jsonl                train.jsonl\n",
      "src_eval.java-java.java   tgt_eval.java-java.java   valid.java-java.id\n",
      "src_test.java-java.java   tgt_test.java-java.java   valid.jsonl\n",
      "src_train.java-java.java  tgt_train.java-java.java\n",
      "src_valid.java-java.java  tgt_valid.java-java.java\n"
     ]
    }
   ],
   "source": [
    "ls ../data/java/processed/"
   ]
  },
  {
   "cell_type": "markdown",
   "metadata": {},
   "source": [
    "<h2>Code for Java graph generations Start here By verdict</h2>"
   ]
  },
  {
   "cell_type": "code",
   "execution_count": 3,
   "metadata": {},
   "outputs": [
    {
     "name": "stdout",
     "output_type": "stream",
     "text": [
      "{'p02546': 1, 'p02547': 2, 'p02548': 3, 'p02549': 4, 'p02550': 5, 'p02551': 6, 'p02552': 1, 'p02553': 2, 'p02554': 3, 'p02555': 4, 'p02556': 5, 'p02557': 6, 'p02570': 1, 'p02571': 2, 'p02572': 3, 'p02573': 4, 'p02574': 5, 'p02575': 6, 'p02576': 1, 'p02577': 2, 'p02578': 3, 'p02579': 4, 'p02580': 5, 'p02581': 6, 'p02582': 1, 'p02583': 2, 'p02584': 3, 'p02585': 4, 'p02586': 5, 'p02587': 6, 'p02588': 1, 'p02589': 2, 'p02590': 3, 'p02591': 4, 'p02592': 5, 'p02593': 6, 'p02594': 1, 'p02595': 2, 'p02596': 3, 'p02597': 4, 'p02598': 5, 'p02599': 6, 'p02612': 1, 'p02613': 2, 'p02614': 3, 'p02615': 4, 'p02616': 5, 'p02617': 6, 'p02621': 1, 'p02622': 2, 'p02623': 3, 'p02624': 4, 'p02625': 5, 'p02626': 6, 'p02627': 1, 'p02628': 2, 'p02629': 3, 'p02630': 4, 'p02631': 5, 'p02632': 6, 'p02633': 1, 'p02634': 2, 'p02635': 3, 'p02636': 4, 'p02637': 5, 'p02638': 6, 'p02639': 1, 'p02640': 2, 'p02641': 3, 'p02642': 4, 'p02643': 5, 'p02644': 6, 'p02651': 1, 'p02652': 2, 'p02653': 3, 'p02654': 4, 'p02655': 5, 'p02656': 6, 'p02657': 1, 'p02658': 2, 'p02659': 3, 'p02660': 4, 'p02661': 5, 'p02662': 6, 'p02669': 1, 'p02670': 2, 'p02671': 3, 'p02672': 4, 'p02673': 5, 'p02674': 6, 'p02675': 1, 'p02676': 2, 'p02677': 3, 'p02678': 4, 'p02679': 5, 'p02680': 6, 'p02681': 1, 'p02682': 2, 'p02683': 3, 'p02684': 4, 'p02685': 5, 'p02686': 6, 'p02687': 1, 'p02688': 2, 'p02689': 3, 'p02690': 4, 'p02691': 5, 'p02692': 6, 'p02693': 1, 'p02694': 2, 'p02695': 3, 'p02696': 4, 'p02697': 5, 'p02698': 6, 'p02699': 1, 'p02700': 2, 'p02701': 3, 'p02702': 4, 'p02703': 5, 'p02704': 6, 'p02705': 1, 'p02706': 2, 'p02707': 3, 'p02708': 4, 'p02709': 5, 'p02710': 6, 'p02711': 1, 'p02712': 2, 'p02713': 3, 'p02714': 4, 'p02715': 5, 'p02716': 6, 'p02717': 1, 'p02718': 2, 'p02719': 3, 'p02720': 4, 'p02721': 5, 'p02722': 6, 'p02723': 1, 'p02724': 2, 'p02725': 3, 'p02726': 4, 'p02727': 5, 'p02728': 6, 'p02729': 1, 'p02730': 2, 'p02731': 3, 'p02732': 4, 'p02733': 5, 'p02734': 6, 'p02735': 1, 'p02736': 2, 'p02737': 3, 'p02738': 4, 'p02739': 5, 'p02740': 6, 'p02753': 1, 'p02754': 2, 'p02755': 3, 'p02756': 4, 'p02757': 5, 'p02758': 6, 'p02759': 1, 'p02760': 2, 'p02761': 3, 'p02762': 4, 'p02763': 5, 'p02764': 6, 'p02765': 1, 'p02766': 2, 'p02767': 3, 'p02768': 4, 'p02769': 5, 'p02770': 6, 'p02771': 1, 'p02772': 2, 'p02773': 3, 'p02774': 4, 'p02775': 5, 'p02776': 6, 'p02777': 1, 'p02778': 2, 'p02779': 3, 'p02780': 4, 'p02781': 5, 'p02782': 6, 'p02783': 1, 'p02784': 2, 'p02785': 3, 'p02786': 4, 'p02787': 5, 'p02788': 6, 'p02789': 1, 'p02790': 2, 'p02791': 3, 'p02792': 4, 'p02793': 5, 'p02794': 6, 'p02801': 1, 'p02802': 2, 'p02803': 3, 'p02804': 4, 'p02805': 5, 'p02811': 1, 'p02812': 2, 'p02813': 3, 'p02814': 4, 'p02815': 5, 'p02816': 6, 'p02817': 1, 'p02818': 2, 'p02819': 3, 'p02820': 4, 'p02821': 5, 'p02822': 6, 'p02823': 1, 'p02824': 2, 'p02825': 3, 'p02826': 4, 'p02827': 5, 'p02828': 6, 'p02829': 1, 'p02830': 2, 'p02831': 3, 'p02832': 4, 'p02833': 5, 'p02834': 6, 'p02835': 1, 'p02836': 2, 'p02837': 3, 'p02838': 4, 'p02839': 5, 'p02840': 6, 'p02847': 1, 'p02848': 2, 'p02849': 3, 'p02850': 4, 'p02851': 5, 'p02852': 6, 'p02859': 1, 'p02860': 2, 'p02861': 3, 'p02862': 4, 'p02863': 5, 'p02864': 6, 'p02873': 1, 'p02874': 2, 'p02875': 3, 'p02876': 4, 'p02877': 5, 'p02878': 6, 'p02879': 1, 'p02880': 2, 'p02881': 3, 'p02882': 4, 'p02883': 5, 'p02884': 6, 'p02885': 1, 'p02886': 2, 'p02887': 3, 'p02888': 4, 'p02889': 5, 'p02890': 6, 'p02891': 1, 'p02892': 2, 'p02893': 3, 'p02894': 4, 'p02895': 5, 'p02896': 6, 'p02897': 1, 'p02898': 2, 'p02899': 3, 'p02900': 4, 'p02901': 5, 'p02902': 6, 'p02903': 1, 'p02904': 2, 'p02905': 3, 'p02906': 4, 'p02907': 5, 'p02908': 6, 'p02909': 1, 'p02910': 2, 'p02911': 3, 'p02912': 4, 'p02913': 5, 'p02914': 6, 'p02915': 1, 'p02916': 2, 'p02917': 3, 'p02918': 4, 'p02919': 5, 'p02920': 6, 'p02921': 1, 'p02922': 2, 'p02923': 3, 'p02924': 4, 'p02925': 5, 'p02926': 6, 'p02933': 1, 'p02934': 2, 'p02935': 3, 'p02936': 4, 'p02937': 5, 'p02938': 6, 'p02939': 1, 'p02940': 2, 'p02941': 3, 'p02942': 4, 'p02943': 5, 'p02944': 6, 'p02945': 1, 'p02946': 2, 'p02947': 3, 'p02948': 4, 'p02949': 5, 'p02950': 6, 'p02951': 1, 'p02952': 2, 'p02953': 3, 'p02954': 4, 'p02955': 5, 'p02956': 6, 'p02957': 1, 'p02958': 2, 'p02959': 3, 'p02960': 4, 'p02961': 5, 'p02962': 6, 'p02963': 1, 'p02964': 2, 'p02965': 3, 'p02966': 4, 'p02967': 5, 'p02968': 6, 'p02969': 1, 'p02970': 2, 'p02971': 3, 'p02972': 4, 'p02973': 5, 'p02974': 6, 'p02975': 1, 'p02976': 2, 'p02977': 3, 'p02978': 4, 'p02979': 5, 'p02980': 6, 'p02981': 1, 'p02982': 2, 'p02983': 3, 'p02984': 4, 'p02985': 5, 'p02986': 6, 'p02987': 1, 'p02988': 2, 'p02989': 3, 'p02990': 4, 'p02991': 5, 'p02992': 6, 'p02993': 1, 'p02994': 2, 'p02995': 3, 'p02996': 4, 'p02997': 5, 'p02998': 6, 'p02999': 1, 'p03000': 2, 'p03001': 3, 'p03002': 4, 'p03003': 5, 'p03004': 6, 'p03011': 1, 'p03012': 2, 'p03013': 3, 'p03014': 4, 'p03015': 5, 'p03016': 6, 'p03017': 1, 'p03018': 2, 'p03019': 3, 'p03020': 4, 'p03021': 5, 'p03022': 6, 'p03029': 1, 'p03030': 2, 'p03031': 3, 'p03032': 4, 'p03033': 5, 'p03034': 6, 'p03035': 1, 'p03036': 2, 'p03037': 3, 'p03038': 4, 'p03039': 5, 'p03040': 6, 'p03041': 1, 'p03042': 2, 'p03043': 3, 'p03044': 4, 'p03045': 5, 'p03046': 6, 'p03053': 1, 'p03054': 2, 'p03055': 3, 'p03056': 4, 'p03057': 5, 'p03058': 6, 'p03059': 1, 'p03060': 2, 'p03061': 3, 'p03062': 4, 'p03071': 1, 'p03072': 2, 'p03073': 3, 'p03074': 4, 'p03075': 1, 'p03076': 2, 'p03077': 3, 'p03078': 4, 'p03085': 1, 'p03086': 2, 'p03087': 3, 'p03088': 4, 'p03089': 1, 'p03090': 2, 'p03091': 3, 'p03092': 4, 'p03093': 5, 'p03094': 6, 'p03095': 1, 'p03096': 2, 'p03097': 3, 'p03098': 4, 'p03099': 5, 'p03100': 6, 'p03101': 1, 'p03102': 2, 'p03103': 3, 'p03104': 4, 'p03105': 1, 'p03106': 2, 'p03107': 3, 'p03108': 4, 'p03109': 1, 'p03110': 2, 'p03111': 3, 'p03112': 4, 'p03125': 1, 'p03126': 2, 'p03127': 3, 'p03128': 4, 'p03135': 1, 'p03136': 2, 'p03137': 3, 'p03138': 4, 'p03145': 1, 'p03146': 2, 'p03147': 3, 'p03148': 4, 'p03186': 1, 'p03187': 2, 'p03188': 3, 'p03189': 4, 'p03190': 5, 'p03191': 6, 'p03200': 1, 'p03201': 2, 'p03202': 3, 'p03203': 4, 'p03204': 5, 'p03205': 6, 'p03206': 1, 'p03207': 2, 'p03208': 3, 'p03209': 4, 'p03210': 1, 'p03211': 2, 'p03212': 3, 'p03213': 4, 'p03219': 1, 'p03220': 2, 'p03221': 3, 'p03222': 4, 'p03231': 1, 'p03232': 2, 'p03233': 3, 'p03234': 4, 'p03235': 5, 'p03236': 6, 'p03237': 7, 'p03238': 1, 'p03239': 2, 'p03240': 3, 'p03241': 4, 'p03242': 1, 'p03243': 2, 'p03244': 3, 'p03245': 4, 'p03246': 1, 'p03247': 2, 'p03248': 3, 'p03249': 4, 'p03250': 1, 'p03251': 2, 'p03252': 3, 'p03253': 4, 'p03254': 1, 'p03255': 2, 'p03256': 3, 'p03257': 4, 'p03258': 5, 'p03259': 6, 'p03260': 1, 'p03261': 2, 'p03262': 3, 'p03263': 4, 'p03264': 1, 'p03265': 2, 'p03266': 3, 'p03267': 4, 'p03268': 1, 'p03269': 2, 'p03270': 3, 'p03271': 4, 'p03272': 1, 'p03273': 2, 'p03274': 3, 'p03275': 4, 'p03276': 1, 'p03277': 2, 'p03278': 3, 'p03279': 4, 'p03280': 1, 'p03281': 2, 'p03282': 3, 'p03283': 4, 'p03284': 1, 'p03285': 2, 'p03286': 3, 'p03287': 4, 'p03288': 1, 'p03289': 2, 'p03290': 3, 'p03291': 4, 'p03292': 1, 'p03293': 2, 'p03294': 3, 'p03295': 4, 'p03296': 1, 'p03297': 2, 'p03298': 3, 'p03299': 4, 'p03300': 5, 'p03301': 6, 'p03307': 1, 'p03308': 2, 'p03309': 3, 'p03310': 4, 'p03311': 1, 'p03312': 2, 'p03313': 3, 'p03314': 4, 'p03315': 1, 'p03316': 2, 'p03317': 3, 'p03318': 4, 'p03319': 1, 'p03320': 2, 'p03321': 3, 'p03322': 4, 'p03323': 1, 'p03324': 2, 'p03325': 3, 'p03326': 4, 'p03327': 1, 'p03328': 2, 'p03329': 3, 'p03330': 4, 'p03331': 1, 'p03332': 2, 'p03333': 3, 'p03334': 4, 'p03335': 5, 'p03336': 6, 'p03337': 1, 'p03338': 2, 'p03339': 3, 'p03340': 4, 'p03341': 1, 'p03342': 2, 'p03343': 3, 'p03344': 4, 'p03345': 1, 'p03346': 2, 'p03347': 3, 'p03348': 4, 'p03349': 5, 'p03350': 6, 'p03351': 1, 'p03352': 2, 'p03353': 3, 'p03354': 4, 'p03355': 1, 'p03356': 2, 'p03357': 3, 'p03358': 4, 'p03359': 1, 'p03360': 2, 'p03361': 3, 'p03362': 4, 'p03363': 1, 'p03364': 2, 'p03365': 3, 'p03366': 4, 'p03367': 5, 'p03368': 6, 'p03369': 1, 'p03370': 2, 'p03371': 3, 'p03372': 4, 'p03373': 1, 'p03374': 2, 'p03375': 3, 'p03376': 4, 'p03377': 1, 'p03378': 2, 'p03379': 3, 'p03380': 4, 'p03381': 1, 'p03382': 2, 'p03383': 3, 'p03384': 4, 'p03385': 1, 'p03386': 2, 'p03387': 3, 'p03388': 4, 'p03389': 1, 'p03390': 2, 'p03391': 3, 'p03392': 4, 'p03393': 1, 'p03394': 2, 'p03395': 3, 'p03396': 4, 'p03397': 5, 'p03398': 6, 'p03399': 1, 'p03400': 2, 'p03401': 3, 'p03402': 4, 'p03403': 1, 'p03404': 2, 'p03405': 3, 'p03406': 4, 'p03407': 1, 'p03408': 2, 'p03409': 3, 'p03410': 4, 'p03411': 1, 'p03412': 2, 'p03413': 3, 'p03414': 4, 'p03415': 1, 'p03416': 2, 'p03417': 3, 'p03418': 4, 'p03419': 1, 'p03420': 2, 'p03421': 3, 'p03422': 4, 'p03423': 1, 'p03424': 2, 'p03425': 3, 'p03426': 4, 'p03427': 1, 'p03428': 2, 'p03429': 3, 'p03430': 4, 'p03431': 5, 'p03432': 6, 'p03433': 1, 'p03434': 2, 'p03435': 3, 'p03436': 4, 'p03447': 1, 'p03448': 2, 'p03449': 3, 'p03450': 4, 'p03451': 1, 'p03452': 2, 'p03453': 3, 'p03454': 4, 'p03455': 1, 'p03456': 2, 'p03457': 3, 'p03458': 4, 'p03459': 1, 'p03460': 2, 'p03461': 3, 'p03462': 4, 'p03463': 1, 'p03464': 2, 'p03465': 3, 'p03466': 4, 'p03467': 5, 'p03468': 6, 'p03469': 1, 'p03470': 2, 'p03471': 3, 'p03472': 4, 'p03473': 1, 'p03474': 2, 'p03475': 3, 'p03476': 4, 'p03477': 1, 'p03478': 2, 'p03479': 3, 'p03480': 4, 'p03481': 1, 'p03482': 2, 'p03483': 3, 'p03484': 4, 'p03485': 1, 'p03486': 2, 'p03487': 3, 'p03488': 4, 'p03489': 1, 'p03490': 2, 'p03491': 3, 'p03492': 4, 'p03493': 1, 'p03494': 2, 'p03495': 3, 'p03496': 4, 'p03497': 1, 'p03498': 2, 'p03499': 3, 'p03500': 4, 'p03501': 1, 'p03502': 2, 'p03503': 3, 'p03504': 4, 'p03543': 1, 'p03544': 2, 'p03545': 3, 'p03546': 4, 'p03547': 1, 'p03548': 2, 'p03549': 3, 'p03550': 4, 'p03551': 1, 'p03552': 2, 'p03553': 3, 'p03554': 4, 'p03555': 1, 'p03556': 2, 'p03557': 3, 'p03558': 4, 'p03559': 1, 'p03560': 2, 'p03561': 3, 'p03562': 4, 'p03563': 1, 'p03564': 2, 'p03565': 3, 'p03566': 4, 'p03573': 1, 'p03574': 2, 'p03575': 3, 'p03576': 4, 'p03597': 1, 'p03598': 2, 'p03599': 3, 'p03600': 4, 'p03601': 1, 'p03602': 2, 'p03603': 3, 'p03604': 4, 'p03605': 1, 'p03606': 2, 'p03607': 3, 'p03608': 4, 'p03609': 1, 'p03610': 2, 'p03611': 3, 'p03612': 4, 'p03613': 1, 'p03614': 2, 'p03615': 3, 'p03616': 4, 'p03617': 1, 'p03618': 2, 'p03619': 3, 'p03620': 4, 'p03621': 5, 'p03622': 6, 'p03623': 1, 'p03624': 2, 'p03625': 3, 'p03626': 4, 'p03627': 1, 'p03628': 2, 'p03629': 3, 'p03630': 4, 'p03631': 1, 'p03632': 2, 'p03633': 3, 'p03634': 4, 'p03635': 1, 'p03636': 2, 'p03637': 3, 'p03638': 4, 'p03639': 1, 'p03640': 2, 'p03641': 3, 'p03642': 4, 'p03643': 1, 'p03644': 2, 'p03645': 3, 'p03646': 4, 'p03647': 1, 'p03648': 2, 'p03649': 3, 'p03650': 4, 'p03651': 1, 'p03652': 2, 'p03653': 3, 'p03654': 4, 'p03655': 5, 'p03656': 6, 'p03657': 1, 'p03658': 2, 'p03659': 3, 'p03660': 4, 'p03661': 1, 'p03662': 2, 'p03663': 3, 'p03664': 4, 'p03665': 1, 'p03666': 2, 'p03667': 3, 'p03668': 4, 'p03669': 5, 'p03670': 6, 'p03671': 1, 'p03672': 2, 'p03673': 3, 'p03674': 4, 'p03675': 1, 'p03676': 2, 'p03677': 3, 'p03678': 4, 'p03679': 1, 'p03680': 2, 'p03681': 3, 'p03682': 4, 'p03683': 1, 'p03684': 2, 'p03685': 3, 'p03686': 4, 'p03687': 1, 'p03688': 2, 'p03689': 3, 'p03690': 4, 'p03691': 5, 'p03692': 6, 'p03693': 1, 'p03694': 2, 'p03695': 3, 'p03696': 4, 'p03697': 1, 'p03698': 2, 'p03699': 3, 'p03700': 4, 'p03701': 1, 'p03702': 2, 'p03703': 3, 'p03704': 4, 'p03705': 1, 'p03706': 2, 'p03707': 3, 'p03708': 4, 'p03709': 5, 'p03710': 6, 'p03711': 1, 'p03712': 2, 'p03713': 3, 'p03714': 4, 'p03715': 1, 'p03716': 2, 'p03717': 3, 'p03718': 4, 'p03719': 1, 'p03720': 2, 'p03721': 3, 'p03722': 4, 'p03723': 1, 'p03724': 2, 'p03725': 3, 'p03726': 4, 'p03727': 5, 'p03728': 6, 'p03729': 1, 'p03730': 2, 'p03731': 3, 'p03732': 4, 'p03733': 1, 'p03734': 2, 'p03735': 3, 'p03736': 4, 'p03737': 1, 'p03738': 2, 'p03739': 3, 'p03740': 4, 'p03741': 1, 'p03742': 2, 'p03743': 3, 'p03744': 4, 'p03745': 1, 'p03746': 2, 'p03747': 3, 'p03748': 4, 'p03749': 5, 'p03750': 6, 'p03759': 1, 'p03760': 2, 'p03761': 3, 'p03762': 4, 'p03763': 1, 'p03764': 2, 'p03765': 3, 'p03766': 4, 'p03767': 1, 'p03768': 2, 'p03769': 3, 'p03770': 4, 'p03771': 5, 'p03772': 6, 'p03773': 1, 'p03774': 2, 'p03775': 3, 'p03776': 4, 'p03777': 1, 'p03778': 2, 'p03779': 3, 'p03780': 4, 'p03781': 1, 'p03782': 2, 'p03783': 3, 'p03784': 4, 'p03785': 1, 'p03786': 2, 'p03787': 3, 'p03788': 4, 'p03789': 5, 'p03790': 6, 'p03795': 1, 'p03796': 2, 'p03797': 3, 'p03798': 4, 'p03799': 1, 'p03800': 2, 'p03801': 3, 'p03802': 4, 'p03803': 1, 'p03804': 2, 'p03805': 3, 'p03806': 4, 'p03807': 1, 'p03808': 2, 'p03809': 3, 'p03810': 4, 'p03811': 5, 'p03812': 6, 'p03813': 1, 'p03814': 2, 'p03815': 3, 'p03816': 4, 'p03817': 1, 'p03818': 2, 'p03819': 3, 'p03820': 4, 'p03821': 1, 'p03822': 2, 'p03823': 3, 'p03824': 4, 'p03825': 5, 'p03826': 1, 'p03827': 2, 'p03828': 3, 'p03829': 4, 'p03830': 1, 'p03831': 2, 'p03832': 3, 'p03833': 4, 'p03834': 1, 'p03835': 2, 'p03836': 3, 'p03837': 4, 'p03838': 1, 'p03839': 2, 'p03840': 3, 'p03841': 4, 'p03842': 5, 'p03843': 6, 'p03844': 1, 'p03845': 2, 'p03846': 3, 'p03847': 4, 'p03848': 1, 'p03849': 2, 'p03850': 3, 'p03851': 4, 'p03852': 1, 'p03853': 2, 'p03854': 3, 'p03855': 4, 'p03856': 1, 'p03857': 2, 'p03858': 3, 'p03859': 4, 'p03860': 1, 'p03861': 2, 'p03862': 3, 'p03863': 4, 'p03864': 1, 'p03865': 2, 'p03866': 3, 'p03867': 4, 'p03937': 1, 'p03938': 2, 'p03939': 3, 'p03940': 4, 'p03941': 5, 'p03942': 6, 'p03943': 1, 'p03944': 2, 'p03945': 3, 'p03946': 4, 'p03947': 1, 'p03948': 2, 'p03949': 3, 'p03950': 4, 'p03951': 1, 'p03952': 2, 'p03953': 3, 'p03954': 4, 'p03955': 5, 'p03956': 6, 'p03962': 1, 'p03963': 2, 'p03964': 3, 'p03965': 4, 'p03966': 1, 'p03967': 2, 'p03968': 3, 'p03969': 4, 'p03986': 1, 'p03987': 2, 'p03988': 3, 'p03989': 4, 'p03990': 5, 'p03991': 6, 'p03997': 1, 'p03998': 2, 'p03999': 3, 'p04000': 4, 'p04001': 1, 'p04002': 2, 'p04003': 3, 'p04004': 4, 'p04005': 1, 'p04006': 2, 'p04007': 3, 'p04008': 4, 'p04009': 5, 'p04010': 6, 'p04011': 1, 'p04012': 2, 'p04013': 3, 'p04014': 4, 'p04015': 1, 'p04016': 2, 'p04017': 3, 'p04018': 4, 'p04019': 1, 'p04020': 2, 'p04021': 3, 'p04022': 4, 'p04023': 5, 'p04024': 6, 'p04025': 1, 'p04026': 2, 'p04027': 3, 'p04028': 4, 'p04029': 1, 'p04030': 2, 'p04031': 3, 'p04032': 4, 'p04033': 1, 'p04034': 2, 'p04035': 3, 'p04036': 4, 'p04037': 5, 'p04038': 6, 'p04039': 1, 'p04040': 2, 'p04041': 3, 'p04042': 4, 'p04043': 1, 'p04044': 2, 'p04045': 3, 'p04046': 4, 'p04047': 1, 'p04048': 2, 'p04049': 3, 'p04050': 4, 'p04051': 5, 'p04052': 6}\n"
     ]
    },
    {
     "data": {
      "text/plain": [
       "\"\\nproblemlist=pd.read_csv('../problem_list.csv')\\ndata_map = {}\\ndifficulty = defaultdict(list)\\nfor index, row in problemlist.iterrows():\\n    if(row['dataset']=='AtCoder'):\\n        difficulty[row['name']].append(row['id'])\\n        data_map[row['id']] = row['dataset']\\n\\nprint(difficulty)\\n\""
      ]
     },
     "execution_count": 3,
     "metadata": {},
     "output_type": "execute_result"
    }
   ],
   "source": [
    "import pandas as pd\n",
    "from collections import defaultdict\n",
    "problems = defaultdict(list)\n",
    "problemlist=pd.read_csv('problem_list.csv')\n",
    "for index, row in problemlist.iterrows():\n",
    "    if(row['dataset']=='AtCoder'):\n",
    "        if(\"AtCoder Regular Contest\" in row['name']):\n",
    "            number = row['name'].split(\" \")[3]\n",
    "            problems[\"ARC\"+number].append(row['id'])\n",
    "        if(\"AtCoder Beginner Contest\" in row['name']):\n",
    "            number = row['name'].split(\" \")[3]\n",
    "            problems[\"ABC\"+number].append(row['id'])\n",
    "        if(\"AtCoder Grand Contest\" in row['name']):\n",
    "            number = row['name'].split(\" \")[3]\n",
    "            problems[\"AGC\"+number].append(row['id'])\n",
    "\n",
    "#print(problems)\n",
    "difficulty = {}\n",
    "for key in problems.keys():\n",
    "    for idx, id in enumerate(problems[key]):\n",
    "        difficulty[id] = idx+1\n",
    "print(difficulty)\n",
    "'''\n",
    "problemlist=pd.read_csv('../problem_list.csv')\n",
    "data_map = {}\n",
    "difficulty = defaultdict(list)\n",
    "for index, row in problemlist.iterrows():\n",
    "    if(row['dataset']=='AtCoder'):\n",
    "        difficulty[row['name']].append(row['id'])\n",
    "        data_map[row['id']] = row['dataset']\n",
    "\n",
    "print(difficulty)\n",
    "'''"
   ]
  },
  {
   "cell_type": "code",
   "execution_count": 4,
   "metadata": {},
   "outputs": [
    {
     "name": "stdout",
     "output_type": "stream",
     "text": [
      "500\n"
     ]
    }
   ],
   "source": [
    "from codegen.preprocessing.lang_processors.java_processor import JavaProcessor\n",
    "from codegen.preprocessing.lang_processors.python_processor import PythonProcessor\n",
    "import subprocess\n",
    "import filecmp\n",
    "from subprocess import Popen, PIPE, STDOUT\n",
    "import sys\n",
    "import json\n",
    "root_folder = \"../third_party\"\n",
    "jprocessor = JavaProcessor(root_folder=root_folder)\n",
    "pyprocessor = PythonProcessor(root_folder=root_folder)\n",
    "def getJsonData(JsonFile):\n",
    "    with open(JsonFile, encoding=\"utf8\") as f:\n",
    "        data = json.load(f)\n",
    "    return data\n",
    "eval = getJsonData('../data/java/processed/eval.jsonl')\n",
    "print(len(eval))"
   ]
  },
  {
   "cell_type": "code",
   "execution_count": 5,
   "metadata": {},
   "outputs": [
    {
     "name": "stdout",
     "output_type": "stream",
     "text": [
      "490\n",
      "{'Compile Error': {'top_1': 20, 'top_3': 29, 'top_5': 32, 'top_10': 33}, 'Time Limit Exceeded': {'top_1': 7, 'top_3': 14, 'top_5': 16, 'top_10': 18}, 'Wrong Answer': {'top_1': 32, 'top_3': 56, 'top_5': 60, 'top_10': 73}, 'Runtime Error': {'top_1': 7, 'top_3': 11, 'top_5': 12, 'top_10': 13}}\n",
      "{'Compile Error': 76, 'Time Limit Exceeded': 67, 'Wrong Answer': 288, 'Runtime Error': 59}\n",
      "['Compile Error', 'Time Limit Exceeded', 'Wrong Answer', 'Runtime Error']\n"
     ]
    }
   ],
   "source": [
    "import json\n",
    "from pprint import pprint\n",
    "def getJsonData(JsonFile):\n",
    "    with open(JsonFile, encoding=\"utf8\") as f:\n",
    "        data = json.load(f)\n",
    "    return data\n",
    "\n",
    "data = getJsonData('FINAL_Merged_generation_temp_j2j_withv.json')\n",
    "print(len(data))\n",
    "verdict_top_at_acc = {}\n",
    "tops = {}\n",
    "tops['top_1'] = 0\n",
    "tops['top_3'] = 0\n",
    "tops['top_5'] = 0\n",
    "tops['top_10'] = 0\n",
    "verdict_count = {}\n",
    "for dt in data:\n",
    "    #print(eval[dt['idx']]['src_verdict'])\n",
    "    verdict_top_at_acc[eval[dt['idx']]['src_verdict']] = tops.copy()\n",
    "    verdict_count[eval[dt['idx']]['src_verdict']] = 0\n",
    "\n",
    "top_1, top_3 , top_5, top_10= 0, 0, 0, 0\n",
    "before = 0\n",
    "accepted_before = []\n",
    "\n",
    "for ind, dt in enumerate(data):\n",
    "    verdict_count[eval[dt['idx']]['src_verdict']]+=1\n",
    "    counted_once = [False, False, False, False]\n",
    "    for idx in range(10):\n",
    "        if dt['test_cases_run_by_generations'][idx]==dt['total_test_cases']:\n",
    "            if not counted_once[0] and idx<1:\n",
    "                verdict_top_at_acc[eval[dt['idx']]['src_verdict']]['top_1'] +=1\n",
    "                counted_once[0]=True\n",
    "            if not counted_once[1] and idx<3:\n",
    "                verdict_top_at_acc[eval[dt['idx']]['src_verdict']]['top_3'] +=1\n",
    "                counted_once[1]=True\n",
    "            if not counted_once[2] and idx<5:\n",
    "                verdict_top_at_acc[eval[dt['idx']]['src_verdict']]['top_5'] +=1\n",
    "                counted_once[2]=True\n",
    "            if not counted_once[3] and idx<10:\n",
    "                verdict_top_at_acc[eval[dt['idx']]['src_verdict']]['top_10'] +=1\n",
    "                counted_once[3]=True\n",
    "            \n",
    "print(verdict_top_at_acc)\n",
    "print(verdict_count)\n",
    "print(list(verdict_count.keys()))\n"
   ]
  },
  {
   "cell_type": "code",
   "execution_count": 7,
   "metadata": {},
   "outputs": [
    {
     "name": "stdout",
     "output_type": "stream",
     "text": [
      "[20, 32, 7, 7]\n",
      "[76, 288, 67, 59]\n"
     ]
    },
    {
     "data": {
      "image/png": "[encoded data removed]",
      "text/plain": [
       "<Figure size 432x288 with 1 Axes>"
      ]
     },
     "metadata": {
      "needs_background": "light"
     },
     "output_type": "display_data"
    }
   ],
   "source": [
    "\n",
    "import numpy as np\n",
    "import matplotlib.pyplot as plt\n",
    "\n",
    "N = 4\n",
    "ind = np.arange(N)  # the x locations for the groups\n",
    "width = 0.21       # the width of the bars\n",
    "\n",
    "fig = plt.figure()\n",
    "ax = fig.add_subplot(111)\n",
    "\n",
    "top_1s, top_3s, top_5s, top_10s =  [], [], [], []\n",
    "counts = []\n",
    "for i in ['Compile Error', 'Wrong Answer', 'Time Limit Exceeded', 'Runtime Error']:\n",
    "    top_1s.append(verdict_top_at_acc[i]['top_1'])\n",
    "    top_3s.append(verdict_top_at_acc[i]['top_3'])\n",
    "    top_5s.append(verdict_top_at_acc[i]['top_5'])\n",
    "    top_10s.append(verdict_top_at_acc[i]['top_10'])\n",
    "    counts.append(verdict_count[i])\n",
    "\n",
    "print(top_1s)\n",
    "print(counts)\n",
    "rects1 = ax.bar(ind, [x/y for x, y in zip(top_1s, counts)], width, color='r')\n",
    "\n",
    "\n",
    "rects2 = ax.bar(ind+width, [x/y for x, y in zip(top_3s, counts)], width, color='g')\n",
    "\n",
    "rects3 = ax.bar(ind+width*2, [x/y for x, y in zip(top_5s, counts)], width, color='b')\n",
    "\n",
    "rects4 = ax.bar(ind+width*3, [x/y for x, y in zip(top_10s, counts)], width, color='y')\n",
    "\n",
    "\n",
    "\n",
    "ax.set_ylabel('Acceptance on Execution')\n",
    "ax.set_xticks(ind+width)\n",
    "ax.set_xticklabels( ('CE', 'WA', 'TLE', 'RE'))\n",
    "#ax.legend( (rects1[0], rects2[0], rects3[0]), ('y', 'z', 'k') )\n",
    "\n",
    "def autolabel(rects):\n",
    "    for rect in rects:\n",
    "        h = rect.get_height()\n",
    "        ax.text(rect.get_x()+rect.get_width()/2., 1.05*h, '%d'%int(h),\n",
    "                ha='center', va='bottom')\n",
    "\n",
    "#autolabel(rects1)\n",
    "#autolabel(rects2)\n",
    "#autolabel(rects3)\n",
    "#autolabel(rects4)\n",
    "plt.savefig('Acceptance_By_Verdict.pdf', format='pdf', dpi=1200)\n",
    "#plt.show()"
   ]
  },
  {
   "cell_type": "code",
   "execution_count": 14,
   "metadata": {},
   "outputs": [
    {
     "data": {
      "image/png": "[encoded data removed]",
      "text/plain": [
       "<Figure size 720x288 with 1 Axes>"
      ]
     },
     "metadata": {
      "needs_background": "light"
     },
     "output_type": "display_data"
    }
   ],
   "source": [
    "xlabels = [\n",
    "    f'CE ({verdict_count[\"Compile Error\"]})', f'WA ({verdict_count[\"Wrong Answer\"]})', f'TLE ({verdict_count[\"Time Limit Exceeded\"]})',\\\n",
    "            f'RE ({verdict_count[\"Runtime Error\"]})'\n",
    "]\n",
    "\n",
    "# plt.figure(figsize=(6, 15))\n",
    "plt.rcParams[\"font.family\"] = \"Times New Roman\"\n",
    "plt.rcParams[\"font.size\"] = \"20\"\n",
    "plt.rcParams[\"figure.figsize\"] = [10, 4]\n",
    "fig, ax = plt.subplots()\n",
    "\n",
    "data = {\n",
    "    'pass@1': [x/y for x, y in zip(top_1s, counts)],\n",
    "    'pass@3': [x/y for x, y in zip(top_3s, counts)],\n",
    "    'pass@5': [x/y for x, y in zip(top_5s, counts)],\n",
    "    'pass@10': [x/y for x, y in zip(top_10s, counts)],\n",
    "}\n",
    "\n",
    "bar_plot(\n",
    "    ax, data,\n",
    "    total_width=0.7,\n",
    "    single_width=0.85,\n",
    "    xlabels=xlabels,\n",
    "    hatches=('-', '/', '\\\\', 'xx')\n",
    ")\n",
    "\n",
    "ax.xaxis.set_tick_params(labelsize=18)\n",
    "ax.yaxis.set_tick_params(labelsize=18)\n",
    "ax.set_ylabel('pass@k Accuracy')\n",
    "plt.margins(0.03, 0.03)\n",
    "plt.savefig('Acceptance_By_Verdict_java.pdf', format='pdf', dpi=1200, bbox_inches='tight', pad_inches=0)\n"
   ]
  },
  {
   "cell_type": "code",
   "execution_count": null,
   "metadata": {},
   "outputs": [],
   "source": []
  },
  {
   "cell_type": "markdown",
   "metadata": {},
   "source": [
    "<h2> Graph gen for java with difficulty</h2>"
   ]
  },
  {
   "cell_type": "code",
   "execution_count": 16,
   "metadata": {},
   "outputs": [
    {
     "name": "stdout",
     "output_type": "stream",
     "text": [
      "{'p02546': 1, 'p02547': 2, 'p02548': 3, 'p02549': 4, 'p02550': 5, 'p02551': 6, 'p02552': 1, 'p02553': 2, 'p02554': 3, 'p02555': 4, 'p02556': 5, 'p02557': 6, 'p02570': 1, 'p02571': 2, 'p02572': 3, 'p02573': 4, 'p02574': 5, 'p02575': 6, 'p02576': 1, 'p02577': 2, 'p02578': 3, 'p02579': 4, 'p02580': 5, 'p02581': 6, 'p02582': 1, 'p02583': 2, 'p02584': 3, 'p02585': 4, 'p02586': 5, 'p02587': 6, 'p02588': 1, 'p02589': 2, 'p02590': 3, 'p02591': 4, 'p02592': 5, 'p02593': 6, 'p02594': 1, 'p02595': 2, 'p02596': 3, 'p02597': 4, 'p02598': 5, 'p02599': 6, 'p02612': 1, 'p02613': 2, 'p02614': 3, 'p02615': 4, 'p02616': 5, 'p02617': 6, 'p02621': 1, 'p02622': 2, 'p02623': 3, 'p02624': 4, 'p02625': 5, 'p02626': 6, 'p02627': 1, 'p02628': 2, 'p02629': 3, 'p02630': 4, 'p02631': 5, 'p02632': 6, 'p02633': 1, 'p02634': 2, 'p02635': 3, 'p02636': 4, 'p02637': 5, 'p02638': 6, 'p02639': 1, 'p02640': 2, 'p02641': 3, 'p02642': 4, 'p02643': 5, 'p02644': 6, 'p02651': 1, 'p02652': 2, 'p02653': 3, 'p02654': 4, 'p02655': 5, 'p02656': 6, 'p02657': 1, 'p02658': 2, 'p02659': 3, 'p02660': 4, 'p02661': 5, 'p02662': 6, 'p02669': 1, 'p02670': 2, 'p02671': 3, 'p02672': 4, 'p02673': 5, 'p02674': 6, 'p02675': 1, 'p02676': 2, 'p02677': 3, 'p02678': 4, 'p02679': 5, 'p02680': 6, 'p02681': 1, 'p02682': 2, 'p02683': 3, 'p02684': 4, 'p02685': 5, 'p02686': 6, 'p02687': 1, 'p02688': 2, 'p02689': 3, 'p02690': 4, 'p02691': 5, 'p02692': 6, 'p02693': 1, 'p02694': 2, 'p02695': 3, 'p02696': 4, 'p02697': 5, 'p02698': 6, 'p02699': 1, 'p02700': 2, 'p02701': 3, 'p02702': 4, 'p02703': 5, 'p02704': 6, 'p02705': 1, 'p02706': 2, 'p02707': 3, 'p02708': 4, 'p02709': 5, 'p02710': 6, 'p02711': 1, 'p02712': 2, 'p02713': 3, 'p02714': 4, 'p02715': 5, 'p02716': 6, 'p02717': 1, 'p02718': 2, 'p02719': 3, 'p02720': 4, 'p02721': 5, 'p02722': 6, 'p02723': 1, 'p02724': 2, 'p02725': 3, 'p02726': 4, 'p02727': 5, 'p02728': 6, 'p02729': 1, 'p02730': 2, 'p02731': 3, 'p02732': 4, 'p02733': 5, 'p02734': 6, 'p02735': 1, 'p02736': 2, 'p02737': 3, 'p02738': 4, 'p02739': 5, 'p02740': 6, 'p02753': 1, 'p02754': 2, 'p02755': 3, 'p02756': 4, 'p02757': 5, 'p02758': 6, 'p02759': 1, 'p02760': 2, 'p02761': 3, 'p02762': 4, 'p02763': 5, 'p02764': 6, 'p02765': 1, 'p02766': 2, 'p02767': 3, 'p02768': 4, 'p02769': 5, 'p02770': 6, 'p02771': 1, 'p02772': 2, 'p02773': 3, 'p02774': 4, 'p02775': 5, 'p02776': 6, 'p02777': 1, 'p02778': 2, 'p02779': 3, 'p02780': 4, 'p02781': 5, 'p02782': 6, 'p02783': 1, 'p02784': 2, 'p02785': 3, 'p02786': 4, 'p02787': 5, 'p02788': 6, 'p02789': 1, 'p02790': 2, 'p02791': 3, 'p02792': 4, 'p02793': 5, 'p02794': 6, 'p02801': 1, 'p02802': 2, 'p02803': 3, 'p02804': 4, 'p02805': 5, 'p02811': 1, 'p02812': 2, 'p02813': 3, 'p02814': 4, 'p02815': 5, 'p02816': 6, 'p02817': 1, 'p02818': 2, 'p02819': 3, 'p02820': 4, 'p02821': 5, 'p02822': 6, 'p02823': 1, 'p02824': 2, 'p02825': 3, 'p02826': 4, 'p02827': 5, 'p02828': 6, 'p02829': 1, 'p02830': 2, 'p02831': 3, 'p02832': 4, 'p02833': 5, 'p02834': 6, 'p02835': 1, 'p02836': 2, 'p02837': 3, 'p02838': 4, 'p02839': 5, 'p02840': 6, 'p02847': 1, 'p02848': 2, 'p02849': 3, 'p02850': 4, 'p02851': 5, 'p02852': 6, 'p02859': 1, 'p02860': 2, 'p02861': 3, 'p02862': 4, 'p02863': 5, 'p02864': 6, 'p02873': 1, 'p02874': 2, 'p02875': 3, 'p02876': 4, 'p02877': 5, 'p02878': 6, 'p02879': 1, 'p02880': 2, 'p02881': 3, 'p02882': 4, 'p02883': 5, 'p02884': 6, 'p02885': 1, 'p02886': 2, 'p02887': 3, 'p02888': 4, 'p02889': 5, 'p02890': 6, 'p02891': 1, 'p02892': 2, 'p02893': 3, 'p02894': 4, 'p02895': 5, 'p02896': 6, 'p02897': 1, 'p02898': 2, 'p02899': 3, 'p02900': 4, 'p02901': 5, 'p02902': 6, 'p02903': 1, 'p02904': 2, 'p02905': 3, 'p02906': 4, 'p02907': 5, 'p02908': 6, 'p02909': 1, 'p02910': 2, 'p02911': 3, 'p02912': 4, 'p02913': 5, 'p02914': 6, 'p02915': 1, 'p02916': 2, 'p02917': 3, 'p02918': 4, 'p02919': 5, 'p02920': 6, 'p02921': 1, 'p02922': 2, 'p02923': 3, 'p02924': 4, 'p02925': 5, 'p02926': 6, 'p02933': 1, 'p02934': 2, 'p02935': 3, 'p02936': 4, 'p02937': 5, 'p02938': 6, 'p02939': 1, 'p02940': 2, 'p02941': 3, 'p02942': 4, 'p02943': 5, 'p02944': 6, 'p02945': 1, 'p02946': 2, 'p02947': 3, 'p02948': 4, 'p02949': 5, 'p02950': 6, 'p02951': 1, 'p02952': 2, 'p02953': 3, 'p02954': 4, 'p02955': 5, 'p02956': 6, 'p02957': 1, 'p02958': 2, 'p02959': 3, 'p02960': 4, 'p02961': 5, 'p02962': 6, 'p02963': 1, 'p02964': 2, 'p02965': 3, 'p02966': 4, 'p02967': 5, 'p02968': 6, 'p02969': 1, 'p02970': 2, 'p02971': 3, 'p02972': 4, 'p02973': 5, 'p02974': 6, 'p02975': 1, 'p02976': 2, 'p02977': 3, 'p02978': 4, 'p02979': 5, 'p02980': 6, 'p02981': 1, 'p02982': 2, 'p02983': 3, 'p02984': 4, 'p02985': 5, 'p02986': 6, 'p02987': 1, 'p02988': 2, 'p02989': 3, 'p02990': 4, 'p02991': 5, 'p02992': 6, 'p02993': 1, 'p02994': 2, 'p02995': 3, 'p02996': 4, 'p02997': 5, 'p02998': 6, 'p02999': 1, 'p03000': 2, 'p03001': 3, 'p03002': 4, 'p03003': 5, 'p03004': 6, 'p03011': 1, 'p03012': 2, 'p03013': 3, 'p03014': 4, 'p03015': 5, 'p03016': 6, 'p03017': 1, 'p03018': 2, 'p03019': 3, 'p03020': 4, 'p03021': 5, 'p03022': 6, 'p03029': 1, 'p03030': 2, 'p03031': 3, 'p03032': 4, 'p03033': 5, 'p03034': 6, 'p03035': 1, 'p03036': 2, 'p03037': 3, 'p03038': 4, 'p03039': 5, 'p03040': 6, 'p03041': 1, 'p03042': 2, 'p03043': 3, 'p03044': 4, 'p03045': 5, 'p03046': 6, 'p03053': 1, 'p03054': 2, 'p03055': 3, 'p03056': 4, 'p03057': 5, 'p03058': 6, 'p03059': 1, 'p03060': 2, 'p03061': 3, 'p03062': 4, 'p03071': 1, 'p03072': 2, 'p03073': 3, 'p03074': 4, 'p03075': 1, 'p03076': 2, 'p03077': 3, 'p03078': 4, 'p03085': 1, 'p03086': 2, 'p03087': 3, 'p03088': 4, 'p03089': 1, 'p03090': 2, 'p03091': 3, 'p03092': 4, 'p03093': 5, 'p03094': 6, 'p03095': 1, 'p03096': 2, 'p03097': 3, 'p03098': 4, 'p03099': 5, 'p03100': 6, 'p03101': 1, 'p03102': 2, 'p03103': 3, 'p03104': 4, 'p03105': 1, 'p03106': 2, 'p03107': 3, 'p03108': 4, 'p03109': 1, 'p03110': 2, 'p03111': 3, 'p03112': 4, 'p03125': 1, 'p03126': 2, 'p03127': 3, 'p03128': 4, 'p03135': 1, 'p03136': 2, 'p03137': 3, 'p03138': 4, 'p03145': 1, 'p03146': 2, 'p03147': 3, 'p03148': 4, 'p03186': 1, 'p03187': 2, 'p03188': 3, 'p03189': 4, 'p03190': 5, 'p03191': 6, 'p03200': 1, 'p03201': 2, 'p03202': 3, 'p03203': 4, 'p03204': 5, 'p03205': 6, 'p03206': 1, 'p03207': 2, 'p03208': 3, 'p03209': 4, 'p03210': 1, 'p03211': 2, 'p03212': 3, 'p03213': 4, 'p03219': 1, 'p03220': 2, 'p03221': 3, 'p03222': 4, 'p03231': 1, 'p03232': 2, 'p03233': 3, 'p03234': 4, 'p03235': 5, 'p03236': 6, 'p03237': 7, 'p03238': 1, 'p03239': 2, 'p03240': 3, 'p03241': 4, 'p03242': 1, 'p03243': 2, 'p03244': 3, 'p03245': 4, 'p03246': 1, 'p03247': 2, 'p03248': 3, 'p03249': 4, 'p03250': 1, 'p03251': 2, 'p03252': 3, 'p03253': 4, 'p03254': 1, 'p03255': 2, 'p03256': 3, 'p03257': 4, 'p03258': 5, 'p03259': 6, 'p03260': 1, 'p03261': 2, 'p03262': 3, 'p03263': 4, 'p03264': 1, 'p03265': 2, 'p03266': 3, 'p03267': 4, 'p03268': 1, 'p03269': 2, 'p03270': 3, 'p03271': 4, 'p03272': 1, 'p03273': 2, 'p03274': 3, 'p03275': 4, 'p03276': 1, 'p03277': 2, 'p03278': 3, 'p03279': 4, 'p03280': 1, 'p03281': 2, 'p03282': 3, 'p03283': 4, 'p03284': 1, 'p03285': 2, 'p03286': 3, 'p03287': 4, 'p03288': 1, 'p03289': 2, 'p03290': 3, 'p03291': 4, 'p03292': 1, 'p03293': 2, 'p03294': 3, 'p03295': 4, 'p03296': 1, 'p03297': 2, 'p03298': 3, 'p03299': 4, 'p03300': 5, 'p03301': 6, 'p03307': 1, 'p03308': 2, 'p03309': 3, 'p03310': 4, 'p03311': 1, 'p03312': 2, 'p03313': 3, 'p03314': 4, 'p03315': 1, 'p03316': 2, 'p03317': 3, 'p03318': 4, 'p03319': 1, 'p03320': 2, 'p03321': 3, 'p03322': 4, 'p03323': 1, 'p03324': 2, 'p03325': 3, 'p03326': 4, 'p03327': 1, 'p03328': 2, 'p03329': 3, 'p03330': 4, 'p03331': 1, 'p03332': 2, 'p03333': 3, 'p03334': 4, 'p03335': 5, 'p03336': 6, 'p03337': 1, 'p03338': 2, 'p03339': 3, 'p03340': 4, 'p03341': 1, 'p03342': 2, 'p03343': 3, 'p03344': 4, 'p03345': 1, 'p03346': 2, 'p03347': 3, 'p03348': 4, 'p03349': 5, 'p03350': 6, 'p03351': 1, 'p03352': 2, 'p03353': 3, 'p03354': 4, 'p03355': 1, 'p03356': 2, 'p03357': 3, 'p03358': 4, 'p03359': 1, 'p03360': 2, 'p03361': 3, 'p03362': 4, 'p03363': 1, 'p03364': 2, 'p03365': 3, 'p03366': 4, 'p03367': 5, 'p03368': 6, 'p03369': 1, 'p03370': 2, 'p03371': 3, 'p03372': 4, 'p03373': 1, 'p03374': 2, 'p03375': 3, 'p03376': 4, 'p03377': 1, 'p03378': 2, 'p03379': 3, 'p03380': 4, 'p03381': 1, 'p03382': 2, 'p03383': 3, 'p03384': 4, 'p03385': 1, 'p03386': 2, 'p03387': 3, 'p03388': 4, 'p03389': 1, 'p03390': 2, 'p03391': 3, 'p03392': 4, 'p03393': 1, 'p03394': 2, 'p03395': 3, 'p03396': 4, 'p03397': 5, 'p03398': 6, 'p03399': 1, 'p03400': 2, 'p03401': 3, 'p03402': 4, 'p03403': 1, 'p03404': 2, 'p03405': 3, 'p03406': 4, 'p03407': 1, 'p03408': 2, 'p03409': 3, 'p03410': 4, 'p03411': 1, 'p03412': 2, 'p03413': 3, 'p03414': 4, 'p03415': 1, 'p03416': 2, 'p03417': 3, 'p03418': 4, 'p03419': 1, 'p03420': 2, 'p03421': 3, 'p03422': 4, 'p03423': 1, 'p03424': 2, 'p03425': 3, 'p03426': 4, 'p03427': 1, 'p03428': 2, 'p03429': 3, 'p03430': 4, 'p03431': 5, 'p03432': 6, 'p03433': 1, 'p03434': 2, 'p03435': 3, 'p03436': 4, 'p03447': 1, 'p03448': 2, 'p03449': 3, 'p03450': 4, 'p03451': 1, 'p03452': 2, 'p03453': 3, 'p03454': 4, 'p03455': 1, 'p03456': 2, 'p03457': 3, 'p03458': 4, 'p03459': 1, 'p03460': 2, 'p03461': 3, 'p03462': 4, 'p03463': 1, 'p03464': 2, 'p03465': 3, 'p03466': 4, 'p03467': 5, 'p03468': 6, 'p03469': 1, 'p03470': 2, 'p03471': 3, 'p03472': 4, 'p03473': 1, 'p03474': 2, 'p03475': 3, 'p03476': 4, 'p03477': 1, 'p03478': 2, 'p03479': 3, 'p03480': 4, 'p03481': 1, 'p03482': 2, 'p03483': 3, 'p03484': 4, 'p03485': 1, 'p03486': 2, 'p03487': 3, 'p03488': 4, 'p03489': 1, 'p03490': 2, 'p03491': 3, 'p03492': 4, 'p03493': 1, 'p03494': 2, 'p03495': 3, 'p03496': 4, 'p03497': 1, 'p03498': 2, 'p03499': 3, 'p03500': 4, 'p03501': 1, 'p03502': 2, 'p03503': 3, 'p03504': 4, 'p03543': 1, 'p03544': 2, 'p03545': 3, 'p03546': 4, 'p03547': 1, 'p03548': 2, 'p03549': 3, 'p03550': 4, 'p03551': 1, 'p03552': 2, 'p03553': 3, 'p03554': 4, 'p03555': 1, 'p03556': 2, 'p03557': 3, 'p03558': 4, 'p03559': 1, 'p03560': 2, 'p03561': 3, 'p03562': 4, 'p03563': 1, 'p03564': 2, 'p03565': 3, 'p03566': 4, 'p03573': 1, 'p03574': 2, 'p03575': 3, 'p03576': 4, 'p03597': 1, 'p03598': 2, 'p03599': 3, 'p03600': 4, 'p03601': 1, 'p03602': 2, 'p03603': 3, 'p03604': 4, 'p03605': 1, 'p03606': 2, 'p03607': 3, 'p03608': 4, 'p03609': 1, 'p03610': 2, 'p03611': 3, 'p03612': 4, 'p03613': 1, 'p03614': 2, 'p03615': 3, 'p03616': 4, 'p03617': 1, 'p03618': 2, 'p03619': 3, 'p03620': 4, 'p03621': 5, 'p03622': 6, 'p03623': 1, 'p03624': 2, 'p03625': 3, 'p03626': 4, 'p03627': 1, 'p03628': 2, 'p03629': 3, 'p03630': 4, 'p03631': 1, 'p03632': 2, 'p03633': 3, 'p03634': 4, 'p03635': 1, 'p03636': 2, 'p03637': 3, 'p03638': 4, 'p03639': 1, 'p03640': 2, 'p03641': 3, 'p03642': 4, 'p03643': 1, 'p03644': 2, 'p03645': 3, 'p03646': 4, 'p03647': 1, 'p03648': 2, 'p03649': 3, 'p03650': 4, 'p03651': 1, 'p03652': 2, 'p03653': 3, 'p03654': 4, 'p03655': 5, 'p03656': 6, 'p03657': 1, 'p03658': 2, 'p03659': 3, 'p03660': 4, 'p03661': 1, 'p03662': 2, 'p03663': 3, 'p03664': 4, 'p03665': 1, 'p03666': 2, 'p03667': 3, 'p03668': 4, 'p03669': 5, 'p03670': 6, 'p03671': 1, 'p03672': 2, 'p03673': 3, 'p03674': 4, 'p03675': 1, 'p03676': 2, 'p03677': 3, 'p03678': 4, 'p03679': 1, 'p03680': 2, 'p03681': 3, 'p03682': 4, 'p03683': 1, 'p03684': 2, 'p03685': 3, 'p03686': 4, 'p03687': 1, 'p03688': 2, 'p03689': 3, 'p03690': 4, 'p03691': 5, 'p03692': 6, 'p03693': 1, 'p03694': 2, 'p03695': 3, 'p03696': 4, 'p03697': 1, 'p03698': 2, 'p03699': 3, 'p03700': 4, 'p03701': 1, 'p03702': 2, 'p03703': 3, 'p03704': 4, 'p03705': 1, 'p03706': 2, 'p03707': 3, 'p03708': 4, 'p03709': 5, 'p03710': 6, 'p03711': 1, 'p03712': 2, 'p03713': 3, 'p03714': 4, 'p03715': 1, 'p03716': 2, 'p03717': 3, 'p03718': 4, 'p03719': 1, 'p03720': 2, 'p03721': 3, 'p03722': 4, 'p03723': 1, 'p03724': 2, 'p03725': 3, 'p03726': 4, 'p03727': 5, 'p03728': 6, 'p03729': 1, 'p03730': 2, 'p03731': 3, 'p03732': 4, 'p03733': 1, 'p03734': 2, 'p03735': 3, 'p03736': 4, 'p03737': 1, 'p03738': 2, 'p03739': 3, 'p03740': 4, 'p03741': 1, 'p03742': 2, 'p03743': 3, 'p03744': 4, 'p03745': 1, 'p03746': 2, 'p03747': 3, 'p03748': 4, 'p03749': 5, 'p03750': 6, 'p03759': 1, 'p03760': 2, 'p03761': 3, 'p03762': 4, 'p03763': 1, 'p03764': 2, 'p03765': 3, 'p03766': 4, 'p03767': 1, 'p03768': 2, 'p03769': 3, 'p03770': 4, 'p03771': 5, 'p03772': 6, 'p03773': 1, 'p03774': 2, 'p03775': 3, 'p03776': 4, 'p03777': 1, 'p03778': 2, 'p03779': 3, 'p03780': 4, 'p03781': 1, 'p03782': 2, 'p03783': 3, 'p03784': 4, 'p03785': 1, 'p03786': 2, 'p03787': 3, 'p03788': 4, 'p03789': 5, 'p03790': 6, 'p03795': 1, 'p03796': 2, 'p03797': 3, 'p03798': 4, 'p03799': 1, 'p03800': 2, 'p03801': 3, 'p03802': 4, 'p03803': 1, 'p03804': 2, 'p03805': 3, 'p03806': 4, 'p03807': 1, 'p03808': 2, 'p03809': 3, 'p03810': 4, 'p03811': 5, 'p03812': 6, 'p03813': 1, 'p03814': 2, 'p03815': 3, 'p03816': 4, 'p03817': 1, 'p03818': 2, 'p03819': 3, 'p03820': 4, 'p03821': 1, 'p03822': 2, 'p03823': 3, 'p03824': 4, 'p03825': 5, 'p03826': 1, 'p03827': 2, 'p03828': 3, 'p03829': 4, 'p03830': 1, 'p03831': 2, 'p03832': 3, 'p03833': 4, 'p03834': 1, 'p03835': 2, 'p03836': 3, 'p03837': 4, 'p03838': 1, 'p03839': 2, 'p03840': 3, 'p03841': 4, 'p03842': 5, 'p03843': 6, 'p03844': 1, 'p03845': 2, 'p03846': 3, 'p03847': 4, 'p03848': 1, 'p03849': 2, 'p03850': 3, 'p03851': 4, 'p03852': 1, 'p03853': 2, 'p03854': 3, 'p03855': 4, 'p03856': 1, 'p03857': 2, 'p03858': 3, 'p03859': 4, 'p03860': 1, 'p03861': 2, 'p03862': 3, 'p03863': 4, 'p03864': 1, 'p03865': 2, 'p03866': 3, 'p03867': 4, 'p03937': 1, 'p03938': 2, 'p03939': 3, 'p03940': 4, 'p03941': 5, 'p03942': 6, 'p03943': 1, 'p03944': 2, 'p03945': 3, 'p03946': 4, 'p03947': 1, 'p03948': 2, 'p03949': 3, 'p03950': 4, 'p03951': 1, 'p03952': 2, 'p03953': 3, 'p03954': 4, 'p03955': 5, 'p03956': 6, 'p03962': 1, 'p03963': 2, 'p03964': 3, 'p03965': 4, 'p03966': 1, 'p03967': 2, 'p03968': 3, 'p03969': 4, 'p03986': 1, 'p03987': 2, 'p03988': 3, 'p03989': 4, 'p03990': 5, 'p03991': 6, 'p03997': 1, 'p03998': 2, 'p03999': 3, 'p04000': 4, 'p04001': 1, 'p04002': 2, 'p04003': 3, 'p04004': 4, 'p04005': 1, 'p04006': 2, 'p04007': 3, 'p04008': 4, 'p04009': 5, 'p04010': 6, 'p04011': 1, 'p04012': 2, 'p04013': 3, 'p04014': 4, 'p04015': 1, 'p04016': 2, 'p04017': 3, 'p04018': 4, 'p04019': 1, 'p04020': 2, 'p04021': 3, 'p04022': 4, 'p04023': 5, 'p04024': 6, 'p04025': 1, 'p04026': 2, 'p04027': 3, 'p04028': 4, 'p04029': 1, 'p04030': 2, 'p04031': 3, 'p04032': 4, 'p04033': 1, 'p04034': 2, 'p04035': 3, 'p04036': 4, 'p04037': 5, 'p04038': 6, 'p04039': 1, 'p04040': 2, 'p04041': 3, 'p04042': 4, 'p04043': 1, 'p04044': 2, 'p04045': 3, 'p04046': 4, 'p04047': 1, 'p04048': 2, 'p04049': 3, 'p04050': 4, 'p04051': 5, 'p04052': 6}\n"
     ]
    }
   ],
   "source": [
    "import pandas as pd\n",
    "from collections import defaultdict\n",
    "problemlist=pd.read_csv('problem_list.csv')\n",
    "problems = defaultdict(list)\n",
    "for index, row in problemlist.iterrows():\n",
    "    if(row['dataset']=='AtCoder'):\n",
    "        if(\"AtCoder Regular Contest\" in row['name']):\n",
    "            number = row['name'].split(\" \")[3]\n",
    "            problems[\"ARC\"+number].append(row['id'])\n",
    "        if(\"AtCoder Beginner Contest\" in row['name']):\n",
    "            number = row['name'].split(\" \")[3]\n",
    "            problems[\"ABC\"+number].append(row['id'])\n",
    "        if(\"AtCoder Grand Contest\" in row['name']):\n",
    "            number = row['name'].split(\" \")[3]\n",
    "            problems[\"AGC\"+number].append(row['id'])\n",
    "\n",
    "#print(problems)\n",
    "difficulty = {}\n",
    "for key in problems.keys():\n",
    "    for idx, id in enumerate(problems[key]):\n",
    "        difficulty[id] = idx+1\n",
    "print(difficulty)\n"
   ]
  },
  {
   "cell_type": "code",
   "execution_count": 17,
   "metadata": {},
   "outputs": [
    {
     "name": "stdout",
     "output_type": "stream",
     "text": [
      "{1: {'top_1': 38, 'top_3': 51, 'top_5': 55, 'top_10': 57}, 2: {'top_1': 11, 'top_3': 18, 'top_5': 20, 'top_10': 23}, 3: {'top_1': 11, 'top_3': 30, 'top_5': 32, 'top_10': 42}, 4: {'top_1': 3, 'top_3': 6, 'top_5': 8, 'top_10': 9}, 5: {'top_1': 0, 'top_3': 1, 'top_5': 1, 'top_10': 2}, 6: {'top_1': 3, 'top_3': 4, 'top_5': 4, 'top_10': 4}}\n",
      "{1: 147, 2: 86, 3: 161, 4: 68, 5: 19, 6: 9}\n"
     ]
    }
   ],
   "source": [
    "import json\n",
    "from pprint import pprint\n",
    "def getJsonData(JsonFile):\n",
    "    with open(JsonFile, encoding=\"utf8\") as f:\n",
    "        data = json.load(f)\n",
    "    return data\n",
    "\n",
    "data = getJsonData('FINAL_Merged_generation_temp_j2j_withv.json')\n",
    "\n",
    "difficulty_top_at_acc = {}\n",
    "tops = {}\n",
    "tops['top_1'] = 0\n",
    "tops['top_3'] = 0\n",
    "tops['top_5'] = 0\n",
    "tops['top_10'] = 0\n",
    "diff_count = {}\n",
    "for idx in range(1, 7):\n",
    "    diff_count[idx] = 0\n",
    "    #print(eval[dt['idx']]['src_verdict'])\n",
    "    difficulty_top_at_acc[idx] = tops.copy()\n",
    "\n",
    "top_1, top_3 , top_5, top_10= 0, 0, 0, 0\n",
    "before = 0\n",
    "accepted_before = []\n",
    "\n",
    "for ind, dt in enumerate(data):\n",
    "    diff_count[difficulty[data[ind]['tgt_id'].split('_')[0]]]+=1\n",
    "    counted_once = [False, False, False, False]\n",
    "    for idx in range(10):\n",
    "        if dt['test_cases_run_by_generations'][idx]==dt['total_test_cases']:\n",
    "            if not counted_once[0] and idx<1:\n",
    "                difficulty_top_at_acc[difficulty[data[ind]['tgt_id'].split('_')[0]]]['top_1'] +=1\n",
    "                counted_once[0]=True\n",
    "            if not counted_once[1] and idx<3:\n",
    "                difficulty_top_at_acc[difficulty[data[ind]['tgt_id'].split('_')[0]]]['top_3'] +=1\n",
    "                counted_once[1]=True\n",
    "            if not counted_once[2] and idx<5:\n",
    "                difficulty_top_at_acc[difficulty[data[ind]['tgt_id'].split('_')[0]]]['top_5'] +=1\n",
    "                counted_once[2]=True\n",
    "            if not counted_once[3] and idx<10:\n",
    "                difficulty_top_at_acc[difficulty[data[ind]['tgt_id'].split('_')[0]]]['top_10']+=1\n",
    "                counted_once[3]=True\n",
    "\n",
    "print(difficulty_top_at_acc)\n",
    "print(diff_count)\n"
   ]
  },
  {
   "cell_type": "code",
   "execution_count": 18,
   "metadata": {},
   "outputs": [
    {
     "data": {
      "image/png": "[encoded data removed]",
      "text/plain": [
       "<Figure size 720x288 with 1 Axes>"
      ]
     },
     "metadata": {
      "needs_background": "light"
     },
     "output_type": "display_data"
    }
   ],
   "source": [
    "\n",
    "import numpy as np\n",
    "import matplotlib.pyplot as plt\n",
    "\n",
    "N = 5\n",
    "ind = np.arange(N)  # the x locations for the groups\n",
    "width = 0.21       # the width of the bars\n",
    "\n",
    "fig = plt.figure()\n",
    "ax = fig.add_subplot(111)\n",
    "\n",
    "top_1s, top_3s, top_5s, top_10s =  [], [], [], []\n",
    "counts = []\n",
    "for i in range(1, 6):\n",
    "    top_1s.append(difficulty_top_at_acc[i]['top_1'])\n",
    "    top_3s.append(difficulty_top_at_acc[i]['top_3'])\n",
    "    top_5s.append(difficulty_top_at_acc[i]['top_5'])\n",
    "    top_10s.append(difficulty_top_at_acc[i]['top_10'])\n",
    "    counts.append(diff_count[i])\n",
    "\n",
    "rects1 = ax.bar(ind, [x/y for x, y in zip(top_1s, counts)], width, color='r')\n",
    "\n",
    "\n",
    "rects2 = ax.bar(ind+width, [x/y for x, y in zip(top_3s, counts)], width, color='g')\n",
    "\n",
    "rects3 = ax.bar(ind+width*2, [x/y for x, y in zip(top_5s, counts)], width, color='b')\n",
    "\n",
    "rects4 = ax.bar(ind+width*3, [x/y for x, y in zip(top_10s, counts)], width, color='y')\n",
    "\n",
    "\n",
    "\n",
    "ax.set_ylabel('Accuracy on Execution')\n",
    "ax.set_xticks(ind+width)\n",
    "ax.set_xticklabels( ('A', 'B', 'C', 'D', 'E') )\n",
    "\n",
    "\n",
    "#ax.legend( (rects1[0], rects2[0], rects3[0]), ('y', 'z', 'k') )\n",
    "\n",
    "def autolabel(rects):\n",
    "    for rect in rects:\n",
    "        h = rect.get_height()\n",
    "        ax.text(rect.get_x()+rect.get_width()/2., 1.05*h, '%d'%int(h),\n",
    "                ha='center', va='bottom')\n",
    "\n",
    "#autolabel(rects1)\n",
    "#autolabel(rects2)\n",
    "#autolabel(rects3)\n",
    "#autolabel(rects4)\n",
    "plt.savefig('Acceptance_By_Difficulty.pdf', format='pdf', dpi=1200)\n",
    "#plt.show()"
   ]
  },
  {
   "cell_type": "code",
   "execution_count": 20,
   "metadata": {},
   "outputs": [
    {
     "data": {
      "image/png": "[encoded data removed]",
      "text/plain": [
       "<Figure size 720x288 with 1 Axes>"
      ]
     },
     "metadata": {
      "needs_background": "light"
     },
     "output_type": "display_data"
    }
   ],
   "source": [
    "xlabels = [\n",
    "    f'A ({diff_count[1]})', f'B ({diff_count[2]})', f'C ({diff_count[3]})',f'D ({diff_count[4]})', f'E ({diff_count[5]})'\n",
    "]\n",
    "\n",
    "# plt.figure(figsize=(6, 15))\n",
    "plt.rcParams[\"font.family\"] = \"Times New Roman\"\n",
    "plt.rcParams[\"font.size\"] = \"20\"\n",
    "plt.rcParams[\"figure.figsize\"] = [10, 4]\n",
    "fig, ax = plt.subplots()\n",
    "\n",
    "data = {\n",
    "    'pass@1': [x/y for x, y in zip(top_1s, counts)],\n",
    "    'pass@3': [x/y for x, y in zip(top_3s, counts)],\n",
    "    'pass@5': [x/y for x, y in zip(top_5s, counts)],\n",
    "    'pass@10': [x/y for x, y in zip(top_10s, counts)],\n",
    "}\n",
    "\n",
    "bar_plot(\n",
    "    ax, data,\n",
    "    total_width=0.8,\n",
    "    single_width=0.75,\n",
    "    xlabels=xlabels,\n",
    "    hatches=('-', '/', '\\\\', 'xx')\n",
    ")\n",
    "ax.xaxis.set_tick_params(labelsize=18)\n",
    "ax.yaxis.set_tick_params(labelsize=18)\n",
    "ax.set_ylabel('pass@k Accuracy')\n",
    "\n",
    "plt.margins(0.03, 0.03)\n",
    "plt.savefig('Acceptance_By_Difficulty_java.pdf', format='pdf', dpi=1200, bbox_inches='tight', pad_inches=0)\n"
   ]
  },
  {
   "cell_type": "code",
   "execution_count": 5,
   "metadata": {},
   "outputs": [],
   "source": [
    "%matplotlib inline"
   ]
  },
  {
   "cell_type": "markdown",
   "metadata": {},
   "source": [
    "<h2> Acceptance By verdict Python</h2>"
   ]
  },
  {
   "cell_type": "code",
   "execution_count": 81,
   "metadata": {},
   "outputs": [
    {
     "name": "stdout",
     "output_type": "stream",
     "text": [
      "500\n"
     ]
    }
   ],
   "source": [
    "from codegen.preprocessing.lang_processors.java_processor import JavaProcessor\n",
    "from codegen.preprocessing.lang_processors.python_processor import PythonProcessor\n",
    "import subprocess\n",
    "import filecmp\n",
    "from subprocess import Popen, PIPE, STDOUT\n",
    "import sys\n",
    "import json\n",
    "root_folder = \"../third_party\"\n",
    "jprocessor = JavaProcessor(root_folder=root_folder)\n",
    "pyprocessor = PythonProcessor(root_folder=root_folder)\n",
    "def getJsonData(JsonFile):\n",
    "    with open(JsonFile, encoding=\"utf8\") as f:\n",
    "        data = json.load(f)\n",
    "    return data\n",
    "eval = getJsonData('../data/python/processed/eval.jsonl')\n",
    "print(len(eval))"
   ]
  },
  {
   "cell_type": "code",
   "execution_count": 82,
   "metadata": {},
   "outputs": [
    {
     "name": "stdout",
     "output_type": "stream",
     "text": [
      "468\n",
      "{'Runtime Error': 0, 'Wrong Answer': 0, 'Time Limit Exceeded': 0, 'Judge Not Available': 0}\n",
      "{'Runtime Error': {'top_1': 23, 'top_3': 30, 'top_5': 30, 'top_10': 34}, 'Wrong Answer': {'top_1': 22, 'top_3': 37, 'top_5': 47, 'top_10': 54}, 'Time Limit Exceeded': {'top_1': 7, 'top_3': 9, 'top_5': 10, 'top_10': 12}, 'Judge Not Available': {'top_1': 0, 'top_3': 0, 'top_5': 0, 'top_10': 0}}\n",
      "{'Runtime Error': 94, 'Wrong Answer': 271, 'Time Limit Exceeded': 102, 'Judge Not Available': 1}\n",
      "['Runtime Error', 'Wrong Answer', 'Time Limit Exceeded', 'Judge Not Available']\n"
     ]
    }
   ],
   "source": [
    "import json\n",
    "\n",
    "from pprint import pprint\n",
    "def getJsonData(JsonFile):\n",
    "    with open(JsonFile, encoding=\"utf8\") as f:\n",
    "        data = json.load(f)\n",
    "    return data\n",
    "\n",
    "data = getJsonData('FINAL_RESULT_python2python_with_verdict.json')\n",
    "print(len(data))\n",
    "verdict_top_at_acc = {}\n",
    "tops = {}\n",
    "tops['top_1'] = 0\n",
    "tops['top_3'] = 0\n",
    "tops['top_5'] = 0\n",
    "tops['top_10'] = 0\n",
    "verdict_count = {}\n",
    "for dt in data:\n",
    "    #print(eval[dt['idx']]['src_verdict'])\n",
    "    verdict_top_at_acc[eval[dt['idx']]['src_verdict']] = tops.copy()\n",
    "    verdict_count[eval[dt['idx']]['src_verdict']] = 0\n",
    "\n",
    "print(verdict_count)\n",
    "\n",
    "top_1, top_3 , top_5, top_10= 0, 0, 0, 0\n",
    "before = 0\n",
    "accepted_before = []\n",
    "\n",
    "for ind, dt in enumerate(data):\n",
    "    verdict_count[eval[dt['idx']]['src_verdict']]+=1\n",
    "    counted_once = [False, False, False, False]\n",
    "    for idx in range(10):\n",
    "        if dt['test_cases_run_by_generations'][idx]==dt['total_test_cases']:\n",
    "            if not counted_once[0] and idx<1:\n",
    "                verdict_top_at_acc[eval[dt['idx']]['src_verdict']]['top_1'] +=1\n",
    "                counted_once[0]=True\n",
    "            if not counted_once[1] and idx<3:\n",
    "                verdict_top_at_acc[eval[dt['idx']]['src_verdict']]['top_3'] +=1\n",
    "                counted_once[1]=True\n",
    "            if not counted_once[2] and idx<5:\n",
    "                verdict_top_at_acc[eval[dt['idx']]['src_verdict']]['top_5'] +=1\n",
    "                counted_once[2]=True\n",
    "            if not counted_once[3] and idx<10:\n",
    "                verdict_top_at_acc[eval[dt['idx']]['src_verdict']]['top_10'] +=1\n",
    "                counted_once[3]=True\n",
    "            \n",
    "print(verdict_top_at_acc)\n",
    "print(verdict_count)\n",
    "print(list(verdict_count.keys()))\n"
   ]
  },
  {
   "cell_type": "code",
   "execution_count": 83,
   "metadata": {},
   "outputs": [
    {
     "name": "stdout",
     "output_type": "stream",
     "text": [
      "[23, 22, 7]\n",
      "[94, 271, 102]\n"
     ]
    },
    {
     "data": {
      "image/png": "[encoded data removed]",
      "text/plain": [
       "<Figure size 720x288 with 1 Axes>"
      ]
     },
     "metadata": {
      "needs_background": "light"
     },
     "output_type": "display_data"
    }
   ],
   "source": [
    "\n",
    "import numpy as np\n",
    "import matplotlib.pyplot as plt\n",
    "\n",
    "N = 3\n",
    "ind = np.arange(N)  # the x locations for the groups\n",
    "width = 0.21       # the width of the bars\n",
    "\n",
    "fig = plt.figure()\n",
    "ax = fig.add_subplot(111)\n",
    "\n",
    "top_1s, top_3s, top_5s, top_10s =  [], [], [], []\n",
    "counts = []\n",
    "for i in ['Runtime Error', 'Wrong Answer', 'Time Limit Exceeded']:\n",
    "    top_1s.append(verdict_top_at_acc[i]['top_1'])\n",
    "    top_3s.append(verdict_top_at_acc[i]['top_3'])\n",
    "    top_5s.append(verdict_top_at_acc[i]['top_5'])\n",
    "    top_10s.append(verdict_top_at_acc[i]['top_10'])\n",
    "    counts.append(verdict_count[i])\n",
    "\n",
    "print(top_1s)\n",
    "print(counts)\n",
    "rects1 = ax.bar(ind, [x/y for x, y in zip(top_1s, counts)], width, color='r')\n",
    "\n",
    "\n",
    "rects2 = ax.bar(ind+width, [x/y for x, y in zip(top_3s, counts)], width, color='g')\n",
    "\n",
    "rects3 = ax.bar(ind+width*2, [x/y for x, y in zip(top_5s, counts)], width, color='b')\n",
    "\n",
    "rects4 = ax.bar(ind+width*3, [x/y for x, y in zip(top_10s, counts)], width, color='y')\n",
    "\n",
    "\n",
    "\n",
    "ax.set_ylabel('Acceptance on Execution')\n",
    "ax.set_xticks(ind+width)\n",
    "ax.set_xticklabels( ('RE', 'WA', 'TLE'))\n",
    "#ax.legend( (rects1[0], rects2[0], rects3[0]), ('y', 'z', 'k') )\n",
    "\n",
    "def autolabel(rects):\n",
    "    for rect in rects:\n",
    "        h = rect.get_height()\n",
    "        ax.text(rect.get_x()+rect.get_width()/2., 1.05*h, '%d'%int(h),\n",
    "                ha='center', va='bottom')\n",
    "\n",
    "#autolabel(rects1)\n",
    "#autolabel(rects2)\n",
    "#autolabel(rects3)\n",
    "#autolabel(rects4)\n",
    "plt.savefig('Acceptance_By_Verdict.pdf', format='pdf', dpi=1200)\n",
    "#plt.show()\n",
    "\n",
    "#verdict_top_at_acc['Judge Not Available']['top_10']"
   ]
  },
  {
   "cell_type": "code",
   "execution_count": 84,
   "metadata": {},
   "outputs": [
    {
     "data": {
      "image/png": "[encoded data removed]",
      "text/plain": [
       "<Figure size 720x288 with 1 Axes>"
      ]
     },
     "metadata": {
      "needs_background": "light"
     },
     "output_type": "display_data"
    }
   ],
   "source": [
    "xlabels = [\n",
    "    f'Runtime Error ({verdict_count[\"Runtime Error\"]})', f'Wrong Answer({verdict_count[\"Wrong Answer\"]})', f'Time Limit Exceeded({verdict_count[\"Time Limit Exceeded\"]})'\n",
    "            \n",
    "]\n",
    "\n",
    "# plt.figure(figsize=(6, 15))\n",
    "plt.rcParams[\"font.family\"] = \"Times New Roman\"\n",
    "plt.rcParams[\"font.size\"] = \"20\"\n",
    "plt.rcParams[\"figure.figsize\"] = [10, 4]\n",
    "fig, ax = plt.subplots()\n",
    "\n",
    "data = {\n",
    "    'Top 1': [x/y for x, y in zip(top_1s, counts)],\n",
    "    'Top 3': [x/y for x, y in zip(top_3s, counts)],\n",
    "    'Top 5': [x/y for x, y in zip(top_5s, counts)],\n",
    "    'Top 10': [x/y for x, y in zip(top_10s, counts)],\n",
    "}\n",
    "\n",
    "bar_plot(\n",
    "    ax, data,\n",
    "    total_width=0.8,\n",
    "    single_width=0.75,\n",
    "    xlabels=xlabels,\n",
    "    hatches=('-', '/', '\\\\', 'xx')\n",
    ")\n",
    "ax.xaxis.set_tick_params(labelsize=15)\n",
    "ax.yaxis.set_tick_params(labelsize=14)\n",
    "plt.margins(0.03, 0.03)\n",
    "plt.savefig('Acceptance_By_Verdict_python.pdf', format='pdf', dpi=1200, bbox_inches='tight', pad_inches=0)\n"
   ]
  },
  {
   "cell_type": "markdown",
   "metadata": {},
   "source": [
    "<h2> ACceptance by difficult Python</h2>"
   ]
  },
  {
   "cell_type": "code",
   "execution_count": 85,
   "metadata": {},
   "outputs": [],
   "source": [
    "import pandas as pd\n",
    "from collections import defaultdict\n",
    "problemlist=pd.read_csv('problem_list.csv')\n",
    "problems = defaultdict(list)\n",
    "for index, row in problemlist.iterrows():\n",
    "    if(row['dataset']=='AtCoder'):\n",
    "        if(\"AtCoder Regular Contest\" in row['name']):\n",
    "            number = row['name'].split(\" \")[3]\n",
    "            problems[\"ARC\"+number].append(row['id'])\n",
    "        if(\"AtCoder Beginner Contest\" in row['name']):\n",
    "            number = row['name'].split(\" \")[3]\n",
    "            problems[\"ABC\"+number].append(row['id'])\n",
    "        if(\"AtCoder Grand Contest\" in row['name']):\n",
    "            number = row['name'].split(\" \")[3]\n",
    "            problems[\"AGC\"+number].append(row['id'])\n",
    "\n",
    "#print(problems)\n",
    "difficulty = {}\n",
    "for key in problems.keys():\n",
    "    for idx, id in enumerate(problems[key]):\n",
    "        difficulty[id] = idx+1\n",
    "#print(difficulty)\n"
   ]
  },
  {
   "cell_type": "code",
   "execution_count": 86,
   "metadata": {},
   "outputs": [
    {
     "name": "stdout",
     "output_type": "stream",
     "text": [
      "{1: {'top_1': 18, 'top_3': 24, 'top_5': 25, 'top_10': 30}, 2: {'top_1': 7, 'top_3': 11, 'top_5': 13, 'top_10': 16}, 3: {'top_1': 14, 'top_3': 25, 'top_5': 30, 'top_10': 35}, 4: {'top_1': 9, 'top_3': 12, 'top_5': 13, 'top_10': 13}, 5: {'top_1': 4, 'top_3': 4, 'top_5': 6, 'top_10': 6}, 6: {'top_1': 0, 'top_3': 0, 'top_5': 0, 'top_10': 0}}\n",
      "{1: 81, 2: 80, 3: 171, 4: 97, 5: 26, 6: 13}\n"
     ]
    }
   ],
   "source": [
    "import json\n",
    "from pprint import pprint\n",
    "def getJsonData(JsonFile):\n",
    "    with open(JsonFile, encoding=\"utf8\") as f:\n",
    "        data = json.load(f)\n",
    "    return data\n",
    "\n",
    "data = getJsonData('FINAL_RESULT_python2python_with_verdict.json')\n",
    "\n",
    "difficulty_top_at_acc = {}\n",
    "tops = {}\n",
    "tops['top_1'] = 0\n",
    "tops['top_3'] = 0\n",
    "tops['top_5'] = 0\n",
    "tops['top_10'] = 0\n",
    "diff_count = {}\n",
    "for idx in range(1, 7):\n",
    "    diff_count[idx] = 0\n",
    "    #print(eval[dt['idx']]['src_verdict'])\n",
    "    difficulty_top_at_acc[idx] = tops.copy()\n",
    "\n",
    "top_1, top_3 , top_5, top_10= 0, 0, 0, 0\n",
    "before = 0\n",
    "accepted_before = []\n",
    "\n",
    "for ind, dt in enumerate(data):\n",
    "    diff_count[difficulty[data[ind]['tgt_id'].split('_')[0]]]+=1\n",
    "    counted_once = [False, False, False, False]\n",
    "    for idx in range(10):\n",
    "        if dt['test_cases_run_by_generations'][idx]==dt['total_test_cases']:\n",
    "            if not counted_once[0] and idx<1:\n",
    "                difficulty_top_at_acc[difficulty[data[ind]['tgt_id'].split('_')[0]]]['top_1'] +=1\n",
    "                counted_once[0]=True\n",
    "            if not counted_once[1] and idx<3:\n",
    "                difficulty_top_at_acc[difficulty[data[ind]['tgt_id'].split('_')[0]]]['top_3'] +=1\n",
    "                counted_once[1]=True\n",
    "            if not counted_once[2] and idx<5:\n",
    "                difficulty_top_at_acc[difficulty[data[ind]['tgt_id'].split('_')[0]]]['top_5'] +=1\n",
    "                counted_once[2]=True\n",
    "            if not counted_once[3] and idx<10:\n",
    "                difficulty_top_at_acc[difficulty[data[ind]['tgt_id'].split('_')[0]]]['top_10']+=1\n",
    "                counted_once[3]=True\n",
    "\n",
    "print(difficulty_top_at_acc)\n",
    "print(diff_count)\n",
    "\n"
   ]
  },
  {
   "cell_type": "code",
   "execution_count": 87,
   "metadata": {},
   "outputs": [
    {
     "data": {
      "image/png": "[encoded data removed]",
      "text/plain": [
       "<Figure size 720x288 with 1 Axes>"
      ]
     },
     "metadata": {
      "needs_background": "light"
     },
     "output_type": "display_data"
    }
   ],
   "source": [
    "\n",
    "import numpy as np\n",
    "import matplotlib.pyplot as plt\n",
    "\n",
    "N = 5\n",
    "ind = np.arange(N)  # the x locations for the groups\n",
    "width = 0.21       # the width of the bars\n",
    "\n",
    "fig = plt.figure()\n",
    "ax = fig.add_subplot(111)\n",
    "\n",
    "top_1s, top_3s, top_5s, top_10s =  [], [], [], []\n",
    "counts = []\n",
    "for i in range(1, 6):\n",
    "    top_1s.append(difficulty_top_at_acc[i]['top_1'])\n",
    "    top_3s.append(difficulty_top_at_acc[i]['top_3'])\n",
    "    top_5s.append(difficulty_top_at_acc[i]['top_5'])\n",
    "    top_10s.append(difficulty_top_at_acc[i]['top_10'])\n",
    "    counts.append(diff_count[i])\n",
    "\n",
    "rects1 = ax.bar(ind, [x/y for x, y in zip(top_1s, counts)], width, color='r')\n",
    "\n",
    "\n",
    "rects2 = ax.bar(ind+width, [x/y for x, y in zip(top_3s, counts)], width, color='g')\n",
    "\n",
    "rects3 = ax.bar(ind+width*2, [x/y for x, y in zip(top_5s, counts)], width, color='b')\n",
    "\n",
    "rects4 = ax.bar(ind+width*3, [x/y for x, y in zip(top_10s, counts)], width, color='y')\n",
    "\n",
    "\n",
    "\n",
    "ax.set_ylabel('Accuracy on Execution')\n",
    "ax.set_xticks(ind+width)\n",
    "ax.set_xticklabels( ('A', 'B', 'C', 'D', 'E') )\n",
    "#ax.legend( (rects1[0], rects2[0], rects3[0]), ('y', 'z', 'k') )\n",
    "\n",
    "def autolabel(rects):\n",
    "    for rect in rects:\n",
    "        h = rect.get_height()\n",
    "        ax.text(rect.get_x()+rect.get_width()/2., 1.05*h, '%d'%int(h),\n",
    "                ha='center', va='bottom')\n",
    "\n",
    "#autolabel(rects1)\n",
    "#autolabel(rects2)\n",
    "#autolabel(rects3)\n",
    "#autolabel(rects4)\n",
    "plt.savefig('Acceptance_By_Difficulty.pdf', format='pdf', dpi=1200)\n",
    "#plt.show()"
   ]
  },
  {
   "cell_type": "code",
   "execution_count": 88,
   "metadata": {},
   "outputs": [
    {
     "data": {
      "image/png": "[encoded data removed]",
      "text/plain": [
       "<Figure size 720x288 with 1 Axes>"
      ]
     },
     "metadata": {
      "needs_background": "light"
     },
     "output_type": "display_data"
    }
   ],
   "source": [
    "xlabels = [\n",
    "    f'A ({diff_count[1]})', f'B ({diff_count[2]})', f'C ({diff_count[3]})',f'D ({diff_count[4]})', f'E ({diff_count[5]})'\n",
    "]\n",
    "\n",
    "# plt.figure(figsize=(6, 15))\n",
    "plt.rcParams[\"font.family\"] = \"Times New Roman\"\n",
    "plt.rcParams[\"font.size\"] = \"20\"\n",
    "plt.rcParams[\"figure.figsize\"] = [10, 4]\n",
    "fig, ax = plt.subplots()\n",
    "\n",
    "data = {\n",
    "    'Top 1': [x/y for x, y in zip(top_1s, counts)],\n",
    "    'Top 3': [x/y for x, y in zip(top_3s, counts)],\n",
    "    'Top 5': [x/y for x, y in zip(top_5s, counts)],\n",
    "    'Top 10': [x/y for x, y in zip(top_10s, counts)],\n",
    "}\n",
    "\n",
    "bar_plot(\n",
    "    ax, data,\n",
    "    total_width=0.8,\n",
    "    single_width=0.75,\n",
    "    xlabels=xlabels,\n",
    "    hatches=('-', '/', '\\\\', 'xx')\n",
    ")\n",
    "ax.xaxis.set_tick_params(labelsize=11)\n",
    "ax.yaxis.set_tick_params(labelsize=14)\n",
    "plt.margins(0.03, 0.03)\n",
    "plt.savefig('Acceptance_By_Difficulty_python.pdf', format='pdf', dpi=1200, bbox_inches='tight', pad_inches=0)\n"
   ]
  },
  {
   "cell_type": "code",
   "execution_count": 14,
   "metadata": {},
   "outputs": [
    {
     "data": {
      "text/plain": [
       "4"
      ]
     },
     "execution_count": 14,
     "metadata": {},
     "output_type": "execute_result"
    }
   ],
   "source": [
    "difficulty_top_at_acc[5]['top_3']"
   ]
  },
  {
   "cell_type": "code",
   "execution_count": 16,
   "metadata": {},
   "outputs": [
    {
     "data": {
      "text/plain": [
       "{1: 81, 2: 80, 3: 171, 4: 97, 5: 26, 6: 13}"
      ]
     },
     "execution_count": 16,
     "metadata": {},
     "output_type": "execute_result"
    }
   ],
   "source": [
    "diff_count"
   ]
  },
  {
   "cell_type": "code",
   "execution_count": null,
   "metadata": {},
   "outputs": [],
   "source": []
  },
  {
   "cell_type": "code",
   "execution_count": 70,
   "metadata": {},
   "outputs": [],
   "source": [
    "from codegen.preprocessing.lang_processors.java_processor import JavaProcessor\n",
    "from codegen.preprocessing.lang_processors.python_processor import PythonProcessor\n",
    "import subprocess\n",
    "import filecmp\n",
    "from subprocess import Popen, PIPE, STDOUT\n",
    "import sys\n",
    "import json\n",
    "root_folder = \"../third_party\"\n",
    "jprocessor = JavaProcessor(root_folder=root_folder)\n",
    "pyprocessor = PythonProcessor(root_folder=root_folder)\n",
    "def getJsonData(JsonFile):\n",
    "    with open(JsonFile, encoding=\"utf8\") as f:\n",
    "        data = json.load(f)\n",
    "    return data\n",
    "#test = getJsonData('../data/python/processed/test.jsonl')\n",
    "eval = getJsonData('../data/python/processed/eval.jsonl')\n"
   ]
  },
  {
   "cell_type": "code",
   "execution_count": 89,
   "metadata": {},
   "outputs": [
    {
     "name": "stdout",
     "output_type": "stream",
     "text": [
      "{'src_id': 'p03423_s483140324', 'src': ['N', '=', 'int', '(', 'input', '(', ')', ')', 'NEW_LINE', 'print', '(', 'N', '//', '3', ')', 'NEW_LINE'], 'src_verdict': 'Judge Not Available', 'tgt': ['N', '=', 'int', '(', 'input', '(', ')', ')', 'NEW_LINE', 'print', '(', 'N', '//', '3', ')', 'NEW_LINE'], 'tgt_id': 'p03423_s214143093'}\n"
     ]
    },
    {
     "data": {
      "image/png": "[encoded data removed]",
      "text/plain": [
       "<Figure size 720x288 with 1 Axes>"
      ]
     },
     "metadata": {},
     "output_type": "display_data"
    }
   ],
   "source": [
    "\n",
    "counts = {}\n",
    "for data in eval:\n",
    "        counts[data['src_verdict']] = counts.get(data['src_verdict'], 0)+1\n",
    "        if data['src_verdict'] == 'Judge Not Available':\n",
    "                print(data)\n",
    "\n",
    "import matplotlib.pyplot as plt\n",
    "\n",
    "# Pie chart, where the slices will be ordered and plotted counter-clockwise:\n",
    "labels = list(counts.keys())\n",
    "sizes = [counts[key] for key in labels]\n",
    "explode = (0, 0.1, 0, 0)  # only \"explode\" the 2nd slice (i.e. 'Hogs')\n",
    "\n",
    "fig1, ax1 = plt.subplots()\n",
    "ax1.pie(sizes,explode=explode,labels=labels, autopct='%1.1f%%',\n",
    "        shadow=True, startangle=90)\n",
    "ax1.axis('equal')  # Equal aspect ratio ensures that pie is drawn as a circle.\n",
    "\n",
    "plt.show()"
   ]
  },
  {
   "cell_type": "code",
   "execution_count": 24,
   "metadata": {},
   "outputs": [
    {
     "name": "stdout",
     "output_type": "stream",
     "text": [
      "{'Time Limit Exceeded': 67, 'Compile Error': 80, 'Wrong Answer': 293, 'Runtime Error': 60}\n"
     ]
    }
   ],
   "source": [
    "res = getJsonData('FINAL_RESULT_python2python_with_verdict.json')\n",
    "\n",
    "counts = {}\n",
    "for data in eval:\n",
    "        counts[data['src_verdict']] = counts.get(data['src_verdict'], 0)+1\n",
    "print(counts)"
   ]
  },
  {
   "cell_type": "code",
   "execution_count": 9,
   "metadata": {},
   "outputs": [
    {
     "name": "stderr",
     "output_type": "stream",
     "text": [
      "findfont: Font family ['Times New Roman'] not found. Falling back to DejaVu Sans.\n",
      "findfont: Font family ['Times New Roman'] not found. Falling back to DejaVu Sans.\n"
     ]
    },
    {
     "data": {
      "image/png": "[encoded data removed]",
      "text/plain": [
       "<Figure size 720x288 with 1 Axes>"
      ]
     },
     "metadata": {
      "needs_background": "light"
     },
     "output_type": "display_data"
    }
   ],
   "source": [
    "import pickle\n",
    "from statistics import mean, median\n",
    "from collections import OrderedDict\n",
    "import numpy as np\n",
    "import matplotlib.pyplot as plt\n",
    "\n",
    "COLORS = [\n",
    "    'tab:gray', 'tab:orange', 'tab:blue', 'tab:red',\n",
    "    'tab:purple', 'tab:cyan', 'tab:olive', 'tab:green',\n",
    "]\n",
    "\n",
    "\n",
    "def bar_plot(ax, data, colors=None, total_width=0.8, single_width=1, xlabels=None, legend=True, hatches=None):\n",
    "    \"\"\"Draws a bar plot with multiple bars per data point.\n",
    "\n",
    "    Parameters\n",
    "    ----------\n",
    "    ax : matplotlib.pyplot.axis\n",
    "        The axis we want to draw our plot on.\n",
    "\n",
    "    data: dictionary\n",
    "        A dictionary containing the data we want to plot. Keys are the names of the\n",
    "        data, the items is a list of the values.\n",
    "\n",
    "        Example:\n",
    "        data = {\n",
    "            \"x\":[1,2,3],\n",
    "            \"y\":[1,2,3],\n",
    "            \"z\":[1,2,3],\n",
    "        }\n",
    "\n",
    "    colors : array-like, optional\n",
    "        A list of colors which are used for the bars. If None, the colors\n",
    "        will be the standard matplotlib color cyle. (default: None)\n",
    "\n",
    "    total_width : float, optional, default: 0.8\n",
    "        The width of a bar group. 0.8 means that 80% of the x-axis is covered\n",
    "        by bars and 20% will be spaces between the bars.\n",
    "\n",
    "    single_width: float, optional, default: 1\n",
    "        The relative width of a single bar within a group. 1 means the bars\n",
    "        will touch eachother within a group, values less than 1 will make\n",
    "        these bars thinner.\n",
    "\n",
    "    legend: bool, optional, default: True\n",
    "        If this is set to true, a legend will be added to the axis.\n",
    "    \"\"\"\n",
    "\n",
    "    # Check if colors where provided, otherwhise use the default color cycle\n",
    "    if colors is None:\n",
    "        colors = plt.rcParams['axes.prop_cycle'].by_key()['color']\n",
    "\n",
    "    if hatches:\n",
    "        assert len(hatches) == len(data)\n",
    "    else:\n",
    "        hatches = ['|'] * len(data)\n",
    "\n",
    "    # Number of bars per group\n",
    "    n_bars = len(data)\n",
    "\n",
    "    # The width of a single bar\n",
    "    bar_width = total_width / n_bars\n",
    "\n",
    "    # List containing handles for the drawn bars, used for the legend\n",
    "    bars = []\n",
    "\n",
    "    # Iterate over all data\n",
    "    x_coord = []\n",
    "    for i, (name, values) in enumerate(data.items()):\n",
    "        # The offset in x direction of that bar\n",
    "        x_offset = (i - n_bars / 2) * bar_width + bar_width / 2\n",
    "\n",
    "        # Draw a bar for every value of that type\n",
    "        for x, y in enumerate(values):\n",
    "            if i == 0:\n",
    "                x_coord.append(x + (x_offset + (bar_width * 3) / 2))\n",
    "\n",
    "            bar = ax.bar(\n",
    "                x + x_offset, y,\n",
    "                bar_width * single_width,\n",
    "                color='white',\n",
    "                edgecolor=colors[i % len(colors)],\n",
    "                # color=colors[i % len(colors)],\n",
    "                hatch=hatches[i] if hatches else None,\n",
    "                align='center',\n",
    "                # alpha=0.7,\n",
    "            )\n",
    "\n",
    "        # Add a handle to the last drawn bar, which we'll need for the legend\n",
    "        bars.append(bar[0])\n",
    "\n",
    "    if xlabels:\n",
    "        ax.set(xticks=x_coord, xticklabels=xlabels)\n",
    "\n",
    "    # Draw legend if we need\n",
    "    if legend:\n",
    "        ax.legend(\n",
    "            bars,\n",
    "            data.keys(),\n",
    "            loc='upper center',\n",
    "            bbox_to_anchor=(0.5, 1.15),\n",
    "            ncol=len(data),\n",
    "            columnspacing=0.6,\n",
    "            handletextpad=0.2,\n",
    "            fontsize=16,\n",
    "            frameon=False\n",
    "        )\n",
    "\n",
    "    # ratio= 1.0\n",
    "    # xleft, xright = ax.get_xlim()\n",
    "    # ybottom, ytop = ax.get_ylim()\n",
    "    # # the abs method is used to make sure that all numbers are positive\n",
    "    # # because x and y axis of an axes maybe inversed.\n",
    "    # ax.set_aspect(abs((xright-xleft)/(ybottom-ytop))*ratio)\n",
    "\n",
    "\n",
    "if __name__ == '__main__':\n",
    "    xlabels = [\n",
    "        '$k$=1 (5,937)', '$k$=3 (21,128)', '$k$=5 (40,394)',\n",
    "    ]\n",
    "\n",
    "    # plt.figure(figsize=(6, 15))\n",
    "    plt.rcParams[\"font.family\"] = \"Times New Roman\"\n",
    "    plt.rcParams[\"font.size\"] = \"20\"\n",
    "    plt.rcParams[\"figure.figsize\"] = [10, 4]\n",
    "    fig, ax = plt.subplots()\n",
    "\n",
    "    # label = 'Java_to_Python'\n",
    "    # data = {\n",
    "    #     'Seq2Seq+Attn.': [43.4, 56.3, 52.8],\n",
    "    #     'CodeBERT': [55.7, 59.3, 55.9],\n",
    "    #     'GraphCodeBERT': [58.5, 59.7, 58.6],\n",
    "    #     'PLBART': [58.4, 67.1, 59.6],\n",
    "    # }\n",
    "\n",
    "    label = 'Python_to_Java'\n",
    "    data = {\n",
    "        'Seq2Seq+Attn.': [48.7, 62.7, 56.6],\n",
    "        'CodeBERT': [59.9, 55.3, 53.4],\n",
    "        'GraphCodeBERT': [59.8, 60.6, 37.4],\n",
    "        'PLBART': [70.6, 69.1, 72.0],\n",
    "    }\n",
    "\n",
    "    bar_plot(\n",
    "        ax, data,\n",
    "        total_width=0.75,\n",
    "        single_width=0.7,\n",
    "        xlabels=xlabels,\n",
    "        hatches=('-', '/', '\\\\', 'xx')\n",
    "    )\n",
    "    ax.xaxis.set_tick_params(labelsize=22)\n",
    "    ax.yaxis.set_tick_params(labelsize=22)\n",
    "    plt.margins(0.03, 0.03)\n",
    "    plt.savefig(\n",
    "        '{}.pdf'.format(label), bbox_inches='tight',\n",
    "        pad_inches=0\n",
    "    )"
   ]
  },
  {
   "cell_type": "code",
   "execution_count": null,
   "metadata": {},
   "outputs": [],
   "source": []
  },
  {
   "cell_type": "code",
   "execution_count": null,
   "metadata": {},
   "outputs": [],
   "source": []
  },
  {
   "cell_type": "code",
   "execution_count": 97,
   "metadata": {},
   "outputs": [
    {
     "name": "stdout",
     "output_type": "stream",
     "text": [
      "##########    src    ###########\n",
      "import math\n",
      "from functools import reduce\n",
      "N = int ( input ( ) )\n",
      "T = [ int ( input ( ) ) for _ in range ( N ) ]\n",
      "def lcm_base ( x , y ) :\n",
      "    return ( x * y ) // math.gcd ( x , y )\n",
      "def lcm ( L ) :\n",
      "    return reduce ( lcm_base , L , 1 )\n",
      "print ( lcm ( T ) )\n",
      "\n",
      "##########    tgt    ###########\n",
      "import fractions\n",
      "from functools import reduce\n",
      "N = int ( input ( ) )\n",
      "T = [ int ( input ( ) ) for _ in range ( N ) ]\n",
      "def lcm_base ( x , y ) :\n",
      "    return ( x * y ) // fractions.gcd ( x , y )\n",
      "def lcm ( L ) :\n",
      "    return reduce ( lcm_base , L , 1 )\n",
      "print ( lcm ( T ) )\n",
      "\n",
      "##########    src    ###########\n",
      "import math\n",
      "nums = list ( map ( int , input ( ).split ( \" \" ) ) )\n",
      "g = math.gcd ( nums [ 0 ] , nums [ 1 ] )\n",
      "arr = [ 0 for i in range ( 100 ) ]\n",
      "a = 0\n",
      "for i in range ( 100 ) :\n",
      "    i += 1\n",
      "    if nums [ 0 ] % i == 0 and nums [ 1 ] % i == 0 :\n",
      "        arr [ a ] = i\n",
      "        a += 1\n",
      "        if i == g :\n",
      "            print ( arr [ a - nums [ 2 ] ] )\n",
      "            break\n",
      "\n",
      "##########    tgt    ###########\n",
      "def gcd ( m , n ) :\n",
      "    x = max ( m , n )\n",
      "    y = min ( m , n )\n",
      "    if x % y == 0 :\n",
      "        return y\n",
      "    else :\n",
      "        while x % y != 0 :\n",
      "            z = x % y\n",
      "            x = y\n",
      "            y = z\n",
      "        else :\n",
      "            return z\n",
      "nums = list ( map ( int , input ( ).split ( \" \" ) ) )\n",
      "g = gcd ( nums [ 0 ] , nums [ 1 ] )\n",
      "arr = [ 0 for i in range ( 100 ) ]\n",
      "a = 0\n",
      "for i in range ( 100 ) :\n",
      "    i += 1\n",
      "    if nums [ 0 ] % i == 0 and nums [ 1 ] % i == 0 :\n",
      "        arr [ a ] = i\n",
      "        a += 1\n",
      "        if i == g :\n",
      "            print ( arr [ a - nums [ 2 ] ] )\n",
      "            break\n",
      "\n",
      "##########    src    ###########\n",
      "import numpy as np\n",
      "import math\n",
      "def comb ( n , r ) :\n",
      "    return math.factorial ( n ) // ( math.factorial ( n - r ) * math.factorial ( r ) )\n",
      "from collections import Counter\n",
      "N = int ( input ( ) )\n",
      "A = list ( map ( int , input ( ).split ( ) ) )\n",
      "c = Counter ( A )\n",
      "np_A = np.array ( A )\n",
      "tmp_all = np.array ( A )\n",
      "unique = np.unique ( tmp_all )\n",
      "print ( \"unique:\" , unique )\n",
      "ans_all = 0\n",
      "for u in unique :\n",
      "    count_u = c [ u ]\n",
      "    if count_u < 2 :\n",
      "        continue\n",
      "    tmp = int ( count_u * ( count_u - 1 ) / 2 )\n",
      "    ans_all += tmp\n",
      "for i in A :\n",
      "    print ( ans_all - c [ i ] + 1 )\n",
      "\n",
      "##########    tgt    ###########\n",
      "import numpy as np\n",
      "from collections import Counter\n",
      "N = int ( input ( ) )\n",
      "A = list ( map ( int , input ( ).split ( ) ) )\n",
      "c = Counter ( A )\n",
      "np_A = np.array ( A )\n",
      "tmp_all = np.array ( A )\n",
      "unique = np.unique ( tmp_all )\n",
      "ans_all = 0\n",
      "for u in unique :\n",
      "    count_u = c [ u ]\n",
      "    if count_u < 2 :\n",
      "        continue\n",
      "    tmp = int ( count_u * ( count_u - 1 ) / 2 )\n",
      "    ans_all += tmp\n",
      "for i in A :\n",
      "    print ( ans_all - c [ i ] + 1 )\n",
      "\n",
      "##########    src    ###########\n",
      "a , b , c , d = input ( ).split ( )\n",
      "a , b , c , d = int ( a ) , int ( b ) , int ( c ) , int ( d )\n",
      "import math\n",
      "def div ( x ) :\n",
      "    if ( a % x == 0 ) :\n",
      "        return ( b // x - a // x ) * ( x - 1 ) + ( b % x )\n",
      "    else :\n",
      "        return ( b // x - a // x ) * ( x - 1 ) + ( b % x ) - ( a % x - 1 )\n",
      "ans = div ( c ) + div ( d ) - div ( int ( c * d / math.gcd ( c , d ) ) )\n",
      "print ( ans )\n",
      "\n",
      "##########    tgt    ###########\n",
      "a , b , c , d = input ( ).split ( )\n",
      "a , b , c , d = int ( a ) , int ( b ) , int ( c ) , int ( d )\n",
      "from fractions import gcd\n",
      "def div ( x ) :\n",
      "    if ( a % x == 0 ) :\n",
      "        return ( b // x - a // x ) * ( x - 1 ) + ( b % x )\n",
      "    else :\n",
      "        return ( b // x - a // x ) * ( x - 1 ) + ( b % x ) - ( a % x - 1 )\n",
      "ans = div ( c ) + div ( d ) - div ( int ( c * d // gcd ( c , d ) ) )\n",
      "print ( ans )\n",
      "\n",
      "##########    src    ###########\n",
      "H , N = map ( int , input ( ).split ( ) )\n",
      "AB = [ ]\n",
      "for _ in range ( N ) :\n",
      "    AB.append ( tuple ( map ( int , input ( ).split ( ) ) ) )\n",
      "f_inf = float ( 'inf' )\n",
      "dp = [ f_inf ] * ( H + 1 )\n",
      "dp [ 0 ] = 0\n",
      "for h in range ( H ) :\n",
      "    for damage , cost in AB :\n",
      "        next_index = min ( h + damage , H )\n",
      "        dp [ next_index ] = min ( dp [ next_index ] , dp [ h ] + cost )\n",
      "print ( dp [ H ] )\n",
      "\n",
      "##########    tgt    ###########\n",
      "H , N = map ( int , input ( ).split ( ) )\n",
      "AB = [ ]\n",
      "for _ in range ( N ) :\n",
      "    AB.append ( tuple ( map ( int , input ( ).split ( ) ) ) )\n",
      "f_inf = float ( 'inf' )\n",
      "dp = [ f_inf ] * ( H + 1 )\n",
      "dp [ 0 ] = 0\n",
      "for h in range ( H ) :\n",
      "    for damage , cost in AB :\n",
      "        next_index = min ( h + damage , H )\n",
      "        dp [ next_index ] = min ( dp [ next_index ] , dp [ h ] + cost )\n",
      "print ( dp [ H ] )\n",
      "\n",
      "##########    src    ###########\n",
      "r = 0\n",
      "s = input ( )\n",
      "for a in s :\n",
      "    if a ==   “ + ” :\n",
      "        r += 1\n",
      "    else :\n",
      "        r -= 1\n",
      "return r\n",
      "\n",
      "##########    tgt    ###########\n",
      "result = 0\n",
      "s = input ( )\n",
      "for i in s :\n",
      "    if i == '+' :\n",
      "        result = result + 1\n",
      "    else :\n",
      "        result = result - 1\n",
      "print ( result )\n",
      "\n"
     ]
    }
   ],
   "source": [
    "data = getJsonData('FINAL_RESULT_python2python_with_verdict.json')\n",
    "#print(data[0])\n",
    "for dt in data[150:200]:\n",
    "    if dt['test_cases_run_by_generations'][0]==dt['total_test_cases']:\n",
    "        print(\"##########    src    ###########\")\n",
    "        print(dt['detokenized_src'])\n",
    "        #print(dt['detokenized_generations'][0])\n",
    "        print('##########    tgt    ###########')\n",
    "        print(dt['detokenized_tgt'])\n",
    "        \n",
    "        "
   ]
  },
  {
   "cell_type": "code",
   "execution_count": null,
   "metadata": {},
   "outputs": [],
   "source": []
  }
 ],
 "metadata": {
  "kernelspec": {
   "display_name": "Python 3.6.13 ('python36')",
   "language": "python",
   "name": "python3"
  },
  "language_info": {
   "codemirror_mode": {
    "name": "ipython",
    "version": 3
   },
   "file_extension": ".py",
   "mimetype": "text/x-python",
   "name": "python",
   "nbconvert_exporter": "python",
   "pygments_lexer": "ipython3",
   "version": "3.6.13"
  },
  "orig_nbformat": 4,
  "vscode": {
   "interpreter": {
    "hash": "e03c7d5b0a8d68dab11758fee63a529a36735699315db70e30825a4f9c804d12"
   }
  }
 },
 "nbformat": 4,
 "nbformat_minor": 2
}
