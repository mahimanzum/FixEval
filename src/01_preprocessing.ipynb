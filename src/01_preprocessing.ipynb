{
 "cells": [
  {
   "cell_type": "code",
   "execution_count": null,
   "metadata": {},
   "outputs": [],
   "source": []
  },
  {
   "cell_type": "code",
   "execution_count": null,
   "metadata": {},
   "outputs": [],
   "source": []
  },
  {
   "cell_type": "code",
   "execution_count": null,
   "metadata": {},
   "outputs": [],
   "source": []
  },
  {
   "cell_type": "code",
   "execution_count": null,
   "metadata": {},
   "outputs": [],
   "source": []
  },
  {
   "cell_type": "code",
   "execution_count": null,
   "metadata": {},
   "outputs": [],
   "source": []
  },
  {
   "cell_type": "code",
   "execution_count": null,
   "metadata": {},
   "outputs": [],
   "source": []
  },
  {
   "cell_type": "code",
   "execution_count": null,
   "metadata": {},
   "outputs": [],
   "source": [
    "cnt = 0\n",
    "for user in submissions:\n",
    "    for problem in submissions[user]:\n",
    "        cnt+=len(submissions[user][problem])"
   ]
  },
  {
   "cell_type": "code",
   "execution_count": null,
   "metadata": {},
   "outputs": [],
   "source": []
  },
  {
   "cell_type": "markdown",
   "metadata": {},
   "source": [
    "Process json"
   ]
  },
  {
   "cell_type": "markdown",
   "metadata": {},
   "source": []
  },
  {
   "cell_type": "code",
   "execution_count": null,
   "metadata": {},
   "outputs": [],
   "source": [
    "from glob import glob\n",
    "import pandas as pd\n",
    "import matplotlib.pyplot as plt\n",
    "import json\n",
    "from joblib import Parallel, delayed, parallel_backend\n",
    "from multiprocessing import Process, Lock\n",
    "from tqdm import tqdm\n",
    "\n",
    "import json\n",
    "def getJsonData(JsonFile):\n",
    "    with open(JsonFile, encoding=\"utf8\") as f:\n",
    "        data = json.load(f)\n",
    "    return data\n",
    "data = getJsonData(\"processed.json\")\n",
    "ans = 0\n",
    "for user in tqdm(data.keys()):\n",
    "    for problem_id in data[user].keys():\n",
    "        ans+=len(data[user][problem_id])\n",
    "print(\"total data = \", ans)"
   ]
  },
  {
   "cell_type": "code",
   "execution_count": 1,
   "metadata": {},
   "outputs": [],
   "source": [
    "from glob import glob\n",
    "import pandas as pd\n",
    "import matplotlib.pyplot as plt\n",
    "import json\n",
    "from joblib import Parallel, delayed, parallel_backend\n",
    "from multiprocessing import Process, Lock\n",
    "from tqdm import tqdm\n",
    "\n",
    "import json\n",
    "def getJsonData(JsonFile):\n",
    "    with open(JsonFile, encoding=\"utf8\") as f:\n",
    "        data = json.load(f)\n",
    "    return data\n",
    "    "
   ]
  },
  {
   "cell_type": "code",
   "execution_count": 2,
   "metadata": {},
   "outputs": [
    {
     "name": "stdout",
     "output_type": "stream",
     "text": [
      "\u001b[0m\u001b[01;34mcached_data\u001b[0m/          evaluation.log             result.txt   test.output\n",
      "\u001b[01;34mcheckpoint-best-ppl\u001b[0m/  generation_evaluation.log  summary.log  test.src\n",
      "\u001b[01;34mcheckpoint-last\u001b[0m/      generation.json            test.gold    training.log\n"
     ]
    }
   ],
   "source": []
  },
  {
   "cell_type": "code",
   "execution_count": 3,
   "metadata": {},
   "outputs": [],
   "source": [
    "data = getJsonData('../codet5/codenet/java2java/generation.json')"
   ]
  },
  {
   "cell_type": "code",
   "execution_count": 4,
   "metadata": {},
   "outputs": [
    {
     "data": {
      "text/plain": [
       "500"
      ]
     },
     "execution_count": 4,
     "metadata": {},
     "output_type": "execute_result"
    }
   ],
   "source": [
    "len(data)"
   ]
  },
  {
   "cell_type": "code",
   "execution_count": 6,
   "metadata": {},
   "outputs": [
    {
     "data": {
      "text/plain": [
       "{'idx': 499,\n",
       " 'tgt': 'import java . util . Arrays ; import java . util . Scanner ; public class Main { public static void main ( String [ ] args ) { try ( Scanner sc = new Scanner ( System . in ) ; ) { new Main ( ) . solve ( sc ) ; } } void solve ( Scanner sc ) { int n = sc . nextInt ( ) ; Point [ ] ps = new Point [ n ] ; for ( int i = 0 ; i < n ; i ++ ) { long x = sc . nextLong ( ) ; long y = sc . nextLong ( ) ; long h = sc . nextLong ( ) ; if ( h == 100 ) { System . out . printf ( \" % d ▁ % d ▁ % d % n \" , x , y , h ) ; return ; } ps [ i ] = new Point ( x , y , h ) ; } Arrays . sort ( ps , ( x , y ) -> { if ( y . h == x . h ) { return 0 ; } else if ( y . h > x . h ) { return 1 ; } return - 1 ; } ) ; for ( int x = 0 ; x <= 100 ; x ++ ) { for ( int y = 0 ; y <= 100 ; y ++ ) { long h = ps [ 0 ] . h + Math . abs ( ps [ 0 ] . x - x ) + Math . abs ( ps [ 0 ] . y - y ) ; for ( int k = 0 ; k < n ; k ++ ) { long h1 = Math . max ( h - Math . abs ( ps [ k ] . x - x ) - Math . abs ( ps [ k ] . y - y ) , 0 ) ; if ( ps [ k ] . h != h1 ) { break ; } else if ( k == n - 1 ) { System . out . printf ( \" % d ▁ % d ▁ % d % n \" , x , y , h ) ; } } } } } } class Point { long x ; long y ; long h ; Point ( long x , long y , long h ) { this . x = x ; this . y = y ; this . h = h ; } }',\n",
       " 'tgt_id': 'p03240_s094913361_p03240_s878335176',\n",
       " 'src': 'import java . io . BufferedReader ; import java . io . Closeable ; import java . io . IOException ; import java . io . InputStream ; import java . io . InputStreamReader ; import java . io . PrintWriter ; import java . util . Set ; import java . util . HashSet ; public class Main { public static void main ( String [ ] args ) throws IOException { try ( InputReader reader = new InputReader ( System . in ) ) { solve ( reader ) ; } } private static void solve ( InputReader reader ) throws IOException { int n = reader . readInt ( ) ; Point [ ] points = new Point [ n ] ; for ( int i = 0 ; i < n ; i ++ ) { int [ ] p = reader . readIntsSplitByDelimiter ( \" ▁ \" ) ; points [ i ] = new Point ( p [ 0 ] , p [ 1 ] , p [ 2 ] ) ; if ( p [ 2 ] == 100 ) { System . out . printf ( \" % d ▁ % d ▁ % d % n \" , p [ 0 ] , p [ 1 ] , p [ 2 ] ) ; return ; ; } } for ( int i = 0 ; i <= 100 ; i ++ ) { for ( int j = 0 ; j <= 100 ; j ++ ) { boolean ok = true ; long h = - 1 ; for ( int k = 0 ; k < n ; k ++ ) { if ( points [ k ] . h <= 0 ) { continue ; } long tmp = points [ k ] . h + Math . abs ( points [ k ] . x - i ) + Math . abs ( points [ k ] . y - j ) ; if ( h == - 1 ) { h = tmp ; } if ( h != tmp ) { ok = false ; break ; } } if ( ok ) { System . out . printf ( \" % d ▁ % d ▁ % d % n \" , i , j , h ) ; return ; } } } } } class Point { public int x ; public int y ; public long h ; Point ( int x , int y , long h ) { this . x = x ; this . y = y ; this . h = h ; } } class Util { static int gcd ( int m , int n ) { int min = Math . min ( m , n ) ; int max = Math . max ( m , n ) ; while ( min != 0 ) { int tmp = min ; min = max % tmp ; max = tmp ; } return max ; } static int lcm ( int m , int n ) { return m / gcd ( m , n ) * n ; } } class InputReader implements Closeable , AutoCloseable { private final BufferedReader br ; InputReader ( InputStream inputStream ) { this . br = new BufferedReader ( new InputStreamReader ( inputStream ) ) ; } String readLine ( ) throws IOException { return this . br . readLine ( ) ; } int readInt ( ) throws IOException { return Integer . parseInt ( this . readLine ( ) ) ; } long readLong ( ) throws IOException { return Long . parseLong ( this . readLine ( ) ) ; } double readDouble ( ) throws IOException { return Double . parseDouble ( this . readLine ( ) ) ; } String [ ] readStringsSplitByDelimiter ( String delimiter ) throws IOException { return this . readLine ( ) . split ( delimiter ) ; } int [ ] readIntsSplitByDelimiter ( String delimiter ) throws IOException { String [ ] strings = this . readStringsSplitByDelimiter ( delimiter ) ; int stringsLength = strings . length ; int [ ] ints = new int [ stringsLength ] ; for ( int i = 0 ; i < stringsLength ; i ++ ) { ints [ i ] = Integer . parseInt ( strings [ i ] ) ; } return ints ; } long [ ] readLongsSplitByDelimiter ( String delimiter ) throws IOException { String [ ] strings = this . readStringsSplitByDelimiter ( delimiter ) ; int stringsLength = strings . length ; long [ ] longs = new long [ stringsLength ] ; for ( int i = 0 ; i < stringsLength ; i ++ ) { longs [ i ] = Long . parseLong ( strings [ i ] ) ; } return longs ; } double [ ] readDoublesSplitByDelimiter ( String delimiter ) throws IOException { String [ ] strings = this . readStringsSplitByDelimiter ( delimiter ) ; int stringsLength = strings . length ; double [ ] doubles = new double [ stringsLength ] ; for ( int i = 0 ; i < stringsLength ; i ++ ) { doubles [ i ] = Double . parseDouble ( strings [ i ] ) ; } return doubles ; } @ Override public void close ( ) throws IOException { this . br . close ( ) ; } }',\n",
       " 'generations': ['import java . io . BufferedReader ; import java . io . Closeable ; import java . io . IOException ; import java . io . InputStream ; import java . io . InputStreamReader ; import java . io . PrintWriter ; import java . util . Set ; import java . util . HashSet ; public class Main { public static void main ( String [ ] args ) throws IOException { try ( InputReader reader = new InputReader ( System . in ) ) { solve ( reader ) ; } } private static void solve ( InputReader reader ) throws IOException { int n = reader . readInt ( ) ; Point [ ] points = new Point [ n ] ; for ( int i = 0 ; i < n ; i ++ ) { int [ ] p = reader . readIntsSplitByDelimiter ( \" ▁ \" ) ; points [ i ] = new Point ( p [ 0 ] , p [ 1 ] , p [ 2 ] ) ; if ( p [ 2 ] == 100 ) { System . out . printf ( \" % d ▁ % d ▁ % d % n \" , p [ 0 ] , p [ 1 ] , p [ 2 ] ) ; return ; } } for ( int i = 0 ; i <= 100 ; i ++ ) { for ( int j = 0 ; j <= 100 ; j ++ ) { boolean ok = true ; long h = - 1 ; for ( int k = 0 ; k < n ; k ++ ) { if ( points [ k ] . h <= 0 ) { continue ; } long tmp = points [ k ] . h + Math . abs ( points [ k ] . x - i ) + Math . abs ( points [ k ] . y - j ) ; if ( h == - 1 ) { h = tmp ; } if ( h != tmp ) { ok = false ; break ; } } if ( ok ) { System . out . printf ( \" % d ▁ % d ▁ % d % n \" , i , j , h ) ; return ; } } } } } class Point { public int x ; public int y ; public long h ; Point ( int x , int y , long h ) { this . x = x ; this . y = y ; this . h = h ; } } class Util { static int gcd ( int m , int n ) { int min = Math . min ( m , n ) ; int max = Math . max ( m , n )',\n",
       "  'import java . io . BufferedReader ; import java . io . Closeable ; import java . io . IOException ; import java . io . InputStream ; import java . io . InputStreamReader ; import java . io . PrintWriter ; import java . util . Set ; import java . util . HashSet ; public class Main { public static void main ( String [ ] args ) throws IOException { try ( InputReader reader = new InputReader ( System . in ) ) { solve ( reader ) ; } } private static void solve ( InputReader reader ) throws IOException { int n = reader . readInt ( ) ; Point [ ] points = new Point [ n ] ; for ( int i = 0 ; i < n ; i ++ ) { int [ ] p = reader . readIntsSplitByDelimiter ( \" ▁ \" ) ; points [ i ] = new Point ( p [ 0 ] , p [ 1 ] , p [ 2 ] ) ; if ( p [ 2 ] == 100 ) { System . out . printf ( \" % d ▁ % d ▁ % d % n \" , p [ 0 ] , p [ 1 ] , p [ 2 ] ) ; return ; } } for ( int i = 0 ; i <= 1000 ; i ++ ) { for ( int j = 0 ; j <= 1000 ; j ++ ) { boolean ok = true ; long h = - 1 ; for ( int k = 0 ; k < n ; k ++ ) { if ( points [ k ] . h <= 0 ) { continue ; } long tmp = points [ k ] . h + Math . abs ( points [ k ] . x - i ) + Math . abs ( points [ k ] . y - j ) ; if ( h == - 1 ) { h = tmp ; } if ( h != tmp ) { ok = false ; break ; } } if ( ok ) { System . out . printf ( \" % d ▁ % d ▁ % d % n \" , i , j , h ) ; return ; } } } } } class Point { public int x ; public int y ; public long h ; Point ( int x , int y , long h ) { this . x = x ; this . y = y ; this . h = h ; } } class Util { static int gcd ( int m , int n ) { int min = Math . min ( m , n ) ; int max = Math . max ( m , n )',\n",
       "  'import java . io . BufferedReader ; import java . io . Closeable ; import java . io . IOException ; import java . io . InputStream ; import java . io . InputStreamReader ; import java . io . PrintWriter ; import java . util . Set ; import java . util . HashSet ; public class Main { public static void main ( String [ ] args ) throws IOException { try ( InputReader reader = new InputReader ( System . in ) ) { solve ( reader ) ; } } private static void solve ( InputReader reader ) throws IOException { int n = reader . readInt ( ) ; Point [ ] points = new Point [ n ] ; for ( int i = 0 ; i < n ; i ++ ) { int [ ] p = reader . readIntsSplitByDelimiter ( \" ▁ \" ) ; points [ i ] = new Point ( p [ 0 ] , p [ 1 ] , p [ 2 ] ) ; if ( p [ 2 ] == 100 ) { System . out . printf ( \" % d ▁ % d ▁ % d % n \" , p [ 0 ] , p [ 1 ] , p [ 2 ] ) ; return ; } } for ( int i = 0 ; i <= 100 ; i ++ ) { for ( int j = 0 ; j <= 100 ; j ++ ) { boolean ok = true ; long h = - 1 ; for ( int k = 0 ; k < n ; k ++ ) { if ( points [ k ] . h <= 0 ) { continue ; } long tmp = points [ k ] . h + Math . abs ( points [ k ] . x - i ) + Math . abs ( points [ k ] . y - j ) ; if ( h == - 1 ) { h = tmp ; } if ( h != tmp ) { ok = false ; break ; } } if ( ok ) { System . out . printf ( \" % d ▁ % d ▁ % d % n \" , i , j , h ) ; return ; } } } } class Point { public int x ; public int y ; public long h ; Point ( int x , int y , long h ) { this . x = x ; this . y = y ; this . h = h ; } } class Util { static int gcd ( int m , int n ) { int min = Math . min ( m , n ) ; int max = Math . max ( m , n ) ;',\n",
       "  'import java . io . BufferedReader ; import java . io . Closeable ; import java . io . IOException ; import java . io . InputStream ; import java . io . InputStreamReader ; import java . io . PrintWriter ; import java . util . Set ; import java . util . HashSet ; public class Main { public static void main ( String [ ] args ) throws IOException { try ( InputReader reader = new InputReader ( System . in ) ) { solve ( reader ) ; } } private static void solve ( InputReader reader ) throws IOException { int n = reader . readInt ( ) ; Point [ ] points = new Point [ n ] ; for ( int i = 0 ; i < n ; i ++ ) { int [ ] p = reader . readIntsSplitByDelimiter ( \" ▁ \" ) ; points [ i ] = new Point ( p [ 0 ] , p [ 1 ] , p [ 2 ] ) ; if ( p [ 2 ] == 100 ) { System . out . printf ( \" % d ▁ % d ▁ % d % n \" , p [ 0 ] , p [ 1 ] , p [ 2 ] ) ; return ; } } for ( int i = 0 ; i <= 100000 ; i ++ ) { for ( int j = 0 ; j <= 100000 ; j ++ ) { boolean ok = true ; long h = - 1 ; for ( int k = 0 ; k < n ; k ++ ) { if ( points [ k ] . h <= 0 ) { continue ; } long tmp = points [ k ] . h + Math . abs ( points [ k ] . x - i ) + Math . abs ( points [ k ] . y - j ) ; if ( h == - 1 ) { h = tmp ; } if ( h != tmp ) { ok = false ; break ; } } if ( ok ) { System . out . printf ( \" % d ▁ % d ▁ % d % n \" , i , j , h ) ; return ; } } } } } class Point { public int x ; public int y ; public long h ; Point ( int x , int y , long h ) { this . x = x ; this . y = y ; this . h = h ; } } class Util { static int gcd ( int m , int n ) { int min = Math . min ( m , n ) ; int max = Math . max ( m , n )',\n",
       "  'import java . io . BufferedReader ; import java . io . Closeable ; import java . io . IOException ; import java . io . InputStream ; import java . io . InputStreamReader ; import java . io . PrintWriter ; import java . util . Set ; import java . util . HashSet ; public class Main { public static void main ( String [ ] args ) throws IOException { try ( InputReader reader = new InputReader ( System . in ) ) { solve ( reader ) ; } } private static void solve ( InputReader reader ) throws IOException { int n = reader . readInt ( ) ; Point [ ] points = new Point [ n ] ; for ( int i = 0 ; i < n ; i ++ ) { int [ ] p = reader . readIntsSplitByDelimiter ( \" ▁ \" ) ; points [ i ] = new Point ( p [ 0 ] , p [ 1 ] , p [ 2 ] ) ; if ( p [ 2 ] == 100 ) { System . out . printf ( \" % d ▁ % d ▁ % d % n \" , p [ 0 ] , p [ 1 ] , p [ 2 ] ) ; return ; } } for ( int i = 0 ; i <= 100 ; i ++ ) { for ( int j = 0 ; j <= 100 ; j ++ ) { boolean ok = true ; long h = - 1 ; for ( int k = 0 ; k < n ; k ++ ) { if ( points [ k ] . h <= 0 ) { continue ; } long tmp = points [ k ] . h + Math . abs ( points [ k ] . x - i ) + Math . abs ( points [ k ] . y - j ) ; if ( h == - 1 ) { h = tmp ; } if ( h != tmp ) { ok = false ; break ; } } if ( ok ) { System . out . printf ( \" % d ▁ % d ▁ % d % n \" , i , j , h ) ; return ; } } } } } class Point { public long x ; public long y ; long h ; Point ( long x , long y , long h ) { this . x = x ; this . y = y ; this . h = h ; } } class Util { static int gcd ( int m , int n ) { int min = Math . min ( m , n ) ; int max = Math . max ( m , n ) ;',\n",
       "  'import java . io . BufferedReader ; import java . io . Closeable ; import java . io . IOException ; import java . io . InputStream ; import java . io . InputStreamReader ; import java . io . PrintWriter ; import java . util . Set ; import java . util . HashSet ; public class Main { public static void main ( String [ ] args ) throws IOException { try ( InputReader reader = new InputReader ( System . in ) ) { solve ( reader ) ; } } private static void solve ( InputReader reader ) throws IOException { int n = reader . readInt ( ) ; Point [ ] points = new Point [ n ] ; for ( int i = 0 ; i < n ; i ++ ) { int [ ] p = reader . readIntsSplitByDelimiter ( \" ▁ \" ) ; points [ i ] = new Point ( p [ 0 ] , p [ 1 ] , p [ 2 ] ) ; if ( p [ 2 ] == 100 ) { System . out . printf ( \" % d ▁ % d ▁ % d % n \" , p [ 0 ] , p [ 1 ] , p [ 2 ] ) ; return ; } } for ( int i = 0 ; i <= 10000 ; i ++ ) { for ( int j = 0 ; j <= 10000 ; j ++ ) { boolean ok = true ; long h = - 1 ; for ( int k = 0 ; k < n ; k ++ ) { if ( points [ k ] . h <= 0 ) { continue ; } long tmp = points [ k ] . h + Math . abs ( points [ k ] . x - i ) + Math . abs ( points [ k ] . y - j ) ; if ( h == - 1 ) { h = tmp ; } if ( h != tmp ) { ok = false ; break ; } } if ( ok ) { System . out . printf ( \" % d ▁ % d ▁ % d % n \" , i , j , h ) ; return ; } } } } } class Point { public int x ; public int y ; public long h ; Point ( int x , int y , long h ) { this . x = x ; this . y = y ; this . h = h ; } } class Util { static int gcd ( int m , int n ) { int min = Math . min ( m , n ) ; int max = Math . max ( m , n )',\n",
       "  'import java . io . BufferedReader ; import java . io . Closeable ; import java . io . IOException ; import java . io . InputStream ; import java . io . InputStreamReader ; import java . io . PrintWriter ; import java . util . Set ; import java . util . HashSet ; public class Main { public static void main ( String [ ] args ) throws IOException { try ( InputReader reader = new InputReader ( System . in ) ) { solve ( reader ) ; } } private static void solve ( InputReader reader ) throws IOException { int n = reader . readInt ( ) ; Point [ ] points = new Point [ n ] ; for ( int i = 0 ; i < n ; i ++ ) { int [ ] p = reader . readIntsSplitByDelimiter ( \" ▁ \" ) ; points [ i ] = new Point ( p [ 0 ] , p [ 1 ] , p [ 2 ] ) ; if ( p [ 2 ] == 100 ) { System . out . printf ( \" % d ▁ % d ▁ % d % n \" , p [ 0 ] , p [ 1 ] , p [ 2 ] ) ; return ; } } for ( int i = 0 ; i <= 300 ; i ++ ) { for ( int j = 0 ; j <= 300 ; j ++ ) { boolean ok = true ; long h = - 1 ; for ( int k = 0 ; k < n ; k ++ ) { if ( points [ k ] . h <= 0 ) { continue ; } long tmp = points [ k ] . h + Math . abs ( points [ k ] . x - i ) + Math . abs ( points [ k ] . y - j ) ; if ( h == - 1 ) { h = tmp ; } if ( h != tmp ) { ok = false ; break ; } } if ( ok ) { System . out . printf ( \" % d ▁ % d ▁ % d % n \" , i , j , h ) ; return ; } } } } } class Point { public int x ; public int y ; public long h ; Point ( int x , int y , long h ) { this . x = x ; this . y = y ; this . h = h ; } } class Util { static int gcd ( int m , int n ) { int min = Math . min ( m , n ) ; int max = Math . max ( m , n )',\n",
       "  'import java . io . BufferedReader ; import java . io . Closeable ; import java . io . IOException ; import java . io . InputStream ; import java . io . InputStreamReader ; import java . io . PrintWriter ; import java . util . Set ; import java . util . HashSet ; public class Main { public static void main ( String [ ] args ) throws IOException { try ( InputReader reader = new InputReader ( System . in ) ) { solve ( reader ) ; } } private static void solve ( InputReader reader ) throws IOException { int n = reader . readInt ( ) ; Point [ ] points = new Point [ n ] ; for ( int i = 0 ; i < n ; i ++ ) { int [ ] p = reader . readIntsSplitByDelimiter ( \" ▁ \" ) ; points [ i ] = new Point ( p [ 0 ] , p [ 1 ] , p [ 2 ] ) ; if ( p [ 2 ] == 100 ) { System . out . printf ( \" % d ▁ % d ▁ % d % n \" , p [ 0 ] , p [ 1 ] , p [ 2 ] ) ; return ; } } for ( int i = 0 ; i <= 100 ; i ++ ) { for ( int j = 0 ; j <= 100 ; j ++ ) { boolean ok = true ; long h = - 1 ; for ( int k = 0 ; k < n ; k ++ ) { if ( points [ k ] . h <= 0 ) { continue ; } long tmp = points [ k ] . h + Math . abs ( points [ k ] . x - i ) + Math . abs ( points [ k ] . y - j ) ; if ( h == - 1 ) { h = tmp ; } if ( h != tmp ) { ok = false ; break ; } } if ( ok ) { System . out . printf ( \" % d ▁ % d ▁ % d % n \" , i , j , h ) ; return ; } } } } } class Point { public int x ; public int y ; public long h ; Point ( int x , int y , long h ) { this . x = x ; this . y = y ; this . h = h ; } } class Util { static int gcd ( int m , int n ) { int min = Math . min ( m , n ) ; int max = Math . max ( m , n +',\n",
       "  'import java . io . BufferedReader ; import java . io . Closeable ; import java . io . IOException ; import java . io . InputStream ; import java . io . InputStreamReader ; import java . io . PrintWriter ; import java . util . Set ; import java . util . HashSet ; public class Main { public static void main ( String [ ] args ) throws IOException { try ( InputReader reader = new InputReader ( System . in ) ) { solve ( reader ) ; } } private static void solve ( InputReader reader ) throws IOException { int n = reader . readInt ( ) ; Point [ ] points = new Point [ n ] ; for ( int i = 0 ; i < n ; i ++ ) { int [ ] p = reader . readIntsSplitByDelimiter ( \" ▁ \" ) ; points [ i ] = new Point ( p [ 0 ] , p [ 1 ] , p [ 2 ] ) ; if ( p [ 2 ] == 100 ) { System . out . printf ( \" % d ▁ % d ▁ % d % n \" , p [ 0 ] , p [ 1 ] , p [ 2 ] ) ; return ; } } for ( int i = 0 ; i <= 1000 ; i ++ ) { for ( int j = 0 ; j <= 1000 ; j ++ ) { boolean ok = true ; long h = - 1 ; for ( int k = 0 ; k < n ; k ++ ) { if ( points [ k ] . h <= 0 ) { continue ; } long tmp = points [ k ] . h + Math . abs ( points [ k ] . x - i ) + Math . abs ( points [ k ] . y - j ) ; if ( h == - 1 ) { h = tmp ; } if ( h != tmp ) { ok = false ; break ; } } if ( ok ) { System . out . printf ( \" % d ▁ % d ▁ % d % n \" , i , j , h ) ; return ; } } } } } class Point { public int x ; public int y ; public long h ; Point ( int x , int y , long h ) { this . x = x ; this . y = y ; this . h = h ; } } class Util { static int gcd ( int m , int n ) { int min = Math . min ( m , n ) ; int max = Math . max ( m , n +',\n",
       "  'import java . io . BufferedReader ; import java . io . Closeable ; import java . io . IOException ; import java . io . InputStream ; import java . io . InputStreamReader ; import java . io . PrintWriter ; import java . util . Set ; import java . util . HashSet ; public class Main { public static void main ( String [ ] args ) throws IOException { try ( InputReader reader = new InputReader ( System . in ) ) { solve ( reader ) ; } } private static void solve ( InputReader reader ) throws IOException { int n = reader . readInt ( ) ; Point [ ] points = new Point [ n ] ; for ( int i = 0 ; i < n ; i ++ ) { int [ ] p = reader . readIntsSplitByDelimiter ( \" ▁ \" ) ; points [ i ] = new Point ( p [ 0 ] , p [ 1 ] , p [ 2 ] ) ; if ( p [ 2 ] == 100 ) { System . out . printf ( \" % d ▁ % d ▁ % d % n \" , p [ 0 ] , p [ 1 ] , p [ 2 ] ) ; return ; } } for ( int i = 0 ; i <= 100 ; i ++ ) { for ( int j = 0 ; j <= 100 ; j ++ ) { boolean ok = true ; long h = - 1 ; for ( int k = 0 ; k < n ; k ++ ) { if ( points [ k ] . h <= 0 ) { continue ; } long tmp = points [ k ] . h + Math . abs ( points [ k ] . x - i ) + Math . abs ( points [ k ] . y - j ) ; if ( h == - 1 ) { h = tmp ; } if ( h != tmp ) { ok = false ; break ; } } if ( ok ) { System . out . printf ( \" % d ▁ % d ▁ % d % n \" , i , j , h ) ; return ; } } } } } class Point { public int x ; public int y ; public long h ; Point ( int x , int y , long h ) { this . x = x ; this . y = y ; this . h = h ; } } class Util { static int gcd ( int m , int n ) { int min = Math . min ( m , n ) ; int max = Math . max ( m , n -']}"
      ]
     },
     "execution_count": 6,
     "metadata": {},
     "output_type": "execute_result"
    }
   ],
   "source": []
  },
  {
   "cell_type": "code",
   "execution_count": null,
   "metadata": {},
   "outputs": [],
   "source": []
  },
  {
   "cell_type": "code",
   "execution_count": null,
   "metadata": {},
   "outputs": [],
   "source": []
  },
  {
   "cell_type": "code",
   "execution_count": null,
   "metadata": {},
   "outputs": [],
   "source": []
  },
  {
   "cell_type": "code",
   "execution_count": null,
   "metadata": {},
   "outputs": [],
   "source": []
  },
  {
   "cell_type": "code",
   "execution_count": null,
   "metadata": {},
   "outputs": [],
   "source": []
  },
  {
   "cell_type": "code",
   "execution_count": null,
   "metadata": {},
   "outputs": [],
   "source": [
    "#cat ../Project_CodeNet/data/p00220/Java/s289306249.java\n",
    "#cat ../Project_CodeNet/data/p00442/Java/s813585875.java\n",
    "from codegen.preprocessing.lang_processors.java_processor import JavaProcessor\n",
    "from codegen.preprocessing.lang_processors.python_processor import PythonProcessor\n",
    "\n",
    "root_folder = \"../third_party\"\n",
    "jprocessor = JavaProcessor(root_folder=root_folder)\n",
    "#sol = \"../Project_CodeNet/data/p00220/Java/s289306249.java\"\n",
    "#sol = \"exceptional_case.java\"\n",
    "sol = \"../Project_CodeNet/data/p04049/Java/s881422316.java\"\n",
    "\n",
    "with open(sol, 'r', encoding='utf8') as f:\n",
    "    code = f.read()\n",
    "    print(code.strip())\n",
    "    code_tokens_java = jprocessor.tokenize_code(code)\n",
    "    fn_standalone_java, fn_class_java = jprocessor.extract_functions(code_tokens_java)\n",
    "    print(fn_standalone_java, fn_class_java)\n",
    "    functions_standalone_java = [(jprocessor.get_function_name(fn), fn) for fn in fn_standalone_java]\n",
    "    functions_class_java = [(jprocessor.get_function_name(fn), fn) for fn in fn_class_java]"
   ]
  },
  {
   "cell_type": "code",
   "execution_count": null,
   "metadata": {},
   "outputs": [],
   "source": [
    "with open('exceptional_case.java', 'r', encoding='utf8') as f:\n",
    "    code = f.read()\n",
    "    print(code)"
   ]
  },
  {
   "cell_type": "code",
   "execution_count": null,
   "metadata": {},
   "outputs": [],
   "source": [
    "with open(\"python_solutions.jsonl\", 'r') as f:\n",
    "    for line in f:\n",
    "        ex = json.loads(line)\n",
    "        pprint(ex[1])\n",
    "        break"
   ]
  },
  {
   "cell_type": "code",
   "execution_count": null,
   "metadata": {},
   "outputs": [],
   "source": [
    "cp ../Project_CodeNet/data/p00220/Java/s289306249.java exceptional_case.java"
   ]
  },
  {
   "cell_type": "code",
   "execution_count": null,
   "metadata": {},
   "outputs": [],
   "source": [
    "ls"
   ]
  },
  {
   "cell_type": "code",
   "execution_count": null,
   "metadata": {},
   "outputs": [],
   "source": []
  },
  {
   "cell_type": "code",
   "execution_count": null,
   "metadata": {},
   "outputs": [],
   "source": []
  },
  {
   "cell_type": "code",
   "execution_count": null,
   "metadata": {},
   "outputs": [],
   "source": []
  },
  {
   "cell_type": "code",
   "execution_count": null,
   "metadata": {},
   "outputs": [],
   "source": []
  },
  {
   "cell_type": "code",
   "execution_count": null,
   "metadata": {},
   "outputs": [],
   "source": []
  },
  {
   "cell_type": "code",
   "execution_count": null,
   "metadata": {},
   "outputs": [],
   "source": [
    "from glob import glob\n",
    "import pandas as pd\n",
    "import matplotlib.pyplot as plt\n",
    "import json\n",
    "from joblib import Parallel, delayed, parallel_backend\n",
    "from multiprocessing import Process, Lock\n",
    "from tqdm import tqdm\n",
    "import os\n",
    "import json\n",
    "import threading\n",
    "\n",
    "def getJsonData(JsonFile):\n",
    "    with open(JsonFile, encoding=\"utf8\") as f:\n",
    "        data = json.load(f)\n",
    "    return data\n",
    "\n",
    "data = getJsonData(\"processed.json\")\n",
    "ans = 0\n",
    "for user in tqdm(data.keys()):\n",
    "    for problem_id in data[user].keys():\n",
    "        ans+=len(data[user][problem_id])\n",
    "print(\"total data = \", ans)\n"
   ]
  },
  {
   "cell_type": "code",
   "execution_count": null,
   "metadata": {},
   "outputs": [],
   "source": []
  },
  {
   "cell_type": "code",
   "execution_count": null,
   "metadata": {},
   "outputs": [],
   "source": []
  },
  {
   "cell_type": "code",
   "execution_count": null,
   "metadata": {},
   "outputs": [],
   "source": []
  },
  {
   "cell_type": "code",
   "execution_count": null,
   "metadata": {},
   "outputs": [],
   "source": []
  },
  {
   "cell_type": "code",
   "execution_count": null,
   "metadata": {},
   "outputs": [],
   "source": []
  },
  {
   "cell_type": "code",
   "execution_count": null,
   "metadata": {},
   "outputs": [],
   "source": []
  },
  {
   "cell_type": "code",
   "execution_count": null,
   "metadata": {},
   "outputs": [],
   "source": []
  },
  {
   "cell_type": "code",
   "execution_count": null,
   "metadata": {},
   "outputs": [],
   "source": []
  },
  {
   "cell_type": "code",
   "execution_count": null,
   "metadata": {},
   "outputs": [],
   "source": []
  },
  {
   "cell_type": "markdown",
   "metadata": {},
   "source": [
    "Some statistics"
   ]
  },
  {
   "cell_type": "code",
   "execution_count": null,
   "metadata": {},
   "outputs": [],
   "source": [
    "from glob import glob\n",
    "import pandas as pd\n",
    "import matplotlib.pyplot as plt\n",
    "import json\n",
    "from joblib import Parallel, delayed, parallel_backend\n",
    "from multiprocessing import Process, Lock\n",
    "from tqdm import tqdm\n",
    "\n",
    "import json\n",
    "def getJsonData(JsonFile):\n",
    "    with open(JsonFile, encoding=\"utf8\") as f:\n",
    "        data = json.load(f)\n",
    "    return data\n",
    "data = getJsonData(\"processed.json\")\n",
    "ans = 0\n",
    "for user in tqdm(data.keys()):\n",
    "    for problem_id in data[user].keys():\n",
    "        ans+=len(data[user][problem_id])\n",
    "print(\"total data = \", ans)"
   ]
  },
  {
   "cell_type": "code",
   "execution_count": null,
   "metadata": {},
   "outputs": [],
   "source": [
    "import matplotlib.pyplot as plt\n",
    "Problem_count = 0\n",
    "\n",
    "lang_count = 0\n",
    "path_sum = 0\n",
    "solved_be_user = 0\n",
    "\n",
    "path_lengths = []\n",
    "submission_counts = []\n",
    "lang_counts = []\n",
    "for user in tqdm(list(data.keys())):\n",
    "    language_lst=set()\n",
    "    submission_count = 0\n",
    "    for problem_id in data[user].keys():\n",
    "        path_len = 0\n",
    "        if(len(data[user][problem_id])):\n",
    "            Problem_count+=1\n",
    "        \n",
    "        langs = {}\n",
    "        for idx, subs in enumerate(data[user][problem_id]):\n",
    "            # need to consider for each language\n",
    "            if subs[2] in langs.keys():\n",
    "                langs[subs[2]].append(subs)\n",
    "            else:\n",
    "                langs[subs[2]] = [subs]\n",
    "            language_lst.add(subs[2])\n",
    "            submission_count+=1\n",
    "        \n",
    "        # Path sum calculation\n",
    "        for lang in langs:\n",
    "            first_wa = 0\n",
    "            first_ac = -1\n",
    "            for idx, sub in enumerate(sorted(langs[lang], key=lambda x: x[1])):\n",
    "                if(sub[-1]==\"Accepted\"):\n",
    "                    first_ac = max(first_ac, idx)\n",
    "                else:\n",
    "                    first_wa = min(first_wa, idx)\n",
    "        \n",
    "            if(first_ac-first_wa+1>0):\n",
    "                #print(langs[lang])\n",
    "                #print(first_ac-first_wa)    \n",
    "                path_sum+=first_ac-first_wa+1\n",
    "                solved_be_user+=1\n",
    "                path_lengths.append(first_ac-first_wa+1)\n",
    "\n",
    "            \n",
    "    lang_count+=len(language_lst)\n",
    "    lang_counts.append(len(language_lst))\n",
    "    submission_counts.append(submission_count)\n",
    "        \n",
    "    #break\n",
    "print(\"per user average submission count\", sum(submission_counts)/len(data))\n",
    "print(\"per user average language usage count\", lang_count/len(data))\n",
    "print(\"per user average accepted path length\", path_sum/solved_be_user)\n",
    "'''\n",
    "per user average submission count 90.26494052329126\n",
    "per user average language usage count 1.4337000090804135\n",
    "per user average accepted path length 1.9145810148516795\n",
    "'''"
   ]
  },
  {
   "cell_type": "code",
   "execution_count": null,
   "metadata": {},
   "outputs": [],
   "source": [
    "n_bins=10\n",
    "n, bins, patches = plt.hist(path_lengths, bins=[i for i in range(11)])\n",
    "ticks = [(patch._x0 + patch._x1)/2 for patch in patches]\n",
    "ticklabels = [i for i in range(n_bins)]\n",
    "plt.xticks(ticks, ticklabels)\n",
    "plt.xlabel(\"Number of submissions before accepted\")\n",
    "plt.ylabel(\"Number of users\")\n",
    "plt.show()"
   ]
  },
  {
   "cell_type": "code",
   "execution_count": null,
   "metadata": {},
   "outputs": [],
   "source": [
    "n_bins=10\n",
    "n, bins, patches = plt.hist(lang_counts, bins=[i for i in range(11)])\n",
    "ticks = [(patch._x0 + patch._x1)/2 for patch in patches]\n",
    "ticklabels = [i for i in range(n_bins)]\n",
    "plt.xticks(ticks, ticklabels)\n",
    "plt.xlabel(\"Number of Languages used by a user\")\n",
    "plt.ylabel(\"Number of users\")\n",
    "plt.show()"
   ]
  },
  {
   "cell_type": "code",
   "execution_count": null,
   "metadata": {},
   "outputs": [],
   "source": [
    "\n",
    "n, bins, patches = plt.hist(submission_counts, bins=[i for i in range(200)])\n",
    "#ticks = [(patch._x0 + patch._x1)/2 for patch in patches]\n",
    "#ticklabels = [i for i in range(n_bins)]\n",
    "#plt.xticks(ticks, ticklabels)\n",
    "plt.xlabel(\"Number of Submissons per user\")\n",
    "plt.ylabel(\"Number of users\")\n",
    "plt.show()"
   ]
  },
  {
   "cell_type": "code",
   "execution_count": null,
   "metadata": {},
   "outputs": [],
   "source": [
    "submission_counts[:100]"
   ]
  },
  {
   "cell_type": "code",
   "execution_count": null,
   "metadata": {},
   "outputs": [],
   "source": [
    "import json\n",
    "from glob import glob\n",
    "\n",
    "files = \"../data/java/jsons/\"\n",
    "src_sizes = []\n",
    "tgt_sizes = []\n",
    "for file in glob(files+'*.json'):\n",
    "    print(file)\n",
    "    with open(file, 'r') as f:\n",
    "        temp = json.load(f)\n",
    "        for ex in temp:\n",
    "            src_sizes.append(len(ex[0]['code_tokens']))\n",
    "            tgt_sizes.append(len(ex[1]['code_tokens']))"
   ]
  },
  {
   "cell_type": "code",
   "execution_count": null,
   "metadata": {},
   "outputs": [],
   "source": [
    "import matplotlib.pyplot as plt\n",
    "plt.hist(src_sizes, bins=[i for i in range(0, 10000, 1000)])\n",
    "plt.show()"
   ]
  },
  {
   "cell_type": "code",
   "execution_count": null,
   "metadata": {},
   "outputs": [],
   "source": [
    "root = \"../../BIFI/\""
   ]
  },
  {
   "cell_type": "code",
   "execution_count": null,
   "metadata": {},
   "outputs": [],
   "source": [
    "import json\n",
    "def getJsonData(JsonFile):\n",
    "    with open(JsonFile, encoding=\"utf8\") as f:\n",
    "        data = json.load(f)\n",
    "    return data\n",
    "data = getJsonData(\"../../BIFI/data/orig_bad_code/orig.bad.json\")"
   ]
  },
  {
   "cell_type": "code",
   "execution_count": null,
   "metadata": {},
   "outputs": [],
   "source": [
    "from pprint import pprint\n",
    "for key in list(data.keys())[:2]:\n",
    "    pprint(data[key])"
   ]
  },
  {
   "cell_type": "code",
   "execution_count": null,
   "metadata": {},
   "outputs": [],
   "source": [
    "import json\n",
    "from glob import glob\n",
    "from pprint import pprint\n",
    "file = \"../data/java/processed/train.jsonl\"\n",
    "\n",
    "with open(file, 'r') as f:\n",
    "    train = json.load(f)\n",
    "print(len(train))\n",
    "    "
   ]
  },
  {
   "cell_type": "code",
   "execution_count": null,
   "metadata": {},
   "outputs": [],
   "source": [
    "from pprint import pprint\n",
    "from tqdm import tqdm\n",
    "from difflib import SequenceMatcher\n",
    "def calculate_similarity(code1_tokens, code2_tokens):\n",
    "    code1 = ' '.join(code1_tokens)\n",
    "    code2 = ' '.join(code2_tokens)\n",
    "    return SequenceMatcher(None, code1, code2).ratio()\n",
    "dis = []\n",
    "for dt in tqdm(train):\n",
    "    dis.append(calculate_similarity(dt['src'], dt['tgt']))\n"
   ]
  },
  {
   "cell_type": "code",
   "execution_count": null,
   "metadata": {},
   "outputs": [],
   "source": [
    "import matplotlib.pyplot as plt\n",
    "plt.hist(dis, bins=5)\n",
    "plt.show()"
   ]
  },
  {
   "cell_type": "code",
   "execution_count": null,
   "metadata": {},
   "outputs": [],
   "source": [
    "from glob import glob\n",
    "problem_desc = []\n",
    "for file in glob(\"../Project_CodeNet/problem_descriptions/*html\"):\n",
    "    problem_desc.append(file)"
   ]
  },
  {
   "cell_type": "code",
   "execution_count": null,
   "metadata": {},
   "outputs": [],
   "source": [
    "problem_desc[0]"
   ]
  },
  {
   "cell_type": "code",
   "execution_count": null,
   "metadata": {},
   "outputs": [],
   "source": [
    "try: \n",
    "    from BeautifulSoup import BeautifulSoup\n",
    "except ImportError:\n",
    "    from bs4 import BeautifulSoup\n",
    "Base_link = \"https://www.dropbox.com/sh/nx3tnilzqz7df8a/AAAYlTq2tiEHl5hsESw6-yfLa?dl=0\"\n",
    "import requests\n",
    "req = requests.get(Base_link)\n",
    "#print(html)\n",
    "soup = BeautifulSoup(req.text, \"html.parser\")\n",
    "for a in soup.find_all('a', href=True):\n",
    "    print(\"Found the URL:\", a['href'])"
   ]
  },
  {
   "cell_type": "code",
   "execution_count": null,
   "metadata": {},
   "outputs": [],
   "source": [
    "Access_token = \"sl.BBQsZOVExLY-32FcgPQGwk5yMVeJCjShnddXfJGjzAnj0CQ-5GlVrRO39hPX7lP6BnpyFw1_3pE7wPwWsorCjTSwTRRiBqMkGB2q1KMmjPgrD78wu2lHpbrPA_xRQlWZ42oxz2o\""
   ]
  },
  {
   "cell_type": "code",
   "execution_count": null,
   "metadata": {},
   "outputs": [],
   "source": [
    "import re\n",
    "pattern = \"https://www.dropbox.com/sh/nx3tnilzqz7df8a/.*/.*dl=0\"\n",
    "\n",
    "re.findall(r'{}'.format(pattern),req.text)"
   ]
  },
  {
   "cell_type": "code",
   "execution_count": null,
   "metadata": {},
   "outputs": [],
   "source": [
    "import subprocess\n",
    "\n",
    "def download_and_extract(lnk):\n",
    "    lnk = lnk.replace(\"?dl=0\", \"?dl=1\")\n",
    "    name = lnk.split(\"/\")[-1]\n",
    "    name = name.split(\"?dl=1\")[0]+\".zip\"\n",
    "    #print(name)\n",
    "    subprocess.run([\"wget\", \"-O\", name, lnk])\n",
    "    subprocess.run([\"unzip\",name ,\"-d\",\"atcoder_test_cases/\"+name.replace(\".zip\", \"\")])\n",
    "    subprocess.run([\"rm\" ,\"-rf\",name])\n",
    "    \n",
    "    "
   ]
  },
  {
   "cell_type": "code",
   "execution_count": null,
   "metadata": {},
   "outputs": [],
   "source": [
    "from tqdm import tqdm\n",
    "with open(\"atcoder_links.txt\") as f:\n",
    "    links = f.readlines()\n",
    "for link in tqdm(links):\n",
    "    download_and_extract(link)"
   ]
  },
  {
   "cell_type": "code",
   "execution_count": null,
   "metadata": {},
   "outputs": [],
   "source": [
    "import pandas as pd\n",
    "problemlist=pd.read_csv(\"../Project_CodeNet/metadata/problem_list.csv\")\n"
   ]
  },
  {
   "cell_type": "code",
   "execution_count": null,
   "metadata": {},
   "outputs": [],
   "source": [
    "from collections import defaultdict\n",
    "from pprint import pprint\n",
    "from tqdm import tqdm\n",
    "problems = defaultdict(list)\n",
    "for index, row in tqdm(problemlist.iterrows()):\n",
    "    if(row['dataset']=='AtCoder'):\n",
    "        if(\"AtCoder Regular Contest\" in row['name']):\n",
    "            number = row['name'].split(\" \")[3]\n",
    "            problems[\"ARC\"+number].append(row['id'])\n",
    "        if(\"AtCoder Beginner Contest\" in row['name']):\n",
    "            number = row['name'].split(\" \")[3]\n",
    "            problems[\"ABC\"+number].append(row['id'])\n",
    "        if(\"AtCoder Grand Contest\" in row['name']):\n",
    "            number = row['name'].split(\" \")[3]\n",
    "            problems[\"AGC\"+number].append(row['id'])"
   ]
  },
  {
   "cell_type": "code",
   "execution_count": null,
   "metadata": {},
   "outputs": [],
   "source": [
    "from glob import glob\n",
    "folders = glob(\"atcoder_test_cases/*\")\n",
    "\n",
    "final_keys = []\n",
    "for idx in range(len(folders)):\n",
    "    folders[idx] = folders[idx].replace(\"atcoder_test_cases/\", \"\")\n",
    "#print(folders)\n",
    "for key in problems.keys():\n",
    "    if key in folders:\n",
    "        if len(problems[key]) == len(glob(\"atcoder_test_cases/\"+key+\"/*\")):\n",
    "            final_keys.append(key)\n",
    "            \n",
    "    elif key.lower() in folders :\n",
    "        if len(problems[key]) == len(glob(\"atcoder_test_cases/\"+ key.lower() +\"/*\")):\n",
    "            final_keys.append(key)\n"
   ]
  },
  {
   "cell_type": "code",
   "execution_count": null,
   "metadata": {},
   "outputs": [],
   "source": [
    "problemid_to_tc = {}\n",
    "for key in problems:\n",
    "    if(key in final_keys):\n",
    "        for idx, prob_id in enumerate(problems[key]):\n",
    "            folder_list = glob(\"atcoder_test_cases/\"+key+\"/*\")\n",
    "            if(len(folder_list)==0):\n",
    "                folder_list = glob(\"atcoder_test_cases/\"+key.lower()+\"/*\")\n",
    "            problemid_to_tc[prob_id] = folder_list[idx]"
   ]
  },
  {
   "cell_type": "code",
   "execution_count": null,
   "metadata": {},
   "outputs": [],
   "source": [
    "len(problemid_to_tc)"
   ]
  },
  {
   "cell_type": "code",
   "execution_count": null,
   "metadata": {},
   "outputs": [],
   "source": [
    "from glob import glob\n",
    "import pandas as pd\n",
    "import matplotlib.pyplot as plt\n",
    "import json\n",
    "from joblib import Parallel, delayed, parallel_backend\n",
    "from multiprocessing import Process, Lock\n",
    "from tqdm import tqdm\n",
    "\n",
    "import json\n",
    "def getJsonData(JsonFile):\n",
    "    with open(JsonFile, encoding=\"utf8\") as f:\n",
    "        data = json.load(f)\n",
    "    return data\n",
    "data = getJsonData(\"../data/java/processed/test.jsonl\")\n"
   ]
  },
  {
   "cell_type": "code",
   "execution_count": null,
   "metadata": {},
   "outputs": [],
   "source": [
    "#data[0]\n",
    "#def run_and_report()\n",
    "\n",
    "#st = \"atcoder_test_cases/ABC118/B/in/3_mmin_1\"\n",
    "#out = st.split(\"/\")\n",
    "#out[3] = \"out\"\n",
    "#\"/\".join(out)"
   ]
  },
  {
   "cell_type": "code",
   "execution_count": null,
   "metadata": {},
   "outputs": [],
   "source": [
    "from codegen.preprocessing.lang_processors.java_processor import JavaProcessor\n",
    "from codegen.preprocessing.lang_processors.python_processor import PythonProcessor\n",
    "import subprocess\n",
    "import filecmp\n",
    "from subprocess import Popen, PIPE, STDOUT\n",
    "import sys\n",
    "\n",
    "def check_floating(n1, n2):\n",
    "    n1 = n1.replace(\"-\", \"\").replace(\"+\", \"\")\n",
    "    n2 = n2.replace(\"-\", \"\").replace(\"+\", \"\")\n",
    "    \n",
    "    if (not n1.replace('.','',1).replace(\"E\",\"\").isdigit()) or (not n1.replace('.','',1).replace(\"E\",\"\").isdigit()):\n",
    "        return False\n",
    "    if abs(float(n1)-float(n2))<1e8:\n",
    "        return True\n",
    "    return False\n",
    "    \n",
    "def print_error(l1, l2):\n",
    "    print(\"###\")\n",
    "    print(l1)\n",
    "    print(\"###\")\n",
    "    print(l2)\n",
    "    print(\"###\")\n",
    "\n",
    "def compare_files(file1, file2):\n",
    "    with open(file1) as f1, open(file2) as f2: \n",
    "        content1 = f1.read().split()\n",
    "        content2 = f2.read().split()\n",
    "\n",
    "        for l1, l2 in zip(content1, content2):\n",
    "            if l1.strip() != l2.strip(): \n",
    "                num1s = l1.strip().split(\" \")\n",
    "                num2s = l2.strip().split(\" \")\n",
    "                if(len(num1s) == len(num2s)):\n",
    "                    for idx in range(len(num1s)):\n",
    "                        if not check_floating(num1s[idx],num2s[idx]):\n",
    "                            print_error(l1, l2)\n",
    "                            return False\n",
    "                else:\n",
    "                    print_error(l1, l2)\n",
    "                    return False\n",
    "    return True\n",
    "\n",
    "root_folder = \"../third_party\"\n",
    "jprocessor = JavaProcessor(root_folder=root_folder)\n",
    "\n",
    "uniq = set()\n",
    "\n",
    "#code_tokens_java = jprocessor.tokenize_code(code)\n",
    "cnt = 0\n",
    "done = False\n",
    "for dt in tqdm(data[12475:]): #12480+721 14975\n",
    "    if dt['id'].split(\"_\")[0] in problemid_to_tc.keys():\n",
    "        #if(dt['tgt_id'].split(\"_\")[1] != \"s473235135\"):\n",
    "        #    continue\n",
    "        cnt+=1\n",
    "        #print(\"comes\")\n",
    "        #print(dt['id'])\n",
    "        #pprint(dt)\n",
    "        #print(dt['src'])\n",
    "        code = jprocessor.detokenize_code(dt['tgt'])\n",
    "        if dt['tgt_id'] in uniq:\n",
    "            continue\n",
    "        uniq.add(dt['tgt_id'])\n",
    "        with open('Main.java', 'w', encoding='utf8') as fw:\n",
    "            fw.write(code)\n",
    "        test_case_folder = problemid_to_tc[dt['id'].split(\"_\")[0]]\n",
    "        in_files = glob(test_case_folder+\"/in/*\")\n",
    "        p1 = subprocess.run([\"javac\",\"Main.java\"])\n",
    "        return_code = p1.returncode\n",
    "\n",
    "        if(return_code):\n",
    "            print(\"######## doesnt compile  ############\")\n",
    "            print(p1.stderr.decode(\"utf-8\")) 14975\n",
    "            print(dt['tgt_id'])\n",
    "            #pprint(dt)\n",
    "            #doesn't compile correctly\n",
    "\n",
    "        for in_file in in_files:\n",
    "            #subprocess.run([\"java\",\"Main\" ,\"<\",in_files[0], \">\", \"cmd_out.txt\"], shell=True)\n",
    "            cmd = \"java Main < {} > cmd_out.txt\".format(in_file)\n",
    "            p = Popen(cmd, shell=True, stdin=PIPE, stdout=PIPE, stderr=STDOUT, close_fds=True)\n",
    "            p.wait()\n",
    "            #output = p.stdout\n",
    "            #print(output)\n",
    "            out = in_file.split(\"/\")\n",
    "            out[3] = \"out\"\n",
    "            out_file =\"/\".join(out)\n",
    "            out_file = out_file.replace(\".in\", \".out\")\n",
    "\n",
    "            p2 = subprocess.Popen([\"cp\",out_file, \"cmd_out_match.txt\"])\n",
    "            p2.wait()\n",
    "            #match \n",
    "            #print(filecmp.cmp('cmd_out.txt', 'cmd_out_match.txt'))\n",
    "            if not compare_files('cmd_out.txt', 'cmd_out_match.txt'):\n",
    "                #done=True\n",
    "                print(dt['tgt_id'])\n",
    "                #break\n",
    "                print(in_file)\n",
    "        p3 = subprocess.run([\"rm\",\"Main.java\"])\n",
    "        p4 = subprocess.run([\"rm\",\"*.class\"])\n",
    "#print(cnt)\n",
    "\n",
    "#accept one valid way we need to skip those p02697,\n",
    "#used weird library runs on jdk 1.8 but not in jdk 11 p02682_s116318276"
   ]
  },
  {
   "cell_type": "code",
   "execution_count": null,
   "metadata": {},
   "outputs": [],
   "source": [
    "s = \"p03334,p02678,p02690,p02692,p02697,p02850,p02825,p02902,p02903,p02976,p02977,p03097,p03938,p03245,p03044,p02972,p03263,p03836,p03267,p03257,p03394,p03952,p04007,p04035,p03746,p02963,p03095,p02669,p02825,p03046,p02997,p02936, p02694, p02975,p02731, p02861,p03110\"\n",
    "print(list(set(s.replace(\" \", \"\").split(\",\"))))"
   ]
  },
  {
   "cell_type": "code",
   "execution_count": null,
   "metadata": {},
   "outputs": [],
   "source": [
    "p1 = subprocess.Popen([\"javac\",\"Main.java\"])\n",
    "return_code = p1.wait()\n",
    "print(return_code)"
   ]
  },
  {
   "cell_type": "code",
   "execution_count": null,
   "metadata": {},
   "outputs": [],
   "source": [
    "cmd = \"java Main < atcoder_test_cases/ABC138/D/in/b04 > cmd_out.txt\"\n",
    "p = Popen(cmd, shell=True, stdin=PIPE, stdout=PIPE, stderr=subprocess.DEVNULL, close_fds=True)\n",
    "p.wait()\n",
    "print(\"command exucuted\")\n",
    "\n",
    "in_file = \"atcoder_test_cases/ABC138/D/in/b04\"\n",
    "out = in_file.split(\"/\")\n",
    "out[3] = \"out\"\n",
    "out_file =\"/\".join(out)\n",
    "out_file = out_file.replace(\".in\", \".out\")\n",
    "\n",
    "p2 = subprocess.Popen([\"cp\",out_file, \"cmd_out_match.txt\"])\n",
    "p2.wait()\n",
    "print(\"Matching Files\")\n",
    "\n",
    "if not compare_files('cmd_out.txt', 'cmd_out_match.txt'):\n",
    "    #done=True\n",
    "    #print(dt['tgt_id'])\n",
    "    print(in_file)"
   ]
  },
  {
   "cell_type": "code",
   "execution_count": null,
   "metadata": {},
   "outputs": [],
   "source": [
    "#One such Way p02678,p02690,p02692,p02697,p02850,p02825,p02902,p02903,p02976,p02977,p03097,p03938,p03245,p03044,p02972\n",
    "#One such way p03263,p03836,p03267,p03257,p03394,p03952,p04007,p04035,p03746,p02963,p03095,p02669,p02825,p03046,p02997\n",
    "\n",
    "# p02936, p02694 p02975 one after contest doesn't match\n",
    "#p02731 has higher thresholds for checking double value, p02861,p03110 as well\n",
    "\n",
    "'''\n",
    "Need to check \n",
    "\n",
    "p02912_s201342530\n",
    "atcoder_test_cases/ABC141/D/in/testcase_03.nkftmpjKHWPL\n",
    "this has one weird input which i deleted from the atcoder_testcases folder\n",
    "\n",
    "'''\n",
    "\n",
    "###\n",
    "#num1 = \"0.0000000000000001E-5\"\n",
    "#num2 = \"-0.0000000000000001E-5\"\n",
    "\n",
    "#num1 = \"1.1551382117326875E-5\"\n",
    "#num2 = \"0.00001155138223854135\\n\"\n",
    "\n",
    "###\n",
    "#756.26049783473536042289\n",
    "num1 = \"3.57508992E8\"\n",
    "###\n",
    "num2 = \"357508993.7616\"\n",
    "def only_digits(num):\n",
    "    return num.replace(\"-\", \"\").replace(\"+\", \"\").replace('.','',1).replace(\"E\",\"\").isdigit()\n",
    "\n",
    "def check_floating(n1, n2):\n",
    "    if (not only_digits(n1)) or (not only_digits(n2)):\n",
    "        return False\n",
    "    print(float(n1), float(n2))\n",
    "    if abs(float(n1)-float(n2))<1e-6:\n",
    "        return True\n",
    "    return False\n",
    "    \n",
    "num1s = num1.strip().split(\" \")\n",
    "num2s = num2.strip().split(\" \")\n",
    "if(len(num1s) != len(num2s)):\n",
    "    print(\"Not equal\")\n",
    "for idx in range(len(num1s)):\n",
    "    print(check_floating(num1s[idx],num2s[idx]))\n"
   ]
  },
  {
   "cell_type": "code",
   "execution_count": null,
   "metadata": {},
   "outputs": [],
   "source": [
    "float(\"0.00001155138223854135\")"
   ]
  },
  {
   "cell_type": "code",
   "execution_count": null,
   "metadata": {},
   "outputs": [],
   "source": [
    "def check_floating(n1, n2):\n",
    "    n1 = n1.replace(\"-\", \"\").replace(\"+\", \"\")\n",
    "    n2 = n2.replace(\"-\", \"\").replace(\"+\", \"\")\n",
    "    \n",
    "    if (not n1.replace('.','',1).replace(\"E\",\"\").isdigit()) or (not n1.replace('.','',1).replace(\"E\",\"\").isdigit()):\n",
    "        return False\n",
    "    if abs(float(n1)-float(n2))<1e8:\n",
    "        return True\n",
    "    return False\n",
    "    \n",
    "def print_error(l1, l2):\n",
    "    print(\"###\")\n",
    "    print(l1)\n",
    "    print(\"###\")\n",
    "    print(l2)\n",
    "    print(\"###\")\n",
    "\n",
    "def compare_files(file1, file2):\n",
    "    try:\n",
    "        with open(file1) as f1, open(file2) as f2: \n",
    "            content1 = f1.read().split()\n",
    "            content2 = f2.read().split()\n",
    "            for l1, l2 in zip(content1, content2):\n",
    "                if l1.strip() != l2.strip(): \n",
    "                    num1s = l1.strip().split(\" \")\n",
    "                    num2s = l2.strip().split(\" \")\n",
    "                    if(len(num1s) == len(num2s)):\n",
    "                        for idx in range(len(num1s)):\n",
    "                            if not check_floating(num1s[idx],num2s[idx]):\n",
    "                                print_error(l1, l2)\n",
    "                                return False\n",
    "                    else:\n",
    "                        print_error(l1, l2)\n",
    "                        return False\n",
    "            return True\n",
    "    except Exception as e:\n",
    "        print(\"exception = \", e)\n",
    "        return False\n"
   ]
  },
  {
   "cell_type": "code",
   "execution_count": null,
   "metadata": {},
   "outputs": [],
   "source": [
    "!head atcoder_test_cases/ABC157/A/out/01-handmade-01\n",
    "p02658_s473235135"
   ]
  },
  {
   "cell_type": "code",
   "execution_count": null,
   "metadata": {},
   "outputs": [],
   "source": [
    "#!rm temp.java\n",
    "p03037_s170937198\n",
    "!cp ../Project_CodeNet/data/p02658/Java/s473235135.java temp2.java"
   ]
  },
  {
   "cell_type": "code",
   "execution_count": null,
   "metadata": {},
   "outputs": [],
   "source": [
    "def check_floating(n1, n2):\n",
    "    n1 = n1.replace(\"-\", \"\").replace(\"+\", \"\")\n",
    "    n2 = n2.replace(\"-\", \"\").replace(\"+\", \"\")\n",
    "    \n",
    "    if (not n1.replace('.','',1).replace(\"E\",\"\").isdigit()) or (not n1.replace('.','',1).replace(\"E\",\"\").isdigit()):\n",
    "        return False\n",
    "    if abs(float(n1)-float(n2))<1e-8:\n",
    "        return True\n",
    "    return False\n",
    "    \n",
    "def print_error(l1, l2):\n",
    "    print(\"###\")\n",
    "    print(l1)\n",
    "    print(\"###\")\n",
    "    print(l2)\n",
    "    print(\"###\")\n",
    "\n",
    "def compare_files(file1, file2):\n",
    "    with open(file1) as f1, open(file2) as f2: \n",
    "        content1 = f1.read().split()\n",
    "        content2 = f2.read().split()\n",
    "        #print(content1, content2)\n",
    "        for l1, l2 in zip(content1, content2):\n",
    "            print(l1.strip(), l2.strip(), l1.strip() != l2.strip())\n",
    "            if l1.strip() != l2.strip(): \n",
    "                num1s = l1.strip().split(\" \")\n",
    "                num2s = l2.strip().split(\" \")\n",
    "                if(len(num1s) == len(num2s)):\n",
    "                    for idx in range(len(num1s)):\n",
    "                        if not check_floating(num1s[idx],num2s[idx]):\n",
    "                            print_error(l1, l2)\n",
    "                            return False\n",
    "                else:\n",
    "                    print_error(l1, l2)\n",
    "                    return False\n",
    "        return True\n",
    "compare_files('cmd_out.txt', 'cmd_out_match.txt')"
   ]
  },
  {
   "cell_type": "code",
   "execution_count": null,
   "metadata": {},
   "outputs": [],
   "source": []
  },
  {
   "cell_type": "code",
   "execution_count": null,
   "metadata": {},
   "outputs": [],
   "source": [
    "p1 = subprocess.Popen(\"javac Main.java\", shell=True, stdout=subprocess.PIPE, stderr=subprocess.PIPE)\n",
    "print(\"wait result\", p1.wait())\n",
    "output,error=p1.communicate()\n",
    "print(\"###\")\n",
    "print(output)\n",
    "print(\"###\")\n",
    "print(error)\n",
    "print(\"####\")\n",
    "print(p1.returncode)\n",
    "\n",
    "\n",
    "cmd = \"java Main < {} > manual_check.txt\".format(\"atcoder_test_cases/ABC169/B/in/max_02.txt\")\n",
    "p = Popen(cmd, shell=True, stdin=PIPE, stdout=PIPE, stderr=STDOUT, close_fds=True)\n",
    "p.wait()\n",
    "print(\"ok\")\n",
    "            "
   ]
  },
  {
   "cell_type": "code",
   "execution_count": null,
   "metadata": {},
   "outputs": [],
   "source": [
    "#problemid_to_tc['p02677']\n",
    "ab = \"a string '' c\"\n",
    "nn = ab[::]\n",
    "print(nn)\n"
   ]
  },
  {
   "cell_type": "code",
   "execution_count": null,
   "metadata": {},
   "outputs": [],
   "source": [
    "with open(\"temp2.java\") as f:\n",
    "    fl = f.read()\n",
    "print(jprocessor.detokenize_code(jprocessor.tokenize_code(fl)))"
   ]
  },
  {
   "cell_type": "code",
   "execution_count": null,
   "metadata": {},
   "outputs": [],
   "source": [
    "from glob import glob\n",
    "import pandas as pd\n",
    "import matplotlib.pyplot as plt\n",
    "import json\n",
    "from joblib import Parallel, delayed, parallel_backend\n",
    "from multiprocessing import Process, Lock\n",
    "from tqdm import tqdm\n",
    "\n",
    "import json\n",
    "def getJsonData(JsonFile):\n",
    "    with open(JsonFile, encoding=\"utf8\") as f:\n",
    "        data = json.load(f)\n",
    "    return data\n",
    "data = getJsonData(\"processed.json\")\n",
    "ans = 0\n",
    "for user in tqdm(data.keys()):\n",
    "    for problem_id in data[user].keys():\n",
    "        #ans+=len(data[user][problem_id])\n",
    "        for sub in data[user][problem_id]:\n",
    "            if sub[0] == \"s116318276\":\n",
    "                print(user)\n",
    "                print(sub)\n",
    "print(\"total data = \", ans)"
   ]
  },
  {
   "cell_type": "code",
   "execution_count": null,
   "metadata": {},
   "outputs": [],
   "source": [
    "test = getJsonData(\"../data/java/processed/test.jsonl\")\n",
    "#for dt in test:\n",
    "for user in tqdm(data.keys()):\n",
    "    for problem_id in data[user].keys():\n",
    "        for sub in data[user][problem_id]:\n",
    "            #print(sub)\n",
    "            if sub[0] == \"s116318276\":\n",
    "                print(user,problem_id,sub )\n",
    "                print(sub)\n",
    "                break"
   ]
  },
  {
   "cell_type": "code",
   "execution_count": null,
   "metadata": {},
   "outputs": [],
   "source": [
    "ze = getJsonData(\"../data/java/jsons/27.json\")\n",
    "for dt in ze:\n",
    "    if(len(dt)<2):\n",
    "        pprint(dt)"
   ]
  },
  {
   "cell_type": "code",
   "execution_count": null,
   "metadata": {},
   "outputs": [],
   "source": [
    "for running java\n",
    "javac test_java.java \n",
    "java test_java < cmd_in.txt > cmd_out.txt\n",
    "\n",
    "for running python\n",
    "python3 test_py.py < cmd_in.txt > cmd_out.txt"
   ]
  },
  {
   "cell_type": "code",
   "execution_count": null,
   "metadata": {},
   "outputs": [],
   "source": [
    "import pandas as pd\n",
    "import json\n",
    "from collections import defaultdict\n",
    "from tqdm import tqdm\n",
    "from glob import glob\n",
    "problemlist=pd.read_csv(\"../Project_CodeNet/metadata/problem_list.csv\")\n",
    "problems = defaultdict(list)\n",
    "for index, row in tqdm(problemlist.iterrows()):\n",
    "    if(row['dataset']=='AtCoder'):\n",
    "        if(\"AtCoder Regular Contest\" in row['name']):\n",
    "            number = row['name'].split(\" \")[3]\n",
    "            problems[\"ARC\"+number].append(row['id'])\n",
    "        if(\"AtCoder Beginner Contest\" in row['name']):\n",
    "            number = row['name'].split(\" \")[3]\n",
    "            problems[\"ABC\"+number].append(row['id'])\n",
    "        if(\"AtCoder Grand Contest\" in row['name']):\n",
    "            number = row['name'].split(\" \")[3]\n",
    "            problems[\"AGC\"+number].append(row['id'])\n",
    "folders = glob(\"atcoder_test_cases/*\")\n",
    "\n",
    "final_keys = []\n",
    "for idx in range(len(folders)):\n",
    "    folders[idx] = folders[idx].replace(\"atcoder_test_cases/\", \"\")\n",
    "#print(folders)\n",
    "for key in problems.keys():\n",
    "    if key in folders:\n",
    "        if len(problems[key]) == len(glob(\"atcoder_test_cases/\"+key+\"/*\")):\n",
    "            final_keys.append(key)\n",
    "            \n",
    "    elif key.lower() in folders :\n",
    "        if len(problems[key]) == len(glob(\"atcoder_test_cases/\"+ key.lower() +\"/*\")):\n",
    "            final_keys.append(key)\n",
    "\n",
    "problemid_to_tc = {}\n",
    "for key in problems:\n",
    "    if(key in final_keys):\n",
    "        for idx, prob_id in enumerate(problems[key]):\n",
    "            folder_list = glob(\"atcoder_test_cases/\"+key+\"/*\")\n",
    "            if(len(folder_list)==0):\n",
    "                folder_list = glob(\"atcoder_test_cases/\"+key.lower()+\"/*\")\n",
    "            problemid_to_tc[prob_id] = folder_list[idx]\n",
    "\n",
    "print(\"len(problemid_to_tc) = \", len(problemid_to_tc))\n",
    "#problemid_to_tc"
   ]
  },
  {
   "cell_type": "code",
   "execution_count": null,
   "metadata": {},
   "outputs": [],
   "source": [
    "problemid_to_tc['p02836']"
   ]
  },
  {
   "cell_type": "code",
   "execution_count": null,
   "metadata": {},
   "outputs": [],
   "source": [
    "import json\n",
    "def getJsonData(JsonFile):\n",
    "    print(JsonFile)\n",
    "    with open(JsonFile, encoding=\"utf8\") as f:\n",
    "        data = json.load(f)\n",
    "    return data\n",
    "#train = getJsonData(\"../data/Python/processed/train.jsonl\")\n",
    "test = getJsonData(\"../data/Python/processed/test.jsonl\")\n",
    "valid = getJsonData(\"../data/Python/processed/valid.jsonl\")"
   ]
  },
  {
   "cell_type": "code",
   "execution_count": null,
   "metadata": {},
   "outputs": [],
   "source": [
    "from pprint import pprint\n",
    "problems = set()\n",
    "for dt in valid:\n",
    "    problems.add(dt['src_id'].split(\"_\")[0])\n",
    "#pprint(train[0]['src_id'].split(\"_\")[0])"
   ]
  },
  {
   "cell_type": "code",
   "execution_count": null,
   "metadata": {},
   "outputs": [],
   "source": [
    "for id in tqdm(problems):\n",
    "    if id not in problemid_to_tc.keys():\n",
    "        print(id)"
   ]
  },
  {
   "cell_type": "code",
   "execution_count": null,
   "metadata": {},
   "outputs": [],
   "source": [
    "len(problems)"
   ]
  },
  {
   "cell_type": "code",
   "execution_count": null,
   "metadata": {},
   "outputs": [],
   "source": [
    "from pprint import pprint\n",
    "from tqdm import tqdm\n",
    "problems = set()\n",
    "for json in [train, test, valid]:\n",
    "    for dt in tqdm(json):\n",
    "        problems.add(dt['src_id'].split(\"_\")[0])\n",
    "#pprint(data[0]['src_id'])"
   ]
  },
  {
   "cell_type": "code",
   "execution_count": null,
   "metadata": {},
   "outputs": [],
   "source": [
    "print(len(problems))"
   ]
  },
  {
   "cell_type": "code",
   "execution_count": null,
   "metadata": {},
   "outputs": [],
   "source": [
    "import json\n",
    "def getJsonData(JsonFile):\n",
    "    with open(JsonFile, encoding=\"utf8\") as f:\n",
    "        data = json.load(f)\n",
    "    return data\n",
    "processed = getJsonData(\"processed.json\")"
   ]
  },
  {
   "cell_type": "code",
   "execution_count": null,
   "metadata": {},
   "outputs": [],
   "source": [
    "from pprint import pprint\n",
    "from tqdm import tqdm\n",
    "java = set()\n",
    "for key in tqdm(processed):\n",
    "    #pprint(processed[key])\n",
    "    for problem in processed[key]:\n",
    "        for sub in processed[key][problem]:\n",
    "            if 'Java' in sub[2]:\n",
    "                java.add(problem)\n",
    "                \n",
    "    "
   ]
  },
  {
   "cell_type": "code",
   "execution_count": null,
   "metadata": {},
   "outputs": [],
   "source": [
    "print(len(java))"
   ]
  },
  {
   "cell_type": "code",
   "execution_count": null,
   "metadata": {},
   "outputs": [],
   "source": [
    "len(problems & java)"
   ]
  },
  {
   "cell_type": "code",
   "execution_count": null,
   "metadata": {},
   "outputs": [],
   "source": [
    "from SetSimilaritySearch import all_pairs\n",
    "\n",
    "# The input sets must be a Python list of iterables (i.e., lists or sets).\n",
    "sets = [[1,2,3], [1,2,4], [1,2,4], [5,6,7]]\n",
    "# all_pairs returns an iterable of tuples.\n",
    "pairs = all_pairs(sets, similarity_func_name=\"jaccard\", \n",
    "        similarity_threshold=0.8)\n",
    "list(pairs)"
   ]
  },
  {
   "cell_type": "code",
   "execution_count": null,
   "metadata": {},
   "outputs": [],
   "source": [
    "import json\n",
    "data = []\n",
    "for file in ['../data/java/jsons/0.json', '../data/java/jsons/1.json', '../data/java/jsons/2.json']:\n",
    "    print(file)\n",
    "    with open(file, 'r') as f:\n",
    "        temp = json.load(f)\n",
    "        data.extend(temp)\n",
    "#data[0]"
   ]
  },
  {
   "cell_type": "code",
   "execution_count": null,
   "metadata": {},
   "outputs": [],
   "source": [
    "from codegen.preprocessing.lang_processors.java_processor import JavaProcessor\n",
    "from codegen.preprocessing.lang_processors.python_processor import PythonProcessor\n",
    "import subprocess\n",
    "import filecmp\n",
    "from subprocess import Popen, PIPE, STDOUT\n",
    "import sys\n",
    "root_folder = \"../third_party\"\n",
    "jprocessor = JavaProcessor(root_folder=root_folder)\n",
    "pyprocessor = PythonProcessor(root_folder=root_folder)\n",
    "def getJsonData(JsonFile):\n",
    "    with open(JsonFile, encoding=\"utf8\") as f:\n",
    "        data = json.load(f)\n",
    "    return data\n"
   ]
  },
  {
   "cell_type": "code",
   "execution_count": null,
   "metadata": {},
   "outputs": [],
   "source": [
    "from collections import defaultdict, Counter\n",
    "from SetSimilaritySearch import all_pairs\n",
    "from deduplication import DuplicateDetector\n",
    "\n",
    "problem_to_dataidx = defaultdict(list)\n",
    "jaccard_db = []\n",
    "\n",
    "def get_vector(tokens,vocabulary):\n",
    "    counter = Counter(tokens)\n",
    "    out = []\n",
    "    for item in vocabulary:\n",
    "        if item in counter:\n",
    "            out.append(counter[item])\n",
    "        else:\n",
    "            out.append(0)\n",
    "    #print(out)\n",
    "    return out\n",
    "    \n",
    "def deduplicate_jaccard(database):\n",
    "    accepted_sub = set()\n",
    "    for idx,dt in enumerate(database):    \n",
    "        if dt[1]['submission_id'] not in accepted_sub:\n",
    "            accepted_sub.add(dt[1]['submission_id'])\n",
    "            problem_to_dataidx[dt[1]['problem_id']].append(idx)\n",
    "    duplicate_submission_id = []\n",
    "    \n",
    "    exclude_submissions = set()\n",
    "    for problem in problem_to_dataidx.keys():\n",
    "        try:\n",
    "            detector = DuplicateDetector()\n",
    "            data_idx_list = problem_to_dataidx[problem]\n",
    "            if(len(data_idx_list)<=3):\n",
    "                continue\n",
    "            for idx in data_idx_list:\n",
    "                detector.add_file(id = idx,tokens = jprocessor.tokenize_code(database[idx][1]['code_tokens']))   \n",
    "            exclude_document_ids = detector.compute_ids_to_exclude()\n",
    "            for id in exclude_document_ids:\n",
    "                exclude_submissions.add(database[idx][1]['submission_id'])\n",
    "        except Exception as e:\n",
    "            pass\n",
    "    dedeplicated_database = []\n",
    "    for data in database:\n",
    "        if data[1]['submission_id'] not in exclude_submissions:\n",
    "            dedeplicated_database.append(data.copy())\n",
    "    return dedeplicated_database\n",
    "\n",
    "dedeplicated_database = deduplicate_jaccard(data[:10000])\n",
    "print(len(dedeplicated_database))\n",
    "\n"
   ]
  },
  {
   "cell_type": "code",
   "execution_count": null,
   "metadata": {},
   "outputs": [],
   "source": [
    "print(len(data))\n",
    "print(data[40000])"
   ]
  },
  {
   "cell_type": "code",
   "execution_count": null,
   "metadata": {},
   "outputs": [],
   "source": [
    "print(data[9655][1]['code_tokens'])\n",
    "print(\"####################\")\n",
    "print(data[5694][1]['code_tokens'])"
   ]
  },
  {
   "cell_type": "code",
   "execution_count": null,
   "metadata": {},
   "outputs": [],
   "source": [
    "data[0][1]['verdict']"
   ]
  },
  {
   "cell_type": "code",
   "execution_count": null,
   "metadata": {},
   "outputs": [],
   "source": [
    "from pprint import pprint\n",
    "#print(data[979][1]['code_tokens'])\n",
    "print(data[1431][1]['code_tokens'])"
   ]
  },
  {
   "cell_type": "code",
   "execution_count": null,
   "metadata": {},
   "outputs": [],
   "source": [
    "from collections import Counter\n",
    "C = Counter([1, 1, 2, 3])\n",
    "print(C[1])"
   ]
  },
  {
   "cell_type": "code",
   "execution_count": null,
   "metadata": {},
   "outputs": [],
   "source": [
    "%load_ext autoreload\n",
    "%autoreload 2"
   ]
  },
  {
   "cell_type": "code",
   "execution_count": null,
   "metadata": {},
   "outputs": [],
   "source": [
    "from SetSimilaritySearch import all_pairs\n",
    "a = [0, 4, 2, 0, 1, 9, 3, 0, 1, 4, 7, 0, 3, 3, 3, 1, 2, 6, 1, 1, 2, 2, 24, 3, 24, 12, 1, 1, 2, 0, 38, 0, 5, 10, 17, 1, 1, 1, 12, 6, 5, 1, 1, 1, 6, 1, 0, 1, 1, 4, 0, 2, 12, 1, 17, 1, 2, 1, 1, 0, 1, 3, 2, 1, 6, 5, 0, 34, 2, 11, 6, 1, 0, 2, 4, 2, 2, 2, 2, 8, 51, 2, 3, 1, 5, 2, 5, 0, 1, 60, 0, 3]\n",
    "b = [1, 0, 2, 0, 0, 5, 0, 2, 0, 0, 0, 5, 0, 0, 0, 0, 0, 0, 0, 0, 0, 2, 4, 0, 4, 2, 0, 0, 0, 0, 0, 0, 0, 0, 1, 0, 1, 1, 4, 0, 0, 0, 0, 0, 0, 0, 2, 1, 0, 0, 0, 1, 4, 1, 1, 0, 2, 0, 2, 1, 0, 0, 0, 1, 0, 0, 4, 2, 0, 0, 0, 0, 0, 1, 0, 0, 0, 1, 1, 0, 5, 0, 0, 0, 1, 0, 0, 0, 0, 2, 1, 0]\n",
    "# The input sets must be a Python list of iterables (i.e., lists or sets).\n",
    "#sets = [[1,2,3,1,1,1,1,1,1,1,1], [1,2,4], [1,2,4], [5,6,7]]\n",
    "sets = [a, b]\n",
    "# all_pairs returns an iterable of tuples.\n",
    "pairs = all_pairs(sets, similarity_func_name=\"jaccard\", \n",
    "        similarity_threshold=0.8)\n",
    "list(pairs)"
   ]
  },
  {
   "cell_type": "code",
   "execution_count": null,
   "metadata": {},
   "outputs": [],
   "source": [
    "from deduplication import DuplicateDetector\n",
    "decetor = DuplicateDetector()\n",
    "decetor.add_file()"
   ]
  },
  {
   "cell_type": "code",
   "execution_count": null,
   "metadata": {},
   "outputs": [],
   "source": [
    "../data/Python/processed/test.jsonl"
   ]
  },
  {
   "cell_type": "code",
   "execution_count": null,
   "metadata": {},
   "outputs": [],
   "source": [
    "p02836_s902833363"
   ]
  },
  {
   "cell_type": "code",
   "execution_count": null,
   "metadata": {},
   "outputs": [],
   "source": [
    "from glob import glob\n",
    "import pandas as pd\n",
    "import matplotlib.pyplot as plt\n",
    "import json\n",
    "from joblib import Parallel, delayed, parallel_backend\n",
    "from multiprocessing import Process, Lock\n",
    "from tqdm import tqdm\n",
    "import json\n",
    "from collections import defaultdict\n",
    "from codegen.preprocessing.lang_processors.java_processor import JavaProcessor\n",
    "from codegen.preprocessing.lang_processors.python_processor import PythonProcessor\n",
    "import subprocess\n",
    "import filecmp\n",
    "from subprocess import Popen, PIPE, STDOUT\n",
    "import sys\n",
    "import argparse\n",
    "\n",
    "def getJsonData(JsonFile):\n",
    "    with open(JsonFile, encoding=\"utf8\") as f:\n",
    "        data = json.load(f)\n",
    "    return data\n",
    "\n",
    "def only_digits(num):\n",
    "    return num.replace(\"-\", \"\").replace(\"+\", \"\").replace('.','',1).replace(\"E\",\"\").isdigit()\n",
    "\n",
    "def check_floating(n1, n2):\n",
    "    if (not only_digits(n1)) or (not only_digits(n2)):\n",
    "        return False\n",
    "    #print(float(n1), float(n2))\n",
    "    if abs(float(n1)-float(n2))<1e-6:\n",
    "        return True\n",
    "    return False\n",
    "\n",
    "def print_error(l1, l2):\n",
    "    print(\"###\")\n",
    "    print(l1)\n",
    "    print(\"###\")\n",
    "    print(l2)\n",
    "    print(\"###\")\n",
    "\n",
    "def compare_files(file1, file2):\n",
    "    try:\n",
    "        with open(file1) as f1, open(file2) as f2: \n",
    "            content1 = f1.read().split()\n",
    "            content2 = f2.read().split()\n",
    "            for l1, l2 in zip(content1, content2):\n",
    "                if l1.strip() != l2.strip(): \n",
    "                    num1s = l1.strip().split(\" \")\n",
    "                    num2s = l2.strip().split(\" \")\n",
    "                    if(len(num1s) == len(num2s)):\n",
    "                        for idx in range(len(num1s)):\n",
    "                            if not check_floating(num1s[idx],num2s[idx]):\n",
    "                                print_error(l1, l2)\n",
    "                                return False\n",
    "                    else:\n",
    "                        print_error(l1, l2)\n",
    "                        return False\n",
    "            return True\n",
    "    except Exception as e:\n",
    "        print(\"exception = \", e)\n",
    "        return False"
   ]
  },
  {
   "cell_type": "code",
   "execution_count": null,
   "metadata": {},
   "outputs": [],
   "source": [
    "def run_python(test_case_folder):\n",
    "    \n",
    "    in_files = glob(test_case_folder+\"/in/*\")\n",
    "    p1 = subprocess.run([\"python\",\"-m\", \"py_compile\", \"test_py.py\"], stderr=PIPE)\n",
    "    return_code = p1.returncode\n",
    "    python2 = False\n",
    "    if (return_code):\n",
    "        p1 = subprocess.run([\"python2\",\"-m\", \"py_compile\", \"test_py.py\"], stderr=PIPE)\n",
    "        return_code = p1.returncode\n",
    "        python2=True\n",
    "\n",
    "    if(return_code):\n",
    "        print(\"doesnt compile\", return_code)\n",
    "        print(code)\n",
    "        \n",
    "        sys.exit(0)\n",
    "        return False, 0, len(in_files)\n",
    "\n",
    "    did_not_match = 0\n",
    "    for in_file in in_files:\n",
    "\n",
    "        cmd = \"python test_py.py < {} > cmd_out.txt\".format(in_file)\n",
    "        if (python2):\n",
    "            cmd = cmd.replace(\"python\", \"python2\")\n",
    "        p = Popen(cmd, shell=True, stdin=PIPE, stdout=PIPE, stderr=subprocess.DEVNULL, close_fds=True)\n",
    "        p.wait()\n",
    "        out = in_file.split(\"/\")\n",
    "        out[3] = \"out\"\n",
    "        out_file =\"/\".join(out)\n",
    "        out_file = out_file.replace(\".in\", \".out\")\n",
    "\n",
    "        p2 = subprocess.Popen([\"cp\",out_file, \"cmd_out_match.txt\"])\n",
    "        p2.wait()\n",
    "        if not compare_files('cmd_out.txt', 'cmd_out_match.txt'):\n",
    "            did_not_match+=1\n",
    "            print(test_case_folder)\n",
    "        else:\n",
    "            print(open('cmd_out.txt').read())\n",
    "            print(open('cmd_out_match.txt').read())\n",
    "            print(\"####\")\n",
    "    return True, len(in_files)-did_not_match,len(in_files)\n",
    "\n",
    "\n"
   ]
  },
  {
   "cell_type": "code",
   "execution_count": null,
   "metadata": {},
   "outputs": [],
   "source": [
    "run_python(\"atcoder_test_cases/ABC147/B\")"
   ]
  },
  {
   "cell_type": "code",
   "execution_count": 6,
   "metadata": {},
   "outputs": [],
   "source": [
    "from codegen.preprocessing.lang_processors.java_processor import JavaProcessor\n",
    "from codegen.preprocessing.lang_processors.python_processor import PythonProcessor\n",
    "import subprocess\n",
    "import filecmp\n",
    "from subprocess import Popen, PIPE, STDOUT\n",
    "import sys\n",
    "import json\n",
    "root_folder = \"../third_party\"\n",
    "jprocessor = JavaProcessor(root_folder=root_folder)\n",
    "pyprocessor = PythonProcessor(root_folder=root_folder)\n",
    "def getJsonData(JsonFile):\n",
    "    with open(JsonFile, encoding=\"utf8\") as f:\n",
    "        data = json.load(f)\n",
    "    return data\n"
   ]
  },
  {
   "cell_type": "code",
   "execution_count": null,
   "metadata": {},
   "outputs": [],
   "source": [
    "from pprint import pprint\n",
    "data = getJsonData('../data/Python/processed/test.jsonl')\n",
    "fl = open('../evaluation/garbage/Main.py').read()\n",
    "for idx, dt in enumerate(data):\n",
    "    if pyprocessor.detokenize_code(dt['tgt']).strip() == fl.strip():\n",
    "            print(idx)\n",
    "            pprint(dt)\n",
    "    #if dt['tgt_id']!='p02836_s902833363':\n",
    "    #    continue\n",
    "\n",
    "\n"
   ]
  },
  {
   "cell_type": "code",
   "execution_count": 10,
   "metadata": {},
   "outputs": [
    {
     "name": "stdout",
     "output_type": "stream",
     "text": [
      "{'src_id': 'p02684_s143538222', 'src': ['n', ',', 'k', ',', '*', 'a', '=', 'map', '(', 'int', ',', 'open', '(', '0', ')', '.', 'read', '(', ')', '.', 'split', '(', ')', ')', 'NEW_LINE', 'd', '=', '[', '2', '*', 'k', ']', '*', 'n', 'NEW_LINE', 's', '=', '0', 'NEW_LINE', 'while', 'k', ':', 's', '=', 'a', '[', 's', ']', '-', '1', ';', 'd', '[', 's', ']', '=', 'k', '=', '-', 'k', '%', '(', '~', 'd', '[', 's', ']', '+', 'k', ')', 'NEW_LINE', 'print', '(', 's', '+', '1', ')', 'NEW_LINE'], 'src_verdict': 'Wrong Answer', 'tgt': ['n', ',', 'k', ',', '*', 'a', '=', 'map', '(', 'int', ',', 'open', '(', '0', ')', '.', 'read', '(', ')', '.', 'split', '(', ')', ')', 'NEW_LINE', 'd', '=', '[', '0', ']', '+', '[', '-', '1', ']', '*', 'n', 'NEW_LINE', 's', '=', '0', 'NEW_LINE', 'for', 'i', 'in', 'range', '(', 'k', ')', ':', 'NEW_LINE', 'INDENT', 's', '=', 'a', '[', 's', ']', '-', '1', 'NEW_LINE', 'if', '(', 'j', ':', '=', 'd', '[', 's', ']', ')', '>', '-', '1', ':', 'NEW_LINE', 'INDENT', 'exec', '(', '(', 'k', '-', 'j', ')', '%', '(', 'i', '+', '1', '-', 'j', ')', '*', \"' s = a [ s ] -1 ; '\", ')', 'NEW_LINE', 'exit', '(', 'print', '(', 's', '+', '1', ')', ')', 'NEW_LINE', 'DEDENT', 'd', '[', 's', ']', '=', 'i', '+', '1', 'NEW_LINE', 'DEDENT', 'print', '(', 's', '+', '1', ')', 'NEW_LINE'], 'tgt_id': 'p02684_s747558892'}\n"
     ]
    }
   ],
   "source": [
    "print(data[11378])"
   ]
  },
  {
   "cell_type": "code",
   "execution_count": 15,
   "metadata": {},
   "outputs": [
    {
     "name": "stdout",
     "output_type": "stream",
     "text": [
      "n,k,*a=map(int,open(0).read().split())\n",
      "d=[0]+[-1]*n\n",
      "s=0\n",
      "for i in range(k):\n",
      "  s=a[s]-1\n",
      "  if(j:=d[s])>-1:\n",
      "    exec((k-j)%(i+1-j)*'s=a[s]-1;')\n",
      "    exit(print(s+1))\n",
      "  d[s]=i+1\n",
      "print(s+1)"
     ]
    }
   ],
   "source": [
    "!head ../Project_CodeNet/data/p02684/Python/s747558892.py"
   ]
  },
  {
   "cell_type": "code",
   "execution_count": null,
   "metadata": {},
   "outputs": [],
   "source": [
    "Was given accepted but actually not ../Project_CodeNet/data/p02684/Python/s747558892.py"
   ]
  },
  {
   "cell_type": "code",
   "execution_count": 1,
   "metadata": {},
   "outputs": [
    {
     "name": "stdout",
     "output_type": "stream",
     "text": [
      "(4053, 8)\n"
     ]
    },
    {
     "ename": "AttributeError",
     "evalue": "'collections.defaultdict' object has no attribute 'group_by'",
     "output_type": "error",
     "traceback": [
      "\u001b[0;31m---------------------------------------------------------------------------\u001b[0m",
      "\u001b[0;31mAttributeError\u001b[0m                            Traceback (most recent call last)",
      "\u001b[0;32m<ipython-input-1-77a422018c13>\u001b[0m in \u001b[0;36m<module>\u001b[0;34m()\u001b[0m\n\u001b[1;32m      7\u001b[0m \u001b[0mprint\u001b[0m\u001b[0;34m(\u001b[0m\u001b[0mproblemlist\u001b[0m\u001b[0;34m.\u001b[0m\u001b[0mshape\u001b[0m\u001b[0;34m)\u001b[0m\u001b[0;34m\u001b[0m\u001b[0;34m\u001b[0m\u001b[0m\n\u001b[1;32m      8\u001b[0m \u001b[0mproblems\u001b[0m \u001b[0;34m=\u001b[0m \u001b[0mdefaultdict\u001b[0m\u001b[0;34m(\u001b[0m\u001b[0mlist\u001b[0m\u001b[0;34m)\u001b[0m\u001b[0;34m\u001b[0m\u001b[0;34m\u001b[0m\u001b[0m\n\u001b[0;32m----> 9\u001b[0;31m \u001b[0mprint\u001b[0m\u001b[0;34m(\u001b[0m\u001b[0mproblems\u001b[0m\u001b[0;34m.\u001b[0m\u001b[0mgroup_by\u001b[0m\u001b[0;34m(\u001b[0m\u001b[0;34m'dataset'\u001b[0m\u001b[0;34m)\u001b[0m\u001b[0;34m.\u001b[0m\u001b[0mcount\u001b[0m\u001b[0;34m(\u001b[0m\u001b[0;34m)\u001b[0m\u001b[0;34m)\u001b[0m\u001b[0;34m\u001b[0m\u001b[0;34m\u001b[0m\u001b[0m\n\u001b[0m\u001b[1;32m     10\u001b[0m \u001b[0;31m#for index, row in tqdm(problemlist.iterrows()):\u001b[0m\u001b[0;34m\u001b[0m\u001b[0;34m\u001b[0m\u001b[0;34m\u001b[0m\u001b[0m\n\u001b[1;32m     11\u001b[0m \u001b[0;31m#    row['dataset']=='AtCoder'):\u001b[0m\u001b[0;34m\u001b[0m\u001b[0;34m\u001b[0m\u001b[0;34m\u001b[0m\u001b[0m\n",
      "\u001b[0;31mAttributeError\u001b[0m: 'collections.defaultdict' object has no attribute 'group_by'"
     ]
    }
   ],
   "source": [
    "import pandas as pd\n",
    "import json\n",
    "from collections import defaultdict\n",
    "from tqdm import tqdm\n",
    "from glob import glob\n",
    "problemlist=pd.read_csv(\"../Project_CodeNet/metadata/problem_list.csv\")\n",
    "print(problemlist.shape)\n",
    "problems = defaultdict(list)\n",
    "print(problemlist.group_by('dataset').count())\n",
    "#for index, row in tqdm(problemlist.iterrows()):\n",
    "#    row['dataset']=='AtCoder'):"
   ]
  },
  {
   "cell_type": "code",
   "execution_count": 5,
   "metadata": {},
   "outputs": [
    {
     "name": "stdout",
     "output_type": "stream",
     "text": [
      "           id  name  time_limit  memory_limit  rating  tags  complexity\n",
      "dataset                                                                \n",
      "AIZU     2534  2478        2478          2478       0     0           0\n",
      "AtCoder  1519  1519        1519          1519       0     0           0\n"
     ]
    }
   ],
   "source": [
    "print(problemlist.groupby(['dataset']).count())"
   ]
  },
  {
   "cell_type": "code",
   "execution_count": null,
   "metadata": {},
   "outputs": [],
   "source": []
  },
  {
   "cell_type": "code",
   "execution_count": 8,
   "metadata": {},
   "outputs": [
    {
     "name": "stdout",
     "output_type": "stream",
     "text": [
      "../data/java/jsons/0.json\n",
      "../data/java/jsons/1.json\n",
      "../data/java/jsons/2.json\n",
      "../data/java/jsons/3.json\n",
      "../data/java/jsons/4.json\n",
      "../data/java/jsons/5.json\n",
      "../data/java/jsons/6.json\n",
      "../data/java/jsons/7.json\n",
      "../data/java/jsons/8.json\n",
      "../data/java/jsons/9.json\n",
      "../data/java/jsons/10.json\n",
      "../data/java/jsons/11.json\n",
      "../data/java/jsons/12.json\n",
      "../data/java/jsons/13.json\n",
      "../data/java/jsons/14.json\n",
      "../data/java/jsons/15.json\n",
      "../data/java/jsons/16.json\n",
      "../data/java/jsons/17.json\n",
      "../data/java/jsons/18.json\n",
      "../data/java/jsons/19.json\n",
      "../data/java/jsons/20.json\n",
      "../data/java/jsons/21.json\n",
      "../data/java/jsons/22.json\n",
      "../data/java/jsons/23.json\n",
      "../data/java/jsons/24.json\n",
      "../data/java/jsons/25.json\n",
      "../data/java/jsons/26.json\n",
      "../data/java/jsons/27.json\n"
     ]
    },
    {
     "name": "stderr",
     "output_type": "stream",
     "text": [
      "100%|██████████| 277393/277393 [00:00<00:00, 607719.23it/s]\n"
     ]
    }
   ],
   "source": [
    "data = []\n",
    "for file in glob('../data/java/jsons/'+'*.json'):\n",
    "    print(file)\n",
    "    with open(file, 'r') as f:\n",
    "        temp = json.load(f)\n",
    "        data.extend(temp)\n",
    "data = data[:-1]\n",
    "problems_of_lang = set()\n",
    "for ex in tqdm(data):\n",
    "    problems_of_lang.add(ex[0]['problem_id'])\n",
    "processor = jprocessor\n",
    "\n"
   ]
  },
  {
   "cell_type": "code",
   "execution_count": 38,
   "metadata": {},
   "outputs": [],
   "source": [
    "from deduplication import DuplicateDetector\n",
    "problem_to_dataidx = defaultdict(list)\n",
    "from difflib import SequenceMatcher\n",
    "from joblib import Parallel, delayed\n",
    "sim = []\n",
    "def calculate_similarity(code1_tokens, code2_tokens):\n",
    "    code1 = ' '.join(code1_tokens)\n",
    "    code2 = ' '.join(code2_tokens)\n",
    "    return SequenceMatcher(None, code1, code2).ratio()\n",
    "    \n",
    "def deduplicate_jaccard(database, processor):\n",
    "    accepted_sub = set()\n",
    "    for idx,dt in enumerate(database):    \n",
    "        if dt[1]['submission_id'] not in accepted_sub:\n",
    "            accepted_sub.add(dt[1]['submission_id'])\n",
    "            problem_to_dataidx[dt[1]['problem_id']].append(idx)\n",
    "    duplicate_submission_id = []\n",
    "    \n",
    "    exclude_submissions = set()\n",
    "    def solve(problem):\n",
    "        print(len(sim))\n",
    "        for idx in problem_to_dataidx[problem]:\n",
    "            for idx2 in problem_to_dataidx[problem]:\n",
    "                if idx!=idx2:\n",
    "                    sim.append(calculate_similarity(database[idx][1]['code_tokens'], database[idx2][1]['code_tokens']))\n",
    "    \n",
    "    Parallel(n_jobs=8, prefer=\"threads\")(delayed(solve)(problem) for problem in tqdm(problem_to_dataidx.keys()))\n",
    "            \n",
    "    return deduplication_database\n",
    " "
   ]
  },
  {
   "cell_type": "code",
   "execution_count": 39,
   "metadata": {},
   "outputs": [
    {
     "name": "stdout",
     "output_type": "stream",
     "text": [
      "previous data size  277393\n"
     ]
    },
    {
     "name": "stderr",
     "output_type": "stream",
     "text": [
      "\n",
      "\n",
      "\u001b[A\u001b[A\n",
      "\n",
      "\n",
      "  0%|          | 8/2794 [00:02<09:47,  4.74it/s]"
     ]
    },
    {
     "name": "stdout",
     "output_type": "stream",
     "text": [
      "1878\n",
      "1882\n",
      "18821882\n",
      "1889\n",
      "1890\n",
      "1891\n",
      "1902\n",
      "\n"
     ]
    },
    {
     "name": "stderr",
     "output_type": "stream",
     "text": [
      "\u001b[A\u001b[A\u001b[A\n",
      "\n",
      "\u001b[A\u001b[A\n",
      "\n",
      "\u001b[A\u001b[A\n",
      "\n",
      "\u001b[A\u001b[A\n",
      "\n",
      "\u001b[A\u001b[A\n",
      "\n",
      "\u001b[A\u001b[A\n",
      "\n",
      "\u001b[A\u001b[A\n",
      "\n",
      "\u001b[A\u001b[A"
     ]
    },
    {
     "ename": "KeyboardInterrupt",
     "evalue": "",
     "output_type": "error",
     "traceback": [
      "\u001b[0;31m---------------------------------------------------------------------------\u001b[0m",
      "\u001b[0;31mKeyboardInterrupt\u001b[0m                         Traceback (most recent call last)",
      "\u001b[0;32m<ipython-input-39-e0c1ff63f736>\u001b[0m in \u001b[0;36m<module>\u001b[0;34m()\u001b[0m\n\u001b[1;32m      1\u001b[0m \u001b[0mprint\u001b[0m\u001b[0;34m(\u001b[0m\u001b[0;34m\"previous data size \"\u001b[0m\u001b[0;34m,\u001b[0m \u001b[0mlen\u001b[0m\u001b[0;34m(\u001b[0m\u001b[0mdata\u001b[0m\u001b[0;34m)\u001b[0m\u001b[0;34m)\u001b[0m\u001b[0;34m\u001b[0m\u001b[0;34m\u001b[0m\u001b[0m\n\u001b[0;32m----> 2\u001b[0;31m \u001b[0mdedep_data\u001b[0m \u001b[0;34m=\u001b[0m \u001b[0mdeduplicate_jaccard\u001b[0m\u001b[0;34m(\u001b[0m\u001b[0mdata\u001b[0m\u001b[0;34m,\u001b[0m\u001b[0mprocessor\u001b[0m\u001b[0;34m)\u001b[0m\u001b[0;34m\u001b[0m\u001b[0;34m\u001b[0m\u001b[0m\n\u001b[0m\u001b[1;32m      3\u001b[0m \u001b[0mprint\u001b[0m\u001b[0;34m(\u001b[0m\u001b[0;34m\"data size after deduplication\"\u001b[0m\u001b[0;34m,\u001b[0m \u001b[0mlen\u001b[0m\u001b[0;34m(\u001b[0m\u001b[0mdedep_data\u001b[0m\u001b[0;34m)\u001b[0m\u001b[0;34m)\u001b[0m\u001b[0;34m\u001b[0m\u001b[0;34m\u001b[0m\u001b[0m\n",
      "\u001b[0;32m<ipython-input-38-36117d2dd8fe>\u001b[0m in \u001b[0;36mdeduplicate_jaccard\u001b[0;34m(database, processor)\u001b[0m\n\u001b[1;32m     25\u001b[0m                     \u001b[0msim\u001b[0m\u001b[0;34m.\u001b[0m\u001b[0mappend\u001b[0m\u001b[0;34m(\u001b[0m\u001b[0mcalculate_similarity\u001b[0m\u001b[0;34m(\u001b[0m\u001b[0mdatabase\u001b[0m\u001b[0;34m[\u001b[0m\u001b[0midx\u001b[0m\u001b[0;34m]\u001b[0m\u001b[0;34m[\u001b[0m\u001b[0;36m1\u001b[0m\u001b[0;34m]\u001b[0m\u001b[0;34m[\u001b[0m\u001b[0;34m'code_tokens'\u001b[0m\u001b[0;34m]\u001b[0m\u001b[0;34m,\u001b[0m \u001b[0mdatabase\u001b[0m\u001b[0;34m[\u001b[0m\u001b[0midx2\u001b[0m\u001b[0;34m]\u001b[0m\u001b[0;34m[\u001b[0m\u001b[0;36m1\u001b[0m\u001b[0;34m]\u001b[0m\u001b[0;34m[\u001b[0m\u001b[0;34m'code_tokens'\u001b[0m\u001b[0;34m]\u001b[0m\u001b[0;34m)\u001b[0m\u001b[0;34m)\u001b[0m\u001b[0;34m\u001b[0m\u001b[0;34m\u001b[0m\u001b[0m\n\u001b[1;32m     26\u001b[0m \u001b[0;34m\u001b[0m\u001b[0m\n\u001b[0;32m---> 27\u001b[0;31m     \u001b[0mParallel\u001b[0m\u001b[0;34m(\u001b[0m\u001b[0mn_jobs\u001b[0m\u001b[0;34m=\u001b[0m\u001b[0;36m8\u001b[0m\u001b[0;34m,\u001b[0m \u001b[0mprefer\u001b[0m\u001b[0;34m=\u001b[0m\u001b[0;34m\"threads\"\u001b[0m\u001b[0;34m)\u001b[0m\u001b[0;34m(\u001b[0m\u001b[0mdelayed\u001b[0m\u001b[0;34m(\u001b[0m\u001b[0msolve\u001b[0m\u001b[0;34m)\u001b[0m\u001b[0;34m(\u001b[0m\u001b[0mproblem\u001b[0m\u001b[0;34m)\u001b[0m \u001b[0;32mfor\u001b[0m \u001b[0mproblem\u001b[0m \u001b[0;32min\u001b[0m \u001b[0mtqdm\u001b[0m\u001b[0;34m(\u001b[0m\u001b[0mproblem_to_dataidx\u001b[0m\u001b[0;34m.\u001b[0m\u001b[0mkeys\u001b[0m\u001b[0;34m(\u001b[0m\u001b[0;34m)\u001b[0m\u001b[0;34m)\u001b[0m\u001b[0;34m)\u001b[0m\u001b[0;34m\u001b[0m\u001b[0;34m\u001b[0m\u001b[0m\n\u001b[0m\u001b[1;32m     28\u001b[0m \u001b[0;34m\u001b[0m\u001b[0m\n\u001b[1;32m     29\u001b[0m     \u001b[0;32mreturn\u001b[0m \u001b[0mdeduplication_database\u001b[0m\u001b[0;34m\u001b[0m\u001b[0;34m\u001b[0m\u001b[0m\n",
      "\u001b[0;32m/home/mahim/miniconda3/envs/python36/lib/python3.6/site-packages/joblib/parallel.py\u001b[0m in \u001b[0;36m__call__\u001b[0;34m(self, iterable)\u001b[0m\n\u001b[1;32m   1054\u001b[0m \u001b[0;34m\u001b[0m\u001b[0m\n\u001b[1;32m   1055\u001b[0m             \u001b[0;32mwith\u001b[0m \u001b[0mself\u001b[0m\u001b[0;34m.\u001b[0m\u001b[0m_backend\u001b[0m\u001b[0;34m.\u001b[0m\u001b[0mretrieval_context\u001b[0m\u001b[0;34m(\u001b[0m\u001b[0;34m)\u001b[0m\u001b[0;34m:\u001b[0m\u001b[0;34m\u001b[0m\u001b[0;34m\u001b[0m\u001b[0m\n\u001b[0;32m-> 1056\u001b[0;31m                 \u001b[0mself\u001b[0m\u001b[0;34m.\u001b[0m\u001b[0mretrieve\u001b[0m\u001b[0;34m(\u001b[0m\u001b[0;34m)\u001b[0m\u001b[0;34m\u001b[0m\u001b[0;34m\u001b[0m\u001b[0m\n\u001b[0m\u001b[1;32m   1057\u001b[0m             \u001b[0;31m# Make sure that we get a last message telling us we are done\u001b[0m\u001b[0;34m\u001b[0m\u001b[0;34m\u001b[0m\u001b[0;34m\u001b[0m\u001b[0m\n\u001b[1;32m   1058\u001b[0m             \u001b[0melapsed_time\u001b[0m \u001b[0;34m=\u001b[0m \u001b[0mtime\u001b[0m\u001b[0;34m.\u001b[0m\u001b[0mtime\u001b[0m\u001b[0;34m(\u001b[0m\u001b[0;34m)\u001b[0m \u001b[0;34m-\u001b[0m \u001b[0mself\u001b[0m\u001b[0;34m.\u001b[0m\u001b[0m_start_time\u001b[0m\u001b[0;34m\u001b[0m\u001b[0;34m\u001b[0m\u001b[0m\n",
      "\u001b[0;32m/home/mahim/miniconda3/envs/python36/lib/python3.6/site-packages/joblib/parallel.py\u001b[0m in \u001b[0;36mretrieve\u001b[0;34m(self)\u001b[0m\n\u001b[1;32m    933\u001b[0m             \u001b[0;32mtry\u001b[0m\u001b[0;34m:\u001b[0m\u001b[0;34m\u001b[0m\u001b[0;34m\u001b[0m\u001b[0m\n\u001b[1;32m    934\u001b[0m                 \u001b[0;32mif\u001b[0m \u001b[0mgetattr\u001b[0m\u001b[0;34m(\u001b[0m\u001b[0mself\u001b[0m\u001b[0;34m.\u001b[0m\u001b[0m_backend\u001b[0m\u001b[0;34m,\u001b[0m \u001b[0;34m'supports_timeout'\u001b[0m\u001b[0;34m,\u001b[0m \u001b[0;32mFalse\u001b[0m\u001b[0;34m)\u001b[0m\u001b[0;34m:\u001b[0m\u001b[0;34m\u001b[0m\u001b[0;34m\u001b[0m\u001b[0m\n\u001b[0;32m--> 935\u001b[0;31m                     \u001b[0mself\u001b[0m\u001b[0;34m.\u001b[0m\u001b[0m_output\u001b[0m\u001b[0;34m.\u001b[0m\u001b[0mextend\u001b[0m\u001b[0;34m(\u001b[0m\u001b[0mjob\u001b[0m\u001b[0;34m.\u001b[0m\u001b[0mget\u001b[0m\u001b[0;34m(\u001b[0m\u001b[0mtimeout\u001b[0m\u001b[0;34m=\u001b[0m\u001b[0mself\u001b[0m\u001b[0;34m.\u001b[0m\u001b[0mtimeout\u001b[0m\u001b[0;34m)\u001b[0m\u001b[0;34m)\u001b[0m\u001b[0;34m\u001b[0m\u001b[0;34m\u001b[0m\u001b[0m\n\u001b[0m\u001b[1;32m    936\u001b[0m                 \u001b[0;32melse\u001b[0m\u001b[0;34m:\u001b[0m\u001b[0;34m\u001b[0m\u001b[0;34m\u001b[0m\u001b[0m\n\u001b[1;32m    937\u001b[0m                     \u001b[0mself\u001b[0m\u001b[0;34m.\u001b[0m\u001b[0m_output\u001b[0m\u001b[0;34m.\u001b[0m\u001b[0mextend\u001b[0m\u001b[0;34m(\u001b[0m\u001b[0mjob\u001b[0m\u001b[0;34m.\u001b[0m\u001b[0mget\u001b[0m\u001b[0;34m(\u001b[0m\u001b[0;34m)\u001b[0m\u001b[0;34m)\u001b[0m\u001b[0;34m\u001b[0m\u001b[0;34m\u001b[0m\u001b[0m\n",
      "\u001b[0;32m/home/mahim/miniconda3/envs/python36/lib/python3.6/multiprocessing/pool.py\u001b[0m in \u001b[0;36mget\u001b[0;34m(self, timeout)\u001b[0m\n\u001b[1;32m    636\u001b[0m \u001b[0;34m\u001b[0m\u001b[0m\n\u001b[1;32m    637\u001b[0m     \u001b[0;32mdef\u001b[0m \u001b[0mget\u001b[0m\u001b[0;34m(\u001b[0m\u001b[0mself\u001b[0m\u001b[0;34m,\u001b[0m \u001b[0mtimeout\u001b[0m\u001b[0;34m=\u001b[0m\u001b[0;32mNone\u001b[0m\u001b[0;34m)\u001b[0m\u001b[0;34m:\u001b[0m\u001b[0;34m\u001b[0m\u001b[0;34m\u001b[0m\u001b[0m\n\u001b[0;32m--> 638\u001b[0;31m         \u001b[0mself\u001b[0m\u001b[0;34m.\u001b[0m\u001b[0mwait\u001b[0m\u001b[0;34m(\u001b[0m\u001b[0mtimeout\u001b[0m\u001b[0;34m)\u001b[0m\u001b[0;34m\u001b[0m\u001b[0;34m\u001b[0m\u001b[0m\n\u001b[0m\u001b[1;32m    639\u001b[0m         \u001b[0;32mif\u001b[0m \u001b[0;32mnot\u001b[0m \u001b[0mself\u001b[0m\u001b[0;34m.\u001b[0m\u001b[0mready\u001b[0m\u001b[0;34m(\u001b[0m\u001b[0;34m)\u001b[0m\u001b[0;34m:\u001b[0m\u001b[0;34m\u001b[0m\u001b[0;34m\u001b[0m\u001b[0m\n\u001b[1;32m    640\u001b[0m             \u001b[0;32mraise\u001b[0m \u001b[0mTimeoutError\u001b[0m\u001b[0;34m\u001b[0m\u001b[0;34m\u001b[0m\u001b[0m\n",
      "\u001b[0;32m/home/mahim/miniconda3/envs/python36/lib/python3.6/multiprocessing/pool.py\u001b[0m in \u001b[0;36mwait\u001b[0;34m(self, timeout)\u001b[0m\n\u001b[1;32m    633\u001b[0m \u001b[0;34m\u001b[0m\u001b[0m\n\u001b[1;32m    634\u001b[0m     \u001b[0;32mdef\u001b[0m \u001b[0mwait\u001b[0m\u001b[0;34m(\u001b[0m\u001b[0mself\u001b[0m\u001b[0;34m,\u001b[0m \u001b[0mtimeout\u001b[0m\u001b[0;34m=\u001b[0m\u001b[0;32mNone\u001b[0m\u001b[0;34m)\u001b[0m\u001b[0;34m:\u001b[0m\u001b[0;34m\u001b[0m\u001b[0;34m\u001b[0m\u001b[0m\n\u001b[0;32m--> 635\u001b[0;31m         \u001b[0mself\u001b[0m\u001b[0;34m.\u001b[0m\u001b[0m_event\u001b[0m\u001b[0;34m.\u001b[0m\u001b[0mwait\u001b[0m\u001b[0;34m(\u001b[0m\u001b[0mtimeout\u001b[0m\u001b[0;34m)\u001b[0m\u001b[0;34m\u001b[0m\u001b[0;34m\u001b[0m\u001b[0m\n\u001b[0m\u001b[1;32m    636\u001b[0m \u001b[0;34m\u001b[0m\u001b[0m\n\u001b[1;32m    637\u001b[0m     \u001b[0;32mdef\u001b[0m \u001b[0mget\u001b[0m\u001b[0;34m(\u001b[0m\u001b[0mself\u001b[0m\u001b[0;34m,\u001b[0m \u001b[0mtimeout\u001b[0m\u001b[0;34m=\u001b[0m\u001b[0;32mNone\u001b[0m\u001b[0;34m)\u001b[0m\u001b[0;34m:\u001b[0m\u001b[0;34m\u001b[0m\u001b[0;34m\u001b[0m\u001b[0m\n",
      "\u001b[0;32m/home/mahim/miniconda3/envs/python36/lib/python3.6/threading.py\u001b[0m in \u001b[0;36mwait\u001b[0;34m(self, timeout)\u001b[0m\n\u001b[1;32m    549\u001b[0m             \u001b[0msignaled\u001b[0m \u001b[0;34m=\u001b[0m \u001b[0mself\u001b[0m\u001b[0;34m.\u001b[0m\u001b[0m_flag\u001b[0m\u001b[0;34m\u001b[0m\u001b[0;34m\u001b[0m\u001b[0m\n\u001b[1;32m    550\u001b[0m             \u001b[0;32mif\u001b[0m \u001b[0;32mnot\u001b[0m \u001b[0msignaled\u001b[0m\u001b[0;34m:\u001b[0m\u001b[0;34m\u001b[0m\u001b[0;34m\u001b[0m\u001b[0m\n\u001b[0;32m--> 551\u001b[0;31m                 \u001b[0msignaled\u001b[0m \u001b[0;34m=\u001b[0m \u001b[0mself\u001b[0m\u001b[0;34m.\u001b[0m\u001b[0m_cond\u001b[0m\u001b[0;34m.\u001b[0m\u001b[0mwait\u001b[0m\u001b[0;34m(\u001b[0m\u001b[0mtimeout\u001b[0m\u001b[0;34m)\u001b[0m\u001b[0;34m\u001b[0m\u001b[0;34m\u001b[0m\u001b[0m\n\u001b[0m\u001b[1;32m    552\u001b[0m             \u001b[0;32mreturn\u001b[0m \u001b[0msignaled\u001b[0m\u001b[0;34m\u001b[0m\u001b[0;34m\u001b[0m\u001b[0m\n\u001b[1;32m    553\u001b[0m \u001b[0;34m\u001b[0m\u001b[0m\n",
      "\u001b[0;32m/home/mahim/miniconda3/envs/python36/lib/python3.6/threading.py\u001b[0m in \u001b[0;36mwait\u001b[0;34m(self, timeout)\u001b[0m\n\u001b[1;32m    293\u001b[0m         \u001b[0;32mtry\u001b[0m\u001b[0;34m:\u001b[0m    \u001b[0;31m# restore state no matter what (e.g., KeyboardInterrupt)\u001b[0m\u001b[0;34m\u001b[0m\u001b[0;34m\u001b[0m\u001b[0m\n\u001b[1;32m    294\u001b[0m             \u001b[0;32mif\u001b[0m \u001b[0mtimeout\u001b[0m \u001b[0;32mis\u001b[0m \u001b[0;32mNone\u001b[0m\u001b[0;34m:\u001b[0m\u001b[0;34m\u001b[0m\u001b[0;34m\u001b[0m\u001b[0m\n\u001b[0;32m--> 295\u001b[0;31m                 \u001b[0mwaiter\u001b[0m\u001b[0;34m.\u001b[0m\u001b[0macquire\u001b[0m\u001b[0;34m(\u001b[0m\u001b[0;34m)\u001b[0m\u001b[0;34m\u001b[0m\u001b[0;34m\u001b[0m\u001b[0m\n\u001b[0m\u001b[1;32m    296\u001b[0m                 \u001b[0mgotit\u001b[0m \u001b[0;34m=\u001b[0m \u001b[0;32mTrue\u001b[0m\u001b[0;34m\u001b[0m\u001b[0;34m\u001b[0m\u001b[0m\n\u001b[1;32m    297\u001b[0m             \u001b[0;32melse\u001b[0m\u001b[0;34m:\u001b[0m\u001b[0;34m\u001b[0m\u001b[0;34m\u001b[0m\u001b[0m\n",
      "\u001b[0;31mKeyboardInterrupt\u001b[0m: "
     ]
    }
   ],
   "source": [
    "print(\"previous data size \", len(data))\n",
    "dedep_data = deduplicate_jaccard(data,processor)\n",
    "print(\"data size after deduplication\", len(dedep_data))"
   ]
  },
  {
   "cell_type": "code",
   "execution_count": 18,
   "metadata": {},
   "outputs": [
    {
     "name": "stdout",
     "output_type": "stream",
     "text": [
      "previous data size  274603\n"
     ]
    },
    {
     "name": "stderr",
     "output_type": "stream",
     "text": [
      "100%|██████████| 2794/2794 [10:34<00:00,  4.41it/s] \n"
     ]
    },
    {
     "name": "stdout",
     "output_type": "stream",
     "text": [
      "data size after deduplication 274603\n"
     ]
    }
   ],
   "source": [
    "print(\"previous data size \", len(dedep_data))\n",
    "dedep_data = deduplicate_jaccard(dedep_data,processor)\n",
    "print(\"data size after deduplication\", len(dedep_data))"
   ]
  },
  {
   "cell_type": "code",
   "execution_count": 3,
   "metadata": {},
   "outputs": [
    {
     "name": "stdout",
     "output_type": "stream",
     "text": [
      "src_test.java-java.java   test.jsonl                train.java-java.id\n",
      "src_train.java-java.java  tgt_test.java-java.java   train.jsonl\n",
      "src_valid.java-java.java  tgt_train.java-java.java  valid.java-java.id\n",
      "test.java-java.id         tgt_valid.java-java.java  valid.jsonl\n"
     ]
    }
   ],
   "source": [
    "ls ../data/java/processed/test.jsonl"
   ]
  },
  {
   "cell_type": "code",
   "execution_count": 1,
   "metadata": {},
   "outputs": [],
   "source": [
    "from codegen.preprocessing.lang_processors.java_processor import JavaProcessor\n",
    "from codegen.preprocessing.lang_processors.python_processor import PythonProcessor\n",
    "import subprocess\n",
    "import filecmp\n",
    "from subprocess import Popen, PIPE, STDOUT\n",
    "import sys\n",
    "import json\n",
    "root_folder = \"../third_party\"\n",
    "jprocessor = JavaProcessor(root_folder=root_folder)\n",
    "pyprocessor = PythonProcessor(root_folder=root_folder)\n",
    "def getJsonData(JsonFile):\n",
    "    with open(JsonFile, encoding=\"utf8\") as f:\n",
    "        data = json.load(f)\n",
    "    return data\n"
   ]
  },
  {
   "cell_type": "code",
   "execution_count": 2,
   "metadata": {},
   "outputs": [],
   "source": [
    "test = getJsonData('../data/java/processed/test.jsonl')"
   ]
  },
  {
   "cell_type": "code",
   "execution_count": 24,
   "metadata": {},
   "outputs": [
    {
     "name": "stdout",
     "output_type": "stream",
     "text": [
      "import java . util . * ; class Main { public static void main ( String [ ] args ) { Scanner scan = new Scanner ( System . in ) ; int N = scan . nextInt ( ) ; int M = scan . nextInt ( ) ; int k = ( int ) M / N ; int ans = 1 ; for ( int i = 2 ; i <= k ; i ++ ) { if ( M % i == 0 ) { ans = i ; } } System . out . println ( ans ) ; } }\n",
      "###########\n",
      "import java . util . * ; class Main { public static void main ( String [ ] args ) { Scanner scan = new Scanner ( System . in ) ; int N = scan . nextInt ( ) ; int M = scan . nextInt ( ) ; int k = ( int ) M / N ; int ans = 1 ; for ( int i = k ; i > 1 ; i -- ) { if ( M % i == 0 ) { ans = i ; break ; } } System . out . println ( ans ) ; } }\n",
      "p03241_s047012383\n"
     ]
    }
   ],
   "source": [
    "for id in [57, 287, 301, 316, 329, 323, 327, 335, 357, 384, 467]:\n",
    "    print(\" \".join(test[id]['src']))\n",
    "    print(\"###########\")\n",
    "    print(\" \".join(test[id]['tgt']))\n",
    "    print(test[id]['src_id'])\n",
    "    break"
   ]
  },
  {
   "cell_type": "code",
   "execution_count": 21,
   "metadata": {},
   "outputs": [
    {
     "data": {
      "text/plain": [
       "'import java . util . * ; public class Main { public static void main ( String [ ] args ) { Scanner sc = new Scanner ( System . in ) ; int n = sc . nextInt ( ) ; int H ; int u = 0 ; int [ ] x = new int [ n ] ; int [ ] y = new int [ n ] ; int [ ] h = new int [ n ] ; for ( int i = 0 ; i < n ; i ++ ) { x [ i ] = sc . nextInt ( ) ; y [ i ] = sc . nextInt ( ) ; h [ i ] = sc . nextInt ( ) ; if ( h [ i ] > 0 ) u = i ; } int t ; for ( int i = 0 ; i <= 100 ; i ++ ) { for ( int j = 0 ; j <= 100 ; j ++ ) { H = h [ u ] + Math . abs ( i - x [ u ] ) + Math . abs ( j - y [ u ] ) ; t = 0 ; for ( int k = 0 ; k < n ; k ++ ) { int Hh = Math . max ( H - Math . abs ( i - x [ k ] ) - Math . abs ( j - y [ k ] ) , 0 ) ; if ( Hh != h [ k ] ) { t = 1 ; break ; } } if ( t == 0 ) System . out . println ( i + \" ▁ \" + j + \" \\u3000 \" + H ) ; } } } }'"
      ]
     },
     "execution_count": 21,
     "metadata": {},
     "output_type": "execute_result"
    }
   ],
   "source": [
    "\" \".join(test[384]['src'])"
   ]
  },
  {
   "cell_type": "code",
   "execution_count": 7,
   "metadata": {},
   "outputs": [],
   "source": [
    "gen = getJsonData('../codet5/codenet/java2java_with_verdict/generation.json')"
   ]
  },
  {
   "cell_type": "code",
   "execution_count": 6,
   "metadata": {},
   "outputs": [
    {
     "name": "stdout",
     "output_type": "stream",
     "text": [
      "dict_keys(['src_id', 'src', 'src_verdict', 'tgt', 'tgt_id'])\n"
     ]
    },
    {
     "data": {
      "text/plain": [
       "47417"
      ]
     },
     "execution_count": 6,
     "metadata": {},
     "output_type": "execute_result"
    }
   ],
   "source": [
    "\n",
    "print(test[0].keys())\n",
    "len(test)"
   ]
  },
  {
   "cell_type": "code",
   "execution_count": 17,
   "metadata": {},
   "outputs": [
    {
     "name": "stdout",
     "output_type": "stream",
     "text": [
      "23\n"
     ]
    }
   ],
   "source": [
    "#from tqdm import tqdm\n",
    "test[0].keys()\n",
    "cnt = 0\n",
    "jprocessor = JavaProcessor(root_folder=root_folder)\n",
    "pyprocessor = PythonProcessor(root_folder=root_folder)\n",
    "\n",
    "for dt in test:\n",
    "    if jprocessor.detokenize_code(dt['src']) == jprocessor.detokenize_code(dt['tgt']):\n",
    "        cnt+=1\n",
    "print(cnt)"
   ]
  },
  {
   "cell_type": "code",
   "execution_count": 12,
   "metadata": {},
   "outputs": [
    {
     "ename": "AttributeError",
     "evalue": "'list' object has no attribute 'replace'",
     "output_type": "error",
     "traceback": [
      "\u001b[0;31m---------------------------------------------------------------------------\u001b[0m",
      "\u001b[0;31mAttributeError\u001b[0m                            Traceback (most recent call last)",
      "\u001b[0;32m<ipython-input-12-b580e6c3b1b4>\u001b[0m in \u001b[0;36m<module>\u001b[0;34m()\u001b[0m\n\u001b[0;32m----> 1\u001b[0;31m \u001b[0mjprocessor\u001b[0m\u001b[0;34m.\u001b[0m\u001b[0mtokenize_code\u001b[0m\u001b[0;34m(\u001b[0m\u001b[0mtest\u001b[0m\u001b[0;34m[\u001b[0m\u001b[0;36m0\u001b[0m\u001b[0;34m]\u001b[0m\u001b[0;34m[\u001b[0m\u001b[0;34m'src'\u001b[0m\u001b[0;34m]\u001b[0m\u001b[0;34m)\u001b[0m\u001b[0;34m\u001b[0m\u001b[0;34m\u001b[0m\u001b[0m\n\u001b[0m",
      "\u001b[0;32m/home/mahim/program_repair/CodeNet/src/codegen/preprocessing/lang_processors/tree_sitter_processor.py\u001b[0m in \u001b[0;36mtokenize_code\u001b[0;34m(self, code, keep_comments, process_strings)\u001b[0m\n\u001b[1;32m     58\u001b[0m     \u001b[0;32mdef\u001b[0m \u001b[0mtokenize_code\u001b[0m\u001b[0;34m(\u001b[0m\u001b[0mself\u001b[0m\u001b[0;34m,\u001b[0m \u001b[0mcode\u001b[0m\u001b[0;34m,\u001b[0m \u001b[0mkeep_comments\u001b[0m\u001b[0;34m=\u001b[0m\u001b[0;32mFalse\u001b[0m\u001b[0;34m,\u001b[0m \u001b[0mprocess_strings\u001b[0m\u001b[0;34m=\u001b[0m\u001b[0;32mTrue\u001b[0m\u001b[0;34m)\u001b[0m\u001b[0;34m:\u001b[0m\u001b[0;34m\u001b[0m\u001b[0;34m\u001b[0m\u001b[0m\n\u001b[1;32m     59\u001b[0m         \u001b[0mtokenized_code\u001b[0m \u001b[0;34m=\u001b[0m \u001b[0;34m[\u001b[0m\u001b[0;34m]\u001b[0m\u001b[0;34m\u001b[0m\u001b[0;34m\u001b[0m\u001b[0m\n\u001b[0;32m---> 60\u001b[0;31m         \u001b[0mtokens\u001b[0m\u001b[0;34m,\u001b[0m \u001b[0mtoken_types\u001b[0m \u001b[0;34m=\u001b[0m \u001b[0mself\u001b[0m\u001b[0;34m.\u001b[0m\u001b[0mget_tokens_and_types\u001b[0m\u001b[0;34m(\u001b[0m\u001b[0mcode\u001b[0m\u001b[0;34m)\u001b[0m\u001b[0;34m\u001b[0m\u001b[0;34m\u001b[0m\u001b[0m\n\u001b[0m\u001b[1;32m     61\u001b[0m         \u001b[0;32mfor\u001b[0m \u001b[0mtoken\u001b[0m\u001b[0;34m,\u001b[0m \u001b[0mtoken_type\u001b[0m \u001b[0;32min\u001b[0m \u001b[0mzip\u001b[0m\u001b[0;34m(\u001b[0m\u001b[0mtokens\u001b[0m\u001b[0;34m,\u001b[0m \u001b[0mtoken_types\u001b[0m\u001b[0;34m)\u001b[0m\u001b[0;34m:\u001b[0m\u001b[0;34m\u001b[0m\u001b[0;34m\u001b[0m\u001b[0m\n\u001b[1;32m     62\u001b[0m             \u001b[0;32mif\u001b[0m \u001b[0mtoken_type\u001b[0m \u001b[0;32min\u001b[0m \u001b[0mCOMMENT_TYPES\u001b[0m \u001b[0;32mand\u001b[0m \u001b[0mkeep_comments\u001b[0m \u001b[0;32mis\u001b[0m \u001b[0;32mFalse\u001b[0m\u001b[0;34m:\u001b[0m\u001b[0;34m\u001b[0m\u001b[0;34m\u001b[0m\u001b[0m\n",
      "\u001b[0;32m/home/mahim/program_repair/CodeNet/src/codegen/preprocessing/lang_processors/tree_sitter_processor.py\u001b[0m in \u001b[0;36mget_tokens_and_types\u001b[0;34m(self, code)\u001b[0m\n\u001b[1;32m     78\u001b[0m \u001b[0;34m\u001b[0m\u001b[0m\n\u001b[1;32m     79\u001b[0m     \u001b[0;32mdef\u001b[0m \u001b[0mget_tokens_and_types\u001b[0m\u001b[0;34m(\u001b[0m\u001b[0mself\u001b[0m\u001b[0;34m,\u001b[0m \u001b[0mcode\u001b[0m\u001b[0;34m)\u001b[0m\u001b[0;34m:\u001b[0m\u001b[0;34m\u001b[0m\u001b[0;34m\u001b[0m\u001b[0m\n\u001b[0;32m---> 80\u001b[0;31m         \u001b[0mcode\u001b[0m \u001b[0;34m=\u001b[0m \u001b[0mcode\u001b[0m\u001b[0;34m.\u001b[0m\u001b[0mreplace\u001b[0m\u001b[0;34m(\u001b[0m\u001b[0;34m\"\\r\"\u001b[0m\u001b[0;34m,\u001b[0m \u001b[0;34m\"\"\u001b[0m\u001b[0;34m)\u001b[0m\u001b[0;34m\u001b[0m\u001b[0;34m\u001b[0m\u001b[0m\n\u001b[0m\u001b[1;32m     81\u001b[0m         \u001b[0mcode\u001b[0m \u001b[0;34m=\u001b[0m \u001b[0mbytes\u001b[0m\u001b[0;34m(\u001b[0m\u001b[0mcode\u001b[0m\u001b[0;34m,\u001b[0m \u001b[0;34m\"utf8\"\u001b[0m\u001b[0;34m)\u001b[0m\u001b[0;34m\u001b[0m\u001b[0;34m\u001b[0m\u001b[0m\n\u001b[1;32m     82\u001b[0m         \u001b[0mtree\u001b[0m \u001b[0;34m=\u001b[0m \u001b[0mself\u001b[0m\u001b[0;34m.\u001b[0m\u001b[0mget_ast\u001b[0m\u001b[0;34m(\u001b[0m\u001b[0mcode\u001b[0m\u001b[0;34m)\u001b[0m\u001b[0;34m\u001b[0m\u001b[0;34m\u001b[0m\u001b[0m\n",
      "\u001b[0;31mAttributeError\u001b[0m: 'list' object has no attribute 'replace'"
     ]
    }
   ],
   "source": [
    "jprocessor.tokenize_code(test[0]['src'])"
   ]
  },
  {
   "cell_type": "code",
   "execution_count": 35,
   "metadata": {},
   "outputs": [
    {
     "name": "stderr",
     "output_type": "stream",
     "text": [
      "100%|██████████| 47417/47417 [00:00<00:00, 275189.03it/s]\n",
      "47417it [00:04, 11368.60it/s]\n"
     ]
    },
    {
     "name": "stdout",
     "output_type": "stream",
     "text": [
      "47417 47417\n",
      "Exact Match:\t\t0.03\n"
     ]
    }
   ],
   "source": [
    "references = []\n",
    "with open('../data/java/processed/test.jsonl', 'r', encoding='utf-8') as f:\n",
    "    data = json.load(f)\n",
    "    #refs = [x['tgt'].strip() for x in data]\n",
    "    for line in tqdm(data):\n",
    "        #print(line['tgt'])\n",
    "        refs = [line['tgt']] # change here for tokenization detokenization\n",
    "        \n",
    "        references.append([r for r in refs]) ## need to visualize referances I am suspecting it's all charecters\n",
    "\n",
    "\n",
    "translations = []\n",
    "with open('../codet5/codenet/java2java/test.src', 'r', encoding='utf-8') as fh:\n",
    "    for line in tqdm(fh):\n",
    "        line = line.strip()\n",
    "        \n",
    "        translations.append(line.split())\n",
    "print(len(references),len(translations))\n",
    "assert len(references) == len(translations)\n",
    "\n",
    "\n",
    "count = 0\n",
    "for i in range(len(references)):\n",
    "    refs = references[i]  # r is a list of 'list of tokens'\n",
    "    t = translations[i]  # 'list of tokens'\n",
    "    for r in refs:\n",
    "        if r == t:\n",
    "            count += 1\n",
    "            break\n",
    "acc = round(count / len(translations) * 100, 2)\n",
    "\n",
    "print('Exact Match:\\t\\t%.2f' % (acc))\n"
   ]
  },
  {
   "cell_type": "code",
   "execution_count": 25,
   "metadata": {},
   "outputs": [
    {
     "name": "stdout",
     "output_type": "stream",
     "text": [
      "eval.java-java.id         test.java-java.id         train.java-java.id\n",
      "eval.jsonl                test.jsonl                train.jsonl\n",
      "src_eval.java-java.java   tgt_eval.java-java.java   valid.java-java.id\n",
      "src_test.java-java.java   tgt_test.java-java.java   valid.jsonl\n",
      "src_train.java-java.java  tgt_train.java-java.java\n",
      "src_valid.java-java.java  tgt_valid.java-java.java\n"
     ]
    }
   ],
   "source": [
    "ls ../data/java/processed/"
   ]
  },
  {
   "cell_type": "code",
   "execution_count": 4,
   "metadata": {},
   "outputs": [
    {
     "name": "stdout",
     "output_type": "stream",
     "text": [
      "{'p02546': 1, 'p02547': 2, 'p02548': 3, 'p02549': 4, 'p02550': 5, 'p02551': 6, 'p02552': 1, 'p02553': 2, 'p02554': 3, 'p02555': 4, 'p02556': 5, 'p02557': 6, 'p02570': 1, 'p02571': 2, 'p02572': 3, 'p02573': 4, 'p02574': 5, 'p02575': 6, 'p02576': 1, 'p02577': 2, 'p02578': 3, 'p02579': 4, 'p02580': 5, 'p02581': 6, 'p02582': 1, 'p02583': 2, 'p02584': 3, 'p02585': 4, 'p02586': 5, 'p02587': 6, 'p02588': 1, 'p02589': 2, 'p02590': 3, 'p02591': 4, 'p02592': 5, 'p02593': 6, 'p02594': 1, 'p02595': 2, 'p02596': 3, 'p02597': 4, 'p02598': 5, 'p02599': 6, 'p02612': 1, 'p02613': 2, 'p02614': 3, 'p02615': 4, 'p02616': 5, 'p02617': 6, 'p02621': 1, 'p02622': 2, 'p02623': 3, 'p02624': 4, 'p02625': 5, 'p02626': 6, 'p02627': 1, 'p02628': 2, 'p02629': 3, 'p02630': 4, 'p02631': 5, 'p02632': 6, 'p02633': 1, 'p02634': 2, 'p02635': 3, 'p02636': 4, 'p02637': 5, 'p02638': 6, 'p02639': 1, 'p02640': 2, 'p02641': 3, 'p02642': 4, 'p02643': 5, 'p02644': 6, 'p02651': 1, 'p02652': 2, 'p02653': 3, 'p02654': 4, 'p02655': 5, 'p02656': 6, 'p02657': 1, 'p02658': 2, 'p02659': 3, 'p02660': 4, 'p02661': 5, 'p02662': 6, 'p02669': 1, 'p02670': 2, 'p02671': 3, 'p02672': 4, 'p02673': 5, 'p02674': 6, 'p02675': 1, 'p02676': 2, 'p02677': 3, 'p02678': 4, 'p02679': 5, 'p02680': 6, 'p02681': 1, 'p02682': 2, 'p02683': 3, 'p02684': 4, 'p02685': 5, 'p02686': 6, 'p02687': 1, 'p02688': 2, 'p02689': 3, 'p02690': 4, 'p02691': 5, 'p02692': 6, 'p02693': 1, 'p02694': 2, 'p02695': 3, 'p02696': 4, 'p02697': 5, 'p02698': 6, 'p02699': 1, 'p02700': 2, 'p02701': 3, 'p02702': 4, 'p02703': 5, 'p02704': 6, 'p02705': 1, 'p02706': 2, 'p02707': 3, 'p02708': 4, 'p02709': 5, 'p02710': 6, 'p02711': 1, 'p02712': 2, 'p02713': 3, 'p02714': 4, 'p02715': 5, 'p02716': 6, 'p02717': 1, 'p02718': 2, 'p02719': 3, 'p02720': 4, 'p02721': 5, 'p02722': 6, 'p02723': 1, 'p02724': 2, 'p02725': 3, 'p02726': 4, 'p02727': 5, 'p02728': 6, 'p02729': 1, 'p02730': 2, 'p02731': 3, 'p02732': 4, 'p02733': 5, 'p02734': 6, 'p02735': 1, 'p02736': 2, 'p02737': 3, 'p02738': 4, 'p02739': 5, 'p02740': 6, 'p02753': 1, 'p02754': 2, 'p02755': 3, 'p02756': 4, 'p02757': 5, 'p02758': 6, 'p02759': 1, 'p02760': 2, 'p02761': 3, 'p02762': 4, 'p02763': 5, 'p02764': 6, 'p02765': 1, 'p02766': 2, 'p02767': 3, 'p02768': 4, 'p02769': 5, 'p02770': 6, 'p02771': 1, 'p02772': 2, 'p02773': 3, 'p02774': 4, 'p02775': 5, 'p02776': 6, 'p02777': 1, 'p02778': 2, 'p02779': 3, 'p02780': 4, 'p02781': 5, 'p02782': 6, 'p02783': 1, 'p02784': 2, 'p02785': 3, 'p02786': 4, 'p02787': 5, 'p02788': 6, 'p02789': 1, 'p02790': 2, 'p02791': 3, 'p02792': 4, 'p02793': 5, 'p02794': 6, 'p02801': 1, 'p02802': 2, 'p02803': 3, 'p02804': 4, 'p02805': 5, 'p02811': 1, 'p02812': 2, 'p02813': 3, 'p02814': 4, 'p02815': 5, 'p02816': 6, 'p02817': 1, 'p02818': 2, 'p02819': 3, 'p02820': 4, 'p02821': 5, 'p02822': 6, 'p02823': 1, 'p02824': 2, 'p02825': 3, 'p02826': 4, 'p02827': 5, 'p02828': 6, 'p02829': 1, 'p02830': 2, 'p02831': 3, 'p02832': 4, 'p02833': 5, 'p02834': 6, 'p02835': 1, 'p02836': 2, 'p02837': 3, 'p02838': 4, 'p02839': 5, 'p02840': 6, 'p02847': 1, 'p02848': 2, 'p02849': 3, 'p02850': 4, 'p02851': 5, 'p02852': 6, 'p02859': 1, 'p02860': 2, 'p02861': 3, 'p02862': 4, 'p02863': 5, 'p02864': 6, 'p02873': 1, 'p02874': 2, 'p02875': 3, 'p02876': 4, 'p02877': 5, 'p02878': 6, 'p02879': 1, 'p02880': 2, 'p02881': 3, 'p02882': 4, 'p02883': 5, 'p02884': 6, 'p02885': 1, 'p02886': 2, 'p02887': 3, 'p02888': 4, 'p02889': 5, 'p02890': 6, 'p02891': 1, 'p02892': 2, 'p02893': 3, 'p02894': 4, 'p02895': 5, 'p02896': 6, 'p02897': 1, 'p02898': 2, 'p02899': 3, 'p02900': 4, 'p02901': 5, 'p02902': 6, 'p02903': 1, 'p02904': 2, 'p02905': 3, 'p02906': 4, 'p02907': 5, 'p02908': 6, 'p02909': 1, 'p02910': 2, 'p02911': 3, 'p02912': 4, 'p02913': 5, 'p02914': 6, 'p02915': 1, 'p02916': 2, 'p02917': 3, 'p02918': 4, 'p02919': 5, 'p02920': 6, 'p02921': 1, 'p02922': 2, 'p02923': 3, 'p02924': 4, 'p02925': 5, 'p02926': 6, 'p02933': 1, 'p02934': 2, 'p02935': 3, 'p02936': 4, 'p02937': 5, 'p02938': 6, 'p02939': 1, 'p02940': 2, 'p02941': 3, 'p02942': 4, 'p02943': 5, 'p02944': 6, 'p02945': 1, 'p02946': 2, 'p02947': 3, 'p02948': 4, 'p02949': 5, 'p02950': 6, 'p02951': 1, 'p02952': 2, 'p02953': 3, 'p02954': 4, 'p02955': 5, 'p02956': 6, 'p02957': 1, 'p02958': 2, 'p02959': 3, 'p02960': 4, 'p02961': 5, 'p02962': 6, 'p02963': 1, 'p02964': 2, 'p02965': 3, 'p02966': 4, 'p02967': 5, 'p02968': 6, 'p02969': 1, 'p02970': 2, 'p02971': 3, 'p02972': 4, 'p02973': 5, 'p02974': 6, 'p02975': 1, 'p02976': 2, 'p02977': 3, 'p02978': 4, 'p02979': 5, 'p02980': 6, 'p02981': 1, 'p02982': 2, 'p02983': 3, 'p02984': 4, 'p02985': 5, 'p02986': 6, 'p02987': 1, 'p02988': 2, 'p02989': 3, 'p02990': 4, 'p02991': 5, 'p02992': 6, 'p02993': 1, 'p02994': 2, 'p02995': 3, 'p02996': 4, 'p02997': 5, 'p02998': 6, 'p02999': 1, 'p03000': 2, 'p03001': 3, 'p03002': 4, 'p03003': 5, 'p03004': 6, 'p03011': 1, 'p03012': 2, 'p03013': 3, 'p03014': 4, 'p03015': 5, 'p03016': 6, 'p03017': 1, 'p03018': 2, 'p03019': 3, 'p03020': 4, 'p03021': 5, 'p03022': 6, 'p03029': 1, 'p03030': 2, 'p03031': 3, 'p03032': 4, 'p03033': 5, 'p03034': 6, 'p03035': 1, 'p03036': 2, 'p03037': 3, 'p03038': 4, 'p03039': 5, 'p03040': 6, 'p03041': 1, 'p03042': 2, 'p03043': 3, 'p03044': 4, 'p03045': 5, 'p03046': 6, 'p03053': 1, 'p03054': 2, 'p03055': 3, 'p03056': 4, 'p03057': 5, 'p03058': 6, 'p03059': 1, 'p03060': 2, 'p03061': 3, 'p03062': 4, 'p03071': 1, 'p03072': 2, 'p03073': 3, 'p03074': 4, 'p03075': 1, 'p03076': 2, 'p03077': 3, 'p03078': 4, 'p03085': 1, 'p03086': 2, 'p03087': 3, 'p03088': 4, 'p03089': 1, 'p03090': 2, 'p03091': 3, 'p03092': 4, 'p03093': 5, 'p03094': 6, 'p03095': 1, 'p03096': 2, 'p03097': 3, 'p03098': 4, 'p03099': 5, 'p03100': 6, 'p03101': 1, 'p03102': 2, 'p03103': 3, 'p03104': 4, 'p03105': 1, 'p03106': 2, 'p03107': 3, 'p03108': 4, 'p03109': 1, 'p03110': 2, 'p03111': 3, 'p03112': 4, 'p03125': 1, 'p03126': 2, 'p03127': 3, 'p03128': 4, 'p03135': 1, 'p03136': 2, 'p03137': 3, 'p03138': 4, 'p03145': 1, 'p03146': 2, 'p03147': 3, 'p03148': 4, 'p03186': 1, 'p03187': 2, 'p03188': 3, 'p03189': 4, 'p03190': 5, 'p03191': 6, 'p03200': 1, 'p03201': 2, 'p03202': 3, 'p03203': 4, 'p03204': 5, 'p03205': 6, 'p03206': 1, 'p03207': 2, 'p03208': 3, 'p03209': 4, 'p03210': 1, 'p03211': 2, 'p03212': 3, 'p03213': 4, 'p03219': 1, 'p03220': 2, 'p03221': 3, 'p03222': 4, 'p03231': 1, 'p03232': 2, 'p03233': 3, 'p03234': 4, 'p03235': 5, 'p03236': 6, 'p03237': 7, 'p03238': 1, 'p03239': 2, 'p03240': 3, 'p03241': 4, 'p03242': 1, 'p03243': 2, 'p03244': 3, 'p03245': 4, 'p03246': 1, 'p03247': 2, 'p03248': 3, 'p03249': 4, 'p03250': 1, 'p03251': 2, 'p03252': 3, 'p03253': 4, 'p03254': 1, 'p03255': 2, 'p03256': 3, 'p03257': 4, 'p03258': 5, 'p03259': 6, 'p03260': 1, 'p03261': 2, 'p03262': 3, 'p03263': 4, 'p03264': 1, 'p03265': 2, 'p03266': 3, 'p03267': 4, 'p03268': 1, 'p03269': 2, 'p03270': 3, 'p03271': 4, 'p03272': 1, 'p03273': 2, 'p03274': 3, 'p03275': 4, 'p03276': 1, 'p03277': 2, 'p03278': 3, 'p03279': 4, 'p03280': 1, 'p03281': 2, 'p03282': 3, 'p03283': 4, 'p03284': 1, 'p03285': 2, 'p03286': 3, 'p03287': 4, 'p03288': 1, 'p03289': 2, 'p03290': 3, 'p03291': 4, 'p03292': 1, 'p03293': 2, 'p03294': 3, 'p03295': 4, 'p03296': 1, 'p03297': 2, 'p03298': 3, 'p03299': 4, 'p03300': 5, 'p03301': 6, 'p03307': 1, 'p03308': 2, 'p03309': 3, 'p03310': 4, 'p03311': 1, 'p03312': 2, 'p03313': 3, 'p03314': 4, 'p03315': 1, 'p03316': 2, 'p03317': 3, 'p03318': 4, 'p03319': 1, 'p03320': 2, 'p03321': 3, 'p03322': 4, 'p03323': 1, 'p03324': 2, 'p03325': 3, 'p03326': 4, 'p03327': 1, 'p03328': 2, 'p03329': 3, 'p03330': 4, 'p03331': 1, 'p03332': 2, 'p03333': 3, 'p03334': 4, 'p03335': 5, 'p03336': 6, 'p03337': 1, 'p03338': 2, 'p03339': 3, 'p03340': 4, 'p03341': 1, 'p03342': 2, 'p03343': 3, 'p03344': 4, 'p03345': 1, 'p03346': 2, 'p03347': 3, 'p03348': 4, 'p03349': 5, 'p03350': 6, 'p03351': 1, 'p03352': 2, 'p03353': 3, 'p03354': 4, 'p03355': 1, 'p03356': 2, 'p03357': 3, 'p03358': 4, 'p03359': 1, 'p03360': 2, 'p03361': 3, 'p03362': 4, 'p03363': 1, 'p03364': 2, 'p03365': 3, 'p03366': 4, 'p03367': 5, 'p03368': 6, 'p03369': 1, 'p03370': 2, 'p03371': 3, 'p03372': 4, 'p03373': 1, 'p03374': 2, 'p03375': 3, 'p03376': 4, 'p03377': 1, 'p03378': 2, 'p03379': 3, 'p03380': 4, 'p03381': 1, 'p03382': 2, 'p03383': 3, 'p03384': 4, 'p03385': 1, 'p03386': 2, 'p03387': 3, 'p03388': 4, 'p03389': 1, 'p03390': 2, 'p03391': 3, 'p03392': 4, 'p03393': 1, 'p03394': 2, 'p03395': 3, 'p03396': 4, 'p03397': 5, 'p03398': 6, 'p03399': 1, 'p03400': 2, 'p03401': 3, 'p03402': 4, 'p03403': 1, 'p03404': 2, 'p03405': 3, 'p03406': 4, 'p03407': 1, 'p03408': 2, 'p03409': 3, 'p03410': 4, 'p03411': 1, 'p03412': 2, 'p03413': 3, 'p03414': 4, 'p03415': 1, 'p03416': 2, 'p03417': 3, 'p03418': 4, 'p03419': 1, 'p03420': 2, 'p03421': 3, 'p03422': 4, 'p03423': 1, 'p03424': 2, 'p03425': 3, 'p03426': 4, 'p03427': 1, 'p03428': 2, 'p03429': 3, 'p03430': 4, 'p03431': 5, 'p03432': 6, 'p03433': 1, 'p03434': 2, 'p03435': 3, 'p03436': 4, 'p03447': 1, 'p03448': 2, 'p03449': 3, 'p03450': 4, 'p03451': 1, 'p03452': 2, 'p03453': 3, 'p03454': 4, 'p03455': 1, 'p03456': 2, 'p03457': 3, 'p03458': 4, 'p03459': 1, 'p03460': 2, 'p03461': 3, 'p03462': 4, 'p03463': 1, 'p03464': 2, 'p03465': 3, 'p03466': 4, 'p03467': 5, 'p03468': 6, 'p03469': 1, 'p03470': 2, 'p03471': 3, 'p03472': 4, 'p03473': 1, 'p03474': 2, 'p03475': 3, 'p03476': 4, 'p03477': 1, 'p03478': 2, 'p03479': 3, 'p03480': 4, 'p03481': 1, 'p03482': 2, 'p03483': 3, 'p03484': 4, 'p03485': 1, 'p03486': 2, 'p03487': 3, 'p03488': 4, 'p03489': 1, 'p03490': 2, 'p03491': 3, 'p03492': 4, 'p03493': 1, 'p03494': 2, 'p03495': 3, 'p03496': 4, 'p03497': 1, 'p03498': 2, 'p03499': 3, 'p03500': 4, 'p03501': 1, 'p03502': 2, 'p03503': 3, 'p03504': 4, 'p03543': 1, 'p03544': 2, 'p03545': 3, 'p03546': 4, 'p03547': 1, 'p03548': 2, 'p03549': 3, 'p03550': 4, 'p03551': 1, 'p03552': 2, 'p03553': 3, 'p03554': 4, 'p03555': 1, 'p03556': 2, 'p03557': 3, 'p03558': 4, 'p03559': 1, 'p03560': 2, 'p03561': 3, 'p03562': 4, 'p03563': 1, 'p03564': 2, 'p03565': 3, 'p03566': 4, 'p03573': 1, 'p03574': 2, 'p03575': 3, 'p03576': 4, 'p03597': 1, 'p03598': 2, 'p03599': 3, 'p03600': 4, 'p03601': 1, 'p03602': 2, 'p03603': 3, 'p03604': 4, 'p03605': 1, 'p03606': 2, 'p03607': 3, 'p03608': 4, 'p03609': 1, 'p03610': 2, 'p03611': 3, 'p03612': 4, 'p03613': 1, 'p03614': 2, 'p03615': 3, 'p03616': 4, 'p03617': 1, 'p03618': 2, 'p03619': 3, 'p03620': 4, 'p03621': 5, 'p03622': 6, 'p03623': 1, 'p03624': 2, 'p03625': 3, 'p03626': 4, 'p03627': 1, 'p03628': 2, 'p03629': 3, 'p03630': 4, 'p03631': 1, 'p03632': 2, 'p03633': 3, 'p03634': 4, 'p03635': 1, 'p03636': 2, 'p03637': 3, 'p03638': 4, 'p03639': 1, 'p03640': 2, 'p03641': 3, 'p03642': 4, 'p03643': 1, 'p03644': 2, 'p03645': 3, 'p03646': 4, 'p03647': 1, 'p03648': 2, 'p03649': 3, 'p03650': 4, 'p03651': 1, 'p03652': 2, 'p03653': 3, 'p03654': 4, 'p03655': 5, 'p03656': 6, 'p03657': 1, 'p03658': 2, 'p03659': 3, 'p03660': 4, 'p03661': 1, 'p03662': 2, 'p03663': 3, 'p03664': 4, 'p03665': 1, 'p03666': 2, 'p03667': 3, 'p03668': 4, 'p03669': 5, 'p03670': 6, 'p03671': 1, 'p03672': 2, 'p03673': 3, 'p03674': 4, 'p03675': 1, 'p03676': 2, 'p03677': 3, 'p03678': 4, 'p03679': 1, 'p03680': 2, 'p03681': 3, 'p03682': 4, 'p03683': 1, 'p03684': 2, 'p03685': 3, 'p03686': 4, 'p03687': 1, 'p03688': 2, 'p03689': 3, 'p03690': 4, 'p03691': 5, 'p03692': 6, 'p03693': 1, 'p03694': 2, 'p03695': 3, 'p03696': 4, 'p03697': 1, 'p03698': 2, 'p03699': 3, 'p03700': 4, 'p03701': 1, 'p03702': 2, 'p03703': 3, 'p03704': 4, 'p03705': 1, 'p03706': 2, 'p03707': 3, 'p03708': 4, 'p03709': 5, 'p03710': 6, 'p03711': 1, 'p03712': 2, 'p03713': 3, 'p03714': 4, 'p03715': 1, 'p03716': 2, 'p03717': 3, 'p03718': 4, 'p03719': 1, 'p03720': 2, 'p03721': 3, 'p03722': 4, 'p03723': 1, 'p03724': 2, 'p03725': 3, 'p03726': 4, 'p03727': 5, 'p03728': 6, 'p03729': 1, 'p03730': 2, 'p03731': 3, 'p03732': 4, 'p03733': 1, 'p03734': 2, 'p03735': 3, 'p03736': 4, 'p03737': 1, 'p03738': 2, 'p03739': 3, 'p03740': 4, 'p03741': 1, 'p03742': 2, 'p03743': 3, 'p03744': 4, 'p03745': 1, 'p03746': 2, 'p03747': 3, 'p03748': 4, 'p03749': 5, 'p03750': 6, 'p03759': 1, 'p03760': 2, 'p03761': 3, 'p03762': 4, 'p03763': 1, 'p03764': 2, 'p03765': 3, 'p03766': 4, 'p03767': 1, 'p03768': 2, 'p03769': 3, 'p03770': 4, 'p03771': 5, 'p03772': 6, 'p03773': 1, 'p03774': 2, 'p03775': 3, 'p03776': 4, 'p03777': 1, 'p03778': 2, 'p03779': 3, 'p03780': 4, 'p03781': 1, 'p03782': 2, 'p03783': 3, 'p03784': 4, 'p03785': 1, 'p03786': 2, 'p03787': 3, 'p03788': 4, 'p03789': 5, 'p03790': 6, 'p03795': 1, 'p03796': 2, 'p03797': 3, 'p03798': 4, 'p03799': 1, 'p03800': 2, 'p03801': 3, 'p03802': 4, 'p03803': 1, 'p03804': 2, 'p03805': 3, 'p03806': 4, 'p03807': 1, 'p03808': 2, 'p03809': 3, 'p03810': 4, 'p03811': 5, 'p03812': 6, 'p03813': 1, 'p03814': 2, 'p03815': 3, 'p03816': 4, 'p03817': 1, 'p03818': 2, 'p03819': 3, 'p03820': 4, 'p03821': 1, 'p03822': 2, 'p03823': 3, 'p03824': 4, 'p03825': 5, 'p03826': 1, 'p03827': 2, 'p03828': 3, 'p03829': 4, 'p03830': 1, 'p03831': 2, 'p03832': 3, 'p03833': 4, 'p03834': 1, 'p03835': 2, 'p03836': 3, 'p03837': 4, 'p03838': 1, 'p03839': 2, 'p03840': 3, 'p03841': 4, 'p03842': 5, 'p03843': 6, 'p03844': 1, 'p03845': 2, 'p03846': 3, 'p03847': 4, 'p03848': 1, 'p03849': 2, 'p03850': 3, 'p03851': 4, 'p03852': 1, 'p03853': 2, 'p03854': 3, 'p03855': 4, 'p03856': 1, 'p03857': 2, 'p03858': 3, 'p03859': 4, 'p03860': 1, 'p03861': 2, 'p03862': 3, 'p03863': 4, 'p03864': 1, 'p03865': 2, 'p03866': 3, 'p03867': 4, 'p03937': 1, 'p03938': 2, 'p03939': 3, 'p03940': 4, 'p03941': 5, 'p03942': 6, 'p03943': 1, 'p03944': 2, 'p03945': 3, 'p03946': 4, 'p03947': 1, 'p03948': 2, 'p03949': 3, 'p03950': 4, 'p03951': 1, 'p03952': 2, 'p03953': 3, 'p03954': 4, 'p03955': 5, 'p03956': 6, 'p03962': 1, 'p03963': 2, 'p03964': 3, 'p03965': 4, 'p03966': 1, 'p03967': 2, 'p03968': 3, 'p03969': 4, 'p03986': 1, 'p03987': 2, 'p03988': 3, 'p03989': 4, 'p03990': 5, 'p03991': 6, 'p03997': 1, 'p03998': 2, 'p03999': 3, 'p04000': 4, 'p04001': 1, 'p04002': 2, 'p04003': 3, 'p04004': 4, 'p04005': 1, 'p04006': 2, 'p04007': 3, 'p04008': 4, 'p04009': 5, 'p04010': 6, 'p04011': 1, 'p04012': 2, 'p04013': 3, 'p04014': 4, 'p04015': 1, 'p04016': 2, 'p04017': 3, 'p04018': 4, 'p04019': 1, 'p04020': 2, 'p04021': 3, 'p04022': 4, 'p04023': 5, 'p04024': 6, 'p04025': 1, 'p04026': 2, 'p04027': 3, 'p04028': 4, 'p04029': 1, 'p04030': 2, 'p04031': 3, 'p04032': 4, 'p04033': 1, 'p04034': 2, 'p04035': 3, 'p04036': 4, 'p04037': 5, 'p04038': 6, 'p04039': 1, 'p04040': 2, 'p04041': 3, 'p04042': 4, 'p04043': 1, 'p04044': 2, 'p04045': 3, 'p04046': 4, 'p04047': 1, 'p04048': 2, 'p04049': 3, 'p04050': 4, 'p04051': 5, 'p04052': 6}\n"
     ]
    },
    {
     "data": {
      "text/plain": [
       "\"\\nproblemlist=pd.read_csv('../problem_list.csv')\\ndata_map = {}\\ndifficulty = defaultdict(list)\\nfor index, row in problemlist.iterrows():\\n    if(row['dataset']=='AtCoder'):\\n        difficulty[row['name']].append(row['id'])\\n        data_map[row['id']] = row['dataset']\\n\\nprint(difficulty)\\n\""
      ]
     },
     "execution_count": 4,
     "metadata": {},
     "output_type": "execute_result"
    }
   ],
   "source": [
    "import pandas as pd\n",
    "from collections import defaultdict\n",
    "problems = defaultdict(list)\n",
    "problemlist=pd.read_csv('problem_list.csv')\n",
    "for index, row in problemlist.iterrows():\n",
    "    if(row['dataset']=='AtCoder'):\n",
    "        if(\"AtCoder Regular Contest\" in row['name']):\n",
    "            number = row['name'].split(\" \")[3]\n",
    "            problems[\"ARC\"+number].append(row['id'])\n",
    "        if(\"AtCoder Beginner Contest\" in row['name']):\n",
    "            number = row['name'].split(\" \")[3]\n",
    "            problems[\"ABC\"+number].append(row['id'])\n",
    "        if(\"AtCoder Grand Contest\" in row['name']):\n",
    "            number = row['name'].split(\" \")[3]\n",
    "            problems[\"AGC\"+number].append(row['id'])\n",
    "\n",
    "#print(problems)\n",
    "difficulty = {}\n",
    "for key in problems.keys():\n",
    "    for idx, id in enumerate(problems[key]):\n",
    "        difficulty[id] = idx+1\n",
    "print(difficulty)\n",
    "'''\n",
    "problemlist=pd.read_csv('../problem_list.csv')\n",
    "data_map = {}\n",
    "difficulty = defaultdict(list)\n",
    "for index, row in problemlist.iterrows():\n",
    "    if(row['dataset']=='AtCoder'):\n",
    "        difficulty[row['name']].append(row['id'])\n",
    "        data_map[row['id']] = row['dataset']\n",
    "\n",
    "print(difficulty)\n",
    "'''"
   ]
  },
  {
   "cell_type": "code",
   "execution_count": 2,
   "metadata": {},
   "outputs": [
    {
     "name": "stdout",
     "output_type": "stream",
     "text": [
      "500\n"
     ]
    }
   ],
   "source": [
    "from codegen.preprocessing.lang_processors.java_processor import JavaProcessor\n",
    "from codegen.preprocessing.lang_processors.python_processor import PythonProcessor\n",
    "import subprocess\n",
    "import filecmp\n",
    "from subprocess import Popen, PIPE, STDOUT\n",
    "import sys\n",
    "import json\n",
    "root_folder = \"../third_party\"\n",
    "jprocessor = JavaProcessor(root_folder=root_folder)\n",
    "pyprocessor = PythonProcessor(root_folder=root_folder)\n",
    "def getJsonData(JsonFile):\n",
    "    with open(JsonFile, encoding=\"utf8\") as f:\n",
    "        data = json.load(f)\n",
    "    return data\n",
    "eval = getJsonData('../data/java/processed/eval.jsonl')\n",
    "print(len(eval))"
   ]
  },
  {
   "cell_type": "code",
   "execution_count": 16,
   "metadata": {},
   "outputs": [
    {
     "name": "stdout",
     "output_type": "stream",
     "text": [
      "491\n",
      "{'Compile Error': {'top_1': 31, 'top_3': 37, 'top_5': 38, 'top_10': 42}, 'Wrong Answer': {'top_1': 16, 'top_3': 41, 'top_5': 53, 'top_10': 65}, 'Time Limit Exceeded': {'top_1': 5, 'top_3': 6, 'top_5': 8, 'top_10': 8}, 'Runtime Error': {'top_1': 2, 'top_3': 6, 'top_5': 6, 'top_10': 6}}\n",
      "{'Compile Error': 80, 'Wrong Answer': 287, 'Time Limit Exceeded': 65, 'Runtime Error': 59}\n",
      "['Compile Error', 'Wrong Answer', 'Time Limit Exceeded', 'Runtime Error']\n"
     ]
    }
   ],
   "source": [
    "import json\n",
    "from pprint import pprint\n",
    "def getJsonData(JsonFile):\n",
    "    with open(JsonFile, encoding=\"utf8\") as f:\n",
    "        data = json.load(f)\n",
    "    return data\n",
    "\n",
    "data = getJsonData('FINAL_RESULT_java2java_with_verdict.json')\n",
    "print(len(data))\n",
    "verdict_top_at_acc = {}\n",
    "tops = {}\n",
    "tops['top_1'] = 0\n",
    "tops['top_3'] = 0\n",
    "tops['top_5'] = 0\n",
    "tops['top_10'] = 0\n",
    "verdict_count = {}\n",
    "for dt in data:\n",
    "    #print(eval[dt['idx']]['src_verdict'])\n",
    "    verdict_top_at_acc[eval[dt['idx']]['src_verdict']] = tops.copy()\n",
    "    verdict_count[eval[dt['idx']]['src_verdict']] = 0\n",
    "\n",
    "top_1, top_3 , top_5, top_10= 0, 0, 0, 0\n",
    "before = 0\n",
    "accepted_before = []\n",
    "\n",
    "for ind, dt in enumerate(data):\n",
    "    verdict_count[eval[dt['idx']]['src_verdict']]+=1\n",
    "    counted_once = [False, False, False, False]\n",
    "    for idx in range(10):\n",
    "        if dt['test_cases_run_by_generations'][idx]==dt['total_test_cases']:\n",
    "            if not counted_once[0] and idx<1:\n",
    "                verdict_top_at_acc[eval[dt['idx']]['src_verdict']]['top_1'] +=1\n",
    "                counted_once[0]=True\n",
    "            if not counted_once[1] and idx<3:\n",
    "                verdict_top_at_acc[eval[dt['idx']]['src_verdict']]['top_3'] +=1\n",
    "                counted_once[1]=True\n",
    "            if not counted_once[2] and idx<5:\n",
    "                verdict_top_at_acc[eval[dt['idx']]['src_verdict']]['top_5'] +=1\n",
    "                counted_once[2]=True\n",
    "            if not counted_once[3] and idx<10:\n",
    "                verdict_top_at_acc[eval[dt['idx']]['src_verdict']]['top_10'] +=1\n",
    "                counted_once[3]=True\n",
    "            \n",
    "print(verdict_top_at_acc)\n",
    "print(verdict_count)\n",
    "print(list(verdict_count.keys()))\n"
   ]
  },
  {
   "cell_type": "code",
   "execution_count": 17,
   "metadata": {},
   "outputs": [
    {
     "name": "stdout",
     "output_type": "stream",
     "text": [
      "[31, 16, 5, 2]\n",
      "[80, 287, 65, 59]\n"
     ]
    },
    {
     "data": {
      "image/png": "[encoded data removed]",
      "text/plain": [
       "<Figure size 432x288 with 1 Axes>"
      ]
     },
     "metadata": {
      "needs_background": "light"
     },
     "output_type": "display_data"
    }
   ],
   "source": [
    "\n",
    "import numpy as np\n",
    "import matplotlib.pyplot as plt\n",
    "\n",
    "N = 4\n",
    "ind = np.arange(N)  # the x locations for the groups\n",
    "width = 0.21       # the width of the bars\n",
    "\n",
    "fig = plt.figure()\n",
    "ax = fig.add_subplot(111)\n",
    "\n",
    "top_1s, top_3s, top_5s, top_10s =  [], [], [], []\n",
    "counts = []\n",
    "for i in ['Compile Error', 'Wrong Answer', 'Time Limit Exceeded', 'Runtime Error']:\n",
    "    top_1s.append(verdict_top_at_acc[i]['top_1'])\n",
    "    top_3s.append(verdict_top_at_acc[i]['top_3'])\n",
    "    top_5s.append(verdict_top_at_acc[i]['top_5'])\n",
    "    top_10s.append(verdict_top_at_acc[i]['top_10'])\n",
    "    counts.append(verdict_count[i])\n",
    "\n",
    "print(top_1s)\n",
    "print(counts)\n",
    "rects1 = ax.bar(ind, [x/y for x, y in zip(top_1s, counts)], width, color='r')\n",
    "\n",
    "\n",
    "rects2 = ax.bar(ind+width, [x/y for x, y in zip(top_3s, counts)], width, color='g')\n",
    "\n",
    "rects3 = ax.bar(ind+width*2, [x/y for x, y in zip(top_5s, counts)], width, color='b')\n",
    "\n",
    "rects4 = ax.bar(ind+width*3, [x/y for x, y in zip(top_10s, counts)], width, color='y')\n",
    "\n",
    "\n",
    "\n",
    "ax.set_ylabel('Acceptance on Execution')\n",
    "ax.set_xticks(ind+width)\n",
    "ax.set_xticklabels( ('CE', 'WA', 'TLE', 'RE'))\n",
    "#ax.legend( (rects1[0], rects2[0], rects3[0]), ('y', 'z', 'k') )\n",
    "\n",
    "def autolabel(rects):\n",
    "    for rect in rects:\n",
    "        h = rect.get_height()\n",
    "        ax.text(rect.get_x()+rect.get_width()/2., 1.05*h, '%d'%int(h),\n",
    "                ha='center', va='bottom')\n",
    "\n",
    "#autolabel(rects1)\n",
    "#autolabel(rects2)\n",
    "#autolabel(rects3)\n",
    "#autolabel(rects4)\n",
    "plt.savefig('Acceptance_By_Verdict.pdf', format='pdf', dpi=1200)\n",
    "#plt.show()"
   ]
  },
  {
   "cell_type": "code",
   "execution_count": 18,
   "metadata": {},
   "outputs": [
    {
     "name": "stdout",
     "output_type": "stream",
     "text": [
      "{'p02546': 1, 'p02547': 2, 'p02548': 3, 'p02549': 4, 'p02550': 5, 'p02551': 6, 'p02552': 1, 'p02553': 2, 'p02554': 3, 'p02555': 4, 'p02556': 5, 'p02557': 6, 'p02570': 1, 'p02571': 2, 'p02572': 3, 'p02573': 4, 'p02574': 5, 'p02575': 6, 'p02576': 1, 'p02577': 2, 'p02578': 3, 'p02579': 4, 'p02580': 5, 'p02581': 6, 'p02582': 1, 'p02583': 2, 'p02584': 3, 'p02585': 4, 'p02586': 5, 'p02587': 6, 'p02588': 1, 'p02589': 2, 'p02590': 3, 'p02591': 4, 'p02592': 5, 'p02593': 6, 'p02594': 1, 'p02595': 2, 'p02596': 3, 'p02597': 4, 'p02598': 5, 'p02599': 6, 'p02612': 1, 'p02613': 2, 'p02614': 3, 'p02615': 4, 'p02616': 5, 'p02617': 6, 'p02621': 1, 'p02622': 2, 'p02623': 3, 'p02624': 4, 'p02625': 5, 'p02626': 6, 'p02627': 1, 'p02628': 2, 'p02629': 3, 'p02630': 4, 'p02631': 5, 'p02632': 6, 'p02633': 1, 'p02634': 2, 'p02635': 3, 'p02636': 4, 'p02637': 5, 'p02638': 6, 'p02639': 1, 'p02640': 2, 'p02641': 3, 'p02642': 4, 'p02643': 5, 'p02644': 6, 'p02651': 1, 'p02652': 2, 'p02653': 3, 'p02654': 4, 'p02655': 5, 'p02656': 6, 'p02657': 1, 'p02658': 2, 'p02659': 3, 'p02660': 4, 'p02661': 5, 'p02662': 6, 'p02669': 1, 'p02670': 2, 'p02671': 3, 'p02672': 4, 'p02673': 5, 'p02674': 6, 'p02675': 1, 'p02676': 2, 'p02677': 3, 'p02678': 4, 'p02679': 5, 'p02680': 6, 'p02681': 1, 'p02682': 2, 'p02683': 3, 'p02684': 4, 'p02685': 5, 'p02686': 6, 'p02687': 1, 'p02688': 2, 'p02689': 3, 'p02690': 4, 'p02691': 5, 'p02692': 6, 'p02693': 1, 'p02694': 2, 'p02695': 3, 'p02696': 4, 'p02697': 5, 'p02698': 6, 'p02699': 1, 'p02700': 2, 'p02701': 3, 'p02702': 4, 'p02703': 5, 'p02704': 6, 'p02705': 1, 'p02706': 2, 'p02707': 3, 'p02708': 4, 'p02709': 5, 'p02710': 6, 'p02711': 1, 'p02712': 2, 'p02713': 3, 'p02714': 4, 'p02715': 5, 'p02716': 6, 'p02717': 1, 'p02718': 2, 'p02719': 3, 'p02720': 4, 'p02721': 5, 'p02722': 6, 'p02723': 1, 'p02724': 2, 'p02725': 3, 'p02726': 4, 'p02727': 5, 'p02728': 6, 'p02729': 1, 'p02730': 2, 'p02731': 3, 'p02732': 4, 'p02733': 5, 'p02734': 6, 'p02735': 1, 'p02736': 2, 'p02737': 3, 'p02738': 4, 'p02739': 5, 'p02740': 6, 'p02753': 1, 'p02754': 2, 'p02755': 3, 'p02756': 4, 'p02757': 5, 'p02758': 6, 'p02759': 1, 'p02760': 2, 'p02761': 3, 'p02762': 4, 'p02763': 5, 'p02764': 6, 'p02765': 1, 'p02766': 2, 'p02767': 3, 'p02768': 4, 'p02769': 5, 'p02770': 6, 'p02771': 1, 'p02772': 2, 'p02773': 3, 'p02774': 4, 'p02775': 5, 'p02776': 6, 'p02777': 1, 'p02778': 2, 'p02779': 3, 'p02780': 4, 'p02781': 5, 'p02782': 6, 'p02783': 1, 'p02784': 2, 'p02785': 3, 'p02786': 4, 'p02787': 5, 'p02788': 6, 'p02789': 1, 'p02790': 2, 'p02791': 3, 'p02792': 4, 'p02793': 5, 'p02794': 6, 'p02801': 1, 'p02802': 2, 'p02803': 3, 'p02804': 4, 'p02805': 5, 'p02811': 1, 'p02812': 2, 'p02813': 3, 'p02814': 4, 'p02815': 5, 'p02816': 6, 'p02817': 1, 'p02818': 2, 'p02819': 3, 'p02820': 4, 'p02821': 5, 'p02822': 6, 'p02823': 1, 'p02824': 2, 'p02825': 3, 'p02826': 4, 'p02827': 5, 'p02828': 6, 'p02829': 1, 'p02830': 2, 'p02831': 3, 'p02832': 4, 'p02833': 5, 'p02834': 6, 'p02835': 1, 'p02836': 2, 'p02837': 3, 'p02838': 4, 'p02839': 5, 'p02840': 6, 'p02847': 1, 'p02848': 2, 'p02849': 3, 'p02850': 4, 'p02851': 5, 'p02852': 6, 'p02859': 1, 'p02860': 2, 'p02861': 3, 'p02862': 4, 'p02863': 5, 'p02864': 6, 'p02873': 1, 'p02874': 2, 'p02875': 3, 'p02876': 4, 'p02877': 5, 'p02878': 6, 'p02879': 1, 'p02880': 2, 'p02881': 3, 'p02882': 4, 'p02883': 5, 'p02884': 6, 'p02885': 1, 'p02886': 2, 'p02887': 3, 'p02888': 4, 'p02889': 5, 'p02890': 6, 'p02891': 1, 'p02892': 2, 'p02893': 3, 'p02894': 4, 'p02895': 5, 'p02896': 6, 'p02897': 1, 'p02898': 2, 'p02899': 3, 'p02900': 4, 'p02901': 5, 'p02902': 6, 'p02903': 1, 'p02904': 2, 'p02905': 3, 'p02906': 4, 'p02907': 5, 'p02908': 6, 'p02909': 1, 'p02910': 2, 'p02911': 3, 'p02912': 4, 'p02913': 5, 'p02914': 6, 'p02915': 1, 'p02916': 2, 'p02917': 3, 'p02918': 4, 'p02919': 5, 'p02920': 6, 'p02921': 1, 'p02922': 2, 'p02923': 3, 'p02924': 4, 'p02925': 5, 'p02926': 6, 'p02933': 1, 'p02934': 2, 'p02935': 3, 'p02936': 4, 'p02937': 5, 'p02938': 6, 'p02939': 1, 'p02940': 2, 'p02941': 3, 'p02942': 4, 'p02943': 5, 'p02944': 6, 'p02945': 1, 'p02946': 2, 'p02947': 3, 'p02948': 4, 'p02949': 5, 'p02950': 6, 'p02951': 1, 'p02952': 2, 'p02953': 3, 'p02954': 4, 'p02955': 5, 'p02956': 6, 'p02957': 1, 'p02958': 2, 'p02959': 3, 'p02960': 4, 'p02961': 5, 'p02962': 6, 'p02963': 1, 'p02964': 2, 'p02965': 3, 'p02966': 4, 'p02967': 5, 'p02968': 6, 'p02969': 1, 'p02970': 2, 'p02971': 3, 'p02972': 4, 'p02973': 5, 'p02974': 6, 'p02975': 1, 'p02976': 2, 'p02977': 3, 'p02978': 4, 'p02979': 5, 'p02980': 6, 'p02981': 1, 'p02982': 2, 'p02983': 3, 'p02984': 4, 'p02985': 5, 'p02986': 6, 'p02987': 1, 'p02988': 2, 'p02989': 3, 'p02990': 4, 'p02991': 5, 'p02992': 6, 'p02993': 1, 'p02994': 2, 'p02995': 3, 'p02996': 4, 'p02997': 5, 'p02998': 6, 'p02999': 1, 'p03000': 2, 'p03001': 3, 'p03002': 4, 'p03003': 5, 'p03004': 6, 'p03011': 1, 'p03012': 2, 'p03013': 3, 'p03014': 4, 'p03015': 5, 'p03016': 6, 'p03017': 1, 'p03018': 2, 'p03019': 3, 'p03020': 4, 'p03021': 5, 'p03022': 6, 'p03029': 1, 'p03030': 2, 'p03031': 3, 'p03032': 4, 'p03033': 5, 'p03034': 6, 'p03035': 1, 'p03036': 2, 'p03037': 3, 'p03038': 4, 'p03039': 5, 'p03040': 6, 'p03041': 1, 'p03042': 2, 'p03043': 3, 'p03044': 4, 'p03045': 5, 'p03046': 6, 'p03053': 1, 'p03054': 2, 'p03055': 3, 'p03056': 4, 'p03057': 5, 'p03058': 6, 'p03059': 1, 'p03060': 2, 'p03061': 3, 'p03062': 4, 'p03071': 1, 'p03072': 2, 'p03073': 3, 'p03074': 4, 'p03075': 1, 'p03076': 2, 'p03077': 3, 'p03078': 4, 'p03085': 1, 'p03086': 2, 'p03087': 3, 'p03088': 4, 'p03089': 1, 'p03090': 2, 'p03091': 3, 'p03092': 4, 'p03093': 5, 'p03094': 6, 'p03095': 1, 'p03096': 2, 'p03097': 3, 'p03098': 4, 'p03099': 5, 'p03100': 6, 'p03101': 1, 'p03102': 2, 'p03103': 3, 'p03104': 4, 'p03105': 1, 'p03106': 2, 'p03107': 3, 'p03108': 4, 'p03109': 1, 'p03110': 2, 'p03111': 3, 'p03112': 4, 'p03125': 1, 'p03126': 2, 'p03127': 3, 'p03128': 4, 'p03135': 1, 'p03136': 2, 'p03137': 3, 'p03138': 4, 'p03145': 1, 'p03146': 2, 'p03147': 3, 'p03148': 4, 'p03186': 1, 'p03187': 2, 'p03188': 3, 'p03189': 4, 'p03190': 5, 'p03191': 6, 'p03200': 1, 'p03201': 2, 'p03202': 3, 'p03203': 4, 'p03204': 5, 'p03205': 6, 'p03206': 1, 'p03207': 2, 'p03208': 3, 'p03209': 4, 'p03210': 1, 'p03211': 2, 'p03212': 3, 'p03213': 4, 'p03219': 1, 'p03220': 2, 'p03221': 3, 'p03222': 4, 'p03231': 1, 'p03232': 2, 'p03233': 3, 'p03234': 4, 'p03235': 5, 'p03236': 6, 'p03237': 7, 'p03238': 1, 'p03239': 2, 'p03240': 3, 'p03241': 4, 'p03242': 1, 'p03243': 2, 'p03244': 3, 'p03245': 4, 'p03246': 1, 'p03247': 2, 'p03248': 3, 'p03249': 4, 'p03250': 1, 'p03251': 2, 'p03252': 3, 'p03253': 4, 'p03254': 1, 'p03255': 2, 'p03256': 3, 'p03257': 4, 'p03258': 5, 'p03259': 6, 'p03260': 1, 'p03261': 2, 'p03262': 3, 'p03263': 4, 'p03264': 1, 'p03265': 2, 'p03266': 3, 'p03267': 4, 'p03268': 1, 'p03269': 2, 'p03270': 3, 'p03271': 4, 'p03272': 1, 'p03273': 2, 'p03274': 3, 'p03275': 4, 'p03276': 1, 'p03277': 2, 'p03278': 3, 'p03279': 4, 'p03280': 1, 'p03281': 2, 'p03282': 3, 'p03283': 4, 'p03284': 1, 'p03285': 2, 'p03286': 3, 'p03287': 4, 'p03288': 1, 'p03289': 2, 'p03290': 3, 'p03291': 4, 'p03292': 1, 'p03293': 2, 'p03294': 3, 'p03295': 4, 'p03296': 1, 'p03297': 2, 'p03298': 3, 'p03299': 4, 'p03300': 5, 'p03301': 6, 'p03307': 1, 'p03308': 2, 'p03309': 3, 'p03310': 4, 'p03311': 1, 'p03312': 2, 'p03313': 3, 'p03314': 4, 'p03315': 1, 'p03316': 2, 'p03317': 3, 'p03318': 4, 'p03319': 1, 'p03320': 2, 'p03321': 3, 'p03322': 4, 'p03323': 1, 'p03324': 2, 'p03325': 3, 'p03326': 4, 'p03327': 1, 'p03328': 2, 'p03329': 3, 'p03330': 4, 'p03331': 1, 'p03332': 2, 'p03333': 3, 'p03334': 4, 'p03335': 5, 'p03336': 6, 'p03337': 1, 'p03338': 2, 'p03339': 3, 'p03340': 4, 'p03341': 1, 'p03342': 2, 'p03343': 3, 'p03344': 4, 'p03345': 1, 'p03346': 2, 'p03347': 3, 'p03348': 4, 'p03349': 5, 'p03350': 6, 'p03351': 1, 'p03352': 2, 'p03353': 3, 'p03354': 4, 'p03355': 1, 'p03356': 2, 'p03357': 3, 'p03358': 4, 'p03359': 1, 'p03360': 2, 'p03361': 3, 'p03362': 4, 'p03363': 1, 'p03364': 2, 'p03365': 3, 'p03366': 4, 'p03367': 5, 'p03368': 6, 'p03369': 1, 'p03370': 2, 'p03371': 3, 'p03372': 4, 'p03373': 1, 'p03374': 2, 'p03375': 3, 'p03376': 4, 'p03377': 1, 'p03378': 2, 'p03379': 3, 'p03380': 4, 'p03381': 1, 'p03382': 2, 'p03383': 3, 'p03384': 4, 'p03385': 1, 'p03386': 2, 'p03387': 3, 'p03388': 4, 'p03389': 1, 'p03390': 2, 'p03391': 3, 'p03392': 4, 'p03393': 1, 'p03394': 2, 'p03395': 3, 'p03396': 4, 'p03397': 5, 'p03398': 6, 'p03399': 1, 'p03400': 2, 'p03401': 3, 'p03402': 4, 'p03403': 1, 'p03404': 2, 'p03405': 3, 'p03406': 4, 'p03407': 1, 'p03408': 2, 'p03409': 3, 'p03410': 4, 'p03411': 1, 'p03412': 2, 'p03413': 3, 'p03414': 4, 'p03415': 1, 'p03416': 2, 'p03417': 3, 'p03418': 4, 'p03419': 1, 'p03420': 2, 'p03421': 3, 'p03422': 4, 'p03423': 1, 'p03424': 2, 'p03425': 3, 'p03426': 4, 'p03427': 1, 'p03428': 2, 'p03429': 3, 'p03430': 4, 'p03431': 5, 'p03432': 6, 'p03433': 1, 'p03434': 2, 'p03435': 3, 'p03436': 4, 'p03447': 1, 'p03448': 2, 'p03449': 3, 'p03450': 4, 'p03451': 1, 'p03452': 2, 'p03453': 3, 'p03454': 4, 'p03455': 1, 'p03456': 2, 'p03457': 3, 'p03458': 4, 'p03459': 1, 'p03460': 2, 'p03461': 3, 'p03462': 4, 'p03463': 1, 'p03464': 2, 'p03465': 3, 'p03466': 4, 'p03467': 5, 'p03468': 6, 'p03469': 1, 'p03470': 2, 'p03471': 3, 'p03472': 4, 'p03473': 1, 'p03474': 2, 'p03475': 3, 'p03476': 4, 'p03477': 1, 'p03478': 2, 'p03479': 3, 'p03480': 4, 'p03481': 1, 'p03482': 2, 'p03483': 3, 'p03484': 4, 'p03485': 1, 'p03486': 2, 'p03487': 3, 'p03488': 4, 'p03489': 1, 'p03490': 2, 'p03491': 3, 'p03492': 4, 'p03493': 1, 'p03494': 2, 'p03495': 3, 'p03496': 4, 'p03497': 1, 'p03498': 2, 'p03499': 3, 'p03500': 4, 'p03501': 1, 'p03502': 2, 'p03503': 3, 'p03504': 4, 'p03543': 1, 'p03544': 2, 'p03545': 3, 'p03546': 4, 'p03547': 1, 'p03548': 2, 'p03549': 3, 'p03550': 4, 'p03551': 1, 'p03552': 2, 'p03553': 3, 'p03554': 4, 'p03555': 1, 'p03556': 2, 'p03557': 3, 'p03558': 4, 'p03559': 1, 'p03560': 2, 'p03561': 3, 'p03562': 4, 'p03563': 1, 'p03564': 2, 'p03565': 3, 'p03566': 4, 'p03573': 1, 'p03574': 2, 'p03575': 3, 'p03576': 4, 'p03597': 1, 'p03598': 2, 'p03599': 3, 'p03600': 4, 'p03601': 1, 'p03602': 2, 'p03603': 3, 'p03604': 4, 'p03605': 1, 'p03606': 2, 'p03607': 3, 'p03608': 4, 'p03609': 1, 'p03610': 2, 'p03611': 3, 'p03612': 4, 'p03613': 1, 'p03614': 2, 'p03615': 3, 'p03616': 4, 'p03617': 1, 'p03618': 2, 'p03619': 3, 'p03620': 4, 'p03621': 5, 'p03622': 6, 'p03623': 1, 'p03624': 2, 'p03625': 3, 'p03626': 4, 'p03627': 1, 'p03628': 2, 'p03629': 3, 'p03630': 4, 'p03631': 1, 'p03632': 2, 'p03633': 3, 'p03634': 4, 'p03635': 1, 'p03636': 2, 'p03637': 3, 'p03638': 4, 'p03639': 1, 'p03640': 2, 'p03641': 3, 'p03642': 4, 'p03643': 1, 'p03644': 2, 'p03645': 3, 'p03646': 4, 'p03647': 1, 'p03648': 2, 'p03649': 3, 'p03650': 4, 'p03651': 1, 'p03652': 2, 'p03653': 3, 'p03654': 4, 'p03655': 5, 'p03656': 6, 'p03657': 1, 'p03658': 2, 'p03659': 3, 'p03660': 4, 'p03661': 1, 'p03662': 2, 'p03663': 3, 'p03664': 4, 'p03665': 1, 'p03666': 2, 'p03667': 3, 'p03668': 4, 'p03669': 5, 'p03670': 6, 'p03671': 1, 'p03672': 2, 'p03673': 3, 'p03674': 4, 'p03675': 1, 'p03676': 2, 'p03677': 3, 'p03678': 4, 'p03679': 1, 'p03680': 2, 'p03681': 3, 'p03682': 4, 'p03683': 1, 'p03684': 2, 'p03685': 3, 'p03686': 4, 'p03687': 1, 'p03688': 2, 'p03689': 3, 'p03690': 4, 'p03691': 5, 'p03692': 6, 'p03693': 1, 'p03694': 2, 'p03695': 3, 'p03696': 4, 'p03697': 1, 'p03698': 2, 'p03699': 3, 'p03700': 4, 'p03701': 1, 'p03702': 2, 'p03703': 3, 'p03704': 4, 'p03705': 1, 'p03706': 2, 'p03707': 3, 'p03708': 4, 'p03709': 5, 'p03710': 6, 'p03711': 1, 'p03712': 2, 'p03713': 3, 'p03714': 4, 'p03715': 1, 'p03716': 2, 'p03717': 3, 'p03718': 4, 'p03719': 1, 'p03720': 2, 'p03721': 3, 'p03722': 4, 'p03723': 1, 'p03724': 2, 'p03725': 3, 'p03726': 4, 'p03727': 5, 'p03728': 6, 'p03729': 1, 'p03730': 2, 'p03731': 3, 'p03732': 4, 'p03733': 1, 'p03734': 2, 'p03735': 3, 'p03736': 4, 'p03737': 1, 'p03738': 2, 'p03739': 3, 'p03740': 4, 'p03741': 1, 'p03742': 2, 'p03743': 3, 'p03744': 4, 'p03745': 1, 'p03746': 2, 'p03747': 3, 'p03748': 4, 'p03749': 5, 'p03750': 6, 'p03759': 1, 'p03760': 2, 'p03761': 3, 'p03762': 4, 'p03763': 1, 'p03764': 2, 'p03765': 3, 'p03766': 4, 'p03767': 1, 'p03768': 2, 'p03769': 3, 'p03770': 4, 'p03771': 5, 'p03772': 6, 'p03773': 1, 'p03774': 2, 'p03775': 3, 'p03776': 4, 'p03777': 1, 'p03778': 2, 'p03779': 3, 'p03780': 4, 'p03781': 1, 'p03782': 2, 'p03783': 3, 'p03784': 4, 'p03785': 1, 'p03786': 2, 'p03787': 3, 'p03788': 4, 'p03789': 5, 'p03790': 6, 'p03795': 1, 'p03796': 2, 'p03797': 3, 'p03798': 4, 'p03799': 1, 'p03800': 2, 'p03801': 3, 'p03802': 4, 'p03803': 1, 'p03804': 2, 'p03805': 3, 'p03806': 4, 'p03807': 1, 'p03808': 2, 'p03809': 3, 'p03810': 4, 'p03811': 5, 'p03812': 6, 'p03813': 1, 'p03814': 2, 'p03815': 3, 'p03816': 4, 'p03817': 1, 'p03818': 2, 'p03819': 3, 'p03820': 4, 'p03821': 1, 'p03822': 2, 'p03823': 3, 'p03824': 4, 'p03825': 5, 'p03826': 1, 'p03827': 2, 'p03828': 3, 'p03829': 4, 'p03830': 1, 'p03831': 2, 'p03832': 3, 'p03833': 4, 'p03834': 1, 'p03835': 2, 'p03836': 3, 'p03837': 4, 'p03838': 1, 'p03839': 2, 'p03840': 3, 'p03841': 4, 'p03842': 5, 'p03843': 6, 'p03844': 1, 'p03845': 2, 'p03846': 3, 'p03847': 4, 'p03848': 1, 'p03849': 2, 'p03850': 3, 'p03851': 4, 'p03852': 1, 'p03853': 2, 'p03854': 3, 'p03855': 4, 'p03856': 1, 'p03857': 2, 'p03858': 3, 'p03859': 4, 'p03860': 1, 'p03861': 2, 'p03862': 3, 'p03863': 4, 'p03864': 1, 'p03865': 2, 'p03866': 3, 'p03867': 4, 'p03937': 1, 'p03938': 2, 'p03939': 3, 'p03940': 4, 'p03941': 5, 'p03942': 6, 'p03943': 1, 'p03944': 2, 'p03945': 3, 'p03946': 4, 'p03947': 1, 'p03948': 2, 'p03949': 3, 'p03950': 4, 'p03951': 1, 'p03952': 2, 'p03953': 3, 'p03954': 4, 'p03955': 5, 'p03956': 6, 'p03962': 1, 'p03963': 2, 'p03964': 3, 'p03965': 4, 'p03966': 1, 'p03967': 2, 'p03968': 3, 'p03969': 4, 'p03986': 1, 'p03987': 2, 'p03988': 3, 'p03989': 4, 'p03990': 5, 'p03991': 6, 'p03997': 1, 'p03998': 2, 'p03999': 3, 'p04000': 4, 'p04001': 1, 'p04002': 2, 'p04003': 3, 'p04004': 4, 'p04005': 1, 'p04006': 2, 'p04007': 3, 'p04008': 4, 'p04009': 5, 'p04010': 6, 'p04011': 1, 'p04012': 2, 'p04013': 3, 'p04014': 4, 'p04015': 1, 'p04016': 2, 'p04017': 3, 'p04018': 4, 'p04019': 1, 'p04020': 2, 'p04021': 3, 'p04022': 4, 'p04023': 5, 'p04024': 6, 'p04025': 1, 'p04026': 2, 'p04027': 3, 'p04028': 4, 'p04029': 1, 'p04030': 2, 'p04031': 3, 'p04032': 4, 'p04033': 1, 'p04034': 2, 'p04035': 3, 'p04036': 4, 'p04037': 5, 'p04038': 6, 'p04039': 1, 'p04040': 2, 'p04041': 3, 'p04042': 4, 'p04043': 1, 'p04044': 2, 'p04045': 3, 'p04046': 4, 'p04047': 1, 'p04048': 2, 'p04049': 3, 'p04050': 4, 'p04051': 5, 'p04052': 6}\n"
     ]
    }
   ],
   "source": [
    "import pandas as pd\n",
    "from collections import defaultdict\n",
    "problemlist=pd.read_csv('problem_list.csv')\n",
    "problems = defaultdict(list)\n",
    "for index, row in problemlist.iterrows():\n",
    "    if(row['dataset']=='AtCoder'):\n",
    "        if(\"AtCoder Regular Contest\" in row['name']):\n",
    "            number = row['name'].split(\" \")[3]\n",
    "            problems[\"ARC\"+number].append(row['id'])\n",
    "        if(\"AtCoder Beginner Contest\" in row['name']):\n",
    "            number = row['name'].split(\" \")[3]\n",
    "            problems[\"ABC\"+number].append(row['id'])\n",
    "        if(\"AtCoder Grand Contest\" in row['name']):\n",
    "            number = row['name'].split(\" \")[3]\n",
    "            problems[\"AGC\"+number].append(row['id'])\n",
    "\n",
    "#print(problems)\n",
    "difficulty = {}\n",
    "for key in problems.keys():\n",
    "    for idx, id in enumerate(problems[key]):\n",
    "        difficulty[id] = idx+1\n",
    "print(difficulty)\n"
   ]
  },
  {
   "cell_type": "code",
   "execution_count": 19,
   "metadata": {},
   "outputs": [
    {
     "name": "stdout",
     "output_type": "stream",
     "text": [
      "{1: {'top_1': 29, 'top_3': 39, 'top_5': 43, 'top_10': 45}, 2: {'top_1': 7, 'top_3': 16, 'top_5': 21, 'top_10': 25}, 3: {'top_1': 13, 'top_3': 27, 'top_5': 32, 'top_10': 41}, 4: {'top_1': 4, 'top_3': 7, 'top_5': 8, 'top_10': 9}, 5: {'top_1': 1, 'top_3': 1, 'top_5': 1, 'top_10': 1}, 6: {'top_1': 0, 'top_3': 0, 'top_5': 0, 'top_10': 0}}\n",
      "{1: 116, 2: 104, 3: 164, 4: 85, 5: 16, 6: 6}\n"
     ]
    }
   ],
   "source": [
    "import json\n",
    "from pprint import pprint\n",
    "def getJsonData(JsonFile):\n",
    "    with open(JsonFile, encoding=\"utf8\") as f:\n",
    "        data = json.load(f)\n",
    "    return data\n",
    "\n",
    "data = getJsonData('FINAL_RESULT_java2java_with_verdict.json')\n",
    "\n",
    "difficulty_top_at_acc = {}\n",
    "tops = {}\n",
    "tops['top_1'] = 0\n",
    "tops['top_3'] = 0\n",
    "tops['top_5'] = 0\n",
    "tops['top_10'] = 0\n",
    "diff_count = {}\n",
    "for idx in range(1, 7):\n",
    "    diff_count[idx] = 0\n",
    "    #print(eval[dt['idx']]['src_verdict'])\n",
    "    difficulty_top_at_acc[idx] = tops.copy()\n",
    "\n",
    "top_1, top_3 , top_5, top_10= 0, 0, 0, 0\n",
    "before = 0\n",
    "accepted_before = []\n",
    "\n",
    "for ind, dt in enumerate(data):\n",
    "    diff_count[difficulty[data[ind]['tgt_id'].split('_')[0]]]+=1\n",
    "    counted_once = [False, False, False, False]\n",
    "    for idx in range(10):\n",
    "        if dt['test_cases_run_by_generations'][idx]==dt['total_test_cases']:\n",
    "            if not counted_once[0] and idx<1:\n",
    "                difficulty_top_at_acc[difficulty[data[ind]['tgt_id'].split('_')[0]]]['top_1'] +=1\n",
    "                counted_once[0]=True\n",
    "            if not counted_once[1] and idx<3:\n",
    "                difficulty_top_at_acc[difficulty[data[ind]['tgt_id'].split('_')[0]]]['top_3'] +=1\n",
    "                counted_once[1]=True\n",
    "            if not counted_once[2] and idx<5:\n",
    "                difficulty_top_at_acc[difficulty[data[ind]['tgt_id'].split('_')[0]]]['top_5'] +=1\n",
    "                counted_once[2]=True\n",
    "            if not counted_once[3] and idx<10:\n",
    "                difficulty_top_at_acc[difficulty[data[ind]['tgt_id'].split('_')[0]]]['top_10']+=1\n",
    "                counted_once[3]=True\n",
    "\n",
    "print(difficulty_top_at_acc)\n",
    "print(diff_count)\n",
    "\n"
   ]
  },
  {
   "cell_type": "code",
   "execution_count": 20,
   "metadata": {},
   "outputs": [
    {
     "data": {
      "image/png": "[encoded data removed]",
      "text/plain": [
       "<Figure size 432x288 with 1 Axes>"
      ]
     },
     "metadata": {
      "needs_background": "light"
     },
     "output_type": "display_data"
    }
   ],
   "source": [
    "\n",
    "import numpy as np\n",
    "import matplotlib.pyplot as plt\n",
    "\n",
    "N = 5\n",
    "ind = np.arange(N)  # the x locations for the groups\n",
    "width = 0.21       # the width of the bars\n",
    "\n",
    "fig = plt.figure()\n",
    "ax = fig.add_subplot(111)\n",
    "\n",
    "top_1s, top_3s, top_5s, top_10s =  [], [], [], []\n",
    "counts = []\n",
    "for i in range(1, 6):\n",
    "    top_1s.append(difficulty_top_at_acc[i]['top_1'])\n",
    "    top_3s.append(difficulty_top_at_acc[i]['top_3'])\n",
    "    top_5s.append(difficulty_top_at_acc[i]['top_5'])\n",
    "    top_10s.append(difficulty_top_at_acc[i]['top_10'])\n",
    "    counts.append(diff_count[i])\n",
    "\n",
    "rects1 = ax.bar(ind, [x/y for x, y in zip(top_1s, counts)], width, color='r')\n",
    "\n",
    "\n",
    "rects2 = ax.bar(ind+width, [x/y for x, y in zip(top_3s, counts)], width, color='g')\n",
    "\n",
    "rects3 = ax.bar(ind+width*2, [x/y for x, y in zip(top_5s, counts)], width, color='b')\n",
    "\n",
    "rects4 = ax.bar(ind+width*3, [x/y for x, y in zip(top_10s, counts)], width, color='y')\n",
    "\n",
    "\n",
    "\n",
    "ax.set_ylabel('Accuracy on Execution')\n",
    "ax.set_xticks(ind+width)\n",
    "ax.set_xticklabels( ('A', 'B', 'C', 'D', 'E') )\n",
    "#ax.legend( (rects1[0], rects2[0], rects3[0]), ('y', 'z', 'k') )\n",
    "\n",
    "def autolabel(rects):\n",
    "    for rect in rects:\n",
    "        h = rect.get_height()\n",
    "        ax.text(rect.get_x()+rect.get_width()/2., 1.05*h, '%d'%int(h),\n",
    "                ha='center', va='bottom')\n",
    "\n",
    "#autolabel(rects1)\n",
    "#autolabel(rects2)\n",
    "#autolabel(rects3)\n",
    "#autolabel(rects4)\n",
    "plt.savefig('Acceptance_By_Difficulty.pdf', format='pdf', dpi=1200)\n",
    "#plt.show()"
   ]
  },
  {
   "cell_type": "code",
   "execution_count": 5,
   "metadata": {},
   "outputs": [],
   "source": [
    "%matplotlib inline"
   ]
  },
  {
   "cell_type": "code",
   "execution_count": 6,
   "metadata": {},
   "outputs": [
    {
     "name": "stdout",
     "output_type": "stream",
     "text": [
      "500\n"
     ]
    }
   ],
   "source": [
    "from codegen.preprocessing.lang_processors.java_processor import JavaProcessor\n",
    "from codegen.preprocessing.lang_processors.python_processor import PythonProcessor\n",
    "import subprocess\n",
    "import filecmp\n",
    "from subprocess import Popen, PIPE, STDOUT\n",
    "import sys\n",
    "import json\n",
    "root_folder = \"../third_party\"\n",
    "jprocessor = JavaProcessor(root_folder=root_folder)\n",
    "pyprocessor = PythonProcessor(root_folder=root_folder)\n",
    "def getJsonData(JsonFile):\n",
    "    with open(JsonFile, encoding=\"utf8\") as f:\n",
    "        data = json.load(f)\n",
    "    return data\n",
    "eval = getJsonData('../data/python/processed/eval.jsonl')\n",
    "print(len(eval))"
   ]
  },
  {
   "cell_type": "code",
   "execution_count": 7,
   "metadata": {},
   "outputs": [
    {
     "name": "stdout",
     "output_type": "stream",
     "text": [
      "468\n",
      "{'Runtime Error': {'top_1': 23, 'top_3': 30, 'top_5': 30, 'top_10': 34}, 'Wrong Answer': {'top_1': 22, 'top_3': 37, 'top_5': 47, 'top_10': 54}, 'Time Limit Exceeded': {'top_1': 7, 'top_3': 9, 'top_5': 10, 'top_10': 12}, 'Judge Not Available': {'top_1': 0, 'top_3': 0, 'top_5': 0, 'top_10': 0}}\n",
      "{'Runtime Error': 94, 'Wrong Answer': 271, 'Time Limit Exceeded': 102, 'Judge Not Available': 1}\n",
      "['Runtime Error', 'Wrong Answer', 'Time Limit Exceeded', 'Judge Not Available']\n"
     ]
    }
   ],
   "source": [
    "import json\n",
    "\n",
    "from pprint import pprint\n",
    "def getJsonData(JsonFile):\n",
    "    with open(JsonFile, encoding=\"utf8\") as f:\n",
    "        data = json.load(f)\n",
    "    return data\n",
    "\n",
    "data = getJsonData('FINAL_RESULT_python2python_with_verdict.json')\n",
    "print(len(data))\n",
    "verdict_top_at_acc = {}\n",
    "tops = {}\n",
    "tops['top_1'] = 0\n",
    "tops['top_3'] = 0\n",
    "tops['top_5'] = 0\n",
    "tops['top_10'] = 0\n",
    "verdict_count = {}\n",
    "for dt in data:\n",
    "    #print(eval[dt['idx']]['src_verdict'])\n",
    "    verdict_top_at_acc[eval[dt['idx']]['src_verdict']] = tops.copy()\n",
    "    verdict_count[eval[dt['idx']]['src_verdict']] = 0\n",
    "\n",
    "top_1, top_3 , top_5, top_10= 0, 0, 0, 0\n",
    "before = 0\n",
    "accepted_before = []\n",
    "\n",
    "for ind, dt in enumerate(data):\n",
    "    verdict_count[eval[dt['idx']]['src_verdict']]+=1\n",
    "    counted_once = [False, False, False, False]\n",
    "    for idx in range(10):\n",
    "        if dt['test_cases_run_by_generations'][idx]==dt['total_test_cases']:\n",
    "            if not counted_once[0] and idx<1:\n",
    "                verdict_top_at_acc[eval[dt['idx']]['src_verdict']]['top_1'] +=1\n",
    "                counted_once[0]=True\n",
    "            if not counted_once[1] and idx<3:\n",
    "                verdict_top_at_acc[eval[dt['idx']]['src_verdict']]['top_3'] +=1\n",
    "                counted_once[1]=True\n",
    "            if not counted_once[2] and idx<5:\n",
    "                verdict_top_at_acc[eval[dt['idx']]['src_verdict']]['top_5'] +=1\n",
    "                counted_once[2]=True\n",
    "            if not counted_once[3] and idx<10:\n",
    "                verdict_top_at_acc[eval[dt['idx']]['src_verdict']]['top_10'] +=1\n",
    "                counted_once[3]=True\n",
    "            \n",
    "print(verdict_top_at_acc)\n",
    "print(verdict_count)\n",
    "print(list(verdict_count.keys()))\n"
   ]
  },
  {
   "cell_type": "code",
   "execution_count": 8,
   "metadata": {},
   "outputs": [
    {
     "name": "stdout",
     "output_type": "stream",
     "text": [
      "[23, 22, 7, 0]\n",
      "[94, 271, 102, 1]\n"
     ]
    },
    {
     "data": {
      "image/png": "[encoded data removed]",
      "text/plain": [
       "<Figure size 432x288 with 1 Axes>"
      ]
     },
     "metadata": {
      "needs_background": "light"
     },
     "output_type": "display_data"
    }
   ],
   "source": [
    "\n",
    "import numpy as np\n",
    "import matplotlib.pyplot as plt\n",
    "\n",
    "N = 4\n",
    "ind = np.arange(N)  # the x locations for the groups\n",
    "width = 0.21       # the width of the bars\n",
    "\n",
    "fig = plt.figure()\n",
    "ax = fig.add_subplot(111)\n",
    "\n",
    "top_1s, top_3s, top_5s, top_10s =  [], [], [], []\n",
    "counts = []\n",
    "for i in ['Runtime Error', 'Wrong Answer', 'Time Limit Exceeded', 'Judge Not Available']:\n",
    "    top_1s.append(verdict_top_at_acc[i]['top_1'])\n",
    "    top_3s.append(verdict_top_at_acc[i]['top_3'])\n",
    "    top_5s.append(verdict_top_at_acc[i]['top_5'])\n",
    "    top_10s.append(verdict_top_at_acc[i]['top_10'])\n",
    "    counts.append(verdict_count[i])\n",
    "\n",
    "print(top_1s)\n",
    "print(counts)\n",
    "rects1 = ax.bar(ind, [x/y for x, y in zip(top_1s, counts)], width, color='r')\n",
    "\n",
    "\n",
    "rects2 = ax.bar(ind+width, [x/y for x, y in zip(top_3s, counts)], width, color='g')\n",
    "\n",
    "rects3 = ax.bar(ind+width*2, [x/y for x, y in zip(top_5s, counts)], width, color='b')\n",
    "\n",
    "rects4 = ax.bar(ind+width*3, [x/y for x, y in zip(top_10s, counts)], width, color='y')\n",
    "\n",
    "\n",
    "\n",
    "ax.set_ylabel('Acceptance on Execution')\n",
    "ax.set_xticks(ind+width)\n",
    "ax.set_xticklabels( ('RE', 'WA', 'TLE', 'JNE'))\n",
    "#ax.legend( (rects1[0], rects2[0], rects3[0]), ('y', 'z', 'k') )\n",
    "\n",
    "def autolabel(rects):\n",
    "    for rect in rects:\n",
    "        h = rect.get_height()\n",
    "        ax.text(rect.get_x()+rect.get_width()/2., 1.05*h, '%d'%int(h),\n",
    "                ha='center', va='bottom')\n",
    "\n",
    "#autolabel(rects1)\n",
    "#autolabel(rects2)\n",
    "#autolabel(rects3)\n",
    "#autolabel(rects4)\n",
    "plt.savefig('Acceptance_By_Verdict.pdf', format='pdf', dpi=1200)\n",
    "#plt.show()"
   ]
  },
  {
   "cell_type": "code",
   "execution_count": 9,
   "metadata": {},
   "outputs": [
    {
     "name": "stdout",
     "output_type": "stream",
     "text": [
      "{'p02546': 1, 'p02547': 2, 'p02548': 3, 'p02549': 4, 'p02550': 5, 'p02551': 6, 'p02552': 1, 'p02553': 2, 'p02554': 3, 'p02555': 4, 'p02556': 5, 'p02557': 6, 'p02570': 1, 'p02571': 2, 'p02572': 3, 'p02573': 4, 'p02574': 5, 'p02575': 6, 'p02576': 1, 'p02577': 2, 'p02578': 3, 'p02579': 4, 'p02580': 5, 'p02581': 6, 'p02582': 1, 'p02583': 2, 'p02584': 3, 'p02585': 4, 'p02586': 5, 'p02587': 6, 'p02588': 1, 'p02589': 2, 'p02590': 3, 'p02591': 4, 'p02592': 5, 'p02593': 6, 'p02594': 1, 'p02595': 2, 'p02596': 3, 'p02597': 4, 'p02598': 5, 'p02599': 6, 'p02612': 1, 'p02613': 2, 'p02614': 3, 'p02615': 4, 'p02616': 5, 'p02617': 6, 'p02621': 1, 'p02622': 2, 'p02623': 3, 'p02624': 4, 'p02625': 5, 'p02626': 6, 'p02627': 1, 'p02628': 2, 'p02629': 3, 'p02630': 4, 'p02631': 5, 'p02632': 6, 'p02633': 1, 'p02634': 2, 'p02635': 3, 'p02636': 4, 'p02637': 5, 'p02638': 6, 'p02639': 1, 'p02640': 2, 'p02641': 3, 'p02642': 4, 'p02643': 5, 'p02644': 6, 'p02651': 1, 'p02652': 2, 'p02653': 3, 'p02654': 4, 'p02655': 5, 'p02656': 6, 'p02657': 1, 'p02658': 2, 'p02659': 3, 'p02660': 4, 'p02661': 5, 'p02662': 6, 'p02669': 1, 'p02670': 2, 'p02671': 3, 'p02672': 4, 'p02673': 5, 'p02674': 6, 'p02675': 1, 'p02676': 2, 'p02677': 3, 'p02678': 4, 'p02679': 5, 'p02680': 6, 'p02681': 1, 'p02682': 2, 'p02683': 3, 'p02684': 4, 'p02685': 5, 'p02686': 6, 'p02687': 1, 'p02688': 2, 'p02689': 3, 'p02690': 4, 'p02691': 5, 'p02692': 6, 'p02693': 1, 'p02694': 2, 'p02695': 3, 'p02696': 4, 'p02697': 5, 'p02698': 6, 'p02699': 1, 'p02700': 2, 'p02701': 3, 'p02702': 4, 'p02703': 5, 'p02704': 6, 'p02705': 1, 'p02706': 2, 'p02707': 3, 'p02708': 4, 'p02709': 5, 'p02710': 6, 'p02711': 1, 'p02712': 2, 'p02713': 3, 'p02714': 4, 'p02715': 5, 'p02716': 6, 'p02717': 1, 'p02718': 2, 'p02719': 3, 'p02720': 4, 'p02721': 5, 'p02722': 6, 'p02723': 1, 'p02724': 2, 'p02725': 3, 'p02726': 4, 'p02727': 5, 'p02728': 6, 'p02729': 1, 'p02730': 2, 'p02731': 3, 'p02732': 4, 'p02733': 5, 'p02734': 6, 'p02735': 1, 'p02736': 2, 'p02737': 3, 'p02738': 4, 'p02739': 5, 'p02740': 6, 'p02753': 1, 'p02754': 2, 'p02755': 3, 'p02756': 4, 'p02757': 5, 'p02758': 6, 'p02759': 1, 'p02760': 2, 'p02761': 3, 'p02762': 4, 'p02763': 5, 'p02764': 6, 'p02765': 1, 'p02766': 2, 'p02767': 3, 'p02768': 4, 'p02769': 5, 'p02770': 6, 'p02771': 1, 'p02772': 2, 'p02773': 3, 'p02774': 4, 'p02775': 5, 'p02776': 6, 'p02777': 1, 'p02778': 2, 'p02779': 3, 'p02780': 4, 'p02781': 5, 'p02782': 6, 'p02783': 1, 'p02784': 2, 'p02785': 3, 'p02786': 4, 'p02787': 5, 'p02788': 6, 'p02789': 1, 'p02790': 2, 'p02791': 3, 'p02792': 4, 'p02793': 5, 'p02794': 6, 'p02801': 1, 'p02802': 2, 'p02803': 3, 'p02804': 4, 'p02805': 5, 'p02811': 1, 'p02812': 2, 'p02813': 3, 'p02814': 4, 'p02815': 5, 'p02816': 6, 'p02817': 1, 'p02818': 2, 'p02819': 3, 'p02820': 4, 'p02821': 5, 'p02822': 6, 'p02823': 1, 'p02824': 2, 'p02825': 3, 'p02826': 4, 'p02827': 5, 'p02828': 6, 'p02829': 1, 'p02830': 2, 'p02831': 3, 'p02832': 4, 'p02833': 5, 'p02834': 6, 'p02835': 1, 'p02836': 2, 'p02837': 3, 'p02838': 4, 'p02839': 5, 'p02840': 6, 'p02847': 1, 'p02848': 2, 'p02849': 3, 'p02850': 4, 'p02851': 5, 'p02852': 6, 'p02859': 1, 'p02860': 2, 'p02861': 3, 'p02862': 4, 'p02863': 5, 'p02864': 6, 'p02873': 1, 'p02874': 2, 'p02875': 3, 'p02876': 4, 'p02877': 5, 'p02878': 6, 'p02879': 1, 'p02880': 2, 'p02881': 3, 'p02882': 4, 'p02883': 5, 'p02884': 6, 'p02885': 1, 'p02886': 2, 'p02887': 3, 'p02888': 4, 'p02889': 5, 'p02890': 6, 'p02891': 1, 'p02892': 2, 'p02893': 3, 'p02894': 4, 'p02895': 5, 'p02896': 6, 'p02897': 1, 'p02898': 2, 'p02899': 3, 'p02900': 4, 'p02901': 5, 'p02902': 6, 'p02903': 1, 'p02904': 2, 'p02905': 3, 'p02906': 4, 'p02907': 5, 'p02908': 6, 'p02909': 1, 'p02910': 2, 'p02911': 3, 'p02912': 4, 'p02913': 5, 'p02914': 6, 'p02915': 1, 'p02916': 2, 'p02917': 3, 'p02918': 4, 'p02919': 5, 'p02920': 6, 'p02921': 1, 'p02922': 2, 'p02923': 3, 'p02924': 4, 'p02925': 5, 'p02926': 6, 'p02933': 1, 'p02934': 2, 'p02935': 3, 'p02936': 4, 'p02937': 5, 'p02938': 6, 'p02939': 1, 'p02940': 2, 'p02941': 3, 'p02942': 4, 'p02943': 5, 'p02944': 6, 'p02945': 1, 'p02946': 2, 'p02947': 3, 'p02948': 4, 'p02949': 5, 'p02950': 6, 'p02951': 1, 'p02952': 2, 'p02953': 3, 'p02954': 4, 'p02955': 5, 'p02956': 6, 'p02957': 1, 'p02958': 2, 'p02959': 3, 'p02960': 4, 'p02961': 5, 'p02962': 6, 'p02963': 1, 'p02964': 2, 'p02965': 3, 'p02966': 4, 'p02967': 5, 'p02968': 6, 'p02969': 1, 'p02970': 2, 'p02971': 3, 'p02972': 4, 'p02973': 5, 'p02974': 6, 'p02975': 1, 'p02976': 2, 'p02977': 3, 'p02978': 4, 'p02979': 5, 'p02980': 6, 'p02981': 1, 'p02982': 2, 'p02983': 3, 'p02984': 4, 'p02985': 5, 'p02986': 6, 'p02987': 1, 'p02988': 2, 'p02989': 3, 'p02990': 4, 'p02991': 5, 'p02992': 6, 'p02993': 1, 'p02994': 2, 'p02995': 3, 'p02996': 4, 'p02997': 5, 'p02998': 6, 'p02999': 1, 'p03000': 2, 'p03001': 3, 'p03002': 4, 'p03003': 5, 'p03004': 6, 'p03011': 1, 'p03012': 2, 'p03013': 3, 'p03014': 4, 'p03015': 5, 'p03016': 6, 'p03017': 1, 'p03018': 2, 'p03019': 3, 'p03020': 4, 'p03021': 5, 'p03022': 6, 'p03029': 1, 'p03030': 2, 'p03031': 3, 'p03032': 4, 'p03033': 5, 'p03034': 6, 'p03035': 1, 'p03036': 2, 'p03037': 3, 'p03038': 4, 'p03039': 5, 'p03040': 6, 'p03041': 1, 'p03042': 2, 'p03043': 3, 'p03044': 4, 'p03045': 5, 'p03046': 6, 'p03053': 1, 'p03054': 2, 'p03055': 3, 'p03056': 4, 'p03057': 5, 'p03058': 6, 'p03059': 1, 'p03060': 2, 'p03061': 3, 'p03062': 4, 'p03071': 1, 'p03072': 2, 'p03073': 3, 'p03074': 4, 'p03075': 1, 'p03076': 2, 'p03077': 3, 'p03078': 4, 'p03085': 1, 'p03086': 2, 'p03087': 3, 'p03088': 4, 'p03089': 1, 'p03090': 2, 'p03091': 3, 'p03092': 4, 'p03093': 5, 'p03094': 6, 'p03095': 1, 'p03096': 2, 'p03097': 3, 'p03098': 4, 'p03099': 5, 'p03100': 6, 'p03101': 1, 'p03102': 2, 'p03103': 3, 'p03104': 4, 'p03105': 1, 'p03106': 2, 'p03107': 3, 'p03108': 4, 'p03109': 1, 'p03110': 2, 'p03111': 3, 'p03112': 4, 'p03125': 1, 'p03126': 2, 'p03127': 3, 'p03128': 4, 'p03135': 1, 'p03136': 2, 'p03137': 3, 'p03138': 4, 'p03145': 1, 'p03146': 2, 'p03147': 3, 'p03148': 4, 'p03186': 1, 'p03187': 2, 'p03188': 3, 'p03189': 4, 'p03190': 5, 'p03191': 6, 'p03200': 1, 'p03201': 2, 'p03202': 3, 'p03203': 4, 'p03204': 5, 'p03205': 6, 'p03206': 1, 'p03207': 2, 'p03208': 3, 'p03209': 4, 'p03210': 1, 'p03211': 2, 'p03212': 3, 'p03213': 4, 'p03219': 1, 'p03220': 2, 'p03221': 3, 'p03222': 4, 'p03231': 1, 'p03232': 2, 'p03233': 3, 'p03234': 4, 'p03235': 5, 'p03236': 6, 'p03237': 7, 'p03238': 1, 'p03239': 2, 'p03240': 3, 'p03241': 4, 'p03242': 1, 'p03243': 2, 'p03244': 3, 'p03245': 4, 'p03246': 1, 'p03247': 2, 'p03248': 3, 'p03249': 4, 'p03250': 1, 'p03251': 2, 'p03252': 3, 'p03253': 4, 'p03254': 1, 'p03255': 2, 'p03256': 3, 'p03257': 4, 'p03258': 5, 'p03259': 6, 'p03260': 1, 'p03261': 2, 'p03262': 3, 'p03263': 4, 'p03264': 1, 'p03265': 2, 'p03266': 3, 'p03267': 4, 'p03268': 1, 'p03269': 2, 'p03270': 3, 'p03271': 4, 'p03272': 1, 'p03273': 2, 'p03274': 3, 'p03275': 4, 'p03276': 1, 'p03277': 2, 'p03278': 3, 'p03279': 4, 'p03280': 1, 'p03281': 2, 'p03282': 3, 'p03283': 4, 'p03284': 1, 'p03285': 2, 'p03286': 3, 'p03287': 4, 'p03288': 1, 'p03289': 2, 'p03290': 3, 'p03291': 4, 'p03292': 1, 'p03293': 2, 'p03294': 3, 'p03295': 4, 'p03296': 1, 'p03297': 2, 'p03298': 3, 'p03299': 4, 'p03300': 5, 'p03301': 6, 'p03307': 1, 'p03308': 2, 'p03309': 3, 'p03310': 4, 'p03311': 1, 'p03312': 2, 'p03313': 3, 'p03314': 4, 'p03315': 1, 'p03316': 2, 'p03317': 3, 'p03318': 4, 'p03319': 1, 'p03320': 2, 'p03321': 3, 'p03322': 4, 'p03323': 1, 'p03324': 2, 'p03325': 3, 'p03326': 4, 'p03327': 1, 'p03328': 2, 'p03329': 3, 'p03330': 4, 'p03331': 1, 'p03332': 2, 'p03333': 3, 'p03334': 4, 'p03335': 5, 'p03336': 6, 'p03337': 1, 'p03338': 2, 'p03339': 3, 'p03340': 4, 'p03341': 1, 'p03342': 2, 'p03343': 3, 'p03344': 4, 'p03345': 1, 'p03346': 2, 'p03347': 3, 'p03348': 4, 'p03349': 5, 'p03350': 6, 'p03351': 1, 'p03352': 2, 'p03353': 3, 'p03354': 4, 'p03355': 1, 'p03356': 2, 'p03357': 3, 'p03358': 4, 'p03359': 1, 'p03360': 2, 'p03361': 3, 'p03362': 4, 'p03363': 1, 'p03364': 2, 'p03365': 3, 'p03366': 4, 'p03367': 5, 'p03368': 6, 'p03369': 1, 'p03370': 2, 'p03371': 3, 'p03372': 4, 'p03373': 1, 'p03374': 2, 'p03375': 3, 'p03376': 4, 'p03377': 1, 'p03378': 2, 'p03379': 3, 'p03380': 4, 'p03381': 1, 'p03382': 2, 'p03383': 3, 'p03384': 4, 'p03385': 1, 'p03386': 2, 'p03387': 3, 'p03388': 4, 'p03389': 1, 'p03390': 2, 'p03391': 3, 'p03392': 4, 'p03393': 1, 'p03394': 2, 'p03395': 3, 'p03396': 4, 'p03397': 5, 'p03398': 6, 'p03399': 1, 'p03400': 2, 'p03401': 3, 'p03402': 4, 'p03403': 1, 'p03404': 2, 'p03405': 3, 'p03406': 4, 'p03407': 1, 'p03408': 2, 'p03409': 3, 'p03410': 4, 'p03411': 1, 'p03412': 2, 'p03413': 3, 'p03414': 4, 'p03415': 1, 'p03416': 2, 'p03417': 3, 'p03418': 4, 'p03419': 1, 'p03420': 2, 'p03421': 3, 'p03422': 4, 'p03423': 1, 'p03424': 2, 'p03425': 3, 'p03426': 4, 'p03427': 1, 'p03428': 2, 'p03429': 3, 'p03430': 4, 'p03431': 5, 'p03432': 6, 'p03433': 1, 'p03434': 2, 'p03435': 3, 'p03436': 4, 'p03447': 1, 'p03448': 2, 'p03449': 3, 'p03450': 4, 'p03451': 1, 'p03452': 2, 'p03453': 3, 'p03454': 4, 'p03455': 1, 'p03456': 2, 'p03457': 3, 'p03458': 4, 'p03459': 1, 'p03460': 2, 'p03461': 3, 'p03462': 4, 'p03463': 1, 'p03464': 2, 'p03465': 3, 'p03466': 4, 'p03467': 5, 'p03468': 6, 'p03469': 1, 'p03470': 2, 'p03471': 3, 'p03472': 4, 'p03473': 1, 'p03474': 2, 'p03475': 3, 'p03476': 4, 'p03477': 1, 'p03478': 2, 'p03479': 3, 'p03480': 4, 'p03481': 1, 'p03482': 2, 'p03483': 3, 'p03484': 4, 'p03485': 1, 'p03486': 2, 'p03487': 3, 'p03488': 4, 'p03489': 1, 'p03490': 2, 'p03491': 3, 'p03492': 4, 'p03493': 1, 'p03494': 2, 'p03495': 3, 'p03496': 4, 'p03497': 1, 'p03498': 2, 'p03499': 3, 'p03500': 4, 'p03501': 1, 'p03502': 2, 'p03503': 3, 'p03504': 4, 'p03543': 1, 'p03544': 2, 'p03545': 3, 'p03546': 4, 'p03547': 1, 'p03548': 2, 'p03549': 3, 'p03550': 4, 'p03551': 1, 'p03552': 2, 'p03553': 3, 'p03554': 4, 'p03555': 1, 'p03556': 2, 'p03557': 3, 'p03558': 4, 'p03559': 1, 'p03560': 2, 'p03561': 3, 'p03562': 4, 'p03563': 1, 'p03564': 2, 'p03565': 3, 'p03566': 4, 'p03573': 1, 'p03574': 2, 'p03575': 3, 'p03576': 4, 'p03597': 1, 'p03598': 2, 'p03599': 3, 'p03600': 4, 'p03601': 1, 'p03602': 2, 'p03603': 3, 'p03604': 4, 'p03605': 1, 'p03606': 2, 'p03607': 3, 'p03608': 4, 'p03609': 1, 'p03610': 2, 'p03611': 3, 'p03612': 4, 'p03613': 1, 'p03614': 2, 'p03615': 3, 'p03616': 4, 'p03617': 1, 'p03618': 2, 'p03619': 3, 'p03620': 4, 'p03621': 5, 'p03622': 6, 'p03623': 1, 'p03624': 2, 'p03625': 3, 'p03626': 4, 'p03627': 1, 'p03628': 2, 'p03629': 3, 'p03630': 4, 'p03631': 1, 'p03632': 2, 'p03633': 3, 'p03634': 4, 'p03635': 1, 'p03636': 2, 'p03637': 3, 'p03638': 4, 'p03639': 1, 'p03640': 2, 'p03641': 3, 'p03642': 4, 'p03643': 1, 'p03644': 2, 'p03645': 3, 'p03646': 4, 'p03647': 1, 'p03648': 2, 'p03649': 3, 'p03650': 4, 'p03651': 1, 'p03652': 2, 'p03653': 3, 'p03654': 4, 'p03655': 5, 'p03656': 6, 'p03657': 1, 'p03658': 2, 'p03659': 3, 'p03660': 4, 'p03661': 1, 'p03662': 2, 'p03663': 3, 'p03664': 4, 'p03665': 1, 'p03666': 2, 'p03667': 3, 'p03668': 4, 'p03669': 5, 'p03670': 6, 'p03671': 1, 'p03672': 2, 'p03673': 3, 'p03674': 4, 'p03675': 1, 'p03676': 2, 'p03677': 3, 'p03678': 4, 'p03679': 1, 'p03680': 2, 'p03681': 3, 'p03682': 4, 'p03683': 1, 'p03684': 2, 'p03685': 3, 'p03686': 4, 'p03687': 1, 'p03688': 2, 'p03689': 3, 'p03690': 4, 'p03691': 5, 'p03692': 6, 'p03693': 1, 'p03694': 2, 'p03695': 3, 'p03696': 4, 'p03697': 1, 'p03698': 2, 'p03699': 3, 'p03700': 4, 'p03701': 1, 'p03702': 2, 'p03703': 3, 'p03704': 4, 'p03705': 1, 'p03706': 2, 'p03707': 3, 'p03708': 4, 'p03709': 5, 'p03710': 6, 'p03711': 1, 'p03712': 2, 'p03713': 3, 'p03714': 4, 'p03715': 1, 'p03716': 2, 'p03717': 3, 'p03718': 4, 'p03719': 1, 'p03720': 2, 'p03721': 3, 'p03722': 4, 'p03723': 1, 'p03724': 2, 'p03725': 3, 'p03726': 4, 'p03727': 5, 'p03728': 6, 'p03729': 1, 'p03730': 2, 'p03731': 3, 'p03732': 4, 'p03733': 1, 'p03734': 2, 'p03735': 3, 'p03736': 4, 'p03737': 1, 'p03738': 2, 'p03739': 3, 'p03740': 4, 'p03741': 1, 'p03742': 2, 'p03743': 3, 'p03744': 4, 'p03745': 1, 'p03746': 2, 'p03747': 3, 'p03748': 4, 'p03749': 5, 'p03750': 6, 'p03759': 1, 'p03760': 2, 'p03761': 3, 'p03762': 4, 'p03763': 1, 'p03764': 2, 'p03765': 3, 'p03766': 4, 'p03767': 1, 'p03768': 2, 'p03769': 3, 'p03770': 4, 'p03771': 5, 'p03772': 6, 'p03773': 1, 'p03774': 2, 'p03775': 3, 'p03776': 4, 'p03777': 1, 'p03778': 2, 'p03779': 3, 'p03780': 4, 'p03781': 1, 'p03782': 2, 'p03783': 3, 'p03784': 4, 'p03785': 1, 'p03786': 2, 'p03787': 3, 'p03788': 4, 'p03789': 5, 'p03790': 6, 'p03795': 1, 'p03796': 2, 'p03797': 3, 'p03798': 4, 'p03799': 1, 'p03800': 2, 'p03801': 3, 'p03802': 4, 'p03803': 1, 'p03804': 2, 'p03805': 3, 'p03806': 4, 'p03807': 1, 'p03808': 2, 'p03809': 3, 'p03810': 4, 'p03811': 5, 'p03812': 6, 'p03813': 1, 'p03814': 2, 'p03815': 3, 'p03816': 4, 'p03817': 1, 'p03818': 2, 'p03819': 3, 'p03820': 4, 'p03821': 1, 'p03822': 2, 'p03823': 3, 'p03824': 4, 'p03825': 5, 'p03826': 1, 'p03827': 2, 'p03828': 3, 'p03829': 4, 'p03830': 1, 'p03831': 2, 'p03832': 3, 'p03833': 4, 'p03834': 1, 'p03835': 2, 'p03836': 3, 'p03837': 4, 'p03838': 1, 'p03839': 2, 'p03840': 3, 'p03841': 4, 'p03842': 5, 'p03843': 6, 'p03844': 1, 'p03845': 2, 'p03846': 3, 'p03847': 4, 'p03848': 1, 'p03849': 2, 'p03850': 3, 'p03851': 4, 'p03852': 1, 'p03853': 2, 'p03854': 3, 'p03855': 4, 'p03856': 1, 'p03857': 2, 'p03858': 3, 'p03859': 4, 'p03860': 1, 'p03861': 2, 'p03862': 3, 'p03863': 4, 'p03864': 1, 'p03865': 2, 'p03866': 3, 'p03867': 4, 'p03937': 1, 'p03938': 2, 'p03939': 3, 'p03940': 4, 'p03941': 5, 'p03942': 6, 'p03943': 1, 'p03944': 2, 'p03945': 3, 'p03946': 4, 'p03947': 1, 'p03948': 2, 'p03949': 3, 'p03950': 4, 'p03951': 1, 'p03952': 2, 'p03953': 3, 'p03954': 4, 'p03955': 5, 'p03956': 6, 'p03962': 1, 'p03963': 2, 'p03964': 3, 'p03965': 4, 'p03966': 1, 'p03967': 2, 'p03968': 3, 'p03969': 4, 'p03986': 1, 'p03987': 2, 'p03988': 3, 'p03989': 4, 'p03990': 5, 'p03991': 6, 'p03997': 1, 'p03998': 2, 'p03999': 3, 'p04000': 4, 'p04001': 1, 'p04002': 2, 'p04003': 3, 'p04004': 4, 'p04005': 1, 'p04006': 2, 'p04007': 3, 'p04008': 4, 'p04009': 5, 'p04010': 6, 'p04011': 1, 'p04012': 2, 'p04013': 3, 'p04014': 4, 'p04015': 1, 'p04016': 2, 'p04017': 3, 'p04018': 4, 'p04019': 1, 'p04020': 2, 'p04021': 3, 'p04022': 4, 'p04023': 5, 'p04024': 6, 'p04025': 1, 'p04026': 2, 'p04027': 3, 'p04028': 4, 'p04029': 1, 'p04030': 2, 'p04031': 3, 'p04032': 4, 'p04033': 1, 'p04034': 2, 'p04035': 3, 'p04036': 4, 'p04037': 5, 'p04038': 6, 'p04039': 1, 'p04040': 2, 'p04041': 3, 'p04042': 4, 'p04043': 1, 'p04044': 2, 'p04045': 3, 'p04046': 4, 'p04047': 1, 'p04048': 2, 'p04049': 3, 'p04050': 4, 'p04051': 5, 'p04052': 6}\n"
     ]
    }
   ],
   "source": [
    "import pandas as pd\n",
    "from collections import defaultdict\n",
    "problemlist=pd.read_csv('problem_list.csv')\n",
    "problems = defaultdict(list)\n",
    "for index, row in problemlist.iterrows():\n",
    "    if(row['dataset']=='AtCoder'):\n",
    "        if(\"AtCoder Regular Contest\" in row['name']):\n",
    "            number = row['name'].split(\" \")[3]\n",
    "            problems[\"ARC\"+number].append(row['id'])\n",
    "        if(\"AtCoder Beginner Contest\" in row['name']):\n",
    "            number = row['name'].split(\" \")[3]\n",
    "            problems[\"ABC\"+number].append(row['id'])\n",
    "        if(\"AtCoder Grand Contest\" in row['name']):\n",
    "            number = row['name'].split(\" \")[3]\n",
    "            problems[\"AGC\"+number].append(row['id'])\n",
    "\n",
    "#print(problems)\n",
    "difficulty = {}\n",
    "for key in problems.keys():\n",
    "    for idx, id in enumerate(problems[key]):\n",
    "        difficulty[id] = idx+1\n",
    "print(difficulty)\n"
   ]
  },
  {
   "cell_type": "code",
   "execution_count": 10,
   "metadata": {},
   "outputs": [
    {
     "name": "stdout",
     "output_type": "stream",
     "text": [
      "{1: {'top_1': 18, 'top_3': 24, 'top_5': 25, 'top_10': 30}, 2: {'top_1': 7, 'top_3': 11, 'top_5': 13, 'top_10': 16}, 3: {'top_1': 14, 'top_3': 25, 'top_5': 30, 'top_10': 35}, 4: {'top_1': 9, 'top_3': 12, 'top_5': 13, 'top_10': 13}, 5: {'top_1': 4, 'top_3': 4, 'top_5': 6, 'top_10': 6}, 6: {'top_1': 0, 'top_3': 0, 'top_5': 0, 'top_10': 0}}\n",
      "{1: 81, 2: 80, 3: 171, 4: 97, 5: 26, 6: 13}\n"
     ]
    }
   ],
   "source": [
    "import json\n",
    "from pprint import pprint\n",
    "def getJsonData(JsonFile):\n",
    "    with open(JsonFile, encoding=\"utf8\") as f:\n",
    "        data = json.load(f)\n",
    "    return data\n",
    "\n",
    "data = getJsonData('FINAL_RESULT_python2python_with_verdict.json')\n",
    "\n",
    "difficulty_top_at_acc = {}\n",
    "tops = {}\n",
    "tops['top_1'] = 0\n",
    "tops['top_3'] = 0\n",
    "tops['top_5'] = 0\n",
    "tops['top_10'] = 0\n",
    "diff_count = {}\n",
    "for idx in range(1, 7):\n",
    "    diff_count[idx] = 0\n",
    "    #print(eval[dt['idx']]['src_verdict'])\n",
    "    difficulty_top_at_acc[idx] = tops.copy()\n",
    "\n",
    "top_1, top_3 , top_5, top_10= 0, 0, 0, 0\n",
    "before = 0\n",
    "accepted_before = []\n",
    "\n",
    "for ind, dt in enumerate(data):\n",
    "    diff_count[difficulty[data[ind]['tgt_id'].split('_')[0]]]+=1\n",
    "    counted_once = [False, False, False, False]\n",
    "    for idx in range(10):\n",
    "        if dt['test_cases_run_by_generations'][idx]==dt['total_test_cases']:\n",
    "            if not counted_once[0] and idx<1:\n",
    "                difficulty_top_at_acc[difficulty[data[ind]['tgt_id'].split('_')[0]]]['top_1'] +=1\n",
    "                counted_once[0]=True\n",
    "            if not counted_once[1] and idx<3:\n",
    "                difficulty_top_at_acc[difficulty[data[ind]['tgt_id'].split('_')[0]]]['top_3'] +=1\n",
    "                counted_once[1]=True\n",
    "            if not counted_once[2] and idx<5:\n",
    "                difficulty_top_at_acc[difficulty[data[ind]['tgt_id'].split('_')[0]]]['top_5'] +=1\n",
    "                counted_once[2]=True\n",
    "            if not counted_once[3] and idx<10:\n",
    "                difficulty_top_at_acc[difficulty[data[ind]['tgt_id'].split('_')[0]]]['top_10']+=1\n",
    "                counted_once[3]=True\n",
    "\n",
    "print(difficulty_top_at_acc)\n",
    "print(diff_count)\n",
    "\n"
   ]
  },
  {
   "cell_type": "code",
   "execution_count": 11,
   "metadata": {},
   "outputs": [
    {
     "data": {
      "image/png": "[encoded data removed]",
      "text/plain": [
       "<Figure size 432x288 with 1 Axes>"
      ]
     },
     "metadata": {
      "needs_background": "light"
     },
     "output_type": "display_data"
    }
   ],
   "source": [
    "\n",
    "import numpy as np\n",
    "import matplotlib.pyplot as plt\n",
    "\n",
    "N = 5\n",
    "ind = np.arange(N)  # the x locations for the groups\n",
    "width = 0.21       # the width of the bars\n",
    "\n",
    "fig = plt.figure()\n",
    "ax = fig.add_subplot(111)\n",
    "\n",
    "top_1s, top_3s, top_5s, top_10s =  [], [], [], []\n",
    "counts = []\n",
    "for i in range(1, 6):\n",
    "    top_1s.append(difficulty_top_at_acc[i]['top_1'])\n",
    "    top_3s.append(difficulty_top_at_acc[i]['top_3'])\n",
    "    top_5s.append(difficulty_top_at_acc[i]['top_5'])\n",
    "    top_10s.append(difficulty_top_at_acc[i]['top_10'])\n",
    "    counts.append(diff_count[i])\n",
    "\n",
    "rects1 = ax.bar(ind, [x/y for x, y in zip(top_1s, counts)], width, color='r')\n",
    "\n",
    "\n",
    "rects2 = ax.bar(ind+width, [x/y for x, y in zip(top_3s, counts)], width, color='g')\n",
    "\n",
    "rects3 = ax.bar(ind+width*2, [x/y for x, y in zip(top_5s, counts)], width, color='b')\n",
    "\n",
    "rects4 = ax.bar(ind+width*3, [x/y for x, y in zip(top_10s, counts)], width, color='y')\n",
    "\n",
    "\n",
    "\n",
    "ax.set_ylabel('Accuracy on Execution')\n",
    "ax.set_xticks(ind+width)\n",
    "ax.set_xticklabels( ('A', 'B', 'C', 'D', 'E') )\n",
    "#ax.legend( (rects1[0], rects2[0], rects3[0]), ('y', 'z', 'k') )\n",
    "\n",
    "def autolabel(rects):\n",
    "    for rect in rects:\n",
    "        h = rect.get_height()\n",
    "        ax.text(rect.get_x()+rect.get_width()/2., 1.05*h, '%d'%int(h),\n",
    "                ha='center', va='bottom')\n",
    "\n",
    "#autolabel(rects1)\n",
    "#autolabel(rects2)\n",
    "#autolabel(rects3)\n",
    "#autolabel(rects4)\n",
    "plt.savefig('Acceptance_By_Difficulty.pdf', format='pdf', dpi=1200)\n",
    "#plt.show()"
   ]
  },
  {
   "cell_type": "code",
   "execution_count": 14,
   "metadata": {},
   "outputs": [
    {
     "data": {
      "text/plain": [
       "4"
      ]
     },
     "execution_count": 14,
     "metadata": {},
     "output_type": "execute_result"
    }
   ],
   "source": [
    "difficulty_top_at_acc[5]['top_3']"
   ]
  },
  {
   "cell_type": "code",
   "execution_count": 16,
   "metadata": {},
   "outputs": [
    {
     "data": {
      "text/plain": [
       "{1: 81, 2: 80, 3: 171, 4: 97, 5: 26, 6: 13}"
      ]
     },
     "execution_count": 16,
     "metadata": {},
     "output_type": "execute_result"
    }
   ],
   "source": [
    "diff_count"
   ]
  },
  {
   "cell_type": "code",
   "execution_count": null,
   "metadata": {},
   "outputs": [],
   "source": []
  }
 ],
 "metadata": {
  "interpreter": {
   "hash": "e03c7d5b0a8d68dab11758fee63a529a36735699315db70e30825a4f9c804d12"
  },
  "kernelspec": {
   "display_name": "Python 3.6.13 64-bit ('python36': conda)",
   "language": "python",
   "name": "python3"
  },
  "language_info": {
   "codemirror_mode": {
    "name": "ipython",
    "version": 3
   },
   "file_extension": ".py",
   "mimetype": "text/x-python",
   "name": "python",
   "nbconvert_exporter": "python",
   "pygments_lexer": "ipython3",
   "version": "3.6.13"
  },
  "orig_nbformat": 4
 },
 "nbformat": 4,
 "nbformat_minor": 2
}
