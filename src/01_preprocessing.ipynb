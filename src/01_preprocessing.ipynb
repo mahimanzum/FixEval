{
 "cells": [
  {
   "cell_type": "code",
   "execution_count": null,
   "metadata": {},
   "outputs": [],
   "source": [
    "from glob import glob\n",
    "import pandas as pd\n",
    "problemCsvList = glob(\"../Project_CodeNet/metadata/*.csv\")\n",
    "solutionFolderList = glob(\"../Project_CodeNet/data/*\")\n"
   ]
  },
  {
   "cell_type": "code",
   "execution_count": null,
   "metadata": {},
   "outputs": [],
   "source": [
    "print(len(problemCsvList))\n",
    "print(len(solutionFolderList))\n"
   ]
  },
  {
   "cell_type": "code",
   "execution_count": null,
   "metadata": {},
   "outputs": [],
   "source": [
    "set([val.split(\"/\")[-1].replace(\".csv\", \"\") for val in problemCsvList]) ^ set([val.split(\"/\")[-1] for val in solutionFolderList])"
   ]
  },
  {
   "cell_type": "code",
   "execution_count": null,
   "metadata": {},
   "outputs": [],
   "source": [
    "\"../Project_CodeNet/metadata/problem_list.csv\" in problemCsvList"
   ]
  },
  {
   "cell_type": "code",
   "execution_count": null,
   "metadata": {},
   "outputs": [],
   "source": [
    "problemListCsvDF =pd.read_csv(\"../Project_CodeNet/metadata/problem_list.csv\")"
   ]
  },
  {
   "cell_type": "code",
   "execution_count": null,
   "metadata": {},
   "outputs": [],
   "source": [
    "import matplotlib.pyplot as plt\n",
    "import json\n",
    "from joblib import Parallel, delayed, parallel_backend\n",
    "from multiprocessing import Process, Lock\n",
    "from tqdm import tqdm\n",
    "def read_dic(path):\n",
    "    a_file = open(path, \"r\")\n",
    "    output = a_file.read()\n",
    "    return output\n",
    "\n",
    "def write(data, path):\n",
    "    a_file = open(path, \"w\")\n",
    "    json.dump(data, a_file)\n",
    "    a_file.close()\n",
    "\n",
    "submissions = {}\n",
    "    \n",
    "def process(id, lock):\n",
    "    location = \"../Project_CodeNet/metadata/\"+id+'.csv'\n",
    "    problem_df = pd.read_csv(location)\n",
    "    #print(problem_df.columns)\n",
    "    for inddex, row in tqdm(problem_df.iterrows()):\n",
    "        information_tuple = (row['submission_id'], row['date'],row['language'],row['original_language'], row['filename_ext'], row['status'])\n",
    "        lock.acquire()\n",
    "        if(row['user_id'] in submissions.keys()):\n",
    "            if(row['problem_id'] in submissions[row['user_id']].keys()):\n",
    "                submissions[row['user_id']][row['problem_id']].append(information_tuple)\n",
    "            else:\n",
    "                submissions[row['user_id']][row['problem_id']] = [information_tuple]\n",
    "        else:\n",
    "            submissions[row['user_id']] = {}\n",
    "            submissions[row['user_id']][row['problem_id']] = [information_tuple]\n",
    "        \n",
    "        lock.release()\n",
    "    #from pprint import pprint\n",
    "    #pprint(submissions)\n",
    "'''\n",
    "['submission_id', 'problem_id', 'user_id', 'date', 'language',\n",
    "       'original_language', 'filename_ext', 'status', 'cpu_time', 'memory',\n",
    "       'code_size', 'accuracy'],\n",
    "'''  \n",
    "\n",
    "lock = Lock()\n",
    "\n",
    "Parallel(n_jobs=36, prefer=\"threads\")(\n",
    "    delayed(process)(row['id'], lock) for index, row in problemListCsvDF.iterrows())\n",
    "'''\n",
    "for index, row in problemListCsvDF.iterrows():\n",
    "    print(index, row['id'])\n",
    "    process(row['id'])\n",
    "    break\n",
    "'''\n",
    "write(submissions, \"processed.json\")"
   ]
  },
  {
   "cell_type": "code",
   "execution_count": null,
   "metadata": {},
   "outputs": [],
   "source": [
    "cnt = 0\n",
    "for user in submissions:\n",
    "    for problem in submissions[user]:\n",
    "        cnt+=len(submissions[user][problem])"
   ]
  },
  {
   "cell_type": "code",
   "execution_count": null,
   "metadata": {},
   "outputs": [],
   "source": []
  },
  {
   "cell_type": "markdown",
   "metadata": {},
   "source": [
    "Process json"
   ]
  },
  {
   "cell_type": "markdown",
   "metadata": {},
   "source": []
  },
  {
   "cell_type": "code",
   "execution_count": null,
   "metadata": {},
   "outputs": [],
   "source": [
    "from glob import glob\n",
    "import pandas as pd\n",
    "import matplotlib.pyplot as plt\n",
    "import json\n",
    "from joblib import Parallel, delayed, parallel_backend\n",
    "from multiprocessing import Process, Lock\n",
    "from tqdm import tqdm\n",
    "\n",
    "import json\n",
    "def getJsonData(JsonFile):\n",
    "    with open(JsonFile, encoding=\"utf8\") as f:\n",
    "        data = json.load(f)\n",
    "    return data\n",
    "data = getJsonData(\"processed.json\")\n",
    "ans = 0\n",
    "for user in tqdm(data.keys()):\n",
    "    for problem_id in data[user].keys():\n",
    "        ans+=len(data[user][problem_id])\n",
    "print(\"total data = \", ans)"
   ]
  },
  {
   "cell_type": "code",
   "execution_count": 1,
   "metadata": {},
   "outputs": [],
   "source": [
    "from glob import glob\n",
    "import pandas as pd\n",
    "import matplotlib.pyplot as plt\n",
    "import json\n",
    "from joblib import Parallel, delayed, parallel_backend\n",
    "from multiprocessing import Process, Lock\n",
    "from tqdm import tqdm\n",
    "\n",
    "import json\n",
    "def getJsonData(JsonFile):\n",
    "    with open(JsonFile, encoding=\"utf8\") as f:\n",
    "        data = json.load(f)\n",
    "    return data\n",
    "    "
   ]
  },
  {
   "cell_type": "code",
   "execution_count": 2,
   "metadata": {},
   "outputs": [
    {
     "name": "stdout",
     "output_type": "stream",
     "text": [
      "\u001b[0m\u001b[01;34mcached_data\u001b[0m/          evaluation.log             result.txt   test.output\n",
      "\u001b[01;34mcheckpoint-best-ppl\u001b[0m/  generation_evaluation.log  summary.log  test.src\n",
      "\u001b[01;34mcheckpoint-last\u001b[0m/      generation.json            test.gold    training.log\n"
     ]
    }
   ],
   "source": [
    "ls ../codet5/codenet/java2java"
   ]
  },
  {
   "cell_type": "code",
   "execution_count": 3,
   "metadata": {},
   "outputs": [],
   "source": [
    "data = getJsonData('../codet5/codenet/java2java/generation.json')"
   ]
  },
  {
   "cell_type": "code",
   "execution_count": 4,
   "metadata": {},
   "outputs": [
    {
     "data": {
      "text/plain": [
       "500"
      ]
     },
     "execution_count": 4,
     "metadata": {},
     "output_type": "execute_result"
    }
   ],
   "source": [
    "len(data)"
   ]
  },
  {
   "cell_type": "code",
   "execution_count": 6,
   "metadata": {},
   "outputs": [
    {
     "data": {
      "text/plain": [
       "{'idx': 499,\n",
       " 'tgt': 'import java . util . Arrays ; import java . util . Scanner ; public class Main { public static void main ( String [ ] args ) { try ( Scanner sc = new Scanner ( System . in ) ; ) { new Main ( ) . solve ( sc ) ; } } void solve ( Scanner sc ) { int n = sc . nextInt ( ) ; Point [ ] ps = new Point [ n ] ; for ( int i = 0 ; i < n ; i ++ ) { long x = sc . nextLong ( ) ; long y = sc . nextLong ( ) ; long h = sc . nextLong ( ) ; if ( h == 100 ) { System . out . printf ( \" % d ▁ % d ▁ % d % n \" , x , y , h ) ; return ; } ps [ i ] = new Point ( x , y , h ) ; } Arrays . sort ( ps , ( x , y ) -> { if ( y . h == x . h ) { return 0 ; } else if ( y . h > x . h ) { return 1 ; } return - 1 ; } ) ; for ( int x = 0 ; x <= 100 ; x ++ ) { for ( int y = 0 ; y <= 100 ; y ++ ) { long h = ps [ 0 ] . h + Math . abs ( ps [ 0 ] . x - x ) + Math . abs ( ps [ 0 ] . y - y ) ; for ( int k = 0 ; k < n ; k ++ ) { long h1 = Math . max ( h - Math . abs ( ps [ k ] . x - x ) - Math . abs ( ps [ k ] . y - y ) , 0 ) ; if ( ps [ k ] . h != h1 ) { break ; } else if ( k == n - 1 ) { System . out . printf ( \" % d ▁ % d ▁ % d % n \" , x , y , h ) ; } } } } } } class Point { long x ; long y ; long h ; Point ( long x , long y , long h ) { this . x = x ; this . y = y ; this . h = h ; } }',\n",
       " 'tgt_id': 'p03240_s094913361_p03240_s878335176',\n",
       " 'src': 'import java . io . BufferedReader ; import java . io . Closeable ; import java . io . IOException ; import java . io . InputStream ; import java . io . InputStreamReader ; import java . io . PrintWriter ; import java . util . Set ; import java . util . HashSet ; public class Main { public static void main ( String [ ] args ) throws IOException { try ( InputReader reader = new InputReader ( System . in ) ) { solve ( reader ) ; } } private static void solve ( InputReader reader ) throws IOException { int n = reader . readInt ( ) ; Point [ ] points = new Point [ n ] ; for ( int i = 0 ; i < n ; i ++ ) { int [ ] p = reader . readIntsSplitByDelimiter ( \" ▁ \" ) ; points [ i ] = new Point ( p [ 0 ] , p [ 1 ] , p [ 2 ] ) ; if ( p [ 2 ] == 100 ) { System . out . printf ( \" % d ▁ % d ▁ % d % n \" , p [ 0 ] , p [ 1 ] , p [ 2 ] ) ; return ; ; } } for ( int i = 0 ; i <= 100 ; i ++ ) { for ( int j = 0 ; j <= 100 ; j ++ ) { boolean ok = true ; long h = - 1 ; for ( int k = 0 ; k < n ; k ++ ) { if ( points [ k ] . h <= 0 ) { continue ; } long tmp = points [ k ] . h + Math . abs ( points [ k ] . x - i ) + Math . abs ( points [ k ] . y - j ) ; if ( h == - 1 ) { h = tmp ; } if ( h != tmp ) { ok = false ; break ; } } if ( ok ) { System . out . printf ( \" % d ▁ % d ▁ % d % n \" , i , j , h ) ; return ; } } } } } class Point { public int x ; public int y ; public long h ; Point ( int x , int y , long h ) { this . x = x ; this . y = y ; this . h = h ; } } class Util { static int gcd ( int m , int n ) { int min = Math . min ( m , n ) ; int max = Math . max ( m , n ) ; while ( min != 0 ) { int tmp = min ; min = max % tmp ; max = tmp ; } return max ; } static int lcm ( int m , int n ) { return m / gcd ( m , n ) * n ; } } class InputReader implements Closeable , AutoCloseable { private final BufferedReader br ; InputReader ( InputStream inputStream ) { this . br = new BufferedReader ( new InputStreamReader ( inputStream ) ) ; } String readLine ( ) throws IOException { return this . br . readLine ( ) ; } int readInt ( ) throws IOException { return Integer . parseInt ( this . readLine ( ) ) ; } long readLong ( ) throws IOException { return Long . parseLong ( this . readLine ( ) ) ; } double readDouble ( ) throws IOException { return Double . parseDouble ( this . readLine ( ) ) ; } String [ ] readStringsSplitByDelimiter ( String delimiter ) throws IOException { return this . readLine ( ) . split ( delimiter ) ; } int [ ] readIntsSplitByDelimiter ( String delimiter ) throws IOException { String [ ] strings = this . readStringsSplitByDelimiter ( delimiter ) ; int stringsLength = strings . length ; int [ ] ints = new int [ stringsLength ] ; for ( int i = 0 ; i < stringsLength ; i ++ ) { ints [ i ] = Integer . parseInt ( strings [ i ] ) ; } return ints ; } long [ ] readLongsSplitByDelimiter ( String delimiter ) throws IOException { String [ ] strings = this . readStringsSplitByDelimiter ( delimiter ) ; int stringsLength = strings . length ; long [ ] longs = new long [ stringsLength ] ; for ( int i = 0 ; i < stringsLength ; i ++ ) { longs [ i ] = Long . parseLong ( strings [ i ] ) ; } return longs ; } double [ ] readDoublesSplitByDelimiter ( String delimiter ) throws IOException { String [ ] strings = this . readStringsSplitByDelimiter ( delimiter ) ; int stringsLength = strings . length ; double [ ] doubles = new double [ stringsLength ] ; for ( int i = 0 ; i < stringsLength ; i ++ ) { doubles [ i ] = Double . parseDouble ( strings [ i ] ) ; } return doubles ; } @ Override public void close ( ) throws IOException { this . br . close ( ) ; } }',\n",
       " 'generations': ['import java . io . BufferedReader ; import java . io . Closeable ; import java . io . IOException ; import java . io . InputStream ; import java . io . InputStreamReader ; import java . io . PrintWriter ; import java . util . Set ; import java . util . HashSet ; public class Main { public static void main ( String [ ] args ) throws IOException { try ( InputReader reader = new InputReader ( System . in ) ) { solve ( reader ) ; } } private static void solve ( InputReader reader ) throws IOException { int n = reader . readInt ( ) ; Point [ ] points = new Point [ n ] ; for ( int i = 0 ; i < n ; i ++ ) { int [ ] p = reader . readIntsSplitByDelimiter ( \" ▁ \" ) ; points [ i ] = new Point ( p [ 0 ] , p [ 1 ] , p [ 2 ] ) ; if ( p [ 2 ] == 100 ) { System . out . printf ( \" % d ▁ % d ▁ % d % n \" , p [ 0 ] , p [ 1 ] , p [ 2 ] ) ; return ; } } for ( int i = 0 ; i <= 100 ; i ++ ) { for ( int j = 0 ; j <= 100 ; j ++ ) { boolean ok = true ; long h = - 1 ; for ( int k = 0 ; k < n ; k ++ ) { if ( points [ k ] . h <= 0 ) { continue ; } long tmp = points [ k ] . h + Math . abs ( points [ k ] . x - i ) + Math . abs ( points [ k ] . y - j ) ; if ( h == - 1 ) { h = tmp ; } if ( h != tmp ) { ok = false ; break ; } } if ( ok ) { System . out . printf ( \" % d ▁ % d ▁ % d % n \" , i , j , h ) ; return ; } } } } } class Point { public int x ; public int y ; public long h ; Point ( int x , int y , long h ) { this . x = x ; this . y = y ; this . h = h ; } } class Util { static int gcd ( int m , int n ) { int min = Math . min ( m , n ) ; int max = Math . max ( m , n )',\n",
       "  'import java . io . BufferedReader ; import java . io . Closeable ; import java . io . IOException ; import java . io . InputStream ; import java . io . InputStreamReader ; import java . io . PrintWriter ; import java . util . Set ; import java . util . HashSet ; public class Main { public static void main ( String [ ] args ) throws IOException { try ( InputReader reader = new InputReader ( System . in ) ) { solve ( reader ) ; } } private static void solve ( InputReader reader ) throws IOException { int n = reader . readInt ( ) ; Point [ ] points = new Point [ n ] ; for ( int i = 0 ; i < n ; i ++ ) { int [ ] p = reader . readIntsSplitByDelimiter ( \" ▁ \" ) ; points [ i ] = new Point ( p [ 0 ] , p [ 1 ] , p [ 2 ] ) ; if ( p [ 2 ] == 100 ) { System . out . printf ( \" % d ▁ % d ▁ % d % n \" , p [ 0 ] , p [ 1 ] , p [ 2 ] ) ; return ; } } for ( int i = 0 ; i <= 1000 ; i ++ ) { for ( int j = 0 ; j <= 1000 ; j ++ ) { boolean ok = true ; long h = - 1 ; for ( int k = 0 ; k < n ; k ++ ) { if ( points [ k ] . h <= 0 ) { continue ; } long tmp = points [ k ] . h + Math . abs ( points [ k ] . x - i ) + Math . abs ( points [ k ] . y - j ) ; if ( h == - 1 ) { h = tmp ; } if ( h != tmp ) { ok = false ; break ; } } if ( ok ) { System . out . printf ( \" % d ▁ % d ▁ % d % n \" , i , j , h ) ; return ; } } } } } class Point { public int x ; public int y ; public long h ; Point ( int x , int y , long h ) { this . x = x ; this . y = y ; this . h = h ; } } class Util { static int gcd ( int m , int n ) { int min = Math . min ( m , n ) ; int max = Math . max ( m , n )',\n",
       "  'import java . io . BufferedReader ; import java . io . Closeable ; import java . io . IOException ; import java . io . InputStream ; import java . io . InputStreamReader ; import java . io . PrintWriter ; import java . util . Set ; import java . util . HashSet ; public class Main { public static void main ( String [ ] args ) throws IOException { try ( InputReader reader = new InputReader ( System . in ) ) { solve ( reader ) ; } } private static void solve ( InputReader reader ) throws IOException { int n = reader . readInt ( ) ; Point [ ] points = new Point [ n ] ; for ( int i = 0 ; i < n ; i ++ ) { int [ ] p = reader . readIntsSplitByDelimiter ( \" ▁ \" ) ; points [ i ] = new Point ( p [ 0 ] , p [ 1 ] , p [ 2 ] ) ; if ( p [ 2 ] == 100 ) { System . out . printf ( \" % d ▁ % d ▁ % d % n \" , p [ 0 ] , p [ 1 ] , p [ 2 ] ) ; return ; } } for ( int i = 0 ; i <= 100 ; i ++ ) { for ( int j = 0 ; j <= 100 ; j ++ ) { boolean ok = true ; long h = - 1 ; for ( int k = 0 ; k < n ; k ++ ) { if ( points [ k ] . h <= 0 ) { continue ; } long tmp = points [ k ] . h + Math . abs ( points [ k ] . x - i ) + Math . abs ( points [ k ] . y - j ) ; if ( h == - 1 ) { h = tmp ; } if ( h != tmp ) { ok = false ; break ; } } if ( ok ) { System . out . printf ( \" % d ▁ % d ▁ % d % n \" , i , j , h ) ; return ; } } } } class Point { public int x ; public int y ; public long h ; Point ( int x , int y , long h ) { this . x = x ; this . y = y ; this . h = h ; } } class Util { static int gcd ( int m , int n ) { int min = Math . min ( m , n ) ; int max = Math . max ( m , n ) ;',\n",
       "  'import java . io . BufferedReader ; import java . io . Closeable ; import java . io . IOException ; import java . io . InputStream ; import java . io . InputStreamReader ; import java . io . PrintWriter ; import java . util . Set ; import java . util . HashSet ; public class Main { public static void main ( String [ ] args ) throws IOException { try ( InputReader reader = new InputReader ( System . in ) ) { solve ( reader ) ; } } private static void solve ( InputReader reader ) throws IOException { int n = reader . readInt ( ) ; Point [ ] points = new Point [ n ] ; for ( int i = 0 ; i < n ; i ++ ) { int [ ] p = reader . readIntsSplitByDelimiter ( \" ▁ \" ) ; points [ i ] = new Point ( p [ 0 ] , p [ 1 ] , p [ 2 ] ) ; if ( p [ 2 ] == 100 ) { System . out . printf ( \" % d ▁ % d ▁ % d % n \" , p [ 0 ] , p [ 1 ] , p [ 2 ] ) ; return ; } } for ( int i = 0 ; i <= 100000 ; i ++ ) { for ( int j = 0 ; j <= 100000 ; j ++ ) { boolean ok = true ; long h = - 1 ; for ( int k = 0 ; k < n ; k ++ ) { if ( points [ k ] . h <= 0 ) { continue ; } long tmp = points [ k ] . h + Math . abs ( points [ k ] . x - i ) + Math . abs ( points [ k ] . y - j ) ; if ( h == - 1 ) { h = tmp ; } if ( h != tmp ) { ok = false ; break ; } } if ( ok ) { System . out . printf ( \" % d ▁ % d ▁ % d % n \" , i , j , h ) ; return ; } } } } } class Point { public int x ; public int y ; public long h ; Point ( int x , int y , long h ) { this . x = x ; this . y = y ; this . h = h ; } } class Util { static int gcd ( int m , int n ) { int min = Math . min ( m , n ) ; int max = Math . max ( m , n )',\n",
       "  'import java . io . BufferedReader ; import java . io . Closeable ; import java . io . IOException ; import java . io . InputStream ; import java . io . InputStreamReader ; import java . io . PrintWriter ; import java . util . Set ; import java . util . HashSet ; public class Main { public static void main ( String [ ] args ) throws IOException { try ( InputReader reader = new InputReader ( System . in ) ) { solve ( reader ) ; } } private static void solve ( InputReader reader ) throws IOException { int n = reader . readInt ( ) ; Point [ ] points = new Point [ n ] ; for ( int i = 0 ; i < n ; i ++ ) { int [ ] p = reader . readIntsSplitByDelimiter ( \" ▁ \" ) ; points [ i ] = new Point ( p [ 0 ] , p [ 1 ] , p [ 2 ] ) ; if ( p [ 2 ] == 100 ) { System . out . printf ( \" % d ▁ % d ▁ % d % n \" , p [ 0 ] , p [ 1 ] , p [ 2 ] ) ; return ; } } for ( int i = 0 ; i <= 100 ; i ++ ) { for ( int j = 0 ; j <= 100 ; j ++ ) { boolean ok = true ; long h = - 1 ; for ( int k = 0 ; k < n ; k ++ ) { if ( points [ k ] . h <= 0 ) { continue ; } long tmp = points [ k ] . h + Math . abs ( points [ k ] . x - i ) + Math . abs ( points [ k ] . y - j ) ; if ( h == - 1 ) { h = tmp ; } if ( h != tmp ) { ok = false ; break ; } } if ( ok ) { System . out . printf ( \" % d ▁ % d ▁ % d % n \" , i , j , h ) ; return ; } } } } } class Point { public long x ; public long y ; long h ; Point ( long x , long y , long h ) { this . x = x ; this . y = y ; this . h = h ; } } class Util { static int gcd ( int m , int n ) { int min = Math . min ( m , n ) ; int max = Math . max ( m , n ) ;',\n",
       "  'import java . io . BufferedReader ; import java . io . Closeable ; import java . io . IOException ; import java . io . InputStream ; import java . io . InputStreamReader ; import java . io . PrintWriter ; import java . util . Set ; import java . util . HashSet ; public class Main { public static void main ( String [ ] args ) throws IOException { try ( InputReader reader = new InputReader ( System . in ) ) { solve ( reader ) ; } } private static void solve ( InputReader reader ) throws IOException { int n = reader . readInt ( ) ; Point [ ] points = new Point [ n ] ; for ( int i = 0 ; i < n ; i ++ ) { int [ ] p = reader . readIntsSplitByDelimiter ( \" ▁ \" ) ; points [ i ] = new Point ( p [ 0 ] , p [ 1 ] , p [ 2 ] ) ; if ( p [ 2 ] == 100 ) { System . out . printf ( \" % d ▁ % d ▁ % d % n \" , p [ 0 ] , p [ 1 ] , p [ 2 ] ) ; return ; } } for ( int i = 0 ; i <= 10000 ; i ++ ) { for ( int j = 0 ; j <= 10000 ; j ++ ) { boolean ok = true ; long h = - 1 ; for ( int k = 0 ; k < n ; k ++ ) { if ( points [ k ] . h <= 0 ) { continue ; } long tmp = points [ k ] . h + Math . abs ( points [ k ] . x - i ) + Math . abs ( points [ k ] . y - j ) ; if ( h == - 1 ) { h = tmp ; } if ( h != tmp ) { ok = false ; break ; } } if ( ok ) { System . out . printf ( \" % d ▁ % d ▁ % d % n \" , i , j , h ) ; return ; } } } } } class Point { public int x ; public int y ; public long h ; Point ( int x , int y , long h ) { this . x = x ; this . y = y ; this . h = h ; } } class Util { static int gcd ( int m , int n ) { int min = Math . min ( m , n ) ; int max = Math . max ( m , n )',\n",
       "  'import java . io . BufferedReader ; import java . io . Closeable ; import java . io . IOException ; import java . io . InputStream ; import java . io . InputStreamReader ; import java . io . PrintWriter ; import java . util . Set ; import java . util . HashSet ; public class Main { public static void main ( String [ ] args ) throws IOException { try ( InputReader reader = new InputReader ( System . in ) ) { solve ( reader ) ; } } private static void solve ( InputReader reader ) throws IOException { int n = reader . readInt ( ) ; Point [ ] points = new Point [ n ] ; for ( int i = 0 ; i < n ; i ++ ) { int [ ] p = reader . readIntsSplitByDelimiter ( \" ▁ \" ) ; points [ i ] = new Point ( p [ 0 ] , p [ 1 ] , p [ 2 ] ) ; if ( p [ 2 ] == 100 ) { System . out . printf ( \" % d ▁ % d ▁ % d % n \" , p [ 0 ] , p [ 1 ] , p [ 2 ] ) ; return ; } } for ( int i = 0 ; i <= 300 ; i ++ ) { for ( int j = 0 ; j <= 300 ; j ++ ) { boolean ok = true ; long h = - 1 ; for ( int k = 0 ; k < n ; k ++ ) { if ( points [ k ] . h <= 0 ) { continue ; } long tmp = points [ k ] . h + Math . abs ( points [ k ] . x - i ) + Math . abs ( points [ k ] . y - j ) ; if ( h == - 1 ) { h = tmp ; } if ( h != tmp ) { ok = false ; break ; } } if ( ok ) { System . out . printf ( \" % d ▁ % d ▁ % d % n \" , i , j , h ) ; return ; } } } } } class Point { public int x ; public int y ; public long h ; Point ( int x , int y , long h ) { this . x = x ; this . y = y ; this . h = h ; } } class Util { static int gcd ( int m , int n ) { int min = Math . min ( m , n ) ; int max = Math . max ( m , n )',\n",
       "  'import java . io . BufferedReader ; import java . io . Closeable ; import java . io . IOException ; import java . io . InputStream ; import java . io . InputStreamReader ; import java . io . PrintWriter ; import java . util . Set ; import java . util . HashSet ; public class Main { public static void main ( String [ ] args ) throws IOException { try ( InputReader reader = new InputReader ( System . in ) ) { solve ( reader ) ; } } private static void solve ( InputReader reader ) throws IOException { int n = reader . readInt ( ) ; Point [ ] points = new Point [ n ] ; for ( int i = 0 ; i < n ; i ++ ) { int [ ] p = reader . readIntsSplitByDelimiter ( \" ▁ \" ) ; points [ i ] = new Point ( p [ 0 ] , p [ 1 ] , p [ 2 ] ) ; if ( p [ 2 ] == 100 ) { System . out . printf ( \" % d ▁ % d ▁ % d % n \" , p [ 0 ] , p [ 1 ] , p [ 2 ] ) ; return ; } } for ( int i = 0 ; i <= 100 ; i ++ ) { for ( int j = 0 ; j <= 100 ; j ++ ) { boolean ok = true ; long h = - 1 ; for ( int k = 0 ; k < n ; k ++ ) { if ( points [ k ] . h <= 0 ) { continue ; } long tmp = points [ k ] . h + Math . abs ( points [ k ] . x - i ) + Math . abs ( points [ k ] . y - j ) ; if ( h == - 1 ) { h = tmp ; } if ( h != tmp ) { ok = false ; break ; } } if ( ok ) { System . out . printf ( \" % d ▁ % d ▁ % d % n \" , i , j , h ) ; return ; } } } } } class Point { public int x ; public int y ; public long h ; Point ( int x , int y , long h ) { this . x = x ; this . y = y ; this . h = h ; } } class Util { static int gcd ( int m , int n ) { int min = Math . min ( m , n ) ; int max = Math . max ( m , n +',\n",
       "  'import java . io . BufferedReader ; import java . io . Closeable ; import java . io . IOException ; import java . io . InputStream ; import java . io . InputStreamReader ; import java . io . PrintWriter ; import java . util . Set ; import java . util . HashSet ; public class Main { public static void main ( String [ ] args ) throws IOException { try ( InputReader reader = new InputReader ( System . in ) ) { solve ( reader ) ; } } private static void solve ( InputReader reader ) throws IOException { int n = reader . readInt ( ) ; Point [ ] points = new Point [ n ] ; for ( int i = 0 ; i < n ; i ++ ) { int [ ] p = reader . readIntsSplitByDelimiter ( \" ▁ \" ) ; points [ i ] = new Point ( p [ 0 ] , p [ 1 ] , p [ 2 ] ) ; if ( p [ 2 ] == 100 ) { System . out . printf ( \" % d ▁ % d ▁ % d % n \" , p [ 0 ] , p [ 1 ] , p [ 2 ] ) ; return ; } } for ( int i = 0 ; i <= 1000 ; i ++ ) { for ( int j = 0 ; j <= 1000 ; j ++ ) { boolean ok = true ; long h = - 1 ; for ( int k = 0 ; k < n ; k ++ ) { if ( points [ k ] . h <= 0 ) { continue ; } long tmp = points [ k ] . h + Math . abs ( points [ k ] . x - i ) + Math . abs ( points [ k ] . y - j ) ; if ( h == - 1 ) { h = tmp ; } if ( h != tmp ) { ok = false ; break ; } } if ( ok ) { System . out . printf ( \" % d ▁ % d ▁ % d % n \" , i , j , h ) ; return ; } } } } } class Point { public int x ; public int y ; public long h ; Point ( int x , int y , long h ) { this . x = x ; this . y = y ; this . h = h ; } } class Util { static int gcd ( int m , int n ) { int min = Math . min ( m , n ) ; int max = Math . max ( m , n +',\n",
       "  'import java . io . BufferedReader ; import java . io . Closeable ; import java . io . IOException ; import java . io . InputStream ; import java . io . InputStreamReader ; import java . io . PrintWriter ; import java . util . Set ; import java . util . HashSet ; public class Main { public static void main ( String [ ] args ) throws IOException { try ( InputReader reader = new InputReader ( System . in ) ) { solve ( reader ) ; } } private static void solve ( InputReader reader ) throws IOException { int n = reader . readInt ( ) ; Point [ ] points = new Point [ n ] ; for ( int i = 0 ; i < n ; i ++ ) { int [ ] p = reader . readIntsSplitByDelimiter ( \" ▁ \" ) ; points [ i ] = new Point ( p [ 0 ] , p [ 1 ] , p [ 2 ] ) ; if ( p [ 2 ] == 100 ) { System . out . printf ( \" % d ▁ % d ▁ % d % n \" , p [ 0 ] , p [ 1 ] , p [ 2 ] ) ; return ; } } for ( int i = 0 ; i <= 100 ; i ++ ) { for ( int j = 0 ; j <= 100 ; j ++ ) { boolean ok = true ; long h = - 1 ; for ( int k = 0 ; k < n ; k ++ ) { if ( points [ k ] . h <= 0 ) { continue ; } long tmp = points [ k ] . h + Math . abs ( points [ k ] . x - i ) + Math . abs ( points [ k ] . y - j ) ; if ( h == - 1 ) { h = tmp ; } if ( h != tmp ) { ok = false ; break ; } } if ( ok ) { System . out . printf ( \" % d ▁ % d ▁ % d % n \" , i , j , h ) ; return ; } } } } } class Point { public int x ; public int y ; public long h ; Point ( int x , int y , long h ) { this . x = x ; this . y = y ; this . h = h ; } } class Util { static int gcd ( int m , int n ) { int min = Math . min ( m , n ) ; int max = Math . max ( m , n -']}"
      ]
     },
     "execution_count": 6,
     "metadata": {},
     "output_type": "execute_result"
    }
   ],
   "source": [
    "data[499]"
   ]
  },
  {
   "cell_type": "code",
   "execution_count": null,
   "metadata": {},
   "outputs": [],
   "source": []
  },
  {
   "cell_type": "code",
   "execution_count": null,
   "metadata": {},
   "outputs": [],
   "source": [
    "from difflib import SequenceMatcher\n",
    "from codegen.preprocessing.lang_processors.java_processor import JavaProcessor\n",
    "from codegen.preprocessing.lang_processors.python_processor import PythonProcessor\n",
    "\n",
    "root_folder = \"../third_party\"\n",
    "jprocessor = JavaProcessor(root_folder=root_folder)\n",
    "pyprocessor = PythonProcessor(root_folder=root_folder)\n",
    "\n",
    "class Solution:\n",
    "    def __init__(\n",
    "            self,\n",
    "            source,\n",
    "            lang,\n",
    "            problem_id,\n",
    "            code_tokens,\n",
    "            functions_standalone=[],\n",
    "            functions_class=[],\n",
    "            submission_id=\"\",\n",
    "            verdict=\"\"\n",
    "    ):\n",
    "        self.source = source\n",
    "        self.lang = lang\n",
    "        self.problem_id = problem_id\n",
    "        self.code_tokens = code_tokens\n",
    "        self.submission_id = submission_id\n",
    "        self.functions_standalone = functions_standalone\n",
    "        self.functions_class = functions_class\n",
    "        self.verdict=verdict\n",
    "\n",
    "    def __repr__(self):\n",
    "        return 'source: ' + self.source + '\\n' + \\\n",
    "               'lang: ' + self.lang + '\\n' + \\\n",
    "               'problem_id: ' + self.problem_id + '\\n' + \\\n",
    "               'code: ' + self.code_tokens + '\\n' + \\\n",
    "               'submission_id: ' + self.submission_id + '\\n' + \\\n",
    "               'verdict: ' + self.verdict + '\\n'\n",
    "\n",
    "    def __str__(self):\n",
    "        return 'source: ' + self.source + '\\n' + \\\n",
    "               'lang: ' + self.lang + '\\n' + \\\n",
    "               'problem_id: ' + self.problem_id + '\\n' + \\\n",
    "               'code: ' + self.code_tokens + '\\n' + \\\n",
    "               'submission_id: ' + self.submission_id + '\\n'+ \\\n",
    "               'verdict: ' + self.verdict + '\\n'\n",
    "    def toJSON(self):\n",
    "        return self.__dict__\n",
    "\n",
    "\n",
    "def calculate_similarity(code1_tokens, code2_tokens):\n",
    "    code1 = ' '.join(code1_tokens)\n",
    "    code2 = ' '.join(code2_tokens)\n",
    "    return SequenceMatcher(None, code1, code2).ratio()\n",
    "\n",
    "def write_output_to_file(problems, file_to_write):\n",
    "    mode = 'w'\n",
    "    if os.path.exists(file_to_write):\n",
    "        mode = 'a'\n",
    "        with open(file_to_write, mode, encoding='utf8') as fw:\n",
    "            fw.write('\\n')\n",
    "    with open(file_to_write, mode, encoding='utf8') as fw:\n",
    "        fw.write('\\n'.join([json.dumps(p) for p in problems]))\n",
    "\n",
    "\n",
    "\n",
    "def process_user(user_id):\n",
    "    java_solutions = []\n",
    "    python_solutions = []\n",
    "\n",
    "    for problem_id in data[user_id].keys():\n",
    "        submissions = data[user_id][problem_id]\n",
    "\n",
    "        acceptedJavaSolution = \"\"\n",
    "        closeJavaSolution = \"\"\n",
    "        acceptedPythonSolution = \"\"\n",
    "        closePythonSolution = \"\"\n",
    "\n",
    "        functions_standalone_py=[]\n",
    "        functions_class_py = []\n",
    "        functions_standalone_java=[]\n",
    "        functions_class_java = []\n",
    "\n",
    "        closeSubmissionIdpy = \"\"\n",
    "        closeSubmissionIdjava=\"\"\n",
    "        submission_id_py=\"\"\n",
    "        submission_id_java=\"\"\n",
    "        verdict_py=\"\"\n",
    "        verdict_java=\"\"\n",
    "\n",
    "        for submisson in submissions:\n",
    "            try:\n",
    "                if(submisson[2]==\"Java\"):\n",
    "                    if(submisson[5]==\"Accepted\"):\n",
    "                        solution_path = \"../Project_CodeNet/data/\"+problem_id+\"/Java/\"+submisson[0]+'.java'\n",
    "                        with open(solution_path, 'r', encoding='utf8') as f:\n",
    "                            code = f.read()\n",
    "                            acceptedJavaSolution = code[::]\n",
    "                            submission_id_java = submisson[0]\n",
    "                            code_tokens_java = jprocessor.tokenize_code(code)\n",
    "                            fn_standalone_java, fn_class_java = jprocessor.extract_functions(code_tokens_java)\n",
    "                            functions_standalone_java = [(jprocessor.get_function_name(fn), fn) for fn in fn_standalone_java]\n",
    "                            functions_class_java = [(jprocessor.get_function_name(fn), fn) for fn in fn_class_java]\n",
    "\n",
    "\n",
    "                if(submisson[2]==\"Python\"):\n",
    "                    if(submisson[5]==\"Accepted\"):\n",
    "                        solution_path = \"../Project_CodeNet/data/\"+problem_id+\"/Python/\"+submisson[0]+'.py'\n",
    "                        with open(solution_path, 'r', encoding='utf8') as f:\n",
    "                            code = f.read()\n",
    "                            acceptedPythonSolution = code[::]\n",
    "                            submission_id_py = submisson[0]\n",
    "                            code_tokens_py = pyprocessor.tokenize_code(code)\n",
    "                            fn_standalone_py, fn_class_py = pyprocessor.extract_functions(code_tokens_py)\n",
    "                            functions_standalone_py = [(pyprocessor.get_function_name(fn), fn) for fn in fn_standalone_py]\n",
    "                            functions_class_py = [(pyprocessor.get_function_name(fn), fn) for fn in fn_class_py]\n",
    "            except BaseException as error:\n",
    "                print(\"error for submission top problem id\",problem_id, submisson)\n",
    "                pass\n",
    "\n",
    "\n",
    "        java_min_distance = 999999\n",
    "        python_min_distance = 999999\n",
    "        \n",
    "        for submisson in submissions:\n",
    "            try:\n",
    "                if(submisson[2]==\"Java\"):\n",
    "                    if(submisson[5]!=\"Accepted\"):\n",
    "                        solution_path = \"../Project_CodeNet/data/\"+problem_id+\"/Java/\"+submisson[0]+'.java'\n",
    "                        with open(solution_path, 'r', encoding='utf8') as f:\n",
    "                            code = f.read()\n",
    "                            dis = calculate_similarity(code,acceptedJavaSolution)\n",
    "                            if(dis<java_min_distance):\n",
    "                                closeJavaSolution=code[::]\n",
    "                                java_min_distance = dis\n",
    "                                closeSubmissionIdjava = submisson[0]\n",
    "                                verdict_java=submisson[5]\n",
    "\n",
    "\n",
    "                if(submisson[2]==\"Python\"):\n",
    "                    if(submisson[5]!=\"Accepted\"):\n",
    "                        solution_path = \"../Project_CodeNet/data/\"+problem_id+\"/Python/\"+submisson[0]+'.py'\n",
    "                        with open(solution_path, 'r', encoding='utf8') as f:\n",
    "                            code = f.read()\n",
    "                            dis = calculate_similarity(code,acceptedPythonSolution)\n",
    "                            if(dis<python_min_distance):\n",
    "                                closePythonSolution=code[::]\n",
    "                                python_min_distance = dis\n",
    "                                closeSubmissionIdpy = submisson[0]\n",
    "                                verdict_py=submisson[5]\n",
    "            except BaseException as error:\n",
    "                print(\"error for submission \", submisson)\n",
    "                pass\n",
    "            \n",
    "        if(len(acceptedPythonSolution)*len(closePythonSolution)):  \n",
    "            python_solutions.append((Solution(\n",
    "                                        \"source\",\n",
    "                                        'python',\n",
    "                                        problem_id,\n",
    "                                        closePythonSolution,\n",
    "                                        functions_standalone_py,\n",
    "                                        functions_class_py,\n",
    "                                        closeSubmissionIdpy,\n",
    "                                        verdict_py\n",
    "                                    ).toJSON(),Solution(\n",
    "                                        \"source\",\n",
    "                                        'python',\n",
    "                                        problem_id,\n",
    "                                        acceptedPythonSolution,\n",
    "                                        functions_standalone_py,\n",
    "                                        functions_class_py,\n",
    "                                        submission_id_py,\n",
    "                                        \"Accepted\"\n",
    "                                    ).toJSON())\n",
    "                                )\n",
    "        if(len(acceptedJavaSolution)*len(closeJavaSolution)):\n",
    "            java_solutions.append((Solution(\n",
    "                                        \"source\",\n",
    "                                        'java',\n",
    "                                        problem_id,\n",
    "                                        closeJavaSolution,\n",
    "                                        functions_standalone_java,\n",
    "                                        functions_class_java,\n",
    "                                        closeSubmissionIdjava,\n",
    "                                        verdict_java\n",
    "                                    ).toJSON(),Solution(\n",
    "                                        \"source\",\n",
    "                                        'java',\n",
    "                                        problem_id,\n",
    "                                        acceptedJavaSolution,\n",
    "                                        functions_standalone_java,\n",
    "                                        functions_class_java,\n",
    "                                        submission_id_java,\n",
    "                                        \"Accepted\"\n",
    "                                    ).toJSON())\n",
    "                                )\n",
    "        #write in a file next task\n",
    "    write_output_to_file(java_solutions, \"java_solutions.jsonl\")\n",
    "    write_output_to_file(python_solutions, \"python_solutions.jsonl\")\n",
    "    "
   ]
  },
  {
   "cell_type": "code",
   "execution_count": null,
   "metadata": {},
   "outputs": [],
   "source": [
    "for user in tqdm(list(data.keys())[:10]):\n",
    "    process_user(user)"
   ]
  },
  {
   "cell_type": "code",
   "execution_count": null,
   "metadata": {},
   "outputs": [],
   "source": [
    "print(len(java_solutions))\n",
    "print(len(python_solutions))"
   ]
  },
  {
   "cell_type": "code",
   "execution_count": null,
   "metadata": {},
   "outputs": [],
   "source": [
    "python_solutions[-1]"
   ]
  },
  {
   "cell_type": "code",
   "execution_count": null,
   "metadata": {},
   "outputs": [],
   "source": [
    "#cat ../Project_CodeNet/data/p00220/Java/s289306249.java\n",
    "#cat ../Project_CodeNet/data/p00442/Java/s813585875.java\n",
    "from codegen.preprocessing.lang_processors.java_processor import JavaProcessor\n",
    "from codegen.preprocessing.lang_processors.python_processor import PythonProcessor\n",
    "\n",
    "root_folder = \"../third_party\"\n",
    "jprocessor = JavaProcessor(root_folder=root_folder)\n",
    "#sol = \"../Project_CodeNet/data/p00220/Java/s289306249.java\"\n",
    "#sol = \"exceptional_case.java\"\n",
    "sol = \"../Project_CodeNet/data/p04049/Java/s881422316.java\"\n",
    "\n",
    "with open(sol, 'r', encoding='utf8') as f:\n",
    "    code = f.read()\n",
    "    print(code.strip())\n",
    "    code_tokens_java = jprocessor.tokenize_code(code)\n",
    "    fn_standalone_java, fn_class_java = jprocessor.extract_functions(code_tokens_java)\n",
    "    print(fn_standalone_java, fn_class_java)\n",
    "    functions_standalone_java = [(jprocessor.get_function_name(fn), fn) for fn in fn_standalone_java]\n",
    "    functions_class_java = [(jprocessor.get_function_name(fn), fn) for fn in fn_class_java]"
   ]
  },
  {
   "cell_type": "code",
   "execution_count": null,
   "metadata": {},
   "outputs": [],
   "source": [
    "with open('exceptional_case.java', 'r', encoding='utf8') as f:\n",
    "    code = f.read()\n",
    "    print(code)"
   ]
  },
  {
   "cell_type": "code",
   "execution_count": null,
   "metadata": {},
   "outputs": [],
   "source": [
    "with open(\"python_solutions.jsonl\", 'r') as f:\n",
    "    for line in f:\n",
    "        ex = json.loads(line)\n",
    "        pprint(ex[1])\n",
    "        break"
   ]
  },
  {
   "cell_type": "code",
   "execution_count": null,
   "metadata": {},
   "outputs": [],
   "source": [
    "cp ../Project_CodeNet/data/p00220/Java/s289306249.java exceptional_case.java"
   ]
  },
  {
   "cell_type": "code",
   "execution_count": null,
   "metadata": {},
   "outputs": [],
   "source": [
    "ls"
   ]
  },
  {
   "cell_type": "code",
   "execution_count": null,
   "metadata": {},
   "outputs": [],
   "source": [
    "import json\n",
    "from pprint import pprint\n",
    "with open(\"exceptional.jsonl\", 'r') as f:\n",
    "    for line in f:\n",
    "        #print(line.replace(\"\\'\",\"\\\"\"))\n",
    "        ex = json.loads(line.replace(\"\\'\",\"\\\"\"))\n",
    "        pprint(ex)\n",
    "        break"
   ]
  },
  {
   "cell_type": "code",
   "execution_count": null,
   "metadata": {},
   "outputs": [],
   "source": [
    "def write(data, path):\n",
    "    a_file = open(path, \"w\")\n",
    "    json.dump(data, a_file)\n",
    "    a_file.close()\n",
    "dt = {\n",
    "    'key':'val',\n",
    "    'key1':'va\"aba\"bl',\n",
    "}\n",
    "write([dt, dt], \"excep.json\")"
   ]
  },
  {
   "cell_type": "code",
   "execution_count": null,
   "metadata": {},
   "outputs": [],
   "source": [
    "\n",
    "import json\n",
    "from pprint import pprint\n",
    "def getJsonData(JsonFile):\n",
    "    with open(JsonFile, encoding=\"utf8\") as f:\n",
    "        data = json.load(f)\n",
    "    return data\n",
    "java_data = getJsonData('../data/java/jsons/0.json')\n",
    "#python_data = getJsonData('../data/Python/jsons/0.json')"
   ]
  },
  {
   "cell_type": "code",
   "execution_count": null,
   "metadata": {},
   "outputs": [],
   "source": [
    "pprint(java_data[1])"
   ]
  },
  {
   "cell_type": "code",
   "execution_count": null,
   "metadata": {},
   "outputs": [],
   "source": [
    "for val in java_data:\n",
    "    print(val[0]['code_tokens'])\n",
    "    print(\"################\")\n",
    "    print(val[1]['code_tokens'])\n",
    "    break"
   ]
  },
  {
   "cell_type": "code",
   "execution_count": null,
   "metadata": {},
   "outputs": [],
   "source": [
    "from glob import glob\n",
    "import pandas as pd\n",
    "import matplotlib.pyplot as plt\n",
    "import json\n",
    "from joblib import Parallel, delayed, parallel_backend\n",
    "from multiprocessing import Process, Lock\n",
    "from tqdm import tqdm\n",
    "import os\n",
    "import json\n",
    "import threading\n",
    "\n",
    "def getJsonData(JsonFile):\n",
    "    with open(JsonFile, encoding=\"utf8\") as f:\n",
    "        data = json.load(f)\n",
    "    return data\n",
    "\n",
    "data = getJsonData(\"processed.json\")\n",
    "ans = 0\n",
    "for user in tqdm(data.keys()):\n",
    "    for problem_id in data[user].keys():\n",
    "        ans+=len(data[user][problem_id])\n",
    "print(\"total data = \", ans)\n"
   ]
  },
  {
   "cell_type": "code",
   "execution_count": null,
   "metadata": {},
   "outputs": [],
   "source": [
    "\n",
    "from difflib import SequenceMatcher\n",
    "from codegen.preprocessing.lang_processors.java_processor import JavaProcessor\n",
    "from codegen.preprocessing.lang_processors.python_processor import PythonProcessor\n",
    "import timeout_decorator \n",
    " \n",
    "\n",
    "root_folder = \"../third_party\"\n",
    "jprocessor = JavaProcessor(root_folder=root_folder)\n",
    "pyprocessor = PythonProcessor(root_folder=root_folder)\n",
    "\n",
    "class Solution:\n",
    "    def __init__(\n",
    "            self,\n",
    "            source,\n",
    "            lang,\n",
    "            problem_id,\n",
    "            code_tokens,\n",
    "            functions_standalone=[],\n",
    "            functions_class=[],\n",
    "            submission_id=\"\",\n",
    "            verdict=\"\"\n",
    "    ):\n",
    "        self.source = source\n",
    "        self.lang = lang\n",
    "        self.problem_id = problem_id\n",
    "        self.code_tokens = code_tokens.replace(\"\\\"\", \"\")\n",
    "        self.submission_id = submission_id\n",
    "        self.functions_standalone = functions_standalone\n",
    "        self.functions_class = functions_class\n",
    "        self.verdict=verdict\n",
    "\n",
    "    def __repr__(self):\n",
    "        return 'source: ' + self.source + '\\n' + \\\n",
    "               'lang: ' + self.lang + '\\n' + \\\n",
    "               'problem_id: ' + self.problem_id + '\\n' + \\\n",
    "               'code: ' + self.code_tokens + '\\n' + \\\n",
    "               'submission_id: ' + self.submission_id + '\\n' + \\\n",
    "               'verdict: ' + self.verdict + '\\n'\n",
    "\n",
    "    def __str__(self):\n",
    "        return 'source: ' + self.source + '\\n' + \\\n",
    "               'lang: ' + self.lang + '\\n' + \\\n",
    "               'problem_id: ' + self.problem_id + '\\n' + \\\n",
    "               'code: ' + self.code_tokens + '\\n' + \\\n",
    "               'submission_id: ' + self.submission_id + '\\n'+ \\\n",
    "               'verdict: ' + self.verdict + '\\n'\n",
    "    def toJSON(self):\n",
    "        return self.__dict__\n",
    "\n",
    "@timeout_decorator.timeout(0.2) \n",
    "def calculate_similarity(code1_tokens, code2_tokens):\n",
    "    code1 = ' '.join(code1_tokens)\n",
    "    code2 = ' '.join(code2_tokens)\n",
    "    return SequenceMatcher(None, code1, code2).ratio()\n",
    "\n",
    "#Lock = threading.Lock()\n",
    "\n",
    "def write_output_to_file(problems, file_to_write):\n",
    "    Lock.acquire()\n",
    "    mode = 'w'\n",
    "    if os.path.exists(file_to_write):\n",
    "        mode = 'a'\n",
    "        with open(file_to_write, mode, encoding='utf8') as fw:\n",
    "            fw.write('\\n')\n",
    "    with open(file_to_write, mode, encoding='utf8') as fw:\n",
    "        fw.write('\\n'.join([json.dumps(p) for p in problems]))\n",
    "    Lock.release()\n",
    "\n",
    "java_file_id = 0\n",
    "python_file_id = 0\n",
    "java_solutions = []\n",
    "python_solutions = []\n",
    "\n",
    "def write_output_to_json_file(file_name, one_example):\n",
    "    global java_solutions\n",
    "    global python_solutions\n",
    "    global java_file_id\n",
    "    global python_file_id\n",
    "    #global Lock\n",
    "    if(file_name =='Java'):\n",
    "        #Lock.acquire()\n",
    "        java_solutions.append(one_example)\n",
    "        #print(\"java len\", len(java_solutions))\n",
    "        if(len(java_solutions)==10000):\n",
    "            pth = '../data/Java/jsons/{}.json'.format(java_file_id)\n",
    "            with open(pth, 'w+', encoding=\"utf8\") as f:\n",
    "                json.dump(java_solutions, f)\n",
    "            java_solutions=[]\n",
    "            java_file_id+=1\n",
    "        #Lock.release()\n",
    "    if(file_name=='Python'):\n",
    "        #Lock.acquire()\n",
    "        #print(\"python len\", len(python_solutions))\n",
    "        python_solutions.append(one_example)\n",
    "        if(len(python_solutions)==10000):\n",
    "            pth = '../data/Python/jsons/{}.json'.format(python_file_id)\n",
    "            with open(pth, 'w+', encoding=\"utf8\") as f:\n",
    "                json.dump(python_solutions, f)\n",
    "            python_solutions=[]\n",
    "            python_file_id+=1\n",
    "        #Lock.release()\n",
    "    \n",
    "\n",
    "\n",
    "\n",
    "def process_user(user_id):\n",
    "\n",
    "    for problem_id in data[user_id].keys():\n",
    "        print(\"problem id = \", problem_id)\n",
    "        submissions = data[user_id][problem_id]\n",
    "\n",
    "        acceptedJavaSolution = \"\"\n",
    "        closeJavaSolution = \"\"\n",
    "        acceptedPythonSolution = \"\"\n",
    "        closePythonSolution = \"\"\n",
    "\n",
    "        functions_standalone_py=[]\n",
    "        functions_class_py = []\n",
    "        functions_standalone_java=[]\n",
    "        functions_class_java = []\n",
    "\n",
    "        closeSubmissionIdpy = \"\"\n",
    "        closeSubmissionIdjava=\"\"\n",
    "        submission_id_py=\"\"\n",
    "        submission_id_java=\"\"\n",
    "        verdict_py=\"\"\n",
    "        verdict_java=\"\"\n",
    "\n",
    "        for submisson in submissions:\n",
    "            try:\n",
    "                #print(\"in submission 152\")\n",
    "                if(submisson[2]==\"Java\"):\n",
    "                    if(submisson[5]==\"Accepted\"):\n",
    "                        solution_path = \"../Project_CodeNet/data/\"+problem_id+\"/Java/\"+submisson[0]+'.java'\n",
    "                        with open(solution_path, 'r', encoding='utf8') as f:\n",
    "                            code = f.read()\n",
    "                            acceptedJavaSolution = code[::]\n",
    "                            submission_id_java = submisson[0]\n",
    "                            #code_tokens_java = jprocessor.tokenize_code(code)\n",
    "                            #fn_standalone_java, fn_class_java = jprocessor.extract_functions(code_tokens_java)\n",
    "                            #functions_standalone_java = [(jprocessor.get_function_name(fn), fn) for fn in fn_standalone_java]\n",
    "                            #functions_class_java = [(jprocessor.get_function_name(fn), fn) for fn in fn_class_java]\n",
    "\n",
    "\n",
    "                if(submisson[2]==\"Python\"):\n",
    "                    if(submisson[5]==\"Accepted\"):\n",
    "                        solution_path = \"../Project_CodeNet/data/\"+problem_id+\"/Python/\"+submisson[0]+'.py'\n",
    "                        with open(solution_path, 'r', encoding='utf8') as f:\n",
    "                            code = f.read()\n",
    "                            acceptedPythonSolution = code[::]\n",
    "                            submission_id_py = submisson[0]\n",
    "                            #code_tokens_py = pyprocessor.tokenize_code(code)\n",
    "                            #fn_standalone_py, fn_class_py = pyprocessor.extract_functions(code_tokens_py)\n",
    "                            #functions_standalone_py = [(pyprocessor.get_function_name(fn), fn) for fn in fn_standalone_py]\n",
    "                            #functions_class_py = [(pyprocessor.get_function_name(fn), fn) for fn in fn_class_py]\n",
    "            except BaseException as error:\n",
    "                print(\"error for submission top problem id\",problem_id, submisson)\n",
    "                pass\n",
    "        \n",
    "        java_min_distance = 999999\n",
    "        python_min_distance = 999999\n",
    "        \n",
    "        for submisson in submissions:\n",
    "            #print(\"in submission 185 submission id:\", submisson)\n",
    "            try:\n",
    "                if(submisson[2]==\"Java\"):\n",
    "                    if(submisson[5]!=\"Accepted\"):\n",
    "                        solution_path = \"../Project_CodeNet/data/\"+problem_id+\"/Java/\"+submisson[0]+'.java'\n",
    "                        with open(solution_path, 'r', encoding='utf8') as f:\n",
    "                            code = f.read()\n",
    "                            dis = calculate_similarity(code,acceptedJavaSolution)\n",
    "                            if(dis<java_min_distance):\n",
    "                                closeJavaSolution=code[::]\n",
    "                                java_min_distance = dis\n",
    "                                closeSubmissionIdjava = submisson[0]\n",
    "                                verdict_java=submisson[5]\n",
    "\n",
    "\n",
    "                if(submisson[2]==\"Python\"):\n",
    "                    if(submisson[5]!=\"Accepted\"):\n",
    "                        solution_path = \"../Project_CodeNet/data/\"+problem_id+\"/Python/\"+submisson[0]+'.py'\n",
    "                        with open(solution_path, 'r', encoding='utf8') as f:\n",
    "                            code = f.read()\n",
    "                            dis = calculate_similarity(code,acceptedPythonSolution)\n",
    "                            if(dis<python_min_distance):\n",
    "                                closePythonSolution=code[::]\n",
    "                                python_min_distance = dis\n",
    "                                closeSubmissionIdpy = submisson[0]\n",
    "                                verdict_py=submisson[5]\n",
    "            except BaseException as error:\n",
    "                print(\"error for submission \", submisson)\n",
    "                pass\n",
    "\n",
    "        if(len(acceptedPythonSolution)*len(closePythonSolution)):  \n",
    "            write_output_to_json_file(\"Python\",(Solution(\n",
    "                                        \"source\",\n",
    "                                        'python',\n",
    "                                        problem_id,\n",
    "                                        closePythonSolution,\n",
    "                                        functions_standalone_py,\n",
    "                                        functions_class_py,\n",
    "                                        closeSubmissionIdpy,\n",
    "                                        verdict_py\n",
    "                                    ).toJSON(),Solution(\n",
    "                                        \"source\",\n",
    "                                        'python',\n",
    "                                        problem_id,\n",
    "                                        acceptedPythonSolution,\n",
    "                                        functions_standalone_py,\n",
    "                                        functions_class_py,\n",
    "                                        submission_id_py,\n",
    "                                        \"Accepted\"\n",
    "                                    ).toJSON())\n",
    "                                )\n",
    "        if(len(acceptedJavaSolution)*len(closeJavaSolution)):\n",
    "            write_output_to_json_file(\"Java\", (Solution(\n",
    "                                        \"source\",\n",
    "                                        'java',\n",
    "                                        problem_id,\n",
    "                                        closeJavaSolution,\n",
    "                                        functions_standalone_java,\n",
    "                                        functions_class_java,\n",
    "                                        closeSubmissionIdjava,\n",
    "                                        verdict_java\n",
    "                                    ).toJSON(),Solution(\n",
    "                                        \"source\",\n",
    "                                        'java',\n",
    "                                        problem_id,\n",
    "                                        acceptedJavaSolution,\n",
    "                                        functions_standalone_java,\n",
    "                                        functions_class_java,\n",
    "                                        submission_id_java,\n",
    "                                        \"Accepted\"\n",
    "                                    ).toJSON())\n",
    "                                )\n",
    "        #write in a file next task\n",
    "    '''\n",
    "    if(len(java_solutions)):\n",
    "        write_output_to_file(java_solutions, \"java_solutions.jsonl\")\n",
    "    if(len(python_solutions)):\n",
    "        write_output_to_file(python_solutions, \"python_solutions.jsonl\")\n",
    "    '''\n"
   ]
  },
  {
   "cell_type": "code",
   "execution_count": null,
   "metadata": {},
   "outputs": [],
   "source": [
    "process_user('u326609687')"
   ]
  },
  {
   "cell_type": "code",
   "execution_count": null,
   "metadata": {},
   "outputs": [],
   "source": [
    "data['u326609687']['p02574']"
   ]
  },
  {
   "cell_type": "code",
   "execution_count": null,
   "metadata": {},
   "outputs": [],
   "source": [
    "data['u326609687']['p02574']"
   ]
  },
  {
   "cell_type": "code",
   "execution_count": null,
   "metadata": {},
   "outputs": [],
   "source": []
  },
  {
   "cell_type": "code",
   "execution_count": null,
   "metadata": {},
   "outputs": [],
   "source": [
    "#cat ../Project_CodeNet/data/p02574/Python/s422117152.py\n",
    "!cat ../Project_CodeNet/data/p02575/Python/s428831120.py\n",
    "\n"
   ]
  },
  {
   "cell_type": "code",
   "execution_count": null,
   "metadata": {},
   "outputs": [],
   "source": [
    "ls ../codet5/tensorboard/home/mahim/program_repair/CodeNet/codet5/codenet/java2java/"
   ]
  },
  {
   "cell_type": "code",
   "execution_count": null,
   "metadata": {},
   "outputs": [],
   "source": [
    "codet5/tensorboard/home/mahim/program_repair/CodeNet/codet5/codenet/java2j"
   ]
  },
  {
   "cell_type": "code",
   "execution_count": null,
   "metadata": {},
   "outputs": [],
   "source": [
    "import json\n",
    "with open(\"/home/mahim/program_repair/CodeNet/data/java/processed/test.jsonl\", encoding=\"utf8\") as f:\n",
    "    data = json.load(f)\n",
    "    #print(len(data))\n",
    "    print(data[0].keys())\n"
   ]
  },
  {
   "cell_type": "markdown",
   "metadata": {},
   "source": [
    "Some statistics"
   ]
  },
  {
   "cell_type": "code",
   "execution_count": null,
   "metadata": {},
   "outputs": [],
   "source": [
    "from glob import glob\n",
    "import pandas as pd\n",
    "import matplotlib.pyplot as plt\n",
    "import json\n",
    "from joblib import Parallel, delayed, parallel_backend\n",
    "from multiprocessing import Process, Lock\n",
    "from tqdm import tqdm\n",
    "\n",
    "import json\n",
    "def getJsonData(JsonFile):\n",
    "    with open(JsonFile, encoding=\"utf8\") as f:\n",
    "        data = json.load(f)\n",
    "    return data\n",
    "data = getJsonData(\"processed.json\")\n",
    "ans = 0\n",
    "for user in tqdm(data.keys()):\n",
    "    for problem_id in data[user].keys():\n",
    "        ans+=len(data[user][problem_id])\n",
    "print(\"total data = \", ans)"
   ]
  },
  {
   "cell_type": "code",
   "execution_count": null,
   "metadata": {},
   "outputs": [],
   "source": [
    "import matplotlib.pyplot as plt\n",
    "Problem_count = 0\n",
    "\n",
    "lang_count = 0\n",
    "path_sum = 0\n",
    "solved_be_user = 0\n",
    "\n",
    "path_lengths = []\n",
    "submission_counts = []\n",
    "lang_counts = []\n",
    "for user in tqdm(list(data.keys())):\n",
    "    language_lst=set()\n",
    "    submission_count = 0\n",
    "    for problem_id in data[user].keys():\n",
    "        path_len = 0\n",
    "        if(len(data[user][problem_id])):\n",
    "            Problem_count+=1\n",
    "        \n",
    "        langs = {}\n",
    "        for idx, subs in enumerate(data[user][problem_id]):\n",
    "            # need to consider for each language\n",
    "            if subs[2] in langs.keys():\n",
    "                langs[subs[2]].append(subs)\n",
    "            else:\n",
    "                langs[subs[2]] = [subs]\n",
    "            language_lst.add(subs[2])\n",
    "            submission_count+=1\n",
    "        \n",
    "        # Path sum calculation\n",
    "        for lang in langs:\n",
    "            first_wa = 0\n",
    "            first_ac = -1\n",
    "            for idx, sub in enumerate(sorted(langs[lang], key=lambda x: x[1])):\n",
    "                if(sub[-1]==\"Accepted\"):\n",
    "                    first_ac = max(first_ac, idx)\n",
    "                else:\n",
    "                    first_wa = min(first_wa, idx)\n",
    "        \n",
    "            if(first_ac-first_wa+1>0):\n",
    "                #print(langs[lang])\n",
    "                #print(first_ac-first_wa)    \n",
    "                path_sum+=first_ac-first_wa+1\n",
    "                solved_be_user+=1\n",
    "                path_lengths.append(first_ac-first_wa+1)\n",
    "\n",
    "            \n",
    "    lang_count+=len(language_lst)\n",
    "    lang_counts.append(len(language_lst))\n",
    "    submission_counts.append(submission_count)\n",
    "        \n",
    "    #break\n",
    "print(\"per user average submission count\", sum(submission_counts)/len(data))\n",
    "print(\"per user average language usage count\", lang_count/len(data))\n",
    "print(\"per user average accepted path length\", path_sum/solved_be_user)\n",
    "'''\n",
    "per user average submission count 90.26494052329126\n",
    "per user average language usage count 1.4337000090804135\n",
    "per user average accepted path length 1.9145810148516795\n",
    "'''"
   ]
  },
  {
   "cell_type": "code",
   "execution_count": null,
   "metadata": {},
   "outputs": [],
   "source": [
    "n_bins=10\n",
    "n, bins, patches = plt.hist(path_lengths, bins=[i for i in range(11)])\n",
    "ticks = [(patch._x0 + patch._x1)/2 for patch in patches]\n",
    "ticklabels = [i for i in range(n_bins)]\n",
    "plt.xticks(ticks, ticklabels)\n",
    "plt.xlabel(\"Number of submissions before accepted\")\n",
    "plt.ylabel(\"Number of users\")\n",
    "plt.show()"
   ]
  },
  {
   "cell_type": "code",
   "execution_count": null,
   "metadata": {},
   "outputs": [],
   "source": [
    "n_bins=10\n",
    "n, bins, patches = plt.hist(lang_counts, bins=[i for i in range(11)])\n",
    "ticks = [(patch._x0 + patch._x1)/2 for patch in patches]\n",
    "ticklabels = [i for i in range(n_bins)]\n",
    "plt.xticks(ticks, ticklabels)\n",
    "plt.xlabel(\"Number of Languages used by a user\")\n",
    "plt.ylabel(\"Number of users\")\n",
    "plt.show()"
   ]
  },
  {
   "cell_type": "code",
   "execution_count": null,
   "metadata": {},
   "outputs": [],
   "source": [
    "\n",
    "n, bins, patches = plt.hist(submission_counts, bins=[i for i in range(200)])\n",
    "#ticks = [(patch._x0 + patch._x1)/2 for patch in patches]\n",
    "#ticklabels = [i for i in range(n_bins)]\n",
    "#plt.xticks(ticks, ticklabels)\n",
    "plt.xlabel(\"Number of Submissons per user\")\n",
    "plt.ylabel(\"Number of users\")\n",
    "plt.show()"
   ]
  },
  {
   "cell_type": "code",
   "execution_count": null,
   "metadata": {},
   "outputs": [],
   "source": [
    "submission_counts[:100]"
   ]
  },
  {
   "cell_type": "code",
   "execution_count": null,
   "metadata": {},
   "outputs": [],
   "source": [
    "import json\n",
    "from glob import glob\n",
    "\n",
    "files = \"../data/java/jsons/\"\n",
    "src_sizes = []\n",
    "tgt_sizes = []\n",
    "for file in glob(files+'*.json'):\n",
    "    print(file)\n",
    "    with open(file, 'r') as f:\n",
    "        temp = json.load(f)\n",
    "        for ex in temp:\n",
    "            src_sizes.append(len(ex[0]['code_tokens']))\n",
    "            tgt_sizes.append(len(ex[1]['code_tokens']))"
   ]
  },
  {
   "cell_type": "code",
   "execution_count": null,
   "metadata": {},
   "outputs": [],
   "source": [
    "import matplotlib.pyplot as plt\n",
    "plt.hist(src_sizes, bins=[i for i in range(0, 10000, 1000)])\n",
    "plt.show()"
   ]
  },
  {
   "cell_type": "code",
   "execution_count": null,
   "metadata": {},
   "outputs": [],
   "source": [
    "root = \"../../BIFI/\""
   ]
  },
  {
   "cell_type": "code",
   "execution_count": null,
   "metadata": {},
   "outputs": [],
   "source": [
    "import json\n",
    "def getJsonData(JsonFile):\n",
    "    with open(JsonFile, encoding=\"utf8\") as f:\n",
    "        data = json.load(f)\n",
    "    return data\n",
    "data = getJsonData(\"../../BIFI/data/orig_bad_code/orig.bad.json\")"
   ]
  },
  {
   "cell_type": "code",
   "execution_count": null,
   "metadata": {},
   "outputs": [],
   "source": [
    "from pprint import pprint\n",
    "for key in list(data.keys())[:2]:\n",
    "    pprint(data[key])"
   ]
  },
  {
   "cell_type": "code",
   "execution_count": null,
   "metadata": {},
   "outputs": [],
   "source": [
    "import json\n",
    "from glob import glob\n",
    "from pprint import pprint\n",
    "file = \"../data/java/processed/train.jsonl\"\n",
    "\n",
    "with open(file, 'r') as f:\n",
    "    train = json.load(f)\n",
    "print(len(train))\n",
    "    "
   ]
  },
  {
   "cell_type": "code",
   "execution_count": null,
   "metadata": {},
   "outputs": [],
   "source": [
    "from pprint import pprint\n",
    "from tqdm import tqdm\n",
    "from difflib import SequenceMatcher\n",
    "def calculate_similarity(code1_tokens, code2_tokens):\n",
    "    code1 = ' '.join(code1_tokens)\n",
    "    code2 = ' '.join(code2_tokens)\n",
    "    return SequenceMatcher(None, code1, code2).ratio()\n",
    "dis = []\n",
    "for dt in tqdm(train):\n",
    "    dis.append(calculate_similarity(dt['src'], dt['tgt']))\n"
   ]
  },
  {
   "cell_type": "code",
   "execution_count": null,
   "metadata": {},
   "outputs": [],
   "source": [
    "import matplotlib.pyplot as plt\n",
    "plt.hist(dis, bins=5)\n",
    "plt.show()"
   ]
  },
  {
   "cell_type": "code",
   "execution_count": null,
   "metadata": {},
   "outputs": [],
   "source": [
    "from glob import glob\n",
    "problem_desc = []\n",
    "for file in glob(\"../Project_CodeNet/problem_descriptions/*html\"):\n",
    "    problem_desc.append(file)"
   ]
  },
  {
   "cell_type": "code",
   "execution_count": null,
   "metadata": {},
   "outputs": [],
   "source": [
    "problem_desc[0]"
   ]
  },
  {
   "cell_type": "code",
   "execution_count": null,
   "metadata": {},
   "outputs": [],
   "source": [
    "try: \n",
    "    from BeautifulSoup import BeautifulSoup\n",
    "except ImportError:\n",
    "    from bs4 import BeautifulSoup\n",
    "Base_link = \"https://www.dropbox.com/sh/nx3tnilzqz7df8a/AAAYlTq2tiEHl5hsESw6-yfLa?dl=0\"\n",
    "import requests\n",
    "req = requests.get(Base_link)\n",
    "#print(html)\n",
    "soup = BeautifulSoup(req.text, \"html.parser\")\n",
    "for a in soup.find_all('a', href=True):\n",
    "    print(\"Found the URL:\", a['href'])"
   ]
  },
  {
   "cell_type": "code",
   "execution_count": null,
   "metadata": {},
   "outputs": [],
   "source": [
    "Access_token = \"sl.BBQsZOVExLY-32FcgPQGwk5yMVeJCjShnddXfJGjzAnj0CQ-5GlVrRO39hPX7lP6BnpyFw1_3pE7wPwWsorCjTSwTRRiBqMkGB2q1KMmjPgrD78wu2lHpbrPA_xRQlWZ42oxz2o\""
   ]
  },
  {
   "cell_type": "code",
   "execution_count": null,
   "metadata": {},
   "outputs": [],
   "source": [
    "import re\n",
    "pattern = \"https://www.dropbox.com/sh/nx3tnilzqz7df8a/.*/.*dl=0\"\n",
    "\n",
    "re.findall(r'{}'.format(pattern),req.text)"
   ]
  },
  {
   "cell_type": "code",
   "execution_count": null,
   "metadata": {},
   "outputs": [],
   "source": [
    "import subprocess\n",
    "\n",
    "def download_and_extract(lnk):\n",
    "    lnk = lnk.replace(\"?dl=0\", \"?dl=1\")\n",
    "    name = lnk.split(\"/\")[-1]\n",
    "    name = name.split(\"?dl=1\")[0]+\".zip\"\n",
    "    #print(name)\n",
    "    subprocess.run([\"wget\", \"-O\", name, lnk])\n",
    "    subprocess.run([\"unzip\",name ,\"-d\",\"atcoder_test_cases/\"+name.replace(\".zip\", \"\")])\n",
    "    subprocess.run([\"rm\" ,\"-rf\",name])\n",
    "    \n",
    "    "
   ]
  },
  {
   "cell_type": "code",
   "execution_count": null,
   "metadata": {},
   "outputs": [],
   "source": [
    "from tqdm import tqdm\n",
    "with open(\"atcoder_links.txt\") as f:\n",
    "    links = f.readlines()\n",
    "for link in tqdm(links):\n",
    "    download_and_extract(link)"
   ]
  },
  {
   "cell_type": "code",
   "execution_count": null,
   "metadata": {},
   "outputs": [],
   "source": [
    "import pandas as pd\n",
    "problemlist=pd.read_csv(\"../Project_CodeNet/metadata/problem_list.csv\")\n"
   ]
  },
  {
   "cell_type": "code",
   "execution_count": null,
   "metadata": {},
   "outputs": [],
   "source": [
    "from collections import defaultdict\n",
    "from pprint import pprint\n",
    "from tqdm import tqdm\n",
    "problems = defaultdict(list)\n",
    "for index, row in tqdm(problemlist.iterrows()):\n",
    "    if(row['dataset']=='AtCoder'):\n",
    "        if(\"AtCoder Regular Contest\" in row['name']):\n",
    "            number = row['name'].split(\" \")[3]\n",
    "            problems[\"ARC\"+number].append(row['id'])\n",
    "        if(\"AtCoder Beginner Contest\" in row['name']):\n",
    "            number = row['name'].split(\" \")[3]\n",
    "            problems[\"ABC\"+number].append(row['id'])\n",
    "        if(\"AtCoder Grand Contest\" in row['name']):\n",
    "            number = row['name'].split(\" \")[3]\n",
    "            problems[\"AGC\"+number].append(row['id'])"
   ]
  },
  {
   "cell_type": "code",
   "execution_count": null,
   "metadata": {},
   "outputs": [],
   "source": [
    "from glob import glob\n",
    "folders = glob(\"atcoder_test_cases/*\")\n",
    "\n",
    "final_keys = []\n",
    "for idx in range(len(folders)):\n",
    "    folders[idx] = folders[idx].replace(\"atcoder_test_cases/\", \"\")\n",
    "#print(folders)\n",
    "for key in problems.keys():\n",
    "    if key in folders:\n",
    "        if len(problems[key]) == len(glob(\"atcoder_test_cases/\"+key+\"/*\")):\n",
    "            final_keys.append(key)\n",
    "            \n",
    "    elif key.lower() in folders :\n",
    "        if len(problems[key]) == len(glob(\"atcoder_test_cases/\"+ key.lower() +\"/*\")):\n",
    "            final_keys.append(key)\n"
   ]
  },
  {
   "cell_type": "code",
   "execution_count": null,
   "metadata": {},
   "outputs": [],
   "source": [
    "problemid_to_tc = {}\n",
    "for key in problems:\n",
    "    if(key in final_keys):\n",
    "        for idx, prob_id in enumerate(problems[key]):\n",
    "            folder_list = glob(\"atcoder_test_cases/\"+key+\"/*\")\n",
    "            if(len(folder_list)==0):\n",
    "                folder_list = glob(\"atcoder_test_cases/\"+key.lower()+\"/*\")\n",
    "            problemid_to_tc[prob_id] = folder_list[idx]"
   ]
  },
  {
   "cell_type": "code",
   "execution_count": null,
   "metadata": {},
   "outputs": [],
   "source": [
    "len(problemid_to_tc)"
   ]
  },
  {
   "cell_type": "code",
   "execution_count": null,
   "metadata": {},
   "outputs": [],
   "source": [
    "from glob import glob\n",
    "import pandas as pd\n",
    "import matplotlib.pyplot as plt\n",
    "import json\n",
    "from joblib import Parallel, delayed, parallel_backend\n",
    "from multiprocessing import Process, Lock\n",
    "from tqdm import tqdm\n",
    "\n",
    "import json\n",
    "def getJsonData(JsonFile):\n",
    "    with open(JsonFile, encoding=\"utf8\") as f:\n",
    "        data = json.load(f)\n",
    "    return data\n",
    "data = getJsonData(\"../data/java/processed/test.jsonl\")\n"
   ]
  },
  {
   "cell_type": "code",
   "execution_count": null,
   "metadata": {},
   "outputs": [],
   "source": [
    "#data[0]\n",
    "#def run_and_report()\n",
    "\n",
    "#st = \"atcoder_test_cases/ABC118/B/in/3_mmin_1\"\n",
    "#out = st.split(\"/\")\n",
    "#out[3] = \"out\"\n",
    "#\"/\".join(out)"
   ]
  },
  {
   "cell_type": "code",
   "execution_count": null,
   "metadata": {},
   "outputs": [],
   "source": [
    "from codegen.preprocessing.lang_processors.java_processor import JavaProcessor\n",
    "from codegen.preprocessing.lang_processors.python_processor import PythonProcessor\n",
    "import subprocess\n",
    "import filecmp\n",
    "from subprocess import Popen, PIPE, STDOUT\n",
    "import sys\n",
    "\n",
    "def check_floating(n1, n2):\n",
    "    n1 = n1.replace(\"-\", \"\").replace(\"+\", \"\")\n",
    "    n2 = n2.replace(\"-\", \"\").replace(\"+\", \"\")\n",
    "    \n",
    "    if (not n1.replace('.','',1).replace(\"E\",\"\").isdigit()) or (not n1.replace('.','',1).replace(\"E\",\"\").isdigit()):\n",
    "        return False\n",
    "    if abs(float(n1)-float(n2))<1e8:\n",
    "        return True\n",
    "    return False\n",
    "    \n",
    "def print_error(l1, l2):\n",
    "    print(\"###\")\n",
    "    print(l1)\n",
    "    print(\"###\")\n",
    "    print(l2)\n",
    "    print(\"###\")\n",
    "\n",
    "def compare_files(file1, file2):\n",
    "    with open(file1) as f1, open(file2) as f2: \n",
    "        content1 = f1.read().split()\n",
    "        content2 = f2.read().split()\n",
    "\n",
    "        for l1, l2 in zip(content1, content2):\n",
    "            if l1.strip() != l2.strip(): \n",
    "                num1s = l1.strip().split(\" \")\n",
    "                num2s = l2.strip().split(\" \")\n",
    "                if(len(num1s) == len(num2s)):\n",
    "                    for idx in range(len(num1s)):\n",
    "                        if not check_floating(num1s[idx],num2s[idx]):\n",
    "                            print_error(l1, l2)\n",
    "                            return False\n",
    "                else:\n",
    "                    print_error(l1, l2)\n",
    "                    return False\n",
    "    return True\n",
    "\n",
    "root_folder = \"../third_party\"\n",
    "jprocessor = JavaProcessor(root_folder=root_folder)\n",
    "\n",
    "uniq = set()\n",
    "\n",
    "#code_tokens_java = jprocessor.tokenize_code(code)\n",
    "cnt = 0\n",
    "done = False\n",
    "for dt in tqdm(data[12475:]): #12480+721 14975\n",
    "    if dt['id'].split(\"_\")[0] in problemid_to_tc.keys():\n",
    "        #if(dt['tgt_id'].split(\"_\")[1] != \"s473235135\"):\n",
    "        #    continue\n",
    "        cnt+=1\n",
    "        #print(\"comes\")\n",
    "        #print(dt['id'])\n",
    "        #pprint(dt)\n",
    "        #print(dt['src'])\n",
    "        code = jprocessor.detokenize_code(dt['tgt'])\n",
    "        if dt['tgt_id'] in uniq:\n",
    "            continue\n",
    "        uniq.add(dt['tgt_id'])\n",
    "        with open('Main.java', 'w', encoding='utf8') as fw:\n",
    "            fw.write(code)\n",
    "        test_case_folder = problemid_to_tc[dt['id'].split(\"_\")[0]]\n",
    "        in_files = glob(test_case_folder+\"/in/*\")\n",
    "        p1 = subprocess.run([\"javac\",\"Main.java\"])\n",
    "        return_code = p1.returncode\n",
    "\n",
    "        if(return_code):\n",
    "            print(\"######## doesnt compile  ############\")\n",
    "            print(p1.stderr.decode(\"utf-8\")) 14975\n",
    "            print(dt['tgt_id'])\n",
    "            #pprint(dt)\n",
    "            #doesn't compile correctly\n",
    "\n",
    "        for in_file in in_files:\n",
    "            #subprocess.run([\"java\",\"Main\" ,\"<\",in_files[0], \">\", \"cmd_out.txt\"], shell=True)\n",
    "            cmd = \"java Main < {} > cmd_out.txt\".format(in_file)\n",
    "            p = Popen(cmd, shell=True, stdin=PIPE, stdout=PIPE, stderr=STDOUT, close_fds=True)\n",
    "            p.wait()\n",
    "            #output = p.stdout\n",
    "            #print(output)\n",
    "            out = in_file.split(\"/\")\n",
    "            out[3] = \"out\"\n",
    "            out_file =\"/\".join(out)\n",
    "            out_file = out_file.replace(\".in\", \".out\")\n",
    "\n",
    "            p2 = subprocess.Popen([\"cp\",out_file, \"cmd_out_match.txt\"])\n",
    "            p2.wait()\n",
    "            #match \n",
    "            #print(filecmp.cmp('cmd_out.txt', 'cmd_out_match.txt'))\n",
    "            if not compare_files('cmd_out.txt', 'cmd_out_match.txt'):\n",
    "                #done=True\n",
    "                print(dt['tgt_id'])\n",
    "                #break\n",
    "                print(in_file)\n",
    "        p3 = subprocess.run([\"rm\",\"Main.java\"])\n",
    "        p4 = subprocess.run([\"rm\",\"*.class\"])\n",
    "#print(cnt)\n",
    "\n",
    "#accept one valid way we need to skip those p02697,\n",
    "#used weird library runs on jdk 1.8 but not in jdk 11 p02682_s116318276"
   ]
  },
  {
   "cell_type": "code",
   "execution_count": null,
   "metadata": {},
   "outputs": [],
   "source": [
    "s = \"p03334,p02678,p02690,p02692,p02697,p02850,p02825,p02902,p02903,p02976,p02977,p03097,p03938,p03245,p03044,p02972,p03263,p03836,p03267,p03257,p03394,p03952,p04007,p04035,p03746,p02963,p03095,p02669,p02825,p03046,p02997,p02936, p02694, p02975,p02731, p02861,p03110\"\n",
    "print(list(set(s.replace(\" \", \"\").split(\",\"))))"
   ]
  },
  {
   "cell_type": "code",
   "execution_count": null,
   "metadata": {},
   "outputs": [],
   "source": [
    "p1 = subprocess.Popen([\"javac\",\"Main.java\"])\n",
    "return_code = p1.wait()\n",
    "print(return_code)"
   ]
  },
  {
   "cell_type": "code",
   "execution_count": null,
   "metadata": {},
   "outputs": [],
   "source": [
    "cmd = \"java Main < atcoder_test_cases/ABC138/D/in/b04 > cmd_out.txt\"\n",
    "p = Popen(cmd, shell=True, stdin=PIPE, stdout=PIPE, stderr=subprocess.DEVNULL, close_fds=True)\n",
    "p.wait()\n",
    "print(\"command exucuted\")\n",
    "\n",
    "in_file = \"atcoder_test_cases/ABC138/D/in/b04\"\n",
    "out = in_file.split(\"/\")\n",
    "out[3] = \"out\"\n",
    "out_file =\"/\".join(out)\n",
    "out_file = out_file.replace(\".in\", \".out\")\n",
    "\n",
    "p2 = subprocess.Popen([\"cp\",out_file, \"cmd_out_match.txt\"])\n",
    "p2.wait()\n",
    "print(\"Matching Files\")\n",
    "\n",
    "if not compare_files('cmd_out.txt', 'cmd_out_match.txt'):\n",
    "    #done=True\n",
    "    #print(dt['tgt_id'])\n",
    "    print(in_file)"
   ]
  },
  {
   "cell_type": "code",
   "execution_count": null,
   "metadata": {},
   "outputs": [],
   "source": [
    "#One such Way p02678,p02690,p02692,p02697,p02850,p02825,p02902,p02903,p02976,p02977,p03097,p03938,p03245,p03044,p02972\n",
    "#One such way p03263,p03836,p03267,p03257,p03394,p03952,p04007,p04035,p03746,p02963,p03095,p02669,p02825,p03046,p02997\n",
    "\n",
    "# p02936, p02694 p02975 one after contest doesn't match\n",
    "#p02731 has higher thresholds for checking double value, p02861,p03110 as well\n",
    "\n",
    "'''\n",
    "Need to check \n",
    "\n",
    "p02912_s201342530\n",
    "atcoder_test_cases/ABC141/D/in/testcase_03.nkftmpjKHWPL\n",
    "this has one weird input which i deleted from the atcoder_testcases folder\n",
    "\n",
    "'''\n",
    "\n",
    "###\n",
    "#num1 = \"0.0000000000000001E-5\"\n",
    "#num2 = \"-0.0000000000000001E-5\"\n",
    "\n",
    "#num1 = \"1.1551382117326875E-5\"\n",
    "#num2 = \"0.00001155138223854135\\n\"\n",
    "\n",
    "###\n",
    "#756.26049783473536042289\n",
    "num1 = \"3.57508992E8\"\n",
    "###\n",
    "num2 = \"357508993.7616\"\n",
    "def only_digits(num):\n",
    "    return num.replace(\"-\", \"\").replace(\"+\", \"\").replace('.','',1).replace(\"E\",\"\").isdigit()\n",
    "\n",
    "def check_floating(n1, n2):\n",
    "    if (not only_digits(n1)) or (not only_digits(n2)):\n",
    "        return False\n",
    "    print(float(n1), float(n2))\n",
    "    if abs(float(n1)-float(n2))<1e-6:\n",
    "        return True\n",
    "    return False\n",
    "    \n",
    "num1s = num1.strip().split(\" \")\n",
    "num2s = num2.strip().split(\" \")\n",
    "if(len(num1s) != len(num2s)):\n",
    "    print(\"Not equal\")\n",
    "for idx in range(len(num1s)):\n",
    "    print(check_floating(num1s[idx],num2s[idx]))\n"
   ]
  },
  {
   "cell_type": "code",
   "execution_count": null,
   "metadata": {},
   "outputs": [],
   "source": [
    "float(\"0.00001155138223854135\")"
   ]
  },
  {
   "cell_type": "code",
   "execution_count": null,
   "metadata": {},
   "outputs": [],
   "source": [
    "def check_floating(n1, n2):\n",
    "    n1 = n1.replace(\"-\", \"\").replace(\"+\", \"\")\n",
    "    n2 = n2.replace(\"-\", \"\").replace(\"+\", \"\")\n",
    "    \n",
    "    if (not n1.replace('.','',1).replace(\"E\",\"\").isdigit()) or (not n1.replace('.','',1).replace(\"E\",\"\").isdigit()):\n",
    "        return False\n",
    "    if abs(float(n1)-float(n2))<1e8:\n",
    "        return True\n",
    "    return False\n",
    "    \n",
    "def print_error(l1, l2):\n",
    "    print(\"###\")\n",
    "    print(l1)\n",
    "    print(\"###\")\n",
    "    print(l2)\n",
    "    print(\"###\")\n",
    "\n",
    "def compare_files(file1, file2):\n",
    "    try:\n",
    "        with open(file1) as f1, open(file2) as f2: \n",
    "            content1 = f1.read().split()\n",
    "            content2 = f2.read().split()\n",
    "            for l1, l2 in zip(content1, content2):\n",
    "                if l1.strip() != l2.strip(): \n",
    "                    num1s = l1.strip().split(\" \")\n",
    "                    num2s = l2.strip().split(\" \")\n",
    "                    if(len(num1s) == len(num2s)):\n",
    "                        for idx in range(len(num1s)):\n",
    "                            if not check_floating(num1s[idx],num2s[idx]):\n",
    "                                print_error(l1, l2)\n",
    "                                return False\n",
    "                    else:\n",
    "                        print_error(l1, l2)\n",
    "                        return False\n",
    "            return True\n",
    "    except Exception as e:\n",
    "        print(\"exception = \", e)\n",
    "        return False\n"
   ]
  },
  {
   "cell_type": "code",
   "execution_count": null,
   "metadata": {},
   "outputs": [],
   "source": [
    "!head atcoder_test_cases/ABC157/A/out/01-handmade-01\n",
    "p02658_s473235135"
   ]
  },
  {
   "cell_type": "code",
   "execution_count": null,
   "metadata": {},
   "outputs": [],
   "source": [
    "#!rm temp.java\n",
    "p03037_s170937198\n",
    "!cp ../Project_CodeNet/data/p02658/Java/s473235135.java temp2.java"
   ]
  },
  {
   "cell_type": "code",
   "execution_count": null,
   "metadata": {},
   "outputs": [],
   "source": [
    "def check_floating(n1, n2):\n",
    "    n1 = n1.replace(\"-\", \"\").replace(\"+\", \"\")\n",
    "    n2 = n2.replace(\"-\", \"\").replace(\"+\", \"\")\n",
    "    \n",
    "    if (not n1.replace('.','',1).replace(\"E\",\"\").isdigit()) or (not n1.replace('.','',1).replace(\"E\",\"\").isdigit()):\n",
    "        return False\n",
    "    if abs(float(n1)-float(n2))<1e-8:\n",
    "        return True\n",
    "    return False\n",
    "    \n",
    "def print_error(l1, l2):\n",
    "    print(\"###\")\n",
    "    print(l1)\n",
    "    print(\"###\")\n",
    "    print(l2)\n",
    "    print(\"###\")\n",
    "\n",
    "def compare_files(file1, file2):\n",
    "    with open(file1) as f1, open(file2) as f2: \n",
    "        content1 = f1.read().split()\n",
    "        content2 = f2.read().split()\n",
    "        #print(content1, content2)\n",
    "        for l1, l2 in zip(content1, content2):\n",
    "            print(l1.strip(), l2.strip(), l1.strip() != l2.strip())\n",
    "            if l1.strip() != l2.strip(): \n",
    "                num1s = l1.strip().split(\" \")\n",
    "                num2s = l2.strip().split(\" \")\n",
    "                if(len(num1s) == len(num2s)):\n",
    "                    for idx in range(len(num1s)):\n",
    "                        if not check_floating(num1s[idx],num2s[idx]):\n",
    "                            print_error(l1, l2)\n",
    "                            return False\n",
    "                else:\n",
    "                    print_error(l1, l2)\n",
    "                    return False\n",
    "        return True\n",
    "compare_files('cmd_out.txt', 'cmd_out_match.txt')"
   ]
  },
  {
   "cell_type": "code",
   "execution_count": null,
   "metadata": {},
   "outputs": [],
   "source": []
  },
  {
   "cell_type": "code",
   "execution_count": null,
   "metadata": {},
   "outputs": [],
   "source": [
    "p1 = subprocess.Popen(\"javac Main.java\", shell=True, stdout=subprocess.PIPE, stderr=subprocess.PIPE)\n",
    "print(\"wait result\", p1.wait())\n",
    "output,error=p1.communicate()\n",
    "print(\"###\")\n",
    "print(output)\n",
    "print(\"###\")\n",
    "print(error)\n",
    "print(\"####\")\n",
    "print(p1.returncode)\n",
    "\n",
    "\n",
    "cmd = \"java Main < {} > manual_check.txt\".format(\"atcoder_test_cases/ABC169/B/in/max_02.txt\")\n",
    "p = Popen(cmd, shell=True, stdin=PIPE, stdout=PIPE, stderr=STDOUT, close_fds=True)\n",
    "p.wait()\n",
    "print(\"ok\")\n",
    "            "
   ]
  },
  {
   "cell_type": "code",
   "execution_count": null,
   "metadata": {},
   "outputs": [],
   "source": [
    "#problemid_to_tc['p02677']\n",
    "ab = \"a string '' c\"\n",
    "nn = ab[::]\n",
    "print(nn)\n"
   ]
  },
  {
   "cell_type": "code",
   "execution_count": null,
   "metadata": {},
   "outputs": [],
   "source": [
    "with open(\"temp2.java\") as f:\n",
    "    fl = f.read()\n",
    "print(jprocessor.detokenize_code(jprocessor.tokenize_code(fl)))"
   ]
  },
  {
   "cell_type": "code",
   "execution_count": null,
   "metadata": {},
   "outputs": [],
   "source": [
    "from glob import glob\n",
    "import pandas as pd\n",
    "import matplotlib.pyplot as plt\n",
    "import json\n",
    "from joblib import Parallel, delayed, parallel_backend\n",
    "from multiprocessing import Process, Lock\n",
    "from tqdm import tqdm\n",
    "\n",
    "import json\n",
    "def getJsonData(JsonFile):\n",
    "    with open(JsonFile, encoding=\"utf8\") as f:\n",
    "        data = json.load(f)\n",
    "    return data\n",
    "data = getJsonData(\"processed.json\")\n",
    "ans = 0\n",
    "for user in tqdm(data.keys()):\n",
    "    for problem_id in data[user].keys():\n",
    "        #ans+=len(data[user][problem_id])\n",
    "        for sub in data[user][problem_id]:\n",
    "            if sub[0] == \"s116318276\":\n",
    "                print(user)\n",
    "                print(sub)\n",
    "print(\"total data = \", ans)"
   ]
  },
  {
   "cell_type": "code",
   "execution_count": null,
   "metadata": {},
   "outputs": [],
   "source": [
    "test = getJsonData(\"../data/java/processed/test.jsonl\")\n",
    "#for dt in test:\n",
    "for user in tqdm(data.keys()):\n",
    "    for problem_id in data[user].keys():\n",
    "        for sub in data[user][problem_id]:\n",
    "            #print(sub)\n",
    "            if sub[0] == \"s116318276\":\n",
    "                print(user,problem_id,sub )\n",
    "                print(sub)\n",
    "                break"
   ]
  },
  {
   "cell_type": "code",
   "execution_count": null,
   "metadata": {},
   "outputs": [],
   "source": [
    "ze = getJsonData(\"../data/java/jsons/27.json\")\n",
    "for dt in ze:\n",
    "    if(len(dt)<2):\n",
    "        pprint(dt)"
   ]
  },
  {
   "cell_type": "code",
   "execution_count": null,
   "metadata": {},
   "outputs": [],
   "source": [
    "for running java\n",
    "javac test_java.java \n",
    "java test_java < cmd_in.txt > cmd_out.txt\n",
    "\n",
    "for running python\n",
    "python3 test_py.py < cmd_in.txt > cmd_out.txt"
   ]
  },
  {
   "cell_type": "code",
   "execution_count": null,
   "metadata": {},
   "outputs": [],
   "source": [
    "import pandas as pd\n",
    "import json\n",
    "from collections import defaultdict\n",
    "from tqdm import tqdm\n",
    "from glob import glob\n",
    "problemlist=pd.read_csv(\"../Project_CodeNet/metadata/problem_list.csv\")\n",
    "problems = defaultdict(list)\n",
    "for index, row in tqdm(problemlist.iterrows()):\n",
    "    if(row['dataset']=='AtCoder'):\n",
    "        if(\"AtCoder Regular Contest\" in row['name']):\n",
    "            number = row['name'].split(\" \")[3]\n",
    "            problems[\"ARC\"+number].append(row['id'])\n",
    "        if(\"AtCoder Beginner Contest\" in row['name']):\n",
    "            number = row['name'].split(\" \")[3]\n",
    "            problems[\"ABC\"+number].append(row['id'])\n",
    "        if(\"AtCoder Grand Contest\" in row['name']):\n",
    "            number = row['name'].split(\" \")[3]\n",
    "            problems[\"AGC\"+number].append(row['id'])\n",
    "folders = glob(\"atcoder_test_cases/*\")\n",
    "\n",
    "final_keys = []\n",
    "for idx in range(len(folders)):\n",
    "    folders[idx] = folders[idx].replace(\"atcoder_test_cases/\", \"\")\n",
    "#print(folders)\n",
    "for key in problems.keys():\n",
    "    if key in folders:\n",
    "        if len(problems[key]) == len(glob(\"atcoder_test_cases/\"+key+\"/*\")):\n",
    "            final_keys.append(key)\n",
    "            \n",
    "    elif key.lower() in folders :\n",
    "        if len(problems[key]) == len(glob(\"atcoder_test_cases/\"+ key.lower() +\"/*\")):\n",
    "            final_keys.append(key)\n",
    "\n",
    "problemid_to_tc = {}\n",
    "for key in problems:\n",
    "    if(key in final_keys):\n",
    "        for idx, prob_id in enumerate(problems[key]):\n",
    "            folder_list = glob(\"atcoder_test_cases/\"+key+\"/*\")\n",
    "            if(len(folder_list)==0):\n",
    "                folder_list = glob(\"atcoder_test_cases/\"+key.lower()+\"/*\")\n",
    "            problemid_to_tc[prob_id] = folder_list[idx]\n",
    "\n",
    "print(\"len(problemid_to_tc) = \", len(problemid_to_tc))\n",
    "#problemid_to_tc"
   ]
  },
  {
   "cell_type": "code",
   "execution_count": null,
   "metadata": {},
   "outputs": [],
   "source": [
    "problemid_to_tc['p02836']"
   ]
  },
  {
   "cell_type": "code",
   "execution_count": null,
   "metadata": {},
   "outputs": [],
   "source": [
    "import json\n",
    "def getJsonData(JsonFile):\n",
    "    print(JsonFile)\n",
    "    with open(JsonFile, encoding=\"utf8\") as f:\n",
    "        data = json.load(f)\n",
    "    return data\n",
    "#train = getJsonData(\"../data/Python/processed/train.jsonl\")\n",
    "test = getJsonData(\"../data/Python/processed/test.jsonl\")\n",
    "valid = getJsonData(\"../data/Python/processed/valid.jsonl\")"
   ]
  },
  {
   "cell_type": "code",
   "execution_count": null,
   "metadata": {},
   "outputs": [],
   "source": [
    "from pprint import pprint\n",
    "problems = set()\n",
    "for dt in valid:\n",
    "    problems.add(dt['src_id'].split(\"_\")[0])\n",
    "#pprint(train[0]['src_id'].split(\"_\")[0])"
   ]
  },
  {
   "cell_type": "code",
   "execution_count": null,
   "metadata": {},
   "outputs": [],
   "source": [
    "for id in tqdm(problems):\n",
    "    if id not in problemid_to_tc.keys():\n",
    "        print(id)"
   ]
  },
  {
   "cell_type": "code",
   "execution_count": null,
   "metadata": {},
   "outputs": [],
   "source": [
    "len(problems)"
   ]
  },
  {
   "cell_type": "code",
   "execution_count": null,
   "metadata": {},
   "outputs": [],
   "source": [
    "from pprint import pprint\n",
    "from tqdm import tqdm\n",
    "problems = set()\n",
    "for json in [train, test, valid]:\n",
    "    for dt in tqdm(json):\n",
    "        problems.add(dt['src_id'].split(\"_\")[0])\n",
    "#pprint(data[0]['src_id'])"
   ]
  },
  {
   "cell_type": "code",
   "execution_count": null,
   "metadata": {},
   "outputs": [],
   "source": [
    "print(len(problems))"
   ]
  },
  {
   "cell_type": "code",
   "execution_count": null,
   "metadata": {},
   "outputs": [],
   "source": [
    "import json\n",
    "def getJsonData(JsonFile):\n",
    "    with open(JsonFile, encoding=\"utf8\") as f:\n",
    "        data = json.load(f)\n",
    "    return data\n",
    "processed = getJsonData(\"processed.json\")"
   ]
  },
  {
   "cell_type": "code",
   "execution_count": null,
   "metadata": {},
   "outputs": [],
   "source": [
    "from pprint import pprint\n",
    "from tqdm import tqdm\n",
    "java = set()\n",
    "for key in tqdm(processed):\n",
    "    #pprint(processed[key])\n",
    "    for problem in processed[key]:\n",
    "        for sub in processed[key][problem]:\n",
    "            if 'Java' in sub[2]:\n",
    "                java.add(problem)\n",
    "                \n",
    "    "
   ]
  },
  {
   "cell_type": "code",
   "execution_count": null,
   "metadata": {},
   "outputs": [],
   "source": [
    "print(len(java))"
   ]
  },
  {
   "cell_type": "code",
   "execution_count": null,
   "metadata": {},
   "outputs": [],
   "source": [
    "len(problems & java)"
   ]
  },
  {
   "cell_type": "code",
   "execution_count": null,
   "metadata": {},
   "outputs": [],
   "source": [
    "from SetSimilaritySearch import all_pairs\n",
    "\n",
    "# The input sets must be a Python list of iterables (i.e., lists or sets).\n",
    "sets = [[1,2,3], [1,2,4], [1,2,4], [5,6,7]]\n",
    "# all_pairs returns an iterable of tuples.\n",
    "pairs = all_pairs(sets, similarity_func_name=\"jaccard\", \n",
    "        similarity_threshold=0.8)\n",
    "list(pairs)"
   ]
  },
  {
   "cell_type": "code",
   "execution_count": null,
   "metadata": {},
   "outputs": [],
   "source": [
    "import json\n",
    "data = []\n",
    "for file in ['../data/java/jsons/0.json', '../data/java/jsons/1.json', '../data/java/jsons/2.json']:\n",
    "    print(file)\n",
    "    with open(file, 'r') as f:\n",
    "        temp = json.load(f)\n",
    "        data.extend(temp)\n",
    "#data[0]"
   ]
  },
  {
   "cell_type": "code",
   "execution_count": null,
   "metadata": {},
   "outputs": [],
   "source": [
    "from codegen.preprocessing.lang_processors.java_processor import JavaProcessor\n",
    "from codegen.preprocessing.lang_processors.python_processor import PythonProcessor\n",
    "import subprocess\n",
    "import filecmp\n",
    "from subprocess import Popen, PIPE, STDOUT\n",
    "import sys\n",
    "root_folder = \"../third_party\"\n",
    "jprocessor = JavaProcessor(root_folder=root_folder)\n",
    "pyprocessor = PythonProcessor(root_folder=root_folder)\n",
    "def getJsonData(JsonFile):\n",
    "    with open(JsonFile, encoding=\"utf8\") as f:\n",
    "        data = json.load(f)\n",
    "    return data\n"
   ]
  },
  {
   "cell_type": "code",
   "execution_count": null,
   "metadata": {},
   "outputs": [],
   "source": [
    "from collections import defaultdict, Counter\n",
    "from SetSimilaritySearch import all_pairs\n",
    "from deduplication import DuplicateDetector\n",
    "\n",
    "problem_to_dataidx = defaultdict(list)\n",
    "jaccard_db = []\n",
    "\n",
    "def get_vector(tokens,vocabulary):\n",
    "    counter = Counter(tokens)\n",
    "    out = []\n",
    "    for item in vocabulary:\n",
    "        if item in counter:\n",
    "            out.append(counter[item])\n",
    "        else:\n",
    "            out.append(0)\n",
    "    #print(out)\n",
    "    return out\n",
    "    \n",
    "def deduplicate_jaccard(database):\n",
    "    accepted_sub = set()\n",
    "    for idx,dt in enumerate(database):    \n",
    "        if dt[1]['submission_id'] not in accepted_sub:\n",
    "            accepted_sub.add(dt[1]['submission_id'])\n",
    "            problem_to_dataidx[dt[1]['problem_id']].append(idx)\n",
    "    duplicate_submission_id = []\n",
    "    \n",
    "    exclude_submissions = set()\n",
    "    for problem in problem_to_dataidx.keys():\n",
    "        try:\n",
    "            detector = DuplicateDetector()\n",
    "            data_idx_list = problem_to_dataidx[problem]\n",
    "            if(len(data_idx_list)<=3):\n",
    "                continue\n",
    "            for idx in data_idx_list:\n",
    "                detector.add_file(id = idx,tokens = jprocessor.tokenize_code(database[idx][1]['code_tokens']))   \n",
    "            exclude_document_ids = detector.compute_ids_to_exclude()\n",
    "            for id in exclude_document_ids:\n",
    "                exclude_submissions.add(database[idx][1]['submission_id'])\n",
    "        except Exception as e:\n",
    "            pass\n",
    "    dedeplicated_database = []\n",
    "    for data in database:\n",
    "        if data[1]['submission_id'] not in exclude_submissions:\n",
    "            dedeplicated_database.append(data.copy())\n",
    "    return dedeplicated_database\n",
    "\n",
    "dedeplicated_database = deduplicate_jaccard(data[:10000])\n",
    "print(len(dedeplicated_database))\n",
    "\n"
   ]
  },
  {
   "cell_type": "code",
   "execution_count": null,
   "metadata": {},
   "outputs": [],
   "source": [
    "print(len(data))\n",
    "print(data[40000])"
   ]
  },
  {
   "cell_type": "code",
   "execution_count": null,
   "metadata": {},
   "outputs": [],
   "source": [
    "print(data[9655][1]['code_tokens'])\n",
    "print(\"####################\")\n",
    "print(data[5694][1]['code_tokens'])"
   ]
  },
  {
   "cell_type": "code",
   "execution_count": null,
   "metadata": {},
   "outputs": [],
   "source": [
    "data[0][1]['verdict']"
   ]
  },
  {
   "cell_type": "code",
   "execution_count": null,
   "metadata": {},
   "outputs": [],
   "source": [
    "from pprint import pprint\n",
    "#print(data[979][1]['code_tokens'])\n",
    "print(data[1431][1]['code_tokens'])"
   ]
  },
  {
   "cell_type": "code",
   "execution_count": null,
   "metadata": {},
   "outputs": [],
   "source": [
    "from collections import Counter\n",
    "C = Counter([1, 1, 2, 3])\n",
    "print(C[1])"
   ]
  },
  {
   "cell_type": "code",
   "execution_count": null,
   "metadata": {},
   "outputs": [],
   "source": [
    "%load_ext autoreload\n",
    "%autoreload 2"
   ]
  },
  {
   "cell_type": "code",
   "execution_count": null,
   "metadata": {},
   "outputs": [],
   "source": [
    "from SetSimilaritySearch import all_pairs\n",
    "a = [0, 4, 2, 0, 1, 9, 3, 0, 1, 4, 7, 0, 3, 3, 3, 1, 2, 6, 1, 1, 2, 2, 24, 3, 24, 12, 1, 1, 2, 0, 38, 0, 5, 10, 17, 1, 1, 1, 12, 6, 5, 1, 1, 1, 6, 1, 0, 1, 1, 4, 0, 2, 12, 1, 17, 1, 2, 1, 1, 0, 1, 3, 2, 1, 6, 5, 0, 34, 2, 11, 6, 1, 0, 2, 4, 2, 2, 2, 2, 8, 51, 2, 3, 1, 5, 2, 5, 0, 1, 60, 0, 3]\n",
    "b = [1, 0, 2, 0, 0, 5, 0, 2, 0, 0, 0, 5, 0, 0, 0, 0, 0, 0, 0, 0, 0, 2, 4, 0, 4, 2, 0, 0, 0, 0, 0, 0, 0, 0, 1, 0, 1, 1, 4, 0, 0, 0, 0, 0, 0, 0, 2, 1, 0, 0, 0, 1, 4, 1, 1, 0, 2, 0, 2, 1, 0, 0, 0, 1, 0, 0, 4, 2, 0, 0, 0, 0, 0, 1, 0, 0, 0, 1, 1, 0, 5, 0, 0, 0, 1, 0, 0, 0, 0, 2, 1, 0]\n",
    "# The input sets must be a Python list of iterables (i.e., lists or sets).\n",
    "#sets = [[1,2,3,1,1,1,1,1,1,1,1], [1,2,4], [1,2,4], [5,6,7]]\n",
    "sets = [a, b]\n",
    "# all_pairs returns an iterable of tuples.\n",
    "pairs = all_pairs(sets, similarity_func_name=\"jaccard\", \n",
    "        similarity_threshold=0.8)\n",
    "list(pairs)"
   ]
  },
  {
   "cell_type": "code",
   "execution_count": null,
   "metadata": {},
   "outputs": [],
   "source": [
    "from deduplication import DuplicateDetector\n",
    "decetor = DuplicateDetector()\n",
    "decetor.add_file()"
   ]
  },
  {
   "cell_type": "code",
   "execution_count": null,
   "metadata": {},
   "outputs": [],
   "source": [
    "../data/Python/processed/test.jsonl"
   ]
  },
  {
   "cell_type": "code",
   "execution_count": null,
   "metadata": {},
   "outputs": [],
   "source": [
    "p02836_s902833363"
   ]
  },
  {
   "cell_type": "code",
   "execution_count": null,
   "metadata": {},
   "outputs": [],
   "source": [
    "from glob import glob\n",
    "import pandas as pd\n",
    "import matplotlib.pyplot as plt\n",
    "import json\n",
    "from joblib import Parallel, delayed, parallel_backend\n",
    "from multiprocessing import Process, Lock\n",
    "from tqdm import tqdm\n",
    "import json\n",
    "from collections import defaultdict\n",
    "from codegen.preprocessing.lang_processors.java_processor import JavaProcessor\n",
    "from codegen.preprocessing.lang_processors.python_processor import PythonProcessor\n",
    "import subprocess\n",
    "import filecmp\n",
    "from subprocess import Popen, PIPE, STDOUT\n",
    "import sys\n",
    "import argparse\n",
    "\n",
    "def getJsonData(JsonFile):\n",
    "    with open(JsonFile, encoding=\"utf8\") as f:\n",
    "        data = json.load(f)\n",
    "    return data\n",
    "\n",
    "def only_digits(num):\n",
    "    return num.replace(\"-\", \"\").replace(\"+\", \"\").replace('.','',1).replace(\"E\",\"\").isdigit()\n",
    "\n",
    "def check_floating(n1, n2):\n",
    "    if (not only_digits(n1)) or (not only_digits(n2)):\n",
    "        return False\n",
    "    #print(float(n1), float(n2))\n",
    "    if abs(float(n1)-float(n2))<1e-6:\n",
    "        return True\n",
    "    return False\n",
    "\n",
    "def print_error(l1, l2):\n",
    "    print(\"###\")\n",
    "    print(l1)\n",
    "    print(\"###\")\n",
    "    print(l2)\n",
    "    print(\"###\")\n",
    "\n",
    "def compare_files(file1, file2):\n",
    "    try:\n",
    "        with open(file1) as f1, open(file2) as f2: \n",
    "            content1 = f1.read().split()\n",
    "            content2 = f2.read().split()\n",
    "            for l1, l2 in zip(content1, content2):\n",
    "                if l1.strip() != l2.strip(): \n",
    "                    num1s = l1.strip().split(\" \")\n",
    "                    num2s = l2.strip().split(\" \")\n",
    "                    if(len(num1s) == len(num2s)):\n",
    "                        for idx in range(len(num1s)):\n",
    "                            if not check_floating(num1s[idx],num2s[idx]):\n",
    "                                print_error(l1, l2)\n",
    "                                return False\n",
    "                    else:\n",
    "                        print_error(l1, l2)\n",
    "                        return False\n",
    "            return True\n",
    "    except Exception as e:\n",
    "        print(\"exception = \", e)\n",
    "        return False"
   ]
  },
  {
   "cell_type": "code",
   "execution_count": null,
   "metadata": {},
   "outputs": [],
   "source": [
    "def run_python(test_case_folder):\n",
    "    \n",
    "    in_files = glob(test_case_folder+\"/in/*\")\n",
    "    p1 = subprocess.run([\"python\",\"-m\", \"py_compile\", \"test_py.py\"], stderr=PIPE)\n",
    "    return_code = p1.returncode\n",
    "    python2 = False\n",
    "    if (return_code):\n",
    "        p1 = subprocess.run([\"python2\",\"-m\", \"py_compile\", \"test_py.py\"], stderr=PIPE)\n",
    "        return_code = p1.returncode\n",
    "        python2=True\n",
    "\n",
    "    if(return_code):\n",
    "        print(\"doesnt compile\", return_code)\n",
    "        print(code)\n",
    "        \n",
    "        sys.exit(0)\n",
    "        return False, 0, len(in_files)\n",
    "\n",
    "    did_not_match = 0\n",
    "    for in_file in in_files:\n",
    "\n",
    "        cmd = \"python test_py.py < {} > cmd_out.txt\".format(in_file)\n",
    "        if (python2):\n",
    "            cmd = cmd.replace(\"python\", \"python2\")\n",
    "        p = Popen(cmd, shell=True, stdin=PIPE, stdout=PIPE, stderr=subprocess.DEVNULL, close_fds=True)\n",
    "        p.wait()\n",
    "        out = in_file.split(\"/\")\n",
    "        out[3] = \"out\"\n",
    "        out_file =\"/\".join(out)\n",
    "        out_file = out_file.replace(\".in\", \".out\")\n",
    "\n",
    "        p2 = subprocess.Popen([\"cp\",out_file, \"cmd_out_match.txt\"])\n",
    "        p2.wait()\n",
    "        if not compare_files('cmd_out.txt', 'cmd_out_match.txt'):\n",
    "            did_not_match+=1\n",
    "            print(test_case_folder)\n",
    "        else:\n",
    "            print(open('cmd_out.txt').read())\n",
    "            print(open('cmd_out_match.txt').read())\n",
    "            print(\"####\")\n",
    "    return True, len(in_files)-did_not_match,len(in_files)\n",
    "\n",
    "\n"
   ]
  },
  {
   "cell_type": "code",
   "execution_count": null,
   "metadata": {},
   "outputs": [],
   "source": [
    "run_python(\"atcoder_test_cases/ABC147/B\")"
   ]
  },
  {
   "cell_type": "code",
   "execution_count": 6,
   "metadata": {},
   "outputs": [],
   "source": [
    "from codegen.preprocessing.lang_processors.java_processor import JavaProcessor\n",
    "from codegen.preprocessing.lang_processors.python_processor import PythonProcessor\n",
    "import subprocess\n",
    "import filecmp\n",
    "from subprocess import Popen, PIPE, STDOUT\n",
    "import sys\n",
    "import json\n",
    "root_folder = \"../third_party\"\n",
    "jprocessor = JavaProcessor(root_folder=root_folder)\n",
    "pyprocessor = PythonProcessor(root_folder=root_folder)\n",
    "def getJsonData(JsonFile):\n",
    "    with open(JsonFile, encoding=\"utf8\") as f:\n",
    "        data = json.load(f)\n",
    "    return data\n"
   ]
  },
  {
   "cell_type": "code",
   "execution_count": null,
   "metadata": {},
   "outputs": [],
   "source": [
    "from pprint import pprint\n",
    "data = getJsonData('../data/Python/processed/test.jsonl')\n",
    "fl = open('../evaluation/garbage/Main.py').read()\n",
    "for idx, dt in enumerate(data):\n",
    "    if pyprocessor.detokenize_code(dt['tgt']).strip() == fl.strip():\n",
    "            print(idx)\n",
    "            pprint(dt)\n",
    "    #if dt['tgt_id']!='p02836_s902833363':\n",
    "    #    continue\n",
    "\n",
    "\n"
   ]
  },
  {
   "cell_type": "code",
   "execution_count": 10,
   "metadata": {},
   "outputs": [
    {
     "name": "stdout",
     "output_type": "stream",
     "text": [
      "{'src_id': 'p02684_s143538222', 'src': ['n', ',', 'k', ',', '*', 'a', '=', 'map', '(', 'int', ',', 'open', '(', '0', ')', '.', 'read', '(', ')', '.', 'split', '(', ')', ')', 'NEW_LINE', 'd', '=', '[', '2', '*', 'k', ']', '*', 'n', 'NEW_LINE', 's', '=', '0', 'NEW_LINE', 'while', 'k', ':', 's', '=', 'a', '[', 's', ']', '-', '1', ';', 'd', '[', 's', ']', '=', 'k', '=', '-', 'k', '%', '(', '~', 'd', '[', 's', ']', '+', 'k', ')', 'NEW_LINE', 'print', '(', 's', '+', '1', ')', 'NEW_LINE'], 'src_verdict': 'Wrong Answer', 'tgt': ['n', ',', 'k', ',', '*', 'a', '=', 'map', '(', 'int', ',', 'open', '(', '0', ')', '.', 'read', '(', ')', '.', 'split', '(', ')', ')', 'NEW_LINE', 'd', '=', '[', '0', ']', '+', '[', '-', '1', ']', '*', 'n', 'NEW_LINE', 's', '=', '0', 'NEW_LINE', 'for', 'i', 'in', 'range', '(', 'k', ')', ':', 'NEW_LINE', 'INDENT', 's', '=', 'a', '[', 's', ']', '-', '1', 'NEW_LINE', 'if', '(', 'j', ':', '=', 'd', '[', 's', ']', ')', '>', '-', '1', ':', 'NEW_LINE', 'INDENT', 'exec', '(', '(', 'k', '-', 'j', ')', '%', '(', 'i', '+', '1', '-', 'j', ')', '*', \"' s = a [ s ] -1 ; '\", ')', 'NEW_LINE', 'exit', '(', 'print', '(', 's', '+', '1', ')', ')', 'NEW_LINE', 'DEDENT', 'd', '[', 's', ']', '=', 'i', '+', '1', 'NEW_LINE', 'DEDENT', 'print', '(', 's', '+', '1', ')', 'NEW_LINE'], 'tgt_id': 'p02684_s747558892'}\n"
     ]
    }
   ],
   "source": [
    "print(data[11378])"
   ]
  },
  {
   "cell_type": "code",
   "execution_count": 15,
   "metadata": {},
   "outputs": [
    {
     "name": "stdout",
     "output_type": "stream",
     "text": [
      "n,k,*a=map(int,open(0).read().split())\n",
      "d=[0]+[-1]*n\n",
      "s=0\n",
      "for i in range(k):\n",
      "  s=a[s]-1\n",
      "  if(j:=d[s])>-1:\n",
      "    exec((k-j)%(i+1-j)*'s=a[s]-1;')\n",
      "    exit(print(s+1))\n",
      "  d[s]=i+1\n",
      "print(s+1)"
     ]
    }
   ],
   "source": [
    "!head ../Project_CodeNet/data/p02684/Python/s747558892.py"
   ]
  },
  {
   "cell_type": "code",
   "execution_count": null,
   "metadata": {},
   "outputs": [],
   "source": [
    "Was given accepted but actually not ../Project_CodeNet/data/p02684/Python/s747558892.py"
   ]
  },
  {
   "cell_type": "code",
   "execution_count": 1,
   "metadata": {},
   "outputs": [
    {
     "name": "stdout",
     "output_type": "stream",
     "text": [
      "(4053, 8)\n"
     ]
    },
    {
     "ename": "AttributeError",
     "evalue": "'collections.defaultdict' object has no attribute 'group_by'",
     "output_type": "error",
     "traceback": [
      "\u001b[0;31m---------------------------------------------------------------------------\u001b[0m",
      "\u001b[0;31mAttributeError\u001b[0m                            Traceback (most recent call last)",
      "\u001b[0;32m<ipython-input-1-77a422018c13>\u001b[0m in \u001b[0;36m<module>\u001b[0;34m()\u001b[0m\n\u001b[1;32m      7\u001b[0m \u001b[0mprint\u001b[0m\u001b[0;34m(\u001b[0m\u001b[0mproblemlist\u001b[0m\u001b[0;34m.\u001b[0m\u001b[0mshape\u001b[0m\u001b[0;34m)\u001b[0m\u001b[0;34m\u001b[0m\u001b[0;34m\u001b[0m\u001b[0m\n\u001b[1;32m      8\u001b[0m \u001b[0mproblems\u001b[0m \u001b[0;34m=\u001b[0m \u001b[0mdefaultdict\u001b[0m\u001b[0;34m(\u001b[0m\u001b[0mlist\u001b[0m\u001b[0;34m)\u001b[0m\u001b[0;34m\u001b[0m\u001b[0;34m\u001b[0m\u001b[0m\n\u001b[0;32m----> 9\u001b[0;31m \u001b[0mprint\u001b[0m\u001b[0;34m(\u001b[0m\u001b[0mproblems\u001b[0m\u001b[0;34m.\u001b[0m\u001b[0mgroup_by\u001b[0m\u001b[0;34m(\u001b[0m\u001b[0;34m'dataset'\u001b[0m\u001b[0;34m)\u001b[0m\u001b[0;34m.\u001b[0m\u001b[0mcount\u001b[0m\u001b[0;34m(\u001b[0m\u001b[0;34m)\u001b[0m\u001b[0;34m)\u001b[0m\u001b[0;34m\u001b[0m\u001b[0;34m\u001b[0m\u001b[0m\n\u001b[0m\u001b[1;32m     10\u001b[0m \u001b[0;31m#for index, row in tqdm(problemlist.iterrows()):\u001b[0m\u001b[0;34m\u001b[0m\u001b[0;34m\u001b[0m\u001b[0;34m\u001b[0m\u001b[0m\n\u001b[1;32m     11\u001b[0m \u001b[0;31m#    row['dataset']=='AtCoder'):\u001b[0m\u001b[0;34m\u001b[0m\u001b[0;34m\u001b[0m\u001b[0;34m\u001b[0m\u001b[0m\n",
      "\u001b[0;31mAttributeError\u001b[0m: 'collections.defaultdict' object has no attribute 'group_by'"
     ]
    }
   ],
   "source": [
    "import pandas as pd\n",
    "import json\n",
    "from collections import defaultdict\n",
    "from tqdm import tqdm\n",
    "from glob import glob\n",
    "problemlist=pd.read_csv(\"../Project_CodeNet/metadata/problem_list.csv\")\n",
    "print(problemlist.shape)\n",
    "problems = defaultdict(list)\n",
    "print(problemlist.group_by('dataset').count())\n",
    "#for index, row in tqdm(problemlist.iterrows()):\n",
    "#    row['dataset']=='AtCoder'):"
   ]
  },
  {
   "cell_type": "code",
   "execution_count": 5,
   "metadata": {},
   "outputs": [
    {
     "name": "stdout",
     "output_type": "stream",
     "text": [
      "           id  name  time_limit  memory_limit  rating  tags  complexity\n",
      "dataset                                                                \n",
      "AIZU     2534  2478        2478          2478       0     0           0\n",
      "AtCoder  1519  1519        1519          1519       0     0           0\n"
     ]
    }
   ],
   "source": [
    "print(problemlist.groupby(['dataset']).count())"
   ]
  },
  {
   "cell_type": "code",
   "execution_count": null,
   "metadata": {},
   "outputs": [],
   "source": []
  },
  {
   "cell_type": "code",
   "execution_count": 8,
   "metadata": {},
   "outputs": [
    {
     "name": "stdout",
     "output_type": "stream",
     "text": [
      "../data/java/jsons/0.json\n",
      "../data/java/jsons/1.json\n",
      "../data/java/jsons/2.json\n",
      "../data/java/jsons/3.json\n",
      "../data/java/jsons/4.json\n",
      "../data/java/jsons/5.json\n",
      "../data/java/jsons/6.json\n",
      "../data/java/jsons/7.json\n",
      "../data/java/jsons/8.json\n",
      "../data/java/jsons/9.json\n",
      "../data/java/jsons/10.json\n",
      "../data/java/jsons/11.json\n",
      "../data/java/jsons/12.json\n",
      "../data/java/jsons/13.json\n",
      "../data/java/jsons/14.json\n",
      "../data/java/jsons/15.json\n",
      "../data/java/jsons/16.json\n",
      "../data/java/jsons/17.json\n",
      "../data/java/jsons/18.json\n",
      "../data/java/jsons/19.json\n",
      "../data/java/jsons/20.json\n",
      "../data/java/jsons/21.json\n",
      "../data/java/jsons/22.json\n",
      "../data/java/jsons/23.json\n",
      "../data/java/jsons/24.json\n",
      "../data/java/jsons/25.json\n",
      "../data/java/jsons/26.json\n",
      "../data/java/jsons/27.json\n"
     ]
    },
    {
     "name": "stderr",
     "output_type": "stream",
     "text": [
      "100%|██████████| 277393/277393 [00:00<00:00, 607719.23it/s]\n"
     ]
    }
   ],
   "source": [
    "data = []\n",
    "for file in glob('../data/java/jsons/'+'*.json'):\n",
    "    print(file)\n",
    "    with open(file, 'r') as f:\n",
    "        temp = json.load(f)\n",
    "        data.extend(temp)\n",
    "data = data[:-1]\n",
    "problems_of_lang = set()\n",
    "for ex in tqdm(data):\n",
    "    problems_of_lang.add(ex[0]['problem_id'])\n",
    "processor = jprocessor\n",
    "\n"
   ]
  },
  {
   "cell_type": "code",
   "execution_count": 38,
   "metadata": {},
   "outputs": [],
   "source": [
    "from deduplication import DuplicateDetector\n",
    "problem_to_dataidx = defaultdict(list)\n",
    "from difflib import SequenceMatcher\n",
    "from joblib import Parallel, delayed\n",
    "sim = []\n",
    "def calculate_similarity(code1_tokens, code2_tokens):\n",
    "    code1 = ' '.join(code1_tokens)\n",
    "    code2 = ' '.join(code2_tokens)\n",
    "    return SequenceMatcher(None, code1, code2).ratio()\n",
    "    \n",
    "def deduplicate_jaccard(database, processor):\n",
    "    accepted_sub = set()\n",
    "    for idx,dt in enumerate(database):    \n",
    "        if dt[1]['submission_id'] not in accepted_sub:\n",
    "            accepted_sub.add(dt[1]['submission_id'])\n",
    "            problem_to_dataidx[dt[1]['problem_id']].append(idx)\n",
    "    duplicate_submission_id = []\n",
    "    \n",
    "    exclude_submissions = set()\n",
    "    def solve(problem):\n",
    "        print(len(sim))\n",
    "        for idx in problem_to_dataidx[problem]:\n",
    "            for idx2 in problem_to_dataidx[problem]:\n",
    "                if idx!=idx2:\n",
    "                    sim.append(calculate_similarity(database[idx][1]['code_tokens'], database[idx2][1]['code_tokens']))\n",
    "    \n",
    "    Parallel(n_jobs=8, prefer=\"threads\")(delayed(solve)(problem) for problem in tqdm(problem_to_dataidx.keys()))\n",
    "            \n",
    "    return deduplication_database\n",
    " "
   ]
  },
  {
   "cell_type": "code",
   "execution_count": 39,
   "metadata": {},
   "outputs": [
    {
     "name": "stdout",
     "output_type": "stream",
     "text": [
      "previous data size  277393\n"
     ]
    },
    {
     "name": "stderr",
     "output_type": "stream",
     "text": [
      "\n",
      "\n",
      "\u001b[A\u001b[A\n",
      "\n",
      "\n",
      "  0%|          | 8/2794 [00:02<09:47,  4.74it/s]"
     ]
    },
    {
     "name": "stdout",
     "output_type": "stream",
     "text": [
      "1878\n",
      "1882\n",
      "18821882\n",
      "1889\n",
      "1890\n",
      "1891\n",
      "1902\n",
      "\n"
     ]
    },
    {
     "name": "stderr",
     "output_type": "stream",
     "text": [
      "\u001b[A\u001b[A\u001b[A\n",
      "\n",
      "\u001b[A\u001b[A\n",
      "\n",
      "\u001b[A\u001b[A\n",
      "\n",
      "\u001b[A\u001b[A\n",
      "\n",
      "\u001b[A\u001b[A\n",
      "\n",
      "\u001b[A\u001b[A\n",
      "\n",
      "\u001b[A\u001b[A\n",
      "\n",
      "\u001b[A\u001b[A"
     ]
    },
    {
     "ename": "KeyboardInterrupt",
     "evalue": "",
     "output_type": "error",
     "traceback": [
      "\u001b[0;31m---------------------------------------------------------------------------\u001b[0m",
      "\u001b[0;31mKeyboardInterrupt\u001b[0m                         Traceback (most recent call last)",
      "\u001b[0;32m<ipython-input-39-e0c1ff63f736>\u001b[0m in \u001b[0;36m<module>\u001b[0;34m()\u001b[0m\n\u001b[1;32m      1\u001b[0m \u001b[0mprint\u001b[0m\u001b[0;34m(\u001b[0m\u001b[0;34m\"previous data size \"\u001b[0m\u001b[0;34m,\u001b[0m \u001b[0mlen\u001b[0m\u001b[0;34m(\u001b[0m\u001b[0mdata\u001b[0m\u001b[0;34m)\u001b[0m\u001b[0;34m)\u001b[0m\u001b[0;34m\u001b[0m\u001b[0;34m\u001b[0m\u001b[0m\n\u001b[0;32m----> 2\u001b[0;31m \u001b[0mdedep_data\u001b[0m \u001b[0;34m=\u001b[0m \u001b[0mdeduplicate_jaccard\u001b[0m\u001b[0;34m(\u001b[0m\u001b[0mdata\u001b[0m\u001b[0;34m,\u001b[0m\u001b[0mprocessor\u001b[0m\u001b[0;34m)\u001b[0m\u001b[0;34m\u001b[0m\u001b[0;34m\u001b[0m\u001b[0m\n\u001b[0m\u001b[1;32m      3\u001b[0m \u001b[0mprint\u001b[0m\u001b[0;34m(\u001b[0m\u001b[0;34m\"data size after deduplication\"\u001b[0m\u001b[0;34m,\u001b[0m \u001b[0mlen\u001b[0m\u001b[0;34m(\u001b[0m\u001b[0mdedep_data\u001b[0m\u001b[0;34m)\u001b[0m\u001b[0;34m)\u001b[0m\u001b[0;34m\u001b[0m\u001b[0;34m\u001b[0m\u001b[0m\n",
      "\u001b[0;32m<ipython-input-38-36117d2dd8fe>\u001b[0m in \u001b[0;36mdeduplicate_jaccard\u001b[0;34m(database, processor)\u001b[0m\n\u001b[1;32m     25\u001b[0m                     \u001b[0msim\u001b[0m\u001b[0;34m.\u001b[0m\u001b[0mappend\u001b[0m\u001b[0;34m(\u001b[0m\u001b[0mcalculate_similarity\u001b[0m\u001b[0;34m(\u001b[0m\u001b[0mdatabase\u001b[0m\u001b[0;34m[\u001b[0m\u001b[0midx\u001b[0m\u001b[0;34m]\u001b[0m\u001b[0;34m[\u001b[0m\u001b[0;36m1\u001b[0m\u001b[0;34m]\u001b[0m\u001b[0;34m[\u001b[0m\u001b[0;34m'code_tokens'\u001b[0m\u001b[0;34m]\u001b[0m\u001b[0;34m,\u001b[0m \u001b[0mdatabase\u001b[0m\u001b[0;34m[\u001b[0m\u001b[0midx2\u001b[0m\u001b[0;34m]\u001b[0m\u001b[0;34m[\u001b[0m\u001b[0;36m1\u001b[0m\u001b[0;34m]\u001b[0m\u001b[0;34m[\u001b[0m\u001b[0;34m'code_tokens'\u001b[0m\u001b[0;34m]\u001b[0m\u001b[0;34m)\u001b[0m\u001b[0;34m)\u001b[0m\u001b[0;34m\u001b[0m\u001b[0;34m\u001b[0m\u001b[0m\n\u001b[1;32m     26\u001b[0m \u001b[0;34m\u001b[0m\u001b[0m\n\u001b[0;32m---> 27\u001b[0;31m     \u001b[0mParallel\u001b[0m\u001b[0;34m(\u001b[0m\u001b[0mn_jobs\u001b[0m\u001b[0;34m=\u001b[0m\u001b[0;36m8\u001b[0m\u001b[0;34m,\u001b[0m \u001b[0mprefer\u001b[0m\u001b[0;34m=\u001b[0m\u001b[0;34m\"threads\"\u001b[0m\u001b[0;34m)\u001b[0m\u001b[0;34m(\u001b[0m\u001b[0mdelayed\u001b[0m\u001b[0;34m(\u001b[0m\u001b[0msolve\u001b[0m\u001b[0;34m)\u001b[0m\u001b[0;34m(\u001b[0m\u001b[0mproblem\u001b[0m\u001b[0;34m)\u001b[0m \u001b[0;32mfor\u001b[0m \u001b[0mproblem\u001b[0m \u001b[0;32min\u001b[0m \u001b[0mtqdm\u001b[0m\u001b[0;34m(\u001b[0m\u001b[0mproblem_to_dataidx\u001b[0m\u001b[0;34m.\u001b[0m\u001b[0mkeys\u001b[0m\u001b[0;34m(\u001b[0m\u001b[0;34m)\u001b[0m\u001b[0;34m)\u001b[0m\u001b[0;34m)\u001b[0m\u001b[0;34m\u001b[0m\u001b[0;34m\u001b[0m\u001b[0m\n\u001b[0m\u001b[1;32m     28\u001b[0m \u001b[0;34m\u001b[0m\u001b[0m\n\u001b[1;32m     29\u001b[0m     \u001b[0;32mreturn\u001b[0m \u001b[0mdeduplication_database\u001b[0m\u001b[0;34m\u001b[0m\u001b[0;34m\u001b[0m\u001b[0m\n",
      "\u001b[0;32m/home/mahim/miniconda3/envs/python36/lib/python3.6/site-packages/joblib/parallel.py\u001b[0m in \u001b[0;36m__call__\u001b[0;34m(self, iterable)\u001b[0m\n\u001b[1;32m   1054\u001b[0m \u001b[0;34m\u001b[0m\u001b[0m\n\u001b[1;32m   1055\u001b[0m             \u001b[0;32mwith\u001b[0m \u001b[0mself\u001b[0m\u001b[0;34m.\u001b[0m\u001b[0m_backend\u001b[0m\u001b[0;34m.\u001b[0m\u001b[0mretrieval_context\u001b[0m\u001b[0;34m(\u001b[0m\u001b[0;34m)\u001b[0m\u001b[0;34m:\u001b[0m\u001b[0;34m\u001b[0m\u001b[0;34m\u001b[0m\u001b[0m\n\u001b[0;32m-> 1056\u001b[0;31m                 \u001b[0mself\u001b[0m\u001b[0;34m.\u001b[0m\u001b[0mretrieve\u001b[0m\u001b[0;34m(\u001b[0m\u001b[0;34m)\u001b[0m\u001b[0;34m\u001b[0m\u001b[0;34m\u001b[0m\u001b[0m\n\u001b[0m\u001b[1;32m   1057\u001b[0m             \u001b[0;31m# Make sure that we get a last message telling us we are done\u001b[0m\u001b[0;34m\u001b[0m\u001b[0;34m\u001b[0m\u001b[0;34m\u001b[0m\u001b[0m\n\u001b[1;32m   1058\u001b[0m             \u001b[0melapsed_time\u001b[0m \u001b[0;34m=\u001b[0m \u001b[0mtime\u001b[0m\u001b[0;34m.\u001b[0m\u001b[0mtime\u001b[0m\u001b[0;34m(\u001b[0m\u001b[0;34m)\u001b[0m \u001b[0;34m-\u001b[0m \u001b[0mself\u001b[0m\u001b[0;34m.\u001b[0m\u001b[0m_start_time\u001b[0m\u001b[0;34m\u001b[0m\u001b[0;34m\u001b[0m\u001b[0m\n",
      "\u001b[0;32m/home/mahim/miniconda3/envs/python36/lib/python3.6/site-packages/joblib/parallel.py\u001b[0m in \u001b[0;36mretrieve\u001b[0;34m(self)\u001b[0m\n\u001b[1;32m    933\u001b[0m             \u001b[0;32mtry\u001b[0m\u001b[0;34m:\u001b[0m\u001b[0;34m\u001b[0m\u001b[0;34m\u001b[0m\u001b[0m\n\u001b[1;32m    934\u001b[0m                 \u001b[0;32mif\u001b[0m \u001b[0mgetattr\u001b[0m\u001b[0;34m(\u001b[0m\u001b[0mself\u001b[0m\u001b[0;34m.\u001b[0m\u001b[0m_backend\u001b[0m\u001b[0;34m,\u001b[0m \u001b[0;34m'supports_timeout'\u001b[0m\u001b[0;34m,\u001b[0m \u001b[0;32mFalse\u001b[0m\u001b[0;34m)\u001b[0m\u001b[0;34m:\u001b[0m\u001b[0;34m\u001b[0m\u001b[0;34m\u001b[0m\u001b[0m\n\u001b[0;32m--> 935\u001b[0;31m                     \u001b[0mself\u001b[0m\u001b[0;34m.\u001b[0m\u001b[0m_output\u001b[0m\u001b[0;34m.\u001b[0m\u001b[0mextend\u001b[0m\u001b[0;34m(\u001b[0m\u001b[0mjob\u001b[0m\u001b[0;34m.\u001b[0m\u001b[0mget\u001b[0m\u001b[0;34m(\u001b[0m\u001b[0mtimeout\u001b[0m\u001b[0;34m=\u001b[0m\u001b[0mself\u001b[0m\u001b[0;34m.\u001b[0m\u001b[0mtimeout\u001b[0m\u001b[0;34m)\u001b[0m\u001b[0;34m)\u001b[0m\u001b[0;34m\u001b[0m\u001b[0;34m\u001b[0m\u001b[0m\n\u001b[0m\u001b[1;32m    936\u001b[0m                 \u001b[0;32melse\u001b[0m\u001b[0;34m:\u001b[0m\u001b[0;34m\u001b[0m\u001b[0;34m\u001b[0m\u001b[0m\n\u001b[1;32m    937\u001b[0m                     \u001b[0mself\u001b[0m\u001b[0;34m.\u001b[0m\u001b[0m_output\u001b[0m\u001b[0;34m.\u001b[0m\u001b[0mextend\u001b[0m\u001b[0;34m(\u001b[0m\u001b[0mjob\u001b[0m\u001b[0;34m.\u001b[0m\u001b[0mget\u001b[0m\u001b[0;34m(\u001b[0m\u001b[0;34m)\u001b[0m\u001b[0;34m)\u001b[0m\u001b[0;34m\u001b[0m\u001b[0;34m\u001b[0m\u001b[0m\n",
      "\u001b[0;32m/home/mahim/miniconda3/envs/python36/lib/python3.6/multiprocessing/pool.py\u001b[0m in \u001b[0;36mget\u001b[0;34m(self, timeout)\u001b[0m\n\u001b[1;32m    636\u001b[0m \u001b[0;34m\u001b[0m\u001b[0m\n\u001b[1;32m    637\u001b[0m     \u001b[0;32mdef\u001b[0m \u001b[0mget\u001b[0m\u001b[0;34m(\u001b[0m\u001b[0mself\u001b[0m\u001b[0;34m,\u001b[0m \u001b[0mtimeout\u001b[0m\u001b[0;34m=\u001b[0m\u001b[0;32mNone\u001b[0m\u001b[0;34m)\u001b[0m\u001b[0;34m:\u001b[0m\u001b[0;34m\u001b[0m\u001b[0;34m\u001b[0m\u001b[0m\n\u001b[0;32m--> 638\u001b[0;31m         \u001b[0mself\u001b[0m\u001b[0;34m.\u001b[0m\u001b[0mwait\u001b[0m\u001b[0;34m(\u001b[0m\u001b[0mtimeout\u001b[0m\u001b[0;34m)\u001b[0m\u001b[0;34m\u001b[0m\u001b[0;34m\u001b[0m\u001b[0m\n\u001b[0m\u001b[1;32m    639\u001b[0m         \u001b[0;32mif\u001b[0m \u001b[0;32mnot\u001b[0m \u001b[0mself\u001b[0m\u001b[0;34m.\u001b[0m\u001b[0mready\u001b[0m\u001b[0;34m(\u001b[0m\u001b[0;34m)\u001b[0m\u001b[0;34m:\u001b[0m\u001b[0;34m\u001b[0m\u001b[0;34m\u001b[0m\u001b[0m\n\u001b[1;32m    640\u001b[0m             \u001b[0;32mraise\u001b[0m \u001b[0mTimeoutError\u001b[0m\u001b[0;34m\u001b[0m\u001b[0;34m\u001b[0m\u001b[0m\n",
      "\u001b[0;32m/home/mahim/miniconda3/envs/python36/lib/python3.6/multiprocessing/pool.py\u001b[0m in \u001b[0;36mwait\u001b[0;34m(self, timeout)\u001b[0m\n\u001b[1;32m    633\u001b[0m \u001b[0;34m\u001b[0m\u001b[0m\n\u001b[1;32m    634\u001b[0m     \u001b[0;32mdef\u001b[0m \u001b[0mwait\u001b[0m\u001b[0;34m(\u001b[0m\u001b[0mself\u001b[0m\u001b[0;34m,\u001b[0m \u001b[0mtimeout\u001b[0m\u001b[0;34m=\u001b[0m\u001b[0;32mNone\u001b[0m\u001b[0;34m)\u001b[0m\u001b[0;34m:\u001b[0m\u001b[0;34m\u001b[0m\u001b[0;34m\u001b[0m\u001b[0m\n\u001b[0;32m--> 635\u001b[0;31m         \u001b[0mself\u001b[0m\u001b[0;34m.\u001b[0m\u001b[0m_event\u001b[0m\u001b[0;34m.\u001b[0m\u001b[0mwait\u001b[0m\u001b[0;34m(\u001b[0m\u001b[0mtimeout\u001b[0m\u001b[0;34m)\u001b[0m\u001b[0;34m\u001b[0m\u001b[0;34m\u001b[0m\u001b[0m\n\u001b[0m\u001b[1;32m    636\u001b[0m \u001b[0;34m\u001b[0m\u001b[0m\n\u001b[1;32m    637\u001b[0m     \u001b[0;32mdef\u001b[0m \u001b[0mget\u001b[0m\u001b[0;34m(\u001b[0m\u001b[0mself\u001b[0m\u001b[0;34m,\u001b[0m \u001b[0mtimeout\u001b[0m\u001b[0;34m=\u001b[0m\u001b[0;32mNone\u001b[0m\u001b[0;34m)\u001b[0m\u001b[0;34m:\u001b[0m\u001b[0;34m\u001b[0m\u001b[0;34m\u001b[0m\u001b[0m\n",
      "\u001b[0;32m/home/mahim/miniconda3/envs/python36/lib/python3.6/threading.py\u001b[0m in \u001b[0;36mwait\u001b[0;34m(self, timeout)\u001b[0m\n\u001b[1;32m    549\u001b[0m             \u001b[0msignaled\u001b[0m \u001b[0;34m=\u001b[0m \u001b[0mself\u001b[0m\u001b[0;34m.\u001b[0m\u001b[0m_flag\u001b[0m\u001b[0;34m\u001b[0m\u001b[0;34m\u001b[0m\u001b[0m\n\u001b[1;32m    550\u001b[0m             \u001b[0;32mif\u001b[0m \u001b[0;32mnot\u001b[0m \u001b[0msignaled\u001b[0m\u001b[0;34m:\u001b[0m\u001b[0;34m\u001b[0m\u001b[0;34m\u001b[0m\u001b[0m\n\u001b[0;32m--> 551\u001b[0;31m                 \u001b[0msignaled\u001b[0m \u001b[0;34m=\u001b[0m \u001b[0mself\u001b[0m\u001b[0;34m.\u001b[0m\u001b[0m_cond\u001b[0m\u001b[0;34m.\u001b[0m\u001b[0mwait\u001b[0m\u001b[0;34m(\u001b[0m\u001b[0mtimeout\u001b[0m\u001b[0;34m)\u001b[0m\u001b[0;34m\u001b[0m\u001b[0;34m\u001b[0m\u001b[0m\n\u001b[0m\u001b[1;32m    552\u001b[0m             \u001b[0;32mreturn\u001b[0m \u001b[0msignaled\u001b[0m\u001b[0;34m\u001b[0m\u001b[0;34m\u001b[0m\u001b[0m\n\u001b[1;32m    553\u001b[0m \u001b[0;34m\u001b[0m\u001b[0m\n",
      "\u001b[0;32m/home/mahim/miniconda3/envs/python36/lib/python3.6/threading.py\u001b[0m in \u001b[0;36mwait\u001b[0;34m(self, timeout)\u001b[0m\n\u001b[1;32m    293\u001b[0m         \u001b[0;32mtry\u001b[0m\u001b[0;34m:\u001b[0m    \u001b[0;31m# restore state no matter what (e.g., KeyboardInterrupt)\u001b[0m\u001b[0;34m\u001b[0m\u001b[0;34m\u001b[0m\u001b[0m\n\u001b[1;32m    294\u001b[0m             \u001b[0;32mif\u001b[0m \u001b[0mtimeout\u001b[0m \u001b[0;32mis\u001b[0m \u001b[0;32mNone\u001b[0m\u001b[0;34m:\u001b[0m\u001b[0;34m\u001b[0m\u001b[0;34m\u001b[0m\u001b[0m\n\u001b[0;32m--> 295\u001b[0;31m                 \u001b[0mwaiter\u001b[0m\u001b[0;34m.\u001b[0m\u001b[0macquire\u001b[0m\u001b[0;34m(\u001b[0m\u001b[0;34m)\u001b[0m\u001b[0;34m\u001b[0m\u001b[0;34m\u001b[0m\u001b[0m\n\u001b[0m\u001b[1;32m    296\u001b[0m                 \u001b[0mgotit\u001b[0m \u001b[0;34m=\u001b[0m \u001b[0;32mTrue\u001b[0m\u001b[0;34m\u001b[0m\u001b[0;34m\u001b[0m\u001b[0m\n\u001b[1;32m    297\u001b[0m             \u001b[0;32melse\u001b[0m\u001b[0;34m:\u001b[0m\u001b[0;34m\u001b[0m\u001b[0;34m\u001b[0m\u001b[0m\n",
      "\u001b[0;31mKeyboardInterrupt\u001b[0m: "
     ]
    }
   ],
   "source": [
    "print(\"previous data size \", len(data))\n",
    "dedep_data = deduplicate_jaccard(data,processor)\n",
    "print(\"data size after deduplication\", len(dedep_data))"
   ]
  },
  {
   "cell_type": "code",
   "execution_count": 18,
   "metadata": {},
   "outputs": [
    {
     "name": "stdout",
     "output_type": "stream",
     "text": [
      "previous data size  274603\n"
     ]
    },
    {
     "name": "stderr",
     "output_type": "stream",
     "text": [
      "100%|██████████| 2794/2794 [10:34<00:00,  4.41it/s] \n"
     ]
    },
    {
     "name": "stdout",
     "output_type": "stream",
     "text": [
      "data size after deduplication 274603\n"
     ]
    }
   ],
   "source": [
    "print(\"previous data size \", len(dedep_data))\n",
    "dedep_data = deduplicate_jaccard(dedep_data,processor)\n",
    "print(\"data size after deduplication\", len(dedep_data))"
   ]
  },
  {
   "cell_type": "code",
   "execution_count": 3,
   "metadata": {},
   "outputs": [
    {
     "name": "stdout",
     "output_type": "stream",
     "text": [
      "src_test.java-java.java   test.jsonl                train.java-java.id\n",
      "src_train.java-java.java  tgt_test.java-java.java   train.jsonl\n",
      "src_valid.java-java.java  tgt_train.java-java.java  valid.java-java.id\n",
      "test.java-java.id         tgt_valid.java-java.java  valid.jsonl\n"
     ]
    }
   ],
   "source": [
    "ls ../data/java/processed/test.jsonl"
   ]
  },
  {
   "cell_type": "code",
   "execution_count": 1,
   "metadata": {},
   "outputs": [],
   "source": [
    "from codegen.preprocessing.lang_processors.java_processor import JavaProcessor\n",
    "from codegen.preprocessing.lang_processors.python_processor import PythonProcessor\n",
    "import subprocess\n",
    "import filecmp\n",
    "from subprocess import Popen, PIPE, STDOUT\n",
    "import sys\n",
    "import json\n",
    "root_folder = \"../third_party\"\n",
    "jprocessor = JavaProcessor(root_folder=root_folder)\n",
    "pyprocessor = PythonProcessor(root_folder=root_folder)\n",
    "def getJsonData(JsonFile):\n",
    "    with open(JsonFile, encoding=\"utf8\") as f:\n",
    "        data = json.load(f)\n",
    "    return data\n"
   ]
  },
  {
   "cell_type": "code",
   "execution_count": 7,
   "metadata": {},
   "outputs": [],
   "source": [
    "test = getJsonData('../data/java/processed/test.jsonl')"
   ]
  },
  {
   "cell_type": "code",
   "execution_count": 24,
   "metadata": {},
   "outputs": [
    {
     "name": "stdout",
     "output_type": "stream",
     "text": [
      "import java . util . * ; class Main { public static void main ( String [ ] args ) { Scanner scan = new Scanner ( System . in ) ; int N = scan . nextInt ( ) ; int M = scan . nextInt ( ) ; int k = ( int ) M / N ; int ans = 1 ; for ( int i = 2 ; i <= k ; i ++ ) { if ( M % i == 0 ) { ans = i ; } } System . out . println ( ans ) ; } }\n",
      "###########\n",
      "import java . util . * ; class Main { public static void main ( String [ ] args ) { Scanner scan = new Scanner ( System . in ) ; int N = scan . nextInt ( ) ; int M = scan . nextInt ( ) ; int k = ( int ) M / N ; int ans = 1 ; for ( int i = k ; i > 1 ; i -- ) { if ( M % i == 0 ) { ans = i ; break ; } } System . out . println ( ans ) ; } }\n",
      "p03241_s047012383\n"
     ]
    }
   ],
   "source": [
    "for id in [57, 287, 301, 316, 329, 323, 327, 335, 357, 384, 467]:\n",
    "    print(\" \".join(test[id]['src']))\n",
    "    print(\"###########\")\n",
    "    print(\" \".join(test[id]['tgt']))\n",
    "    print(test[id]['src_id'])\n",
    "    break"
   ]
  },
  {
   "cell_type": "code",
   "execution_count": 21,
   "metadata": {},
   "outputs": [
    {
     "data": {
      "text/plain": [
       "'import java . util . * ; public class Main { public static void main ( String [ ] args ) { Scanner sc = new Scanner ( System . in ) ; int n = sc . nextInt ( ) ; int H ; int u = 0 ; int [ ] x = new int [ n ] ; int [ ] y = new int [ n ] ; int [ ] h = new int [ n ] ; for ( int i = 0 ; i < n ; i ++ ) { x [ i ] = sc . nextInt ( ) ; y [ i ] = sc . nextInt ( ) ; h [ i ] = sc . nextInt ( ) ; if ( h [ i ] > 0 ) u = i ; } int t ; for ( int i = 0 ; i <= 100 ; i ++ ) { for ( int j = 0 ; j <= 100 ; j ++ ) { H = h [ u ] + Math . abs ( i - x [ u ] ) + Math . abs ( j - y [ u ] ) ; t = 0 ; for ( int k = 0 ; k < n ; k ++ ) { int Hh = Math . max ( H - Math . abs ( i - x [ k ] ) - Math . abs ( j - y [ k ] ) , 0 ) ; if ( Hh != h [ k ] ) { t = 1 ; break ; } } if ( t == 0 ) System . out . println ( i + \" ▁ \" + j + \" \\u3000 \" + H ) ; } } } }'"
      ]
     },
     "execution_count": 21,
     "metadata": {},
     "output_type": "execute_result"
    }
   ],
   "source": [
    "\" \".join(test[384]['src'])"
   ]
  },
  {
   "cell_type": "code",
   "execution_count": 7,
   "metadata": {},
   "outputs": [],
   "source": [
    "gen = getJsonData('../codet5/codenet/java2java_with_verdict/generation.json')"
   ]
  },
  {
   "cell_type": "code",
   "execution_count": 8,
   "metadata": {},
   "outputs": [
    {
     "data": {
      "text/plain": [
       "1000"
      ]
     },
     "execution_count": 8,
     "metadata": {},
     "output_type": "execute_result"
    }
   ],
   "source": [
    "len(gen)"
   ]
  },
  {
   "cell_type": "code",
   "execution_count": null,
   "metadata": {},
   "outputs": [],
   "source": []
  }
 ],
 "metadata": {
  "interpreter": {
   "hash": "e03c7d5b0a8d68dab11758fee63a529a36735699315db70e30825a4f9c804d12"
  },
  "kernelspec": {
   "display_name": "Python 3.6.13 64-bit ('python36': conda)",
   "language": "python",
   "name": "python3"
  },
  "language_info": {
   "codemirror_mode": {
    "name": "ipython",
    "version": 3
   },
   "file_extension": ".py",
   "mimetype": "text/x-python",
   "name": "python",
   "nbconvert_exporter": "python",
   "pygments_lexer": "ipython3",
   "version": "3.6.13"
  },
  "orig_nbformat": 4
 },
 "nbformat": 4,
 "nbformat_minor": 2
}
